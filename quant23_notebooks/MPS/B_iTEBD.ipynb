{
  "nbformat": 4,
  "nbformat_minor": 0,
  "metadata": {
    "kernelspec": {
      "display_name": "Python 3",
      "language": "python",
      "name": "python3"
    },
    "language_info": {
      "codemirror_mode": {
        "name": "ipython",
        "version": 3
      },
      "file_extension": ".py",
      "mimetype": "text/x-python",
      "name": "python",
      "nbconvert_exporter": "python",
      "pygments_lexer": "ipython3",
      "version": "3.6.3"
    },
    "colab": {
      "provenance": []
    }
  },
  "cells": [
    {
      "cell_type": "code",
      "metadata": {
        "id": "c4F1WmD80nhD"
      },
      "source": [
        "from scipy import integrate\n",
        "from scipy.linalg import expm\n",
        "from pylab import *\n",
        "import numpy as np\n",
        "import scipy as sp\n",
        "from scipy.sparse.linalg import eigs\n",
        "\n",
        "# Conventions:\n",
        "# B[i,a,b] has axes (physical, left virtual, right virtual),\n",
        "# s[i] are schmidt values between sites (i-1, i),\n",
        "# H_bond[i] is the bond hamiltonian between (i,i+1) with (only physical)"
      ],
      "execution_count": null,
      "outputs": []
    },
    {
      "cell_type": "code",
      "metadata": {
        "id": "lYsYYE6P0nhM"
      },
      "source": [
        "def init_fm_mps(L):\n",
        "    \"\"\" Returns FM Ising MPS\"\"\"\n",
        "    d = 2\n",
        "    B = []\n",
        "    s = []\n",
        "    for i in range(L):\n",
        "        B.append(np.zeros([2, 1, 1]))\n",
        "        B[-1][0, 0, 0] = 1\n",
        "        s.append(np.ones([1]))\n",
        "    s.append(np.ones([1]))\n",
        "    return B, s\n",
        "\n",
        "\n",
        "def init_ising_U_bond(g, J, L, delta_tau):\n",
        "    \"\"\" Returns bond hamiltonian and bond time-evolution\"\"\"\n",
        "    sx = np.array([[0., 1.], [1., 0.]])\n",
        "    sz = np.array([[1., 0.], [0., -1.]])\n",
        "    d = 2\n",
        "\n",
        "    U_bond = []\n",
        "    H_bond = []\n",
        "    for i in range(L):\n",
        "        H = -J * np.kron(sz, sz) + g * np.kron(sx, np.eye(2))\n",
        "        H_bond.append(np.reshape(H, (d, d, d, d)))\n",
        "        U_bond.append(np.reshape(expm(-delta_tau * H), (d, d, d, d)))\n",
        "\n",
        "    return U_bond, H_bond\n",
        "\n",
        "\n",
        "def bond_expectation(B, s, O_list):\n",
        "    \" Expectation value for a bond operator \"\n",
        "    E = []\n",
        "    L = len(B)\n",
        "    for i_bond in range(L):\n",
        "        BB = np.tensordot(B[i_bond], B[np.mod(i_bond + 1, L)], axes=(2, 1))\n",
        "        sBB = np.tensordot(np.diag(s[np.mod(i_bond, L)]), BB, axes=(1, 1))\n",
        "        C = np.tensordot(sBB, O_list[i_bond], axes=([1, 2], [2, 3]))\n",
        "        sBB = np.conj(sBB)\n",
        "        E.append( np.squeeze(np.tensordot(sBB, C, axes=([0, 3, 1, 2], [0, 1, 2, 3]))).item())\n",
        "    return E\n",
        "\n",
        "\n",
        "def site_expectation(B, s, O_list):\n",
        "    \" Expectation value for a site operator \"\n",
        "    E = []\n",
        "    L = len(B)\n",
        "    for isite in range(0, L):\n",
        "        sB = np.tensordot(np.diag(s[np.mod(isite, L)]), B[isite], axes=(1, 1))\n",
        "        C = np.tensordot(sB, O_list[isite], axes=(1, 0))\n",
        "        sB = sB.conj()\n",
        "        E.append(np.squeeze(np.tensordot(sB, C, axes=([0, 1, 2], [0, 2, 1]))).item())\n",
        "    return E\n",
        "\n",
        "\n",
        "def entanglement_entropy(s):\n",
        "    \" Returns the half chain entanglement entropy \"\n",
        "    S = []\n",
        "    for i_bond in range(2):\n",
        "        x = s[i_bond][s[i_bond] > 10**(-20)]**2\n",
        "        S.append(-np.inner(np.log(x), x))\n",
        "    return S\n",
        "\n",
        "\n",
        "def correlation_length(B):\n",
        "    \" Constructs the mixed transfermatrix and returns correlation length\"\n",
        "    chi = B[0].shape[1]\n",
        "    L = len(B)\n",
        "\n",
        "    T = np.tensordot(B[0], np.conj(B[0]), axes=(0, 0))  # a b a' b'\n",
        "    T = T.transpose(0, 2, 1, 3)  # a a' b b'\n",
        "    for i in range(1, L):\n",
        "        T = np.tensordot(T, B[i], axes=(2, 1))  # a a' b' i b\n",
        "        T = np.tensordot(T, np.conj(B[i]), axes=([2, 3], [1, 0]))  # a a' b b'\n",
        "    T = np.reshape(T, (chi**2, chi**2))\n",
        "\n",
        "    # Obtain the 2nd largest eigenvalue\n",
        "    eta = eigs(T, k=2, which='LM', return_eigenvectors=False, ncv=20)\n",
        "    return -L / np.log(np.min(np.abs(eta)))\n",
        "\n",
        "\n",
        "def sweep(B, s, U_bond, chi):\n",
        "    \"\"\" Perform the imaginary time evolution of the MPS \"\"\"\n",
        "    L = len(B)\n",
        "    d = B[0].shape[0]\n",
        "    for k in [0, 1]:\n",
        "        for i_bond in range(k, L, 2):\n",
        "            ia = i_bond\n",
        "            ib = np.mod(i_bond + 1, L)\n",
        "            ic = np.mod(i_bond + 2, L)\n",
        "            chia = B[ia].shape[1]\n",
        "            chic = B[ib].shape[2]\n",
        "\n",
        "            # Construct theta matrix and time evolution #\n",
        "            theta = np.tensordot(B[ia], B[ib], axes=(2, 1))  # i a j b\n",
        "            theta = np.tensordot(U_bond[i_bond], theta, axes=([2, 3], [0, 2]))  # ip jp a b\n",
        "            theta = np.tensordot(np.diag(s[ia]), theta, axes=([1, 2]))  # a ip jp b\n",
        "            theta = np.reshape(np.transpose(theta, (1, 0, 2, 3)), (d*chia, d*chic))  # ip a jp b\n",
        "\n",
        "            # Schmidt deomposition #\n",
        "            X, Y, Z = sp.linalg.svd(theta,full_matrices=0,lapack_driver='gesvd')\n",
        "            chi2 = np.min([np.sum(Y > 10.**(-10)), chi])\n",
        "\n",
        "            piv = np.zeros(len(Y), bool)\n",
        "            piv[(np.argsort(Y)[::-1])[:chi2]] = True\n",
        "\n",
        "            Y = Y[piv]\n",
        "            invsq = np.sqrt(sum(Y**2))\n",
        "            X = X[:, piv]\n",
        "            Z = Z[piv, :]\n",
        "\n",
        "            # Obtain the new values for B and s #\n",
        "            s[ib] = Y / invsq\n",
        "            X = np.reshape(X, (d, chia, chi2))\n",
        "            X = np.transpose(\n",
        "                np.tensordot(np.diag(s[ia]**(-1)), X, axes=(1, 1)), (1, 0, 2))\n",
        "            B[ia] = np.tensordot(X, np.diag(s[ib]), axes=(2, 0))\n",
        "            B[ib] = np.transpose(np.reshape(Z, (chi2, d, chic)), (1, 0, 2))\n"
      ],
      "execution_count": null,
      "outputs": []
    },
    {
      "cell_type": "code",
      "source": [
        "def itebd_ising_gs(J, g, T, delta_tau_list, chi):\n",
        "    B, s = init_fm_mps(2)\n",
        "    sz = np.array([[1., 0.], [0., -1.]])\n",
        "\n",
        "    for delta_tau in delta_tau_list:\n",
        "        U_bond, H_bond = init_ising_U_bond(g, J, 2, delta_tau)\n",
        "\n",
        "        for i in range(int(T / delta_tau)):\n",
        "            sweep(B, s, U_bond, chi)\n",
        "\n",
        "        E = np.mean(bond_expectation(B, s, H_bond))\n",
        "        m = np.mean(site_expectation(B, s, [sz, sz]))\n",
        "        S = np.mean(entanglement_entropy(s))\n",
        "        xi = np.mean(correlation_length(B))\n",
        "\n",
        "        print(\"E=%.6f\" % E,\n",
        "              \"m=%.6f\" % m,\n",
        "              \"S=%.6f\" % S,\n",
        "              \"xi=%.6f\" % xi,\n",
        "              \"(iTEBD, delta_tau =\", delta_tau, \")\")\n",
        "    return E, m, S, xi, B, s\n",
        "\n",
        "def itebd_ising_quench(B ,s, J, g, T, delta_t,chi):\n",
        "    U_bond, H_bond = init_ising_U_bond(g, J, 2, 1j*delta_t)\n",
        "    t_list = []\n",
        "    m_list = []\n",
        "    S_list = []\n",
        "\n",
        "    for i in range(1,int(T / delta_t)+1):\n",
        "            sweep(B, s, U_bond, chi)\n",
        "            t_list.append(i*delta_t)\n",
        "            m_list.append(np.mean(site_expectation(B, s, [sz, sz])))\n",
        "            S_list.append(np.mean(entanglement_entropy(s)))\n",
        "\n",
        "\n",
        "    return t_list,m_list,S_list"
      ],
      "metadata": {
        "id": "mOly-2V-tJ2y"
      },
      "execution_count": null,
      "outputs": []
    },
    {
      "cell_type": "code",
      "metadata": {
        "id": "Ur_C-HI_0nhR",
        "colab": {
          "base_uri": "https://localhost:8080/"
        },
        "outputId": "14aa3c87-976b-4cc9-8d58-80bc750d52bb"
      },
      "source": [
        "# Find the ground state using imaginary time evolution\n",
        "\n",
        "J = 1\n",
        "g = 0.1\n",
        "chi = 10\n",
        "T = 10.\n",
        "delta_tau_list = [0.1,0.01,0.001]\n",
        "\n",
        "E, m, S, xi, B, s = itebd_ising_gs(J, g, T, delta_tau_list, chi)\n",
        "\n",
        "f = lambda k, g: -2*np.sqrt(1 + g**2 - 2*g*np.cos(k)) / np.pi / 2.\n",
        "E0_exact = integrate.quad(f, 0, np.pi, args=(g,))[0]\n",
        "print(\"\\n|E_itebd - E_exact| =\", np.abs(E - E0_exact))"
      ],
      "execution_count": null,
      "outputs": [
        {
          "output_type": "stream",
          "name": "stdout",
          "text": [
            "E=-1.002477 m=0.998732 S=0.000009 xi=0.207819 (iTEBD, delta_tau = 0.1 )\n",
            "E=-1.002501 m=0.998744 S=0.000006 xi=0.207794 (iTEBD, delta_tau = 0.01 )\n",
            "E=-1.002502 m=0.998744 S=0.000006 xi=0.207794 (iTEBD, delta_tau = 0.001 )\n",
            "\n",
            "|E_itebd - E_exact| = 6.187543810654006e-10\n"
          ]
        }
      ]
    },
    {
      "cell_type": "code",
      "metadata": {
        "id": "cjFgX27GWA0l",
        "colab": {
          "base_uri": "https://localhost:8080/"
        },
        "outputId": "3ae4d4f4-ce86-4d65-885c-8b9b9ace2d72"
      },
      "source": [
        "# Quench dynamics from real time evolution\n",
        "\n",
        "J = 1.0\n",
        "g = 0.5\n",
        "chi = 50\n",
        "T = 10.\n",
        "delta_t = 0.1\n",
        "\n",
        "B, s = init_fm_mps(2)\n",
        "sz = np.array([[1., 0.], [0., -1.]])\n",
        "\n",
        "t_list,m_list,S_list = itebd_ising_quench(B, s, J, g, T, delta_t,chi)\n",
        "plot(t_list,S_list)\n",
        "xlabel('$t$');\n",
        "ylabel('$S$');"
      ],
      "execution_count": null,
      "outputs": [
        {
          "output_type": "display_data",
          "data": {
            "text/plain": [
              "<Figure size 640x480 with 1 Axes>"
            ],
            "image/png": "[encoded data removed]"
          },
          "metadata": {}
        }
      ]
    },
    {
      "cell_type": "code",
      "source": [],
      "metadata": {
        "id": "nscIBuQvvYcH"
      },
      "execution_count": null,
      "outputs": []
    }
  ]
}