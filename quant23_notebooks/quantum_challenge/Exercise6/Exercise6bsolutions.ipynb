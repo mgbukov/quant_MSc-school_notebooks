{
 "cells": [
  {
   "cell_type": "markdown",
   "id": "lbwoi2QXpqdJ",
   "metadata": {
    "id": "lbwoi2QXpqdJ"
   },
   "source": [
    "# Five-site tight-binding lattice and Anderson localization\n",
    "\n",
    "\n",
    "Particle propagation is significantly impacted by the introduction of disorder in the on-site energies, leading to Anderson localization. Lattice inhomogeneity causes scattering and leads to quantum interference that tends to inhibit particle propagation, a signature of localization. The wavefunction of a localized particle rapidly decays away from its initial position, effectively confining the particle to a small region of the lattice.\n",
    "\n",
    "Phillip Anderson first proposed that scattering from disorder can bring transport to a complete halt in 1958 [1]. Before Anderson's discovery, scientists modelled crystal disorders as perturbations that scatter electrons randomly, treating electrons as point-like particles. This logic led to the description of transport in such media as Brownian motion, which underlies Ohm's law. However, Anderson revisited the effect of disorder on the evolution of an electron's wavefunction in an otherwise periodic crystal [2]. \n",
    "\n",
    "Anderson analysed the problem in the quantum regime, thus fundamentally accounting for the wave nature of the electron, and found that the classical diffusive motion of the electron breaks down as the electronic wavefunction becomes exponentially localized, under a broad range of conditions. Hence, when the electron is initially placed on one atom, its wavefunction will no longer expand to cover the whole crystal with time, but it will rather remain localized around its initial position. Thus, the material will cease to conduct charge, and eventually become an insulator. This localization phenomenon is a direct consequence of interference between different paths arising from multiple scattering of the electron by lattice defects.\n",
    "\n",
    "In the figure below you can see Anderson localization in a phtonic crystal. As the disorder gets increased, the light beam becomes exponentially localized.\n",
    "![balanced1.png](Andersonlocalization.png)\n",
    "\n",
    "\n",
    "In this exercise we look at a spin model with 5 sites. After considering a clean lattice, we add a disorder potential to investigate the phenomenon of Anderson localization.\n",
    "\n",
    "[1] A. Lagendijk et al., *Fifty years of Anderson localization*, [ Physics Today 62, 8, 24 (2009)](https://physicstoday.scitation.org/doi/10.1063/1.3206091?feed=most-cited)\n",
    "\n",
    "[2] M. Segev et al., *Anderson localization of light*, [Nature Photonics volume 7, pages 197–204 (2013)](https://www.nature.com/articles/nphoton.2013.30)"
   ]
  },
  {
   "cell_type": "code",
   "execution_count": 2,
   "id": "7152f2bf-5b38-470a-a523-6398a51c2c16",
   "metadata": {
    "executionInfo": {
     "elapsed": 1666,
     "status": "ok",
     "timestamp": 1663213141948,
     "user": {
      "displayName": "Dominik Hahn",
      "userId": "09159259743712920381"
     },
     "user_tz": 420
    },
    "id": "7152f2bf-5b38-470a-a523-6398a51c2c16"
   },
   "outputs": [],
   "source": [
    "import numpy as np\n",
    "import matplotlib.pyplot as plt\n",
    "from copy import deepcopy\n",
    "\n",
    "# Importing standard Qiskit libraries\n",
    "from qiskit import QuantumCircuit, QuantumRegister, ClassicalRegister, transpile, Aer, IBMQ, execute\n",
    "from qiskit.tools.jupyter import *\n",
    "from qiskit.visualization import *\n",
    "from qiskit.providers.aer import QasmSimulator\n",
    "from tqdm.notebook import tqdm\n",
    "\n",
    "from qiskit.providers.aer import QasmSimulator\n",
    "from qiskit.tools.monitor import job_monitor\n",
    "from qiskit.circuit import Parameter\n",
    "import qiskit.quantum_info as qi\n",
    "\n",
    "\n",
    "# Suppress warnings\n",
    "import warnings\n",
    "warnings.filterwarnings('ignore')"
   ]
  },
  {
   "cell_type": "markdown",
   "id": "D5sJgCqmO0oG",
   "metadata": {
    "id": "D5sJgCqmO0oG"
   },
   "source": [
    "As in exercise 5a, we use Trotter decomposition to simulate the time evolution of a spin system. In case you are not familiar with Trotter decomposition, you can read the introduction in Exercise 5a. As before we need the gates $XX(t)$ and $YY(t)$. The time $t$ denotes here the time for one trotter step."
   ]
  },
  {
   "cell_type": "markdown",
   "id": "Q7hk9AKSrkmw",
   "metadata": {
    "id": "Q7hk9AKSrkmw"
   },
   "source": [
    "$\\color{red}{\\text{Exercise 1: Construct the gates XX(t) and YY(t). If you have done Exercise 5a already, you can use the solutions from there. Otherwise you can follow the same steps.}}$"
   ]
  },
  {
   "cell_type": "code",
   "execution_count": 24,
   "id": "1cd64c4c",
   "metadata": {
    "executionInfo": {
     "elapsed": 212,
     "status": "ok",
     "timestamp": 1663216137490,
     "user": {
      "displayName": "Dominik Hahn",
      "userId": "09159259743712920381"
     },
     "user_tz": 420
    },
    "id": "1cd64c4c"
   },
   "outputs": [],
   "source": [
    "t = Parameter('t') #time parameter\n",
    "#Your code goes here\n",
    "# Build a subcircuit for ZZ(t) from single- and two-qubit gates\n",
    "\n",
    "ZZ_qr = QuantumRegister(2)\n",
    "ZZ_qc = QuantumCircuit(ZZ_qr, name='ZZ')\n",
    "ZZ_qc.cnot(0,1)\n",
    "ZZ_qc.rz(2 * t, 1)\n",
    "ZZ_qc.cnot(0,1)\n",
    "ZZ = ZZ_qc.to_instruction()\n",
    "\n",
    "\n",
    "XX_qr = QuantumRegister(2)\n",
    "XX_qc = QuantumCircuit(XX_qr, name='XX')\n",
    "XX_qc.h(1)\n",
    "XX_qc.h(0)\n",
    "XX_qc.append(ZZ, [0,1])\n",
    "XX_qc.h(1)\n",
    "XX_qc.h(0)\n",
    "XX = XX_qc.to_instruction()\n",
    "\n",
    "YY_qr = QuantumRegister(2)\n",
    "YY_qc = QuantumCircuit(YY_qr, name='YY')\n",
    "YY_qc.sdg(1)\n",
    "YY_qc.sdg(0)\n",
    "YY_qc.h(1)\n",
    "YY_qc.h(0)\n",
    "YY_qc.append(ZZ, [0,1])\n",
    "YY_qc.h(1)\n",
    "YY_qc.h(0)\n",
    "YY_qc.s(1)\n",
    "YY_qc.s(0)\n",
    "YY = YY_qc.to_instruction()"
   ]
  },
  {
   "cell_type": "markdown",
   "id": "04b5fd64",
   "metadata": {
    "id": "04b5fd64"
   },
   "source": [
    "# 1. Five-site tight-binding lattice: \n",
    "\n",
    "In this exercise we simulate a lattice with five sites. First, we look at the tight-binding Hamiltonian with all the site energies at the same value. As a reminder, the Hamiltonian for a 5 site tight-binding lattice is: \n",
    "\n",
    "$$H/\\hbar = J \\sum^{3}_{i=0} (X_i X_{i+1} + Y_i Y_{i+1})$$\n",
    "\n",
    "Each term in the Hamiltonian describes the kinetic energy between nearest-neighbours spins. This spin Hamiltonian is [equivalent to free fermions hopping on a lattice](https://en.wikipedia.org/wiki/Jordan%E2%80%93Wigner_transformation). The qubit state $|0\\rangle$ means no fermion on the given site while $|1\\rangle$ denotes one fermion ocuppying that site. Free fermions propagate as plane waves such that they move ballistically (i.e. $\\Delta x \\sim  \\Delta t $ in average, where $\\Delta x$ is the displacement during a time interval $\\Delta t$). Our goal is to simulate the time evolution of fermions using qubits and check how a single fermion travles across the chain. \n",
    "\n",
    "For this challenge, without loss of generality, we set $\\hbar=1$ and $J=1$."
   ]
  },
  {
   "cell_type": "markdown",
   "id": "f76797ef",
   "metadata": {
    "id": "f76797ef"
   },
   "source": [
    "$\\color{red}{\\text{Exercise 3: Create the Trotter step intruction. If you have done exercise 5, you can use the solution from this exercise.}}$"
   ]
  },
  {
   "cell_type": "code",
   "execution_count": 25,
   "id": "85d24eb2-2a44-45cb-b5ab-70c46890a3fd",
   "metadata": {
    "colab": {
     "base_uri": "https://localhost:8080/",
     "height": 186
    },
    "executionInfo": {
     "elapsed": 182,
     "status": "ok",
     "timestamp": 1663216139818,
     "user": {
      "displayName": "Dominik Hahn",
      "userId": "09159259743712920381"
     },
     "user_tz": 420
    },
    "id": "85d24eb2-2a44-45cb-b5ab-70c46890a3fd",
    "outputId": "f0d583e7-2a06-48be-dba8-7e599a1ffb30",
    "tags": []
   },
   "outputs": [
    {
     "data": {
      "text/html": [
       "<pre style=\"word-wrap: normal;white-space: pre;background: #fff0;line-height: 1.1;font-family: &quot;Courier New&quot;,Courier,monospace\">          ┌────────┐┌────────┐                    \n",
       "q11415_0: ┤0       ├┤0       ├────────────────────\n",
       "          │  YY(t) ││  XX(t) │┌────────┐┌────────┐\n",
       "q11415_1: ┤1       ├┤1       ├┤0       ├┤0       ├\n",
       "          ├────────┤├────────┤│  YY(t) ││  XX(t) │\n",
       "q11415_2: ┤0       ├┤0       ├┤1       ├┤1       ├\n",
       "          │  YY(t) ││  XX(t) │├────────┤├────────┤\n",
       "q11415_3: ┤1       ├┤1       ├┤0       ├┤0       ├\n",
       "          └────────┘└────────┘│  YY(t) ││  XX(t) │\n",
       "q11415_4: ────────────────────┤1       ├┤1       ├\n",
       "                              └────────┘└────────┘</pre>"
      ],
      "text/plain": [
       "          ┌────────┐┌────────┐                    \n",
       "q11415_0: ┤0       ├┤0       ├────────────────────\n",
       "          │  YY(t) ││  XX(t) │┌────────┐┌────────┐\n",
       "q11415_1: ┤1       ├┤1       ├┤0       ├┤0       ├\n",
       "          ├────────┤├────────┤│  YY(t) ││  XX(t) │\n",
       "q11415_2: ┤0       ├┤0       ├┤1       ├┤1       ├\n",
       "          │  YY(t) ││  XX(t) │├────────┤├────────┤\n",
       "q11415_3: ┤1       ├┤1       ├┤0       ├┤0       ├\n",
       "          └────────┘└────────┘│  YY(t) ││  XX(t) │\n",
       "q11415_4: ────────────────────┤1       ├┤1       ├\n",
       "                              └────────┘└────────┘"
      ]
     },
     "execution_count": 25,
     "metadata": {},
     "output_type": "execute_result"
    }
   ],
   "source": [
    "num_qubits = 5 \n",
    "\n",
    "Trot_tb_qr = QuantumRegister(num_qubits)\n",
    "Trot_tb_qc = QuantumCircuit(Trot_tb_qr, name='Trot')\n",
    "\n",
    "#Your code goes here\n",
    "for i in range(0, num_qubits - 1,2):#even qubits\n",
    "    Trot_tb_qc.append(YY, [Trot_tb_qr[i], Trot_tb_qr[i+1]])\n",
    "    Trot_tb_qc.append(XX, [Trot_tb_qr[i], Trot_tb_qr[i+1]])\n",
    "for i in range(1, num_qubits - 1,2):#odd qubits\n",
    "    Trot_tb_qc.append(YY, [Trot_tb_qr[i], Trot_tb_qr[i+1]])\n",
    "    Trot_tb_qc.append(XX, [Trot_tb_qr[i], Trot_tb_qr[i+1]])\n",
    "\n",
    "\n",
    "\n",
    "\n",
    "Trot_tb_gate = Trot_tb_qc.to_instruction() #Convert the circuit into a gate for later use\n",
    "\n",
    "Trot_tb_qc.draw()"
   ]
  },
  {
   "cell_type": "markdown",
   "id": "cddeec50",
   "metadata": {
    "id": "cddeec50"
   },
   "source": [
    "\n",
    "\n",
    "Next, we want to add a particle in the form of an excitation to **qubit 0**. This can be accomplished by applying an  𝑋  gate to flip the state of the qubit from  |0⟩  to  |1⟩  before time evolution under the Hamiltonian.\n"
   ]
  },
  {
   "cell_type": "markdown",
   "id": "hJvCvzagvVP0",
   "metadata": {
    "id": "hJvCvzagvVP0"
   },
   "source": [
    "$\\color{red}{\\text{Exercise 4: Excite qubit 0 of the chain}}$"
   ]
  },
  {
   "cell_type": "code",
   "execution_count": 26,
   "id": "a62b2759-60d6-4929-add2-ad5db47c2ad7",
   "metadata": {
    "executionInfo": {
     "elapsed": 4603,
     "status": "ok",
     "timestamp": 1663216146613,
     "user": {
      "displayName": "Dominik Hahn",
      "userId": "09159259743712920381"
     },
     "user_tz": 420
    },
    "id": "a62b2759-60d6-4929-add2-ad5db47c2ad7"
   },
   "outputs": [],
   "source": [
    "delta_t=0.15 #one time step\n",
    "time_steps=np.arange(0,20,1) #number of time steps\n",
    "\n",
    "circuits=[]\n",
    "\n",
    "qr = QuantumRegister(num_qubits)\n",
    "cr = ClassicalRegister(num_qubits)\n",
    "qc = QuantumCircuit(qr,cr)\n",
    "qc.x(0) #excite the qubit 0\n",
    "circuits.append(qc)\n",
    "#Now we construct the circuit for the other time steps\n",
    "for n_steps in time_steps[1:]:\n",
    "    \n",
    "    qr = QuantumRegister(num_qubits)\n",
    "    cr = ClassicalRegister(num_qubits)\n",
    "    qc = QuantumCircuit(qr,cr)\n",
    "\n",
    "    ###EDIT CODE BELOW\n",
    "    qc.x(0)\n",
    "    ###DO NOT EDIT BELOW\n",
    "    \n",
    "    for _ in range(n_steps):\n",
    "        qc.append(Trot_tb_gate, [i for i in range(num_qubits)]) #append the Trotter gate on the qubits 0...n-1\n",
    "        \n",
    "    qc = qc.bind_parameters({t: delta_t})\n",
    "    \n",
    "    circuits.append(qc)"
   ]
  },
  {
   "cell_type": "markdown",
   "id": "8f75b601",
   "metadata": {
    "id": "8f75b601"
   },
   "source": [
    "We can track the movement of the particle by keeping track of the probability of finding the excitation on each qubit at different time steps. "
   ]
  },
  {
   "cell_type": "markdown",
   "id": "6781ae1a",
   "metadata": {
    "id": "6781ae1a"
   },
   "source": [
    "$\\color{red}{\\text{Exercise 5: Extract the probabilities of each qubit being in the $|1\\rangle$ at different times using the output state from the statevector_simulator.}}$\n",
    "\n",
    "Hint: create a small circuit *qctest* that only applies a Z gate at position i.\n",
    "You can use then the instruction *a=Operator(qctest)* that converts this circuit into an operator. You can measure the expectation value for this operator applied to your state by the command *outputstate.expectation_value(a)* ."
   ]
  },
  {
   "cell_type": "code",
   "execution_count": 27,
   "id": "26c82cf5",
   "metadata": {
    "colab": {
     "base_uri": "https://localhost:8080/",
     "height": 49,
     "referenced_widgets": [
      "38788436ab144a5fa7a8081366948240",
      "c81646f8c2a14aae9ccf97c1aa62afee",
      "d496dbee0869458a9dc6b9ef78257d95",
      "16d8b670519a4f4aa37e17ac1c9544ce",
      "89adb1fcc278461a8c6817dc88fa270b",
      "89be3b0fc215419c8d171d33b6f003e2",
      "1adb3583593240bf9ee87403e68c923d",
      "bfec78e1dec7449690b24fc7beb43379",
      "9bfa9fc5cd754463a3694639de84b421",
      "8709aec69edd4de4a25d0280c1811faa",
      "449675423bf248a890b2327ddda4b157"
     ]
    },
    "executionInfo": {
     "elapsed": 38444,
     "status": "ok",
     "timestamp": 1663216187801,
     "user": {
      "displayName": "Dominik Hahn",
      "userId": "09159259743712920381"
     },
     "user_tz": 420
    },
    "id": "26c82cf5",
    "outputId": "67fbc170-3332-4ddf-eaf1-199fdd429757",
    "tags": []
   },
   "outputs": [
    {
     "data": {
      "application/vnd.jupyter.widget-view+json": {
       "model_id": "38788436ab144a5fa7a8081366948240",
       "version_major": 2,
       "version_minor": 0
      },
      "text/plain": [
       "  0%|          | 0/20 [00:00<?, ?it/s]"
      ]
     },
     "metadata": {},
     "output_type": "display_data"
    }
   ],
   "source": [
    "from qiskit import transpile\n",
    "\n",
    "# Use Aer's statevector simulator\n",
    "from qiskit import Aer\n",
    "from qiskit.quantum_info.operators import Operator, Pauli\n",
    "# Run the quantum circuit on a statevector simulator backend\n",
    "backend_sim = Aer.get_backend('statevector_simulator')\n",
    "\n",
    "probability_density=[]\n",
    "for circ in tqdm(circuits):\n",
    "\n",
    "    transpiled_circ=transpile(circ, backend_sim, optimization_level=3)\n",
    "\n",
    "    job_sim = backend_sim.run(transpiled_circ)\n",
    "\n",
    "    # Grab the results from the job.\n",
    "    result_sim = job_sim.result()\n",
    "    outputstate = result_sim.get_statevector(transpiled_circ, decimals=5)\n",
    "    ps=[]\n",
    "    #(Extract the probability of finding the excitation on each qubit)\n",
    "    #Your code goes here \n",
    "    for i in range(num_qubits):\n",
    "      qtest = QuantumRegister(num_qubits)\n",
    "      qctest = QuantumCircuit(qtest)\n",
    "      qctest.z(i)\n",
    "      a=Operator(qctest)\n",
    "      ps.append(np.real(1/2*(1-outputstate.expectation_value(a))))\n",
    "    ###DO NOT EDIT BELOW\n",
    "    probability_density.append(ps)\n",
    "    \n",
    "probability_density=np.array(probability_density)"
   ]
  },
  {
   "cell_type": "markdown",
   "id": "umgp3cfSSa3_",
   "metadata": {
    "id": "umgp3cfSSa3_"
   },
   "source": [
    "We can now plot the time evolution of the excitation. What can you see?"
   ]
  },
  {
   "cell_type": "code",
   "execution_count": 28,
   "id": "a5fb178e-f077-4d2e-8020-d1520eadbd34",
   "metadata": {
    "colab": {
     "base_uri": "https://localhost:8080/",
     "height": 351
    },
    "executionInfo": {
     "elapsed": 238,
     "status": "ok",
     "timestamp": 1663216194450,
     "user": {
      "displayName": "Dominik Hahn",
      "userId": "09159259743712920381"
     },
     "user_tz": 420
    },
    "id": "a5fb178e-f077-4d2e-8020-d1520eadbd34",
    "outputId": "91ee9b3d-e76c-43a0-9be0-38ec2f53a95f"
   },
   "outputs": [
    {
     "data": {
      "text/plain": [
       "Text(0, 0.5, 'Time (1/J)')"
      ]
     },
     "execution_count": 28,
     "metadata": {},
     "output_type": "execute_result"
    },
    {
     "data": {
      "image/png": "[encoded data removed]",
      "text/plain": [
       "<Figure size 216x360 with 1 Axes>"
      ]
     },
     "metadata": {},
     "output_type": "display_data"
    }
   ],
   "source": [
    "plt.figure(figsize=(3,5), facecolor='white')\n",
    "plt.pcolormesh(np.arange(0,num_qubits,1), time_steps*delta_t, probability_density)\n",
    "plt.xlabel('Qubit index')\n",
    "plt.ylabel('Time (1/J)')"
   ]
  },
  {
   "cell_type": "markdown",
   "id": "8e1839f4",
   "metadata": {
    "id": "8e1839f4"
   },
   "source": [
    "<b>Run the same circuit now on a quantum computer</b> \n",
    "    \n",
    "Run the circuits on real hardware and extract the probability of finding an excitation on each qubit.\n",
    "    \n",
    "</div>"
   ]
  },
  {
   "cell_type": "code",
   "execution_count": 29,
   "id": "646ef3fe",
   "metadata": {
    "colab": {
     "base_uri": "https://localhost:8080/"
    },
    "executionInfo": {
     "elapsed": 7360,
     "status": "ok",
     "timestamp": 1663216206801,
     "user": {
      "displayName": "Dominik Hahn",
      "userId": "09159259743712920381"
     },
     "user_tz": 420
    },
    "id": "646ef3fe",
    "outputId": "58a29956-848b-40bc-aa3d-43fab59f06dc"
   },
   "outputs": [
    {
     "name": "stderr",
     "output_type": "stream",
     "text": [
      "configrc.store_credentials:WARNING:2022-09-15 04:29:59,286: Credentials already present. Set overwrite=True to overwrite.\n",
      "ibmqfactory.load_account:WARNING:2022-09-15 04:29:59,634: Credentials are already in use. The existing account in the session will be replaced.\n"
     ]
    }
   ],
   "source": [
    "from qiskit.tools.monitor import job_monitor\n",
    "from qiskit import IBMQ\n",
    "from qiskit.providers.aer import AerSimulator #A library to simulate quantum computers with noise on a classical device\n",
    "IBMQ.save_account(\"740cf9a029345b5770ad72af52ca4d1c51eb8afe78c6d95e17ecffd2e72033a693cf8563418f2143cf5d9780f497e3100577f0a400d882f5d4314ca68ce9fc37\",overwrite=True)\n",
    "IBMQ.load_account() # Load IBM account\n",
    "provider = IBMQ.get_provider(hub='ibm-q-research-2',group='max-planck-inst',project='codingchallenge')\n",
    "backend=provider.get_backend('ibm_oslo') #A real quantum device backend\n",
    "backendsim=AerSimulator() #A noiseless classical simulator\n",
    "backend2= AerSimulator.from_backend(backend) #A noisy classical simulator"
   ]
  },
  {
   "cell_type": "markdown",
   "id": "pgLH7_-2TFGe",
   "metadata": {
    "id": "pgLH7_-2TFGe"
   },
   "source": [
    "We can use the circuits defined above and run the machines on a quantum device."
   ]
  },
  {
   "cell_type": "code",
   "execution_count": 30,
   "id": "b1cd7206",
   "metadata": {
    "executionInfo": {
     "elapsed": 28416,
     "status": "ok",
     "timestamp": 1663216237353,
     "user": {
      "displayName": "Dominik Hahn",
      "userId": "09159259743712920381"
     },
     "user_tz": 420
    },
    "id": "b1cd7206"
   },
   "outputs": [],
   "source": [
    "initial_layout=[0 , 1 , 3 , 5 , 4] #The mapping of qubits in our circuits to the physical qubits of the device. In this case we do it manually to improve the results. For more details, see Exercise 1c.\n",
    "\n",
    "hardware_transpiled_circuits=[]\n",
    "for circ in circuits:\n",
    "    \n",
    "    hardware_circ=deepcopy(circ) #Create a copy of the circuits\n",
    "    hardware_circ.barrier()\n",
    "    hardware_circ.measure(range(num_qubits), range(num_qubits)) #Add a measurment to the circuits\n",
    "    hardware_transpiled_circuits.append(transpile(hardware_circ, backend2, initial_layout=initial_layout, optimization_level=3)) #change the backend form backend to backend2, if its too slow."
   ]
  },
  {
   "cell_type": "code",
   "execution_count": 31,
   "id": "b890b98b",
   "metadata": {
    "colab": {
     "base_uri": "https://localhost:8080/"
    },
    "executionInfo": {
     "elapsed": 6801,
     "status": "ok",
     "timestamp": 1663216259259,
     "user": {
      "displayName": "Dominik Hahn",
      "userId": "09159259743712920381"
     },
     "user_tz": 420
    },
    "id": "b890b98b",
    "outputId": "ae218835-5a79-4ca1-c5aa-f51d7197e96c"
   },
   "outputs": [
    {
     "name": "stdout",
     "output_type": "stream",
     "text": [
      "Job Status: job has successfully run\n",
      "Job ID 8ba84760-5ab5-4de1-9d44-fd49a949bbb9\n"
     ]
    }
   ],
   "source": [
    "shots=1024 #number of measurements\n",
    "#Execute the circuits on the device\n",
    "job = execute(hardware_transpiled_circuits, backend=backend2, shots=shots) #replace backedn by backend2 if necessary\n",
    "job_monitor(job)\n",
    "print('Job ID', job.job_id())"
   ]
  },
  {
   "cell_type": "markdown",
   "id": "62OMSsXb3xyY",
   "metadata": {
    "id": "62OMSsXb3xyY"
   },
   "source": [
    "$\\color{red}{\\text{Exercise 6: Extract the probabilities of each qubit being in the $|1\\rangle$ at different times using the results.}}$\n",
    "\n",
    "Hint: *np.fromstring(keys,'u1') - ord('0')* gives you the bitstring of each measurment output as an array."
   ]
  },
  {
   "cell_type": "code",
   "execution_count": 32,
   "id": "709056a0",
   "metadata": {
    "executionInfo": {
     "elapsed": 233,
     "status": "ok",
     "timestamp": 1663216261315,
     "user": {
      "displayName": "Dominik Hahn",
      "userId": "09159259743712920381"
     },
     "user_tz": 420
    },
    "id": "709056a0"
   },
   "outputs": [],
   "source": [
    "experiment_results=job.result()\n",
    "\n",
    "probability_density_exp=[]\n",
    "for output in experiment_results.get_counts():\n",
    "    ps=np.zeros(num_qubits)\n",
    "    #Your code goes here\n",
    "    for keys in output:\n",
    "      ps+=output[keys]/1024*(np.fromstring(keys,'u1') - ord('0'))\n",
    "    probability_density_exp.append(ps[::-1]) #append the excitation pattern to your output array\n"
   ]
  },
  {
   "cell_type": "markdown",
   "id": "Ewj57xd_ZXKX",
   "metadata": {
    "id": "Ewj57xd_ZXKX"
   },
   "source": [
    "We can compare the result on the real device circuit with the noiseless simulation. What do you observe?"
   ]
  },
  {
   "cell_type": "code",
   "execution_count": 33,
   "id": "OhuHJkm4ZV6g",
   "metadata": {
    "colab": {
     "base_uri": "https://localhost:8080/",
     "height": 351
    },
    "executionInfo": {
     "elapsed": 265,
     "status": "ok",
     "timestamp": 1663216264322,
     "user": {
      "displayName": "Dominik Hahn",
      "userId": "09159259743712920381"
     },
     "user_tz": 420
    },
    "id": "OhuHJkm4ZV6g",
    "outputId": "2aad4ffa-dff4-47ce-820e-0902777e0862"
   },
   "outputs": [
    {
     "data": {
      "text/plain": [
       "Text(0, 0.5, 'Time (1/J)')"
      ]
     },
     "execution_count": 33,
     "metadata": {},
     "output_type": "execute_result"
    },
    {
     "data": {
      "image/png": "[encoded data removed]",
      "text/plain": [
       "<Figure size 216x360 with 1 Axes>"
      ]
     },
     "metadata": {},
     "output_type": "display_data"
    }
   ],
   "source": [
    "plt.figure(figsize=(3,5), facecolor='white')\n",
    "plt.pcolormesh(np.arange(-.5,num_qubits,1), time_steps*delta_t, probability_density_exp)\n",
    "plt.xlabel('Qubit index')\n",
    "plt.ylabel('Time (1/J)')"
   ]
  },
  {
   "cell_type": "markdown",
   "id": "64879624",
   "metadata": {
    "id": "64879624"
   },
   "source": [
    "## 2. Disorder on: Anderson localization\n",
    "\n",
    "We can study Anderson localization using the tight-binding Hamiltonian. The Hamltonian in the presence of disorder in site energies takes the following form: \n",
    "$$H/\\hbar = \\sum^{3}_{i=0} (X_i X_{i+1} + Y_i Y_{i+1}) + \\sum_{i=0}^{4} \\epsilon_i Z_i $$\n",
    "\n",
    "By changing the $\\epsilon_i$ values we can imitate disorder by creating an Aubry-Andre (AA) quasicrystal which leads to Anderson localization. In this lattice model, $\\epsilon_i=W \\rm{cos}(2\\pi\\beta i)$ where $W$ is the disorder strength, and $\\beta$ determines the quasicrystal periodicity."
   ]
  },
  {
   "cell_type": "code",
   "execution_count": 34,
   "id": "f34b668d",
   "metadata": {
    "colab": {
     "base_uri": "https://localhost:8080/",
     "height": 295
    },
    "executionInfo": {
     "elapsed": 587,
     "status": "ok",
     "timestamp": 1663216447931,
     "user": {
      "displayName": "Dominik Hahn",
      "userId": "09159259743712920381"
     },
     "user_tz": 420
    },
    "id": "f34b668d",
    "outputId": "d2027f85-93cc-4067-a20f-6abd64af6e6a"
   },
   "outputs": [
    {
     "data": {
      "image/png": "[encoded data removed]",
      "text/plain": [
       "<Figure size 432x288 with 1 Axes>"
      ]
     },
     "metadata": {
      "needs_background": "light"
     },
     "output_type": "display_data"
    }
   ],
   "source": [
    "beta=(np.sqrt(5)-1)/2 #By choosing the golden ratio for the paprameter beta, the potential looks maximally chaotic\n",
    "AA_patern=np.cos(2*np.pi*beta*np.arange(num_qubits)) #This will be our disorder pattern in the following exercise\n",
    "\n",
    "plt.plot(np.linspace(-0.5,4.5,101), np.cos(2*np.pi*beta*np.linspace(-0.5,4.5,101)), '--')\n",
    "plt.plot(np.arange(num_qubits), AA_patern, 'o', label=r'$\\epsilon_i$')\n",
    "plt.xlabel('Position')\n",
    "plt.ylabel('Energy')\n",
    "plt.legend()\n",
    "plt.title('Aubry-Andre potential')\n",
    "plt.show()"
   ]
  },
  {
   "cell_type": "markdown",
   "id": "SrhRsN7dWoCJ",
   "metadata": {
    "id": "SrhRsN7dWoCJ"
   },
   "source": [
    "We can include the disorder easily into our Trotter ccircuits: To do so, we add a phase gate of the form *Trot_qc_disorder.p(deltas[i], i)* to our Trotter circuit. The phase corresponds to the disorder potential and has to be (pseudo-)random at each site"
   ]
  },
  {
   "cell_type": "markdown",
   "id": "73c8a13e",
   "metadata": {
    "id": "73c8a13e"
   },
   "source": [
    "\n",
    "$\\color{red}{\\text{Exercise 7: Modify each tight-binding trotter step to include an arbitrary phase used to simulate Anderson localization.}}$\n"
   ]
  },
  {
   "cell_type": "code",
   "execution_count": 35,
   "id": "9349ca57-b96a-4f4b-ba3e-7701da5a2a4a",
   "metadata": {
    "colab": {
     "base_uri": "https://localhost:8080/",
     "height": 204
    },
    "executionInfo": {
     "elapsed": 310,
     "status": "ok",
     "timestamp": 1663216450433,
     "user": {
      "displayName": "Dominik Hahn",
      "userId": "09159259743712920381"
     },
     "user_tz": 420
    },
    "id": "9349ca57-b96a-4f4b-ba3e-7701da5a2a4a",
    "outputId": "ebe67e12-2865-4754-aa77-5ccf06d6691b"
   },
   "outputs": [
    {
     "name": "stdout",
     "output_type": "stream",
     "text": [
      "[Parameter(delta_0), Parameter(delta_1), Parameter(delta_2), Parameter(delta_3), Parameter(delta_4)]\n"
     ]
    },
    {
     "data": {
      "text/html": [
       "<pre style=\"word-wrap: normal;white-space: pre;background: #fff0;line-height: 1.1;font-family: &quot;Courier New&quot;,Courier,monospace\">          ┌──────────┐┌────────────┐\n",
       "q17230_0: ┤0         ├┤ P(delta_0) ├\n",
       "          │          │├────────────┤\n",
       "q17230_1: ┤1         ├┤ P(delta_1) ├\n",
       "          │          │├────────────┤\n",
       "q17230_2: ┤2 Trot(t) ├┤ P(delta_2) ├\n",
       "          │          │├────────────┤\n",
       "q17230_3: ┤3         ├┤ P(delta_3) ├\n",
       "          │          │├────────────┤\n",
       "q17230_4: ┤4         ├┤ P(delta_4) ├\n",
       "          └──────────┘└────────────┘</pre>"
      ],
      "text/plain": [
       "          ┌──────────┐┌────────────┐\n",
       "q17230_0: ┤0         ├┤ P(delta_0) ├\n",
       "          │          │├────────────┤\n",
       "q17230_1: ┤1         ├┤ P(delta_1) ├\n",
       "          │          │├────────────┤\n",
       "q17230_2: ┤2 Trot(t) ├┤ P(delta_2) ├\n",
       "          │          │├────────────┤\n",
       "q17230_3: ┤3         ├┤ P(delta_3) ├\n",
       "          │          │├────────────┤\n",
       "q17230_4: ┤4         ├┤ P(delta_4) ├\n",
       "          └──────────┘└────────────┘"
      ]
     },
     "execution_count": 35,
     "metadata": {},
     "output_type": "execute_result"
    }
   ],
   "source": [
    "Trot_qr_disorder = QuantumRegister(num_qubits)\n",
    "Trot_qc_disorder = QuantumCircuit(Trot_qr_disorder, name='Trot disorder')\n",
    "\n",
    "Trot_qc_disorder.append(Trot_tb_gate,[0,1,2,3,4])\n",
    "deltas=[Parameter('delta_{:d}'.format(idx)) for idx in range(num_qubits)]#The random phase for each qubit\n",
    "print(deltas)\n",
    "\n",
    "###Your code goes here\n",
    "for i in range(num_qubits):\n",
    "  Trot_qc_disorder.p(deltas[i], i)\n",
    "\n",
    "# Convert custom quantum circuit into a gate\n",
    "Trot_disorder_gate = Trot_qc_disorder.to_instruction()\n",
    "\n",
    "Trot_qc_disorder.draw()"
   ]
  },
  {
   "cell_type": "markdown",
   "id": "Rb2P8c-dYUtP",
   "metadata": {
    "id": "Rb2P8c-dYUtP"
   },
   "source": [
    "Now we can construct again our circuit for each time step."
   ]
  },
  {
   "cell_type": "code",
   "execution_count": 36,
   "id": "b13e0211-d494-474a-a56c-7a38cfe365a2",
   "metadata": {
    "executionInfo": {
     "elapsed": 6978,
     "status": "ok",
     "timestamp": 1663216460401,
     "user": {
      "displayName": "Dominik Hahn",
      "userId": "09159259743712920381"
     },
     "user_tz": 420
    },
    "id": "b13e0211-d494-474a-a56c-7a38cfe365a2"
   },
   "outputs": [],
   "source": [
    "delta_t=0.15\n",
    "time_steps=np.arange(1,20,1)\n",
    "\n",
    "W=2 #Disorder strength, you can play later with it\n",
    "\n",
    "disorders=W*AA_patern # DO NOT EDIT\n",
    "\n",
    "disorder_circuits=[]\n",
    "\n",
    "for n_steps in time_steps:\n",
    "\n",
    "    qr = QuantumRegister(num_qubits)\n",
    "    cr = ClassicalRegister(num_qubits)\n",
    "    qc = QuantumCircuit(qr, cr)\n",
    "\n",
    "    qc.x(0)\n",
    "    \n",
    "    for _ in range(n_steps):\n",
    "        qc.append(Trot_disorder_gate, [i for i in range(num_qubits)])\n",
    "\n",
    "    qc = qc.bind_parameters({t: delta_t})\n",
    "    qc = qc.bind_parameters({deltas[idx]: disorders[idx] for idx in range(num_qubits)})\n",
    "\n",
    "    disorder_circuits.append(qc)"
   ]
  },
  {
   "cell_type": "markdown",
   "id": "553600c1",
   "metadata": {
    "id": "553600c1"
   },
   "source": [
    "$\\color{red}{\\text{Exercise 8: Extract the probability of finding an excitation on each qubit, you can use the solution of exercise 5}}$"
   ]
  },
  {
   "cell_type": "code",
   "execution_count": 19,
   "id": "8c6a37a7-6587-4a9f-8b19-bfd7c7188a9b",
   "metadata": {
    "colab": {
     "base_uri": "https://localhost:8080/",
     "height": 49,
     "referenced_widgets": [
      "a6b273d1be034e3695442693f39f5370",
      "84324d474d7d4027a39cf1f434b71eac",
      "ea7f366c44e942ee8c13fbc69f318553",
      "a6819d533d8443d497c98f11a01b792e",
      "f7f47594263f4491872ee5a8bc9d09cf",
      "c177b20f125241b6bd5a45e9408c3360",
      "f0a32ef4cba9447eb99dfe8cc92addfb",
      "1045563e33fa492b8a990fe1d3376f29",
      "94b9fd048c204161bf5f2a93fdd42be3",
      "962681ee6a1846739550b7bac7311e06",
      "9356e925bfc546fba0a8daf500686c2c"
     ]
    },
    "executionInfo": {
     "elapsed": 40059,
     "status": "ok",
     "timestamp": 1663215887943,
     "user": {
      "displayName": "Dominik Hahn",
      "userId": "09159259743712920381"
     },
     "user_tz": 420
    },
    "id": "8c6a37a7-6587-4a9f-8b19-bfd7c7188a9b",
    "outputId": "e791dde4-a26e-4d56-f2d3-29ad79c44a4f"
   },
   "outputs": [
    {
     "data": {
      "application/vnd.jupyter.widget-view+json": {
       "model_id": "a6b273d1be034e3695442693f39f5370",
       "version_major": 2,
       "version_minor": 0
      },
      "text/plain": [
       "  0%|          | 0/19 [00:00<?, ?it/s]"
      ]
     },
     "metadata": {},
     "output_type": "display_data"
    }
   ],
   "source": [
    "from qiskit import transpile\n",
    "\n",
    "# Use Aer's statevector simulator\n",
    "from qiskit import Aer\n",
    "\n",
    "# Run the quantum circuit on a statevector simulator backend\n",
    "backend_sim = Aer.get_backend('statevector_simulator')\n",
    "\n",
    "probability_density_localization=[]\n",
    "for circ in tqdm(disorder_circuits):\n",
    "\n",
    "    transpiled_circ=transpile(circ, backend_sim, optimization_level=3)\n",
    "\n",
    "    job_sim = backend_sim.run(transpiled_circ)\n",
    "\n",
    "    # Grab the results from the job.\n",
    "    result_sim = job_sim.result()\n",
    "    outputstate = result_sim.get_statevector(transpiled_circ, decimals=5)\n",
    "    ps=[]\n",
    "    #Your code goes here\n",
    "    for i in range(num_qubits):\n",
    "      qtest = QuantumRegister(num_qubits)\n",
    "      qctest = QuantumCircuit(qtest)\n",
    "      qctest.z(i)\n",
    "      a=Operator(qctest)\n",
    "      ps.append(np.real(1/2*(1-outputstate.expectation_value(a))))\n",
    "\n",
    "    #append the excitation density to your result\n",
    "    probability_density_localization.append(ps)\n",
    "    \n",
    "probability_density_localization=np.array(probability_density_localization)"
   ]
  },
  {
   "cell_type": "markdown",
   "id": "uyaQtAvibbpr",
   "metadata": {
    "id": "uyaQtAvibbpr"
   },
   "source": [
    "Plot now the results with disorder. What can you see in comparison to the case before?"
   ]
  },
  {
   "cell_type": "code",
   "execution_count": null,
   "id": "d70fdf7d-33f7-4054-84b8-1b53290cc051",
   "metadata": {
    "colab": {
     "base_uri": "https://localhost:8080/",
     "height": 351
    },
    "executionInfo": {
     "elapsed": 715,
     "status": "ok",
     "timestamp": 1662982700766,
     "user": {
      "displayName": "Luis Andres Colmenarez",
      "userId": "08283072998260159211"
     },
     "user_tz": -120
    },
    "id": "d70fdf7d-33f7-4054-84b8-1b53290cc051",
    "outputId": "55e5c3e2-44d6-4813-c508-2b6283238e20"
   },
   "outputs": [
    {
     "data": {
      "text/plain": [
       "Text(0, 0.5, 'Time (1/J)')"
      ]
     },
     "execution_count": 19,
     "metadata": {},
     "output_type": "execute_result"
    },
    {
     "data": {
      "image/png": "[encoded data removed]",
      "text/plain": [
       "<Figure size 216x360 with 1 Axes>"
      ]
     },
     "metadata": {},
     "output_type": "display_data"
    }
   ],
   "source": [
    "plt.figure(figsize=(3,5), facecolor='white')\n",
    "plt.pcolormesh(np.arange(0,num_qubits,1), time_steps*delta_t ,probability_density_localization)\n",
    "plt.xlabel('Qubit index')\n",
    "plt.ylabel('Time (1/J)')"
   ]
  },
  {
   "cell_type": "markdown",
   "id": "c6457aa8",
   "metadata": {
    "id": "c6457aa8"
   },
   "source": [
    "<b>Run the same circuit now on a quantum computer</b> \n",
    "    \n",
    "First we have to transpile the circuits again.\n",
    "    \n",
    "</div>"
   ]
  },
  {
   "cell_type": "code",
   "execution_count": 37,
   "id": "010cb06b",
   "metadata": {
    "executionInfo": {
     "elapsed": 41074,
     "status": "ok",
     "timestamp": 1663216682167,
     "user": {
      "displayName": "Dominik Hahn",
      "userId": "09159259743712920381"
     },
     "user_tz": 420
    },
    "id": "010cb06b"
   },
   "outputs": [],
   "source": [
    "initial_layout=[0 , 1 , 3 , 5 , 4] #The mapping of qubits in our circuits to the physical qubits of the device. In this case we do it manually to improve the results. For more details, see Exercise 1c.\n",
    "\n",
    "hardware_transpiled_circuits_disordered=[]\n",
    "for circ in disorder_circuits:\n",
    "    \n",
    "    hardware_circ=deepcopy(circ)\n",
    "    hardware_circ.barrier()\n",
    "    hardware_circ.measure(range(num_qubits), range(num_qubits)) #append a measurement\n",
    "    hardware_transpiled_circuits_disordered.append(transpile(hardware_circ, backend, initial_layout=initial_layout, optimization_level=3)) #transpile your circuits"
   ]
  },
  {
   "cell_type": "markdown",
   "id": "TSsNs-xecB1c",
   "metadata": {
    "id": "TSsNs-xecB1c"
   },
   "source": [
    "Now execute the circuits on a quantum computer."
   ]
  },
  {
   "cell_type": "code",
   "execution_count": 38,
   "id": "0ccc52d9",
   "metadata": {
    "colab": {
     "base_uri": "https://localhost:8080/"
    },
    "executionInfo": {
     "elapsed": 7429,
     "status": "ok",
     "timestamp": 1663216765535,
     "user": {
      "displayName": "Dominik Hahn",
      "userId": "09159259743712920381"
     },
     "user_tz": 420
    },
    "id": "0ccc52d9",
    "outputId": "f42cc67b-fe0e-4d79-efb4-515189aaabcc"
   },
   "outputs": [
    {
     "name": "stdout",
     "output_type": "stream",
     "text": [
      "Job Status: job has successfully run\n",
      "Job ID 890d44e9-d59e-4461-8e0a-5150961c0a81\n"
     ]
    }
   ],
   "source": [
    "shots=1024\n",
    "job_disorder = execute(hardware_transpiled_circuits_disordered, backend=backend2, shots=shots) #replace backend by backend2 in case you do not want to wait that long\n",
    "job_monitor(job_disorder)\n",
    "print('Job ID', job_disorder.job_id())"
   ]
  },
  {
   "cell_type": "markdown",
   "id": "80ltf8Yd_cEm",
   "metadata": {
    "id": "80ltf8Yd_cEm"
   },
   "source": [
    "$\\color{red}{\\text{Exercise 9: Extract the probabilities of each qubit being in the $|1\\rangle$ at different times using the results (same as exercise 6).}}$"
   ]
  },
  {
   "cell_type": "code",
   "execution_count": null,
   "id": "ad60c532",
   "metadata": {
    "id": "ad60c532"
   },
   "outputs": [],
   "source": [
    "disorder_experiment_results=job_disorder.result()\n",
    "\n",
    "disorder_probability_density_exp=[]\n",
    "for output in disorder_experiment_results.get_counts():\n",
    "    ps=np.zeros(num_qubits)\n",
    "    #Your code goes here\n",
    "    for keys in output:\n",
    "      ps+=output[keys]/1024*(np.fromstring(keys,'u1') - ord('0'))\n",
    "\n",
    "    disorder_probability_density_exp.append(ps[::-1])\n",
    "    "
   ]
  },
  {
   "cell_type": "markdown",
   "id": "URXLZbODckKj",
   "metadata": {
    "id": "URXLZbODckKj"
   },
   "source": [
    "Finally we can plot the result again and compare with real hardware."
   ]
  },
  {
   "cell_type": "code",
   "execution_count": 41,
   "id": "sE_oZyuRckuT",
   "metadata": {
    "colab": {
     "base_uri": "https://localhost:8080/",
     "height": 351
    },
    "executionInfo": {
     "elapsed": 217,
     "status": "ok",
     "timestamp": 1663216928753,
     "user": {
      "displayName": "Dominik Hahn",
      "userId": "09159259743712920381"
     },
     "user_tz": 420
    },
    "id": "sE_oZyuRckuT",
    "outputId": "16eb7f64-33f5-4923-eb7b-80985c0ef410"
   },
   "outputs": [
    {
     "data": {
      "text/plain": [
       "Text(0, 0.5, 'Time (1/J)')"
      ]
     },
     "execution_count": 41,
     "metadata": {},
     "output_type": "execute_result"
    },
    {
     "data": {
      "image/png": "[encoded data removed]",
      "text/plain": [
       "<Figure size 216x360 with 1 Axes>"
      ]
     },
     "metadata": {},
     "output_type": "display_data"
    }
   ],
   "source": [
    "plt.figure(figsize=(3,5), facecolor='white')\n",
    "plt.pcolormesh(np.arange(-.5,num_qubits,1), time_steps*delta_t, disorder_probability_density_exp)\n",
    "plt.xlabel('Qubit index')\n",
    "plt.ylabel('Time (1/J)')"
   ]
  },
  {
   "cell_type": "markdown",
   "id": "pnhEHNreKEKH",
   "metadata": {
    "id": "pnhEHNreKEKH"
   },
   "source": [
    "These notebooks are comprised of text and code taken from Qiskit's [documentation](https://qiskit.org/documentation/), [tutorials](https://qiskit.org/documentation/tutorials.html#quantum-circuits), [textbook](https://qiskit.org/textbook/preface.html), and previous challenges facilitated by Qiskit."
   ]
  }
 ],
 "metadata": {
  "colab": {
   "collapsed_sections": [],
   "provenance": []
  },
  "kernelspec": {
   "display_name": "Python 3 (ipykernel)",
   "language": "python",
   "name": "python3"
  },
  "language_info": {
   "codemirror_mode": {
    "name": "ipython",
    "version": 3
   },
   "file_extension": ".py",
   "mimetype": "text/x-python",
   "name": "python",
   "nbconvert_exporter": "python",
   "pygments_lexer": "ipython3",
   "version": "3.8.3"
  },
  "widgets": {
   "application/vnd.jupyter.widget-state+json": {
    "1045563e33fa492b8a990fe1d3376f29": {
     "model_module": "@jupyter-widgets/base",
     "model_module_version": "1.2.0",
     "model_name": "LayoutModel",
     "state": {
      "_model_module": "@jupyter-widgets/base",
      "_model_module_version": "1.2.0",
      "_model_name": "LayoutModel",
      "_view_count": null,
      "_view_module": "@jupyter-widgets/base",
      "_view_module_version": "1.2.0",
      "_view_name": "LayoutView",
      "align_content": null,
      "align_items": null,
      "align_self": null,
      "border": null,
      "bottom": null,
      "display": null,
      "flex": null,
      "flex_flow": null,
      "grid_area": null,
      "grid_auto_columns": null,
      "grid_auto_flow": null,
      "grid_auto_rows": null,
      "grid_column": null,
      "grid_gap": null,
      "grid_row": null,
      "grid_template_areas": null,
      "grid_template_columns": null,
      "grid_template_rows": null,
      "height": null,
      "justify_content": null,
      "justify_items": null,
      "left": null,
      "margin": null,
      "max_height": null,
      "max_width": null,
      "min_height": null,
      "min_width": null,
      "object_fit": null,
      "object_position": null,
      "order": null,
      "overflow": null,
      "overflow_x": null,
      "overflow_y": null,
      "padding": null,
      "right": null,
      "top": null,
      "visibility": null,
      "width": null
     }
    },
    "16d8b670519a4f4aa37e17ac1c9544ce": {
     "model_module": "@jupyter-widgets/controls",
     "model_module_version": "1.5.0",
     "model_name": "HTMLModel",
     "state": {
      "_dom_classes": [],
      "_model_module": "@jupyter-widgets/controls",
      "_model_module_version": "1.5.0",
      "_model_name": "HTMLModel",
      "_view_count": null,
      "_view_module": "@jupyter-widgets/controls",
      "_view_module_version": "1.5.0",
      "_view_name": "HTMLView",
      "description": "",
      "description_tooltip": null,
      "layout": "IPY_MODEL_8709aec69edd4de4a25d0280c1811faa",
      "placeholder": "​",
      "style": "IPY_MODEL_449675423bf248a890b2327ddda4b157",
      "value": " 20/20 [00:38&lt;00:00,  3.26s/it]"
     }
    },
    "1adb3583593240bf9ee87403e68c923d": {
     "model_module": "@jupyter-widgets/controls",
     "model_module_version": "1.5.0",
     "model_name": "DescriptionStyleModel",
     "state": {
      "_model_module": "@jupyter-widgets/controls",
      "_model_module_version": "1.5.0",
      "_model_name": "DescriptionStyleModel",
      "_view_count": null,
      "_view_module": "@jupyter-widgets/base",
      "_view_module_version": "1.2.0",
      "_view_name": "StyleView",
      "description_width": ""
     }
    },
    "38788436ab144a5fa7a8081366948240": {
     "model_module": "@jupyter-widgets/controls",
     "model_module_version": "1.5.0",
     "model_name": "HBoxModel",
     "state": {
      "_dom_classes": [],
      "_model_module": "@jupyter-widgets/controls",
      "_model_module_version": "1.5.0",
      "_model_name": "HBoxModel",
      "_view_count": null,
      "_view_module": "@jupyter-widgets/controls",
      "_view_module_version": "1.5.0",
      "_view_name": "HBoxView",
      "box_style": "",
      "children": [
       "IPY_MODEL_c81646f8c2a14aae9ccf97c1aa62afee",
       "IPY_MODEL_d496dbee0869458a9dc6b9ef78257d95",
       "IPY_MODEL_16d8b670519a4f4aa37e17ac1c9544ce"
      ],
      "layout": "IPY_MODEL_89adb1fcc278461a8c6817dc88fa270b"
     }
    },
    "449675423bf248a890b2327ddda4b157": {
     "model_module": "@jupyter-widgets/controls",
     "model_module_version": "1.5.0",
     "model_name": "DescriptionStyleModel",
     "state": {
      "_model_module": "@jupyter-widgets/controls",
      "_model_module_version": "1.5.0",
      "_model_name": "DescriptionStyleModel",
      "_view_count": null,
      "_view_module": "@jupyter-widgets/base",
      "_view_module_version": "1.2.0",
      "_view_name": "StyleView",
      "description_width": ""
     }
    },
    "84324d474d7d4027a39cf1f434b71eac": {
     "model_module": "@jupyter-widgets/controls",
     "model_module_version": "1.5.0",
     "model_name": "HTMLModel",
     "state": {
      "_dom_classes": [],
      "_model_module": "@jupyter-widgets/controls",
      "_model_module_version": "1.5.0",
      "_model_name": "HTMLModel",
      "_view_count": null,
      "_view_module": "@jupyter-widgets/controls",
      "_view_module_version": "1.5.0",
      "_view_name": "HTMLView",
      "description": "",
      "description_tooltip": null,
      "layout": "IPY_MODEL_c177b20f125241b6bd5a45e9408c3360",
      "placeholder": "​",
      "style": "IPY_MODEL_f0a32ef4cba9447eb99dfe8cc92addfb",
      "value": "100%"
     }
    },
    "8709aec69edd4de4a25d0280c1811faa": {
     "model_module": "@jupyter-widgets/base",
     "model_module_version": "1.2.0",
     "model_name": "LayoutModel",
     "state": {
      "_model_module": "@jupyter-widgets/base",
      "_model_module_version": "1.2.0",
      "_model_name": "LayoutModel",
      "_view_count": null,
      "_view_module": "@jupyter-widgets/base",
      "_view_module_version": "1.2.0",
      "_view_name": "LayoutView",
      "align_content": null,
      "align_items": null,
      "align_self": null,
      "border": null,
      "bottom": null,
      "display": null,
      "flex": null,
      "flex_flow": null,
      "grid_area": null,
      "grid_auto_columns": null,
      "grid_auto_flow": null,
      "grid_auto_rows": null,
      "grid_column": null,
      "grid_gap": null,
      "grid_row": null,
      "grid_template_areas": null,
      "grid_template_columns": null,
      "grid_template_rows": null,
      "height": null,
      "justify_content": null,
      "justify_items": null,
      "left": null,
      "margin": null,
      "max_height": null,
      "max_width": null,
      "min_height": null,
      "min_width": null,
      "object_fit": null,
      "object_position": null,
      "order": null,
      "overflow": null,
      "overflow_x": null,
      "overflow_y": null,
      "padding": null,
      "right": null,
      "top": null,
      "visibility": null,
      "width": null
     }
    },
    "89adb1fcc278461a8c6817dc88fa270b": {
     "model_module": "@jupyter-widgets/base",
     "model_module_version": "1.2.0",
     "model_name": "LayoutModel",
     "state": {
      "_model_module": "@jupyter-widgets/base",
      "_model_module_version": "1.2.0",
      "_model_name": "LayoutModel",
      "_view_count": null,
      "_view_module": "@jupyter-widgets/base",
      "_view_module_version": "1.2.0",
      "_view_name": "LayoutView",
      "align_content": null,
      "align_items": null,
      "align_self": null,
      "border": null,
      "bottom": null,
      "display": null,
      "flex": null,
      "flex_flow": null,
      "grid_area": null,
      "grid_auto_columns": null,
      "grid_auto_flow": null,
      "grid_auto_rows": null,
      "grid_column": null,
      "grid_gap": null,
      "grid_row": null,
      "grid_template_areas": null,
      "grid_template_columns": null,
      "grid_template_rows": null,
      "height": null,
      "justify_content": null,
      "justify_items": null,
      "left": null,
      "margin": null,
      "max_height": null,
      "max_width": null,
      "min_height": null,
      "min_width": null,
      "object_fit": null,
      "object_position": null,
      "order": null,
      "overflow": null,
      "overflow_x": null,
      "overflow_y": null,
      "padding": null,
      "right": null,
      "top": null,
      "visibility": null,
      "width": null
     }
    },
    "89be3b0fc215419c8d171d33b6f003e2": {
     "model_module": "@jupyter-widgets/base",
     "model_module_version": "1.2.0",
     "model_name": "LayoutModel",
     "state": {
      "_model_module": "@jupyter-widgets/base",
      "_model_module_version": "1.2.0",
      "_model_name": "LayoutModel",
      "_view_count": null,
      "_view_module": "@jupyter-widgets/base",
      "_view_module_version": "1.2.0",
      "_view_name": "LayoutView",
      "align_content": null,
      "align_items": null,
      "align_self": null,
      "border": null,
      "bottom": null,
      "display": null,
      "flex": null,
      "flex_flow": null,
      "grid_area": null,
      "grid_auto_columns": null,
      "grid_auto_flow": null,
      "grid_auto_rows": null,
      "grid_column": null,
      "grid_gap": null,
      "grid_row": null,
      "grid_template_areas": null,
      "grid_template_columns": null,
      "grid_template_rows": null,
      "height": null,
      "justify_content": null,
      "justify_items": null,
      "left": null,
      "margin": null,
      "max_height": null,
      "max_width": null,
      "min_height": null,
      "min_width": null,
      "object_fit": null,
      "object_position": null,
      "order": null,
      "overflow": null,
      "overflow_x": null,
      "overflow_y": null,
      "padding": null,
      "right": null,
      "top": null,
      "visibility": null,
      "width": null
     }
    },
    "9356e925bfc546fba0a8daf500686c2c": {
     "model_module": "@jupyter-widgets/controls",
     "model_module_version": "1.5.0",
     "model_name": "DescriptionStyleModel",
     "state": {
      "_model_module": "@jupyter-widgets/controls",
      "_model_module_version": "1.5.0",
      "_model_name": "DescriptionStyleModel",
      "_view_count": null,
      "_view_module": "@jupyter-widgets/base",
      "_view_module_version": "1.2.0",
      "_view_name": "StyleView",
      "description_width": ""
     }
    },
    "94b9fd048c204161bf5f2a93fdd42be3": {
     "model_module": "@jupyter-widgets/controls",
     "model_module_version": "1.5.0",
     "model_name": "ProgressStyleModel",
     "state": {
      "_model_module": "@jupyter-widgets/controls",
      "_model_module_version": "1.5.0",
      "_model_name": "ProgressStyleModel",
      "_view_count": null,
      "_view_module": "@jupyter-widgets/base",
      "_view_module_version": "1.2.0",
      "_view_name": "StyleView",
      "bar_color": null,
      "description_width": ""
     }
    },
    "962681ee6a1846739550b7bac7311e06": {
     "model_module": "@jupyter-widgets/base",
     "model_module_version": "1.2.0",
     "model_name": "LayoutModel",
     "state": {
      "_model_module": "@jupyter-widgets/base",
      "_model_module_version": "1.2.0",
      "_model_name": "LayoutModel",
      "_view_count": null,
      "_view_module": "@jupyter-widgets/base",
      "_view_module_version": "1.2.0",
      "_view_name": "LayoutView",
      "align_content": null,
      "align_items": null,
      "align_self": null,
      "border": null,
      "bottom": null,
      "display": null,
      "flex": null,
      "flex_flow": null,
      "grid_area": null,
      "grid_auto_columns": null,
      "grid_auto_flow": null,
      "grid_auto_rows": null,
      "grid_column": null,
      "grid_gap": null,
      "grid_row": null,
      "grid_template_areas": null,
      "grid_template_columns": null,
      "grid_template_rows": null,
      "height": null,
      "justify_content": null,
      "justify_items": null,
      "left": null,
      "margin": null,
      "max_height": null,
      "max_width": null,
      "min_height": null,
      "min_width": null,
      "object_fit": null,
      "object_position": null,
      "order": null,
      "overflow": null,
      "overflow_x": null,
      "overflow_y": null,
      "padding": null,
      "right": null,
      "top": null,
      "visibility": null,
      "width": null
     }
    },
    "9bfa9fc5cd754463a3694639de84b421": {
     "model_module": "@jupyter-widgets/controls",
     "model_module_version": "1.5.0",
     "model_name": "ProgressStyleModel",
     "state": {
      "_model_module": "@jupyter-widgets/controls",
      "_model_module_version": "1.5.0",
      "_model_name": "ProgressStyleModel",
      "_view_count": null,
      "_view_module": "@jupyter-widgets/base",
      "_view_module_version": "1.2.0",
      "_view_name": "StyleView",
      "bar_color": null,
      "description_width": ""
     }
    },
    "a6819d533d8443d497c98f11a01b792e": {
     "model_module": "@jupyter-widgets/controls",
     "model_module_version": "1.5.0",
     "model_name": "HTMLModel",
     "state": {
      "_dom_classes": [],
      "_model_module": "@jupyter-widgets/controls",
      "_model_module_version": "1.5.0",
      "_model_name": "HTMLModel",
      "_view_count": null,
      "_view_module": "@jupyter-widgets/controls",
      "_view_module_version": "1.5.0",
      "_view_name": "HTMLView",
      "description": "",
      "description_tooltip": null,
      "layout": "IPY_MODEL_962681ee6a1846739550b7bac7311e06",
      "placeholder": "​",
      "style": "IPY_MODEL_9356e925bfc546fba0a8daf500686c2c",
      "value": " 19/19 [00:39&lt;00:00,  3.63s/it]"
     }
    },
    "a6b273d1be034e3695442693f39f5370": {
     "model_module": "@jupyter-widgets/controls",
     "model_module_version": "1.5.0",
     "model_name": "HBoxModel",
     "state": {
      "_dom_classes": [],
      "_model_module": "@jupyter-widgets/controls",
      "_model_module_version": "1.5.0",
      "_model_name": "HBoxModel",
      "_view_count": null,
      "_view_module": "@jupyter-widgets/controls",
      "_view_module_version": "1.5.0",
      "_view_name": "HBoxView",
      "box_style": "",
      "children": [
       "IPY_MODEL_84324d474d7d4027a39cf1f434b71eac",
       "IPY_MODEL_ea7f366c44e942ee8c13fbc69f318553",
       "IPY_MODEL_a6819d533d8443d497c98f11a01b792e"
      ],
      "layout": "IPY_MODEL_f7f47594263f4491872ee5a8bc9d09cf"
     }
    },
    "bfec78e1dec7449690b24fc7beb43379": {
     "model_module": "@jupyter-widgets/base",
     "model_module_version": "1.2.0",
     "model_name": "LayoutModel",
     "state": {
      "_model_module": "@jupyter-widgets/base",
      "_model_module_version": "1.2.0",
      "_model_name": "LayoutModel",
      "_view_count": null,
      "_view_module": "@jupyter-widgets/base",
      "_view_module_version": "1.2.0",
      "_view_name": "LayoutView",
      "align_content": null,
      "align_items": null,
      "align_self": null,
      "border": null,
      "bottom": null,
      "display": null,
      "flex": null,
      "flex_flow": null,
      "grid_area": null,
      "grid_auto_columns": null,
      "grid_auto_flow": null,
      "grid_auto_rows": null,
      "grid_column": null,
      "grid_gap": null,
      "grid_row": null,
      "grid_template_areas": null,
      "grid_template_columns": null,
      "grid_template_rows": null,
      "height": null,
      "justify_content": null,
      "justify_items": null,
      "left": null,
      "margin": null,
      "max_height": null,
      "max_width": null,
      "min_height": null,
      "min_width": null,
      "object_fit": null,
      "object_position": null,
      "order": null,
      "overflow": null,
      "overflow_x": null,
      "overflow_y": null,
      "padding": null,
      "right": null,
      "top": null,
      "visibility": null,
      "width": null
     }
    },
    "c177b20f125241b6bd5a45e9408c3360": {
     "model_module": "@jupyter-widgets/base",
     "model_module_version": "1.2.0",
     "model_name": "LayoutModel",
     "state": {
      "_model_module": "@jupyter-widgets/base",
      "_model_module_version": "1.2.0",
      "_model_name": "LayoutModel",
      "_view_count": null,
      "_view_module": "@jupyter-widgets/base",
      "_view_module_version": "1.2.0",
      "_view_name": "LayoutView",
      "align_content": null,
      "align_items": null,
      "align_self": null,
      "border": null,
      "bottom": null,
      "display": null,
      "flex": null,
      "flex_flow": null,
      "grid_area": null,
      "grid_auto_columns": null,
      "grid_auto_flow": null,
      "grid_auto_rows": null,
      "grid_column": null,
      "grid_gap": null,
      "grid_row": null,
      "grid_template_areas": null,
      "grid_template_columns": null,
      "grid_template_rows": null,
      "height": null,
      "justify_content": null,
      "justify_items": null,
      "left": null,
      "margin": null,
      "max_height": null,
      "max_width": null,
      "min_height": null,
      "min_width": null,
      "object_fit": null,
      "object_position": null,
      "order": null,
      "overflow": null,
      "overflow_x": null,
      "overflow_y": null,
      "padding": null,
      "right": null,
      "top": null,
      "visibility": null,
      "width": null
     }
    },
    "c81646f8c2a14aae9ccf97c1aa62afee": {
     "model_module": "@jupyter-widgets/controls",
     "model_module_version": "1.5.0",
     "model_name": "HTMLModel",
     "state": {
      "_dom_classes": [],
      "_model_module": "@jupyter-widgets/controls",
      "_model_module_version": "1.5.0",
      "_model_name": "HTMLModel",
      "_view_count": null,
      "_view_module": "@jupyter-widgets/controls",
      "_view_module_version": "1.5.0",
      "_view_name": "HTMLView",
      "description": "",
      "description_tooltip": null,
      "layout": "IPY_MODEL_89be3b0fc215419c8d171d33b6f003e2",
      "placeholder": "​",
      "style": "IPY_MODEL_1adb3583593240bf9ee87403e68c923d",
      "value": "100%"
     }
    },
    "d496dbee0869458a9dc6b9ef78257d95": {
     "model_module": "@jupyter-widgets/controls",
     "model_module_version": "1.5.0",
     "model_name": "FloatProgressModel",
     "state": {
      "_dom_classes": [],
      "_model_module": "@jupyter-widgets/controls",
      "_model_module_version": "1.5.0",
      "_model_name": "FloatProgressModel",
      "_view_count": null,
      "_view_module": "@jupyter-widgets/controls",
      "_view_module_version": "1.5.0",
      "_view_name": "ProgressView",
      "bar_style": "success",
      "description": "",
      "description_tooltip": null,
      "layout": "IPY_MODEL_bfec78e1dec7449690b24fc7beb43379",
      "max": 20,
      "min": 0,
      "orientation": "horizontal",
      "style": "IPY_MODEL_9bfa9fc5cd754463a3694639de84b421",
      "value": 20
     }
    },
    "ea7f366c44e942ee8c13fbc69f318553": {
     "model_module": "@jupyter-widgets/controls",
     "model_module_version": "1.5.0",
     "model_name": "FloatProgressModel",
     "state": {
      "_dom_classes": [],
      "_model_module": "@jupyter-widgets/controls",
      "_model_module_version": "1.5.0",
      "_model_name": "FloatProgressModel",
      "_view_count": null,
      "_view_module": "@jupyter-widgets/controls",
      "_view_module_version": "1.5.0",
      "_view_name": "ProgressView",
      "bar_style": "success",
      "description": "",
      "description_tooltip": null,
      "layout": "IPY_MODEL_1045563e33fa492b8a990fe1d3376f29",
      "max": 19,
      "min": 0,
      "orientation": "horizontal",
      "style": "IPY_MODEL_94b9fd048c204161bf5f2a93fdd42be3",
      "value": 19
     }
    },
    "f0a32ef4cba9447eb99dfe8cc92addfb": {
     "model_module": "@jupyter-widgets/controls",
     "model_module_version": "1.5.0",
     "model_name": "DescriptionStyleModel",
     "state": {
      "_model_module": "@jupyter-widgets/controls",
      "_model_module_version": "1.5.0",
      "_model_name": "DescriptionStyleModel",
      "_view_count": null,
      "_view_module": "@jupyter-widgets/base",
      "_view_module_version": "1.2.0",
      "_view_name": "StyleView",
      "description_width": ""
     }
    },
    "f7f47594263f4491872ee5a8bc9d09cf": {
     "model_module": "@jupyter-widgets/base",
     "model_module_version": "1.2.0",
     "model_name": "LayoutModel",
     "state": {
      "_model_module": "@jupyter-widgets/base",
      "_model_module_version": "1.2.0",
      "_model_name": "LayoutModel",
      "_view_count": null,
      "_view_module": "@jupyter-widgets/base",
      "_view_module_version": "1.2.0",
      "_view_name": "LayoutView",
      "align_content": null,
      "align_items": null,
      "align_self": null,
      "border": null,
      "bottom": null,
      "display": null,
      "flex": null,
      "flex_flow": null,
      "grid_area": null,
      "grid_auto_columns": null,
      "grid_auto_flow": null,
      "grid_auto_rows": null,
      "grid_column": null,
      "grid_gap": null,
      "grid_row": null,
      "grid_template_areas": null,
      "grid_template_columns": null,
      "grid_template_rows": null,
      "height": null,
      "justify_content": null,
      "justify_items": null,
      "left": null,
      "margin": null,
      "max_height": null,
      "max_width": null,
      "min_height": null,
      "min_width": null,
      "object_fit": null,
      "object_position": null,
      "order": null,
      "overflow": null,
      "overflow_x": null,
      "overflow_y": null,
      "padding": null,
      "right": null,
      "top": null,
      "visibility": null,
      "width": null
     }
    }
   }
  }
 },
 "nbformat": 4,
 "nbformat_minor": 5
}
