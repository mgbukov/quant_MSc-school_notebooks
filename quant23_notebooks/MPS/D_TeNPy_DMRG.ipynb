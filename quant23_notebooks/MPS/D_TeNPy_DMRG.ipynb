{
  "nbformat": 4,
  "nbformat_minor": 0,
  "metadata": {
    "colab": {
      "provenance": []
    },
    "kernelspec": {
      "name": "python3",
      "display_name": "Python 3"
    }
  },
  "cells": [
    {
      "cell_type": "code",
      "metadata": {
        "id": "_sKwHWb6gWhU"
      },
      "source": [
        "%%capture\n",
        "!pip install physics-tenpy"
      ],
      "execution_count": null,
      "outputs": []
    },
    {
      "cell_type": "code",
      "metadata": {
        "id": "COwPKjOIySTw"
      },
      "source": [
        "import numpy as np\n",
        "from scipy import integrate\n",
        "from tenpy.networks.mps import MPS\n",
        "from tenpy.models.tf_ising import TFIChain\n",
        "from tenpy.algorithms import dmrg"
      ],
      "execution_count": null,
      "outputs": []
    },
    {
      "cell_type": "code",
      "metadata": {
        "id": "pObCpnzhyWi0",
        "colab": {
          "base_uri": "https://localhost:8080/"
        },
        "outputId": "9c54379d-0295-4031-d245-c28e847b0429"
      },
      "source": [
        "g = 1.5\n",
        "chi = 10\n",
        "L = 8\n",
        "\n",
        "model_params = dict(L=L, J=1., g=g, bc_MPS='finite', conserve=None)\n",
        "M = TFIChain(model_params)\n",
        "psi = MPS.from_product_state(M.lat.mps_sites(), [\"up\"] * M.lat.N_sites, bc=M.lat.bc_MPS)\n",
        "\n",
        "dmrg_params = {'chi_list': {0: 3, 10: chi}}\n",
        "\n",
        "eng = dmrg.TwoSiteDMRGEngine(psi, M, dmrg_params)\n",
        "\n",
        "E, psi = eng.run()\n",
        "\n",
        "m = np.mean(psi.expectation_value('Sx'))\n",
        "S = np.mean(psi.entanglement_entropy())\n",
        "\n",
        "print(\"\\nE=%.6f\" % E, \"m=%.6f\" % m, \"S=%.6f\" % S)"
      ],
      "execution_count": null,
      "outputs": [
        {
          "output_type": "stream",
          "name": "stdout",
          "text": [
            "\n",
            "E=-13.191405 m=0.000000 S=0.145597\n"
          ]
        }
      ]
    },
    {
      "cell_type": "code",
      "metadata": {
        "id": "RTpi24SPYtUQ"
      },
      "source": [],
      "execution_count": null,
      "outputs": []
    }
  ]
}