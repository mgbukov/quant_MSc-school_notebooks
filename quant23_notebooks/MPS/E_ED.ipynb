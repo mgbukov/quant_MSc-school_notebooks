{
  "nbformat": 4,
  "nbformat_minor": 0,
  "metadata": {
    "colab": {
      "provenance": []
    },
    "kernelspec": {
      "name": "python3",
      "display_name": "Python 3"
    },
    "language_info": {
      "name": "python"
    }
  },
  "cells": [
    {
      "cell_type": "code",
      "execution_count": null,
      "metadata": {
        "id": "VBOsVu2Z3nDt"
      },
      "outputs": [],
      "source": [
        "import scipy.sparse as sparse\n",
        "import numpy as np\n",
        "import pylab as pl\n",
        "from scipy.sparse.linalg import eigsh"
      ]
    },
    {
      "cell_type": "code",
      "source": [
        "def gen_spin_operators(L):\n",
        "    \"\"\"\" Returns the spin operators sigma_x and sigma_z for L sites \"\"\"\n",
        "    sx = sparse.csr_matrix(np.array([[0.,1.],[1.,0.]]))\n",
        "    sz = sparse.csr_matrix(np.array([[1.,0.],[0.,-1.]]))\n",
        "\n",
        "    d = 2\n",
        "    sx_list = []\n",
        "    sz_list = []\n",
        "\n",
        "    for i_site in range(L):\n",
        "        if i_site==0:\n",
        "            X=sx\n",
        "            Z=sz\n",
        "        else:\n",
        "            X= sparse.csr_matrix(np.eye(d))\n",
        "            Z= sparse.csr_matrix(np.eye(d))\n",
        "\n",
        "        for j_site in range(1,L):\n",
        "            if j_site==i_site:\n",
        "                X=sparse.kron(X,sx, 'csr')\n",
        "                Z=sparse.kron(Z,sz, 'csr')\n",
        "            else:\n",
        "                X=sparse.kron(X,np.eye(d),'csr')\n",
        "                Z=sparse.kron(Z,np.eye(d),'csr')\n",
        "        sx_list.append(X)\n",
        "        sz_list.append(Z)\n",
        "\n",
        "    return sx_list,sz_list\n",
        "\n",
        "def gen_hamiltonian(sx_list,sz_list,L):\n",
        "    \"\"\"\" Generates the Hamiltonian \"\"\"\n",
        "    H_zz = sparse.csr_matrix((2**L,2**L))\n",
        "    H_x = sparse.csr_matrix((2**L,2**L))\n",
        "\n",
        "    for i in range(L-1):\n",
        "        H_zz = H_zz + sz_list[i]*sz_list[np.mod(i+1,L)]\n",
        "\n",
        "    for i in range(L):\n",
        "        H_x = H_x + sx_list[i]\n",
        "\n",
        "    return H_zz, H_x"
      ],
      "metadata": {
        "id": "xppf4r153zyh"
      },
      "execution_count": null,
      "outputs": []
    },
    {
      "cell_type": "code",
      "source": [
        "L = 8\n",
        "g = 1.5\n",
        "J = 1\n",
        "\n",
        "sx_list,sz_list  = gen_spin_operators(L)\n",
        "H_zz, H_x = gen_hamiltonian(sx_list,sz_list,L)\n",
        "H = -J*H_zz - g*H_x\n",
        "e,v = eigsh(H,k=1,which='SA',return_eigenvectors=True)\n",
        "\n",
        "print(\"E0 = \",e[0])"
      ],
      "metadata": {
        "colab": {
          "base_uri": "https://localhost:8080/"
        },
        "id": "rimIzySj37JO",
        "outputId": "41d32dcb-ad49-4488-cc15-a05adccb42c6"
      },
      "execution_count": null,
      "outputs": [
        {
          "output_type": "stream",
          "name": "stdout",
          "text": [
            "E0 =  -13.191404952188877\n"
          ]
        }
      ]
    },
    {
      "cell_type": "code",
      "source": [],
      "metadata": {
        "id": "khvuU8XE4C7t"
      },
      "execution_count": null,
      "outputs": []
    }
  ]
}