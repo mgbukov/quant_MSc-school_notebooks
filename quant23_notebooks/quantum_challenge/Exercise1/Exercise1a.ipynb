{
 "cells": [
  {
   "cell_type": "markdown",
   "metadata": {
    "id": "43Rg5gu0-TJA"
   },
   "source": [
    "# Qiskit\n",
    "\n",
    "[Qiskit](https://qiskit.org/) is open-source software for working with quantum computers at the level of circuits, pulses, and algorithms.\n",
    "\n",
    "See the [documentation](https://qiskit.org/documentation/) for more details."
   ]
  },
  {
   "cell_type": "markdown",
   "metadata": {
    "id": "qFodYMkqNqsj"
   },
   "source": [
    "# Qiskit Terra\n",
    "\n",
    "The fundamental package of Qiskit -- [Terra](https://github.com/Qiskit/qiskit-terra), provides the basic building blocks (circuits, gates, operators, etc.) which are necessary to program quantum computers."
   ]
  },
  {
   "cell_type": "code",
   "execution_count": 1,
   "metadata": {
    "ExecuteTime": {
     "end_time": "2021-07-31T05:04:39.026081Z",
     "start_time": "2021-07-31T05:04:36.903090Z"
    },
    "id": "W8fh7L-ENqsl"
   },
   "outputs": [],
   "source": [
    "import numpy as np\n",
    "from qiskit import *"
   ]
  },
  {
   "cell_type": "markdown",
   "metadata": {
    "id": "XDhJ46g4Nqsn"
   },
   "source": [
    "## Circuit Basics <a name='basics'></a>\n",
    "\n",
    "\n",
    "### Building the circuit\n",
    "\n",
    "The basic element needed for your first program is the [QuantumCircuit](https://qiskit.org/documentation/stubs/qiskit.circuit.QuantumCircuit.html).  We begin by creating a `QuantumCircuit` comprised of two qubits."
   ]
  },
  {
   "cell_type": "code",
   "execution_count": 2,
   "metadata": {
    "ExecuteTime": {
     "end_time": "2021-07-31T05:04:39.030564Z",
     "start_time": "2021-07-31T05:04:39.028024Z"
    },
    "id": "BWYAcy0zNqso"
   },
   "outputs": [],
   "source": [
    "# Create a Quantum Circuit acting on a quantum register of two qubits\n",
    "circ = QuantumCircuit(2)"
   ]
  },
  {
   "cell_type": "markdown",
   "metadata": {
    "id": "gb1dgY0sNqsp"
   },
   "source": [
    "After you create the circuit, you can add gates (\"operations\") to manipulate the qubits. As you proceed through the tutorials you will find more gates and circuits; below is an example of a quantum circuit that creates a Bell-state (i.e. a maximally entangled two-qubit state):\n",
    "\n",
    "$$|\\psi\\rangle = \\left(|00\\rangle+|11\\rangle\\right)/\\sqrt{2}.$$\n",
    "\n",
    "To create such a state, we start with a two-qubit quantum [register](https://en.wikipedia.org/wiki/Quantum_register). By default, each qubit in the register is initialized to $|0\\rangle$. To make the Bell state, we apply the following gates:\n",
    "- A [Hadamard](https://qiskit.org/documentation/stubs/qiskit.circuit.library.HGate.html) gate $H$ on qubit 0, which puts it into the superposition state $\\left(|0\\rangle+|1\\rangle\\right)/\\sqrt{2}$.\n",
    "- A [controlled-Not](https://qiskit.org/documentation/stubs/qiskit.circuit.QuantumCircuit.cx.html#qiskit.circuit.QuantumCircuit.cx) operation ($C_{X}$) between qubit 0 and qubit 1 which results in the Bell state $\\left(|00\\rangle+|11\\rangle\\right)/\\sqrt{2}.$\n",
    "\n",
    "If you don't know what the Hadamard and CNOT gates are, please take a look further below in this notebook (or check [Wikipedia](https://en.wikipedia.org/wiki/Quantum_logic_gate)).\n",
    "\n",
    "In Qiskit, operations can be added to the circuit one by one, as shown below."
   ]
  },
  {
   "cell_type": "code",
   "execution_count": null,
   "metadata": {
    "ExecuteTime": {
     "end_time": "2021-07-31T05:04:39.584692Z",
     "start_time": "2021-07-31T05:04:39.573755Z"
    },
    "colab": {
     "base_uri": "https://localhost:8080/"
    },
    "executionInfo": {
     "elapsed": 248,
     "status": "ok",
     "timestamp": 1662358875364,
     "user": {
      "displayName": "Marin Bukov",
      "userId": "09091168472140198920"
     },
     "user_tz": -120
    },
    "id": "u0TdaqYwNqsr",
    "outputId": "058982b7-e873-4882-84e7-095e0b76e2b8"
   },
   "outputs": [],
   "source": [
    "# Add a H gate on qubit 0, putting this qubit in superposition.\n",
    "circ.h(0)\n",
    "# Add a CX (CNOT) gate on control qubit 0 and target qubit 1, putting\n",
    "# the qubits in a Bell state.\n",
    "circ.cx(0, 1)"
   ]
  },
  {
   "cell_type": "markdown",
   "metadata": {
    "id": "m4mGXhq1Nqss"
   },
   "source": [
    "### Visualize Circuit <a name='visualize'></a>\n",
    "\n",
    "You can visualize your circuit using Qiskit `QuantumCircuit.draw()`, which plots the circuit in the form of text."
   ]
  },
  {
   "cell_type": "code",
   "execution_count": null,
   "metadata": {
    "ExecuteTime": {
     "end_time": "2021-07-31T05:04:40.867948Z",
     "start_time": "2021-07-31T05:04:40.271129Z"
    },
    "colab": {
     "base_uri": "https://localhost:8080/",
     "height": 94
    },
    "executionInfo": {
     "elapsed": 290,
     "status": "ok",
     "timestamp": 1662358889352,
     "user": {
      "displayName": "Marin Bukov",
      "userId": "09091168472140198920"
     },
     "user_tz": -120
    },
    "id": "knFJcIhFNqst",
    "outputId": "8f3dd19f-fde2-4637-9fec-25287fe21f25"
   },
   "outputs": [],
   "source": [
    "circ.draw()"
   ]
  },
  {
   "cell_type": "markdown",
   "metadata": {
    "id": "91zNFBJGElAc"
   },
   "source": [
    "In this circuit, the qubits are put in order, with qubit zero at the top and qubit one at the bottom. The circuit is read left to right (meaning that gates that are applied earlier in the circuit show up further to the left).\n",
    "\n",
    "You can also use matplotlib for a nicer visualization output."
   ]
  },
  {
   "cell_type": "code",
   "execution_count": null,
   "metadata": {
    "colab": {
     "base_uri": "https://localhost:8080/",
     "height": 140
    },
    "executionInfo": {
     "elapsed": 603,
     "status": "ok",
     "timestamp": 1662358956942,
     "user": {
      "displayName": "Marin Bukov",
      "userId": "09091168472140198920"
     },
     "user_tz": -120
    },
    "id": "KWJFNqeTDgQY",
    "outputId": "06e51e4d-24d4-42bc-9321-1960d41c0955"
   },
   "outputs": [],
   "source": [
    "circ.draw('mpl')"
   ]
  },
  {
   "cell_type": "markdown",
   "metadata": {
    "id": "c2NPJPHIRYpv"
   },
   "source": [
    "$\\color{red}{\\text{Exercise 1: Construct a  GHZ state } |\\psi\\rangle = \\left(|000\\rangle+|111\\rangle\\right)/\\sqrt{2} \\text{ and draw the output circuit}}$\n",
    "\n",
    "The GHZ state is the 3-qubit analog of the Bell state defined above and the corresponding circuit looks very similar."
   ]
  },
  {
   "cell_type": "code",
   "execution_count": 9,
   "metadata": {
    "id": "v0nWlvbfRa9m"
   },
   "outputs": [],
   "source": [
    "circ = QuantumCircuit(3)\n",
    "#Your code goes here\n"
   ]
  },
  {
   "cell_type": "markdown",
   "metadata": {
    "id": "zKTIWoTPH7yw"
   },
   "source": [
    "*Hint for exercise 1 (double click to reveal):* $\\color{white}{\\text{What happens if you add an additional CNOT gate at the end of the circuit?}}$"
   ]
  },
  {
   "cell_type": "markdown",
   "metadata": {
    "id": "ZK4tbLLkPl_2"
   },
   "source": [
    "### Visualize the quantum state\n",
    "\n",
    "Remember that a general single qubit state can be expressed as\n",
    "\n",
    "$$\\left|\\psi\\right\\rangle = \\cos(\\theta/2)\\left|0\\right\\rangle + \\sin(\\theta/2)e^{i\\phi}\\left|1\\right\\rangle$$\n",
    "\n",
    "where $0\\leq \\phi < 2\\pi$, and $0\\leq \\theta \\leq \\pi$.\n",
    "\n",
    "If we interpret $\\theta$ and $\\phi$ as spherical co-ordinates ($r=1$, since the normalization of the qubit state is 1), we can plot any single qubit state on the surface of a sphere, known as the [Bloch sphere](https://en.wikipedia.org/wiki/Bloch_sphere).\n",
    "\n",
    "If we have a multi-qubit system we can plot the reduced density matrix of each qubit on the Bloch sphere instead:\n",
    "\n",
    "$$\\rho_{q_0} = \\text{Tr}_{q_1...q_n}|\\psi\\rangle\\langle\\psi|= \\frac{1}{2}(I + \\vec{a}\\cdot\\vec{\\sigma})$$\n",
    "\n",
    "where $\\vec{a}$ denotes the vector on the Bloch sphere. In this case, the state will not lie on the surface of the sphere anymore ($r=|\\vec{a}|<1$), if the qubit is entangled with the rest of the system."
   ]
  },
  {
   "cell_type": "code",
   "execution_count": 6,
   "metadata": {
    "id": "axAkXZHfPfJU"
   },
   "outputs": [],
   "source": [
    "from qiskit.quantum_info import Statevector\n",
    "from qiskit.visualization import plot_bloch_multivector"
   ]
  },
  {
   "cell_type": "markdown",
   "metadata": {
    "id": "RBDBUkq4QeWO"
   },
   "source": [
    "Initially, the qubits are always in the all-$\\left|0\\right\\rangle$ state which by convention corresponds to the northpole of the Bloch sphere."
   ]
  },
  {
   "cell_type": "code",
   "execution_count": null,
   "metadata": {
    "id": "aqg6nXklQVuB"
   },
   "outputs": [],
   "source": [
    "qc = QuantumCircuit(2)\n",
    "\n",
    "state = Statevector.from_instruction(qc) # retrieve quantum state in vector representation\n",
    "plot_bloch_multivector(state) # plot reduced density matrices of each qubit on Bloch spheres"
   ]
  },
  {
   "cell_type": "markdown",
   "metadata": {
    "id": "hScHSQq6RLgQ"
   },
   "source": [
    "In the Bell circuit above, the Hadamard gate rotates the first qubit into the state $|+\\rangle=\\left(|0\\rangle+|1\\rangle\\right)/\\sqrt{2}$ which is now aligned along the x-axis of the Bloch sphere."
   ]
  },
  {
   "cell_type": "code",
   "execution_count": null,
   "metadata": {
    "id": "cAXSGLKkQ31o"
   },
   "outputs": [],
   "source": [
    "qc.h(0)\n",
    "state = Statevector.from_instruction(qc)\n",
    "plot_bloch_multivector(state)"
   ]
  },
  {
   "cell_type": "markdown",
   "metadata": {
    "id": "cL5dwULQR_ev"
   },
   "source": [
    "$\\color{red}{\\text{Exercise 2: Plot the Bell state on the Bloch spheres}}$\n",
    "\n"
   ]
  },
  {
   "cell_type": "code",
   "execution_count": null,
   "metadata": {
    "id": "n9TvcK7_SAdz"
   },
   "outputs": [],
   "source": [
    "#Your code goes here\n"
   ]
  },
  {
   "cell_type": "markdown",
   "metadata": {
    "id": "TsCdIpq0SZvS"
   },
   "source": [
    "If you cannot see the arrows on the spheres, and you have no idea what's going on try to compute the two vectors $\\vec a_1$ and $\\vec a_2$ that define the two density matrices?"
   ]
  },
  {
   "cell_type": "markdown",
   "metadata": {
    "id": "VEnEZ5hPSm-o"
   },
   "source": [
    "*Hint for exercise 2:* $\\color{white}{\\text{The Bell state is a maximally entangled two-qubit state. What is the reduced density matrix of either of the two qubits? What does this mean for the length of the Bloch vector?}}$"
   ]
  },
  {
   "cell_type": "markdown",
   "metadata": {
    "id": "2UwNImNwMDQo"
   },
   "source": [
    "# Important gates"
   ]
  },
  {
   "cell_type": "markdown",
   "metadata": {
    "id": "NYJ3ENqNMIqO"
   },
   "source": [
    "For a full list of all gates, check the \"Frequently_used_operations\" notebook or Qiskit's [circuit library](https://qiskit.org/documentation/apidoc/circuit_library.html).\n",
    "\n",
    "If you are already familiar with these gates, feel free to skip this section and move to the next notebook."
   ]
  },
  {
   "cell_type": "code",
   "execution_count": null,
   "metadata": {
    "id": "WhWb4HVsNclj"
   },
   "outputs": [],
   "source": [
    "from qiskit.quantum_info.operators import Operator"
   ]
  },
  {
   "cell_type": "markdown",
   "metadata": {
    "id": "UpMBwbt9MkB8"
   },
   "source": [
    "#### Hadamard gate\n",
    "\n",
    "We have already encountered the Hadmard gate. This gate describes a $\\pi$ rotation about the X+Z axis, and has the effect of changing computation basis from $|0\\rangle,|1\\rangle$ to $|+\\rangle,|-\\rangle$ and vice-versa.\n",
    "\n",
    "$$\n",
    "H = \n",
    "\\frac{1}{\\sqrt{2}}\n",
    "\\begin{pmatrix}\n",
    "1 & 1\\\\\n",
    "1 & -1\n",
    "\\end{pmatrix}\n",
    "$$"
   ]
  },
  {
   "cell_type": "code",
   "execution_count": null,
   "metadata": {
    "id": "7ttFO0JUMGjp"
   },
   "outputs": [],
   "source": [
    "qc = QuantumCircuit(1)\n",
    "qc.h(0)\n",
    "qc.draw()"
   ]
  },
  {
   "cell_type": "code",
   "execution_count": null,
   "metadata": {
    "colab": {
     "base_uri": "https://localhost:8080/"
    },
    "executionInfo": {
     "elapsed": 246,
     "status": "ok",
     "timestamp": 1662359901053,
     "user": {
      "displayName": "Marin Bukov",
      "userId": "09091168472140198920"
     },
     "user_tz": -120
    },
    "id": "GCOHwhL4NA7L",
    "outputId": "69ec1b3f-5a22-44dd-9f30-604aa459a0af"
   },
   "outputs": [],
   "source": [
    "# This computes the matrix representation of the circuit unitary\n",
    "Operator(qc)"
   ]
  },
  {
   "cell_type": "code",
   "execution_count": null,
   "metadata": {
    "id": "FEOIFueaTPut"
   },
   "outputs": [],
   "source": [
    "state = Statevector.from_instruction(qc)\n",
    "plot_bloch_multivector(state)"
   ]
  },
  {
   "cell_type": "markdown",
   "metadata": {
    "id": "lswOfHfwNt_g"
   },
   "source": [
    "### Pauli gates\n",
    "\n",
    "#### $X$: bit-flip gate\n",
    "\n",
    "The bit-flip gate $X$ is defined as:\n",
    "\n",
    "$$\n",
    "X   =  \n",
    "\\begin{pmatrix}\n",
    "0 & 1\\\\\n",
    "1 & 0\n",
    "\\end{pmatrix}\n",
    "$$"
   ]
  },
  {
   "cell_type": "code",
   "execution_count": null,
   "metadata": {
    "id": "Jo2tdNz3NvU3"
   },
   "outputs": [],
   "source": [
    "qc = QuantumCircuit(1)\n",
    "qc.x(0)\n",
    "qc.draw()"
   ]
  },
  {
   "cell_type": "code",
   "execution_count": null,
   "metadata": {
    "id": "5njQrhJvNxqS"
   },
   "outputs": [],
   "source": [
    "Operator(qc)"
   ]
  },
  {
   "cell_type": "code",
   "execution_count": null,
   "metadata": {
    "id": "qSHt4D_HTTHy"
   },
   "outputs": [],
   "source": [
    "state = Statevector.from_instruction(qc)\n",
    "plot_bloch_multivector(state)"
   ]
  },
  {
   "cell_type": "markdown",
   "metadata": {
    "id": "NwF2wojfN-kM"
   },
   "source": [
    "#### $Y$: bit- and phase-flip gate\n",
    "\n",
    "The $Y$ gate is defined as:\n",
    "\n",
    "$$\n",
    "Y  = \n",
    "\\begin{pmatrix}\n",
    "0 & -i\\\\\n",
    "i & 0\n",
    "\\end{pmatrix}\n",
    "$$"
   ]
  },
  {
   "cell_type": "code",
   "execution_count": null,
   "metadata": {
    "id": "3eadK45rN0SD"
   },
   "outputs": [],
   "source": [
    "qc = QuantumCircuit(1)\n",
    "qc.y(0)\n",
    "qc.draw()"
   ]
  },
  {
   "cell_type": "code",
   "execution_count": null,
   "metadata": {
    "id": "a807NSaUOEMj"
   },
   "outputs": [],
   "source": [
    "Operator(qc)"
   ]
  },
  {
   "cell_type": "code",
   "execution_count": null,
   "metadata": {
    "id": "O4DHklcWTW5A"
   },
   "outputs": [],
   "source": [
    "state = Statevector.from_instruction(qc)\n",
    "plot_bloch_multivector(state)"
   ]
  },
  {
   "cell_type": "markdown",
   "metadata": {
    "id": "sMIURsl3OSHf"
   },
   "source": [
    "#### $Z$: phase-flip gate\n",
    "\n",
    "The phase-flip gate $Z$ is defined as:\n",
    "\n",
    "$$\n",
    "Z = \n",
    "\\begin{pmatrix}\n",
    "1 & 0\\\\\n",
    "0 & -1\n",
    "\\end{pmatrix}\n",
    "$$"
   ]
  },
  {
   "cell_type": "code",
   "execution_count": null,
   "metadata": {
    "id": "UGMN6q3VONKr"
   },
   "outputs": [],
   "source": [
    "qc = QuantumCircuit(1)\n",
    "qc.z(0)\n",
    "qc.draw()"
   ]
  },
  {
   "cell_type": "code",
   "execution_count": null,
   "metadata": {
    "id": "9Xqpu-51TxTh"
   },
   "outputs": [],
   "source": [
    "Operator(qc)"
   ]
  },
  {
   "cell_type": "code",
   "execution_count": null,
   "metadata": {
    "id": "l82UfUnZT0D2"
   },
   "outputs": [],
   "source": [
    "state = Statevector.from_instruction(qc)\n",
    "plot_bloch_multivector(state)"
   ]
  },
  {
   "cell_type": "markdown",
   "metadata": {
    "id": "2WGGsAD0T-ls"
   },
   "source": [
    "$\\color{red}{\\text{Exercise 3: In what direction does the Bloch vector point if you start in $|0\\rangle$, first apply a Hadmard and then a Z gate to a qubit?}}$\n",
    "\n",
    "After you thought about your answer verify if you are correct by plotting the state on the Bloch sphere."
   ]
  },
  {
   "cell_type": "code",
   "execution_count": null,
   "metadata": {
    "id": "FJA1Y3j8T27k"
   },
   "outputs": [],
   "source": [
    "#Your code goes here"
   ]
  },
  {
   "cell_type": "markdown",
   "metadata": {
    "id": "bK_PDLKYUgYl"
   },
   "source": [
    "### Standard Rotations\n",
    "\n",
    "The standard rotation gates are those that define rotations around the Paulis $P=\\{X,Y,Z\\}$. They are defined as \n",
    "\n",
    "$$ R_P(\\theta) = \\exp(-i \\theta P/2) = \\cos(\\theta/2)I -i \\sin(\\theta/2)P$$\n",
    "\n",
    "#### Rotation around X-axis\n",
    "\n",
    "$$\n",
    "R_x(\\theta) = \n",
    "\\begin{pmatrix}\n",
    "\\cos(\\theta/2) & -i\\sin(\\theta/2)\\\\\n",
    "-i\\sin(\\theta/2) & \\cos(\\theta/2)\n",
    "\\end{pmatrix}\n",
    "$$"
   ]
  },
  {
   "cell_type": "code",
   "execution_count": null,
   "metadata": {
    "id": "mIWZtTF4UVET"
   },
   "outputs": [],
   "source": [
    "from math import pi\n",
    "\n",
    "qc = QuantumCircuit(1)\n",
    "qc.rx(pi/2,0) # define the angle of the rotation\n",
    "qc.draw()"
   ]
  },
  {
   "cell_type": "code",
   "execution_count": null,
   "metadata": {
    "id": "_qxoYBpIUnPx"
   },
   "outputs": [],
   "source": [
    "Operator(qc)"
   ]
  },
  {
   "cell_type": "code",
   "execution_count": null,
   "metadata": {
    "id": "4jAUIeoFU-cF"
   },
   "outputs": [],
   "source": [
    "state = Statevector.from_instruction(qc)\n",
    "plot_bloch_multivector(state)"
   ]
  },
  {
   "cell_type": "markdown",
   "metadata": {
    "id": "f0IPgSWlVbI7"
   },
   "source": [
    "Similarly, you can also rotate around the Y-and Z-axis. Try it out!"
   ]
  },
  {
   "cell_type": "markdown",
   "metadata": {
    "id": "5tSq-cAuVvB_"
   },
   "source": [
    "### Controlled Pauli Gates\n",
    "\n",
    "#### Controlled-X (or, Controlled-NOT) gate\n",
    "The Controlled-NOT gate flips the `target` qubit when the control qubit is in the state $\\left|1\\right\\rangle$ and leaves it unchanged otherwise. If we take the MSB (most significant bit) as the control qubit (e.g. `cx(1,0)`), then the matrix would look like\n",
    "\n",
    "$$\n",
    "C_X = \n",
    "\\begin{pmatrix}\n",
    "1 & 0 & 0 & 0\\\\\n",
    "0 & 1 & 0 & 0\\\\\n",
    "0 & 0 & 0 & 1\\\\\n",
    "0 & 0 & 1 & 0\n",
    "\\end{pmatrix}. \n",
    "$$\n",
    "\n",
    "However, when the LSB (least significant bit) is the control qubit, (e.g. `cx(0,1)`), this gate is equivalent to the following matrix:\n",
    "\n",
    "$$\n",
    "C_X = \n",
    "\\begin{pmatrix}\n",
    "1 & 0 & 0 & 0\\\\\n",
    "0 & 0 & 0 & 1\\\\\n",
    "0 & 0 & 1 & 0\\\\\n",
    "0 & 1 & 0 & 0\n",
    "\\end{pmatrix}. \n",
    "$$"
   ]
  },
  {
   "cell_type": "code",
   "execution_count": null,
   "metadata": {
    "id": "WxM21JGMVAnY"
   },
   "outputs": [],
   "source": [
    "qc = QuantumCircuit(2)\n",
    "qc.cx(0,1)\n",
    "qc.draw()"
   ]
  },
  {
   "cell_type": "code",
   "execution_count": null,
   "metadata": {
    "id": "iTFRcX7pWCEC"
   },
   "outputs": [],
   "source": [
    "Operator(qc)"
   ]
  },
  {
   "cell_type": "markdown",
   "metadata": {
    "id": "z_RFd2DlWemj"
   },
   "source": [
    "Similarly, you can also use controlled-Y and-Z gates."
   ]
  },
  {
   "cell_type": "markdown",
   "metadata": {
    "id": "Z6VlAqbLWJr2"
   },
   "source": [
    "### SWAP gate\n",
    "\n",
    "The SWAP gate exchanges the two qubits. It transforms the basis vectors as\n",
    "\n",
    "$$\\left|00\\right\\rangle \\rightarrow \\left|00\\right\\rangle~,~\\left|01\\right\\rangle \\rightarrow \\left|10\\right\\rangle~,~\\left|10\\right\\rangle \\rightarrow \\left|01\\right\\rangle~,~\\left|11\\right\\rangle \\rightarrow \\left|11\\right\\rangle,$$\n",
    "\n",
    "which gives a matrix representation of the form\n",
    "\n",
    "$$\n",
    "\\mathrm{SWAP} = \n",
    "\\begin{pmatrix}\n",
    "1 & 0 & 0 & 0\\\\\n",
    "0 & 0 & 1 & 0\\\\\n",
    "0 & 1 & 0 & 0\\\\\n",
    "0 & 0 & 0 & 1\n",
    "\\end{pmatrix}.\n",
    "$$"
   ]
  },
  {
   "cell_type": "code",
   "execution_count": null,
   "metadata": {
    "id": "y8z9QY1MWFQX"
   },
   "outputs": [],
   "source": [
    "qc = QuantumCircuit(2)\n",
    "qc.swap(0, 1)\n",
    "qc.draw()"
   ]
  },
  {
   "cell_type": "code",
   "execution_count": null,
   "metadata": {
    "id": "4fJdlYUFWMjm"
   },
   "outputs": [],
   "source": [
    "Operator(qc)"
   ]
  },
  {
   "cell_type": "markdown",
   "metadata": {
    "id": "nVWiTPfpW8N7"
   },
   "source": [
    "$\\color{red}{\\text{Optional Exercise 4: Look at Qiskit's circuit library and try out one or two more gates.}}$\n",
    "\n",
    "You can also apply several gates after each other and observe how the quantum state changes on the Bloch sphere."
   ]
  },
  {
   "cell_type": "code",
   "execution_count": null,
   "metadata": {
    "id": "cnWmfjqTWQIe"
   },
   "outputs": [],
   "source": [
    "#Your code goes here"
   ]
  },
  {
   "cell_type": "markdown",
   "metadata": {
    "id": "AW14onjGzRJy"
   },
   "source": [
    "These notebooks are comprised of text and code taken from Qiskit's [documentation](https://qiskit.org/documentation/), [tutorials](https://qiskit.org/documentation/tutorials.html#quantum-circuits), [textbook](https://qiskit.org/textbook/preface.html), and previous challenges facilitated by Qiskit."
   ]
  }
 ],
 "metadata": {
  "anaconda-cloud": {},
  "celltoolbar": "Tags",
  "colab": {
   "collapsed_sections": [],
   "provenance": [
    {
     "file_id": "1a7n5kxy9qAVPK39wcGzQix0qy5KKWCQ7",
     "timestamp": 1661161743454
    }
   ]
  },
  "kernelspec": {
   "display_name": "Python 3 (ipykernel)",
   "language": "python",
   "name": "python3"
  },
  "language_info": {
   "codemirror_mode": {
    "name": "ipython",
    "version": 3
   },
   "file_extension": ".py",
   "mimetype": "text/x-python",
   "name": "python",
   "nbconvert_exporter": "python",
   "pygments_lexer": "ipython3",
   "version": "3.8.3"
  },
  "varInspector": {
   "cols": {
    "lenName": 16,
    "lenType": 16,
    "lenVar": 40
   },
   "kernels_config": {
    "python": {
     "delete_cmd_postfix": "",
     "delete_cmd_prefix": "del ",
     "library": "var_list.py",
     "varRefreshCmd": "print(var_dic_list())"
    },
    "r": {
     "delete_cmd_postfix": ") ",
     "delete_cmd_prefix": "rm(",
     "library": "var_list.r",
     "varRefreshCmd": "cat(var_dic_list()) "
    }
   },
   "types_to_exclude": [
    "module",
    "function",
    "builtin_function_or_method",
    "instance",
    "_Feature"
   ],
   "window_display": false
  }
 },
 "nbformat": 4,
 "nbformat_minor": 1
}
