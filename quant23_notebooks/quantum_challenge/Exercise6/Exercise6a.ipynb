{
 "cells": [
  {
   "cell_type": "markdown",
   "id": "IWrhjnUGGti7",
   "metadata": {
    "id": "IWrhjnUGGti7"
   },
   "source": [
    "# Trotterization\n",
    "\n",
    "In order to approximate the unitary time evolution by a [circuit](https://qiskit.org/documentation/apidoc/circuit.html) on a quantum computer, we have to decompose $U(t)=e^{-iH t/\\hbar}$ into a product of single and two-qubit gates that are native to the device. In this exercise, we use [Trotterization](https://en.wikipedia.org/wiki/Hamiltonian_simulation#Product_Formulas). \n",
    "\n",
    "Below, we show an example Trotterization as outlined in \\[1-2\\].\n",
    "\n",
    "Consider the two-body terms of the Hamiltonian, $H^{(i,j)} = \\sigma_x^{(i)}\\sigma_x^{(j)} + \\sigma_y^{(i)}\\sigma_y^{(j)} + \\sigma_z^{(i)}\\sigma_z^{(j)}$.\n",
    "\n",
    "The unitary operator of the time evolution operator is given by:\n",
    "\n",
    "$$\n",
    "U(t) = \\exp\\left[-i t \\left(H^{(0,1)} + H^{(1,2)} + H^{(2,3)}\\right)\\right].\n",
    "$$\n",
    "A naive guess to express the unitary operator by a circuit is to simply split it up into its two-gate parts, but this does not work since the [Pauli operators do not commute](https://en.wikipedia.org/wiki/Pauli_matrices#Commutation_relations) with each other: the exponential $U(t)$ **cannot** be split into a product of simpler exponentials: \n",
    "\n",
    "$$\n",
    "U(t) \\neq \\exp\\left(-i t (H^{(0,1)}\\right) \\exp\\left(-i t (H^{(2,3)}\\right)\\exp\\left(-i t H^{(1,2)} \\right)\n",
    "$$\n",
    "\n",
    "However we can do better. Lets imagine we decompose our time evolution in $n$ smaller steps of size $t/n$. When we try do factorize each step by its own again, we still get a small error, but its size is linear in the time step $t/n$. It can be shown that the error vanishes in the limit $n → \\infty $:\n",
    "\n",
    "$$\n",
    "\\begin{align}\n",
    "U(t) &= \\exp\\left[-i t \\left(H^{(0,1)} + H^{(1,2)}+H^{(2,3)} \\right)\\right]\n",
    "= \\left[\\exp\\left(-i \\frac{t}{n} \\left(H^{(0,1)} + H^{(1,2)}+ H^{(2,3)} \\right)\\right) \\right]^n \\\\\n",
    "&\\approx \\left[\\exp\\left(\\dfrac{-it}{n}H^{(0,1)}\\right) \\exp\\left(\\dfrac{-it}{n}H^{(2,3)}\\right)\\exp\\left(\\dfrac{-it}{n}H^{(1,2)} \\right)\\right]^n.\n",
    "\\end{align}\n",
    "$$\n",
    "\n",
    "$n$ is the number of Trotter steps; Note that the way the unitary time-evolution operator is split up into subsystems for Trotterization is not necessarily unique.\n",
    "\n",
    "We can further decompose each step ,since pairs of Pauli operators commute:\n",
    "\n",
    "$$\n",
    "\\begin{align}\n",
    "\\exp\\left(\\dfrac{-it}{n}H^{(j,j+1)}\\right) =\n",
    "\\exp\\left(\\dfrac{-it}{n}\\left(\\sigma_x^{(j)}\\sigma_x^{(j+1)}\\right)\\right) \n",
    "\\exp\\left(\\dfrac{-it}{n}\\left(\\sigma_y^{(j)}\\sigma_y^{(j+1)}\\right)\\right) \n",
    "\\end{align}.\n",
    "$$\n",
    "\n",
    "For simplicity we use in the following the convential notation\n",
    "$$\n",
    "\\begin{align}\n",
    "XX(2t) &= \\exp\\left(-it \\sigma_x\\sigma_x\\right)\\\\\n",
    "YY(2t) &= \\exp\\left(-it \\sigma_y\\sigma_y\\right) \n",
    "\\end{align}\n",
    "$$\n",
    "\n",
    "We have now reduced the task of simulating the spin chain to a much simpler problem, namely finding a implementation of the gates $XX(t)$ and $YY(t)$.\n",
    "This is your task in the following exercises.\n",
    "\n",
    "*Further references for digital quantum simulations*\n",
    "\n",
    "\\[1\\] Y. Salathe, et al., *Digital Quantum Simulation of Spin Models with Circuit Quantum Electrodynamics*, [Phys. Rev. X **5**, 021027 (2015)](https://link.aps.org/doi/10.1103/PhysRevX.5.021027)\n",
    "\n",
    "\\[2\\] F. Tacchino, et al., *Quantum Computers as Universal Quantum Simulators: State-of-the-Art and Perspectives*, [Adv. Quantum Technol. *3* 3 (2020)](https://doi.org/10.1002/qute.201900052) \\[[free arxiv version](https://arxiv.org/abs/1907.03505)\\]\n",
    "\n",
    "\\[3\\] K. Ferris, et al., *Quantum Simulation on Noisy Superconducting Quantum Computers*, [arXiv:2209.02795v1 (2022)](https://arxiv.org/pdf/2209.02795.pdf)"
   ]
  },
  {
   "cell_type": "code",
   "execution_count": 1,
   "id": "7152f2bf-5b38-470a-a523-6398a51c2c16",
   "metadata": {
    "id": "7152f2bf-5b38-470a-a523-6398a51c2c16"
   },
   "outputs": [],
   "source": [
    "import numpy as np\n",
    "import matplotlib.pyplot as plt\n",
    "\n",
    "# Importing standard Qiskit libraries\n",
    "from qiskit import QuantumCircuit, QuantumRegister, transpile, Aer, IBMQ, execute,ClassicalRegister\n",
    "from qiskit.visualization import *\n",
    "from qiskit.providers.aer import QasmSimulator\n",
    "from tqdm.notebook import tqdm\n",
    "from qiskit.providers.aer import QasmSimulator\n",
    "from qiskit.providers.aer import AerSimulator #A library to simulate quantum computers with noise on a classical device\n",
    "from qiskit.tools.monitor import job_monitor\n",
    "from qiskit.circuit import Parameter,Gate,Measure\n",
    "\n",
    "import qiskit.quantum_info as qi\n",
    "\n",
    "# Suppress warnings\n",
    "import warnings\n",
    "warnings.filterwarnings('ignore')"
   ]
  },
  {
   "cell_type": "markdown",
   "id": "172dc11b",
   "metadata": {
    "id": "172dc11b"
   },
   "source": [
    "## 1. Time evolution under a static Hamiltonian\n",
    "\n",
    "First, let's consider time evolution under the tight-binding Hamiltonian on 4 lattice sites. Here we'll set $J=1$ and perform the time evolution on the classical computer using the [qiskit operator module]((https://qiskit.org/documentation/tutorials/operators/01_operator_flow.html)). At the end of this notebook, you will have the opportunity to run your code on the quantum computer.  "
   ]
  },
  {
   "cell_type": "code",
   "execution_count": 3,
   "id": "c8034d3c-e2c4-4dda-aa78-e44b34ad494c",
   "metadata": {
    "id": "c8034d3c-e2c4-4dda-aa78-e44b34ad494c"
   },
   "outputs": [],
   "source": [
    "# Import Pauli operators (I, X, Y, Z)\n",
    "from qiskit.opflow import I, X, Y, Z \n",
    "\n",
    "J = 1 # set energy unit\n",
    "\n",
    "# tight-binding Hamiltonian\n",
    "def H_tb(n):\n",
    "    # Interactions: I is the identity matrix; X and Y are Pauli matricies; n is the number of qubits\n",
    "    # ^ stands for the tensor product\n",
    "    XXs = (X^X^(I^(n-2)))\n",
    "    YYs=  (Y^Y^(I^(n-2)))\n",
    "    for k in range(1,n-1):\n",
    "      XXs+=(((I^k)^(X^X)^(I^(n-2-k))))\n",
    "      YYs+=(((I^k)^(Y^Y)^(I^(n-2-k))))\n",
    "    # Sum interaction terms\n",
    "    H = J*(XXs + YYs)    \n",
    "    \n",
    "    # Return Hamiltonian\n",
    "    return H"
   ]
  },
  {
   "cell_type": "code",
   "execution_count": 4,
   "id": "36f59aec-f85d-4898-a69d-231f7b53e2a1",
   "metadata": {
    "executionInfo": {
     "elapsed": 11,
     "status": "ok",
     "timestamp": 1663188171531,
     "user": {
      "displayName": "Dominik Hahn",
      "userId": "09159259743712920381"
     },
     "user_tz": 420
    },
    "id": "36f59aec-f85d-4898-a69d-231f7b53e2a1"
   },
   "outputs": [],
   "source": [
    "# Unitary evolution under the tight-binding Hamiltonian\n",
    "def U_tb(t,n):\n",
    "    # n is the number of qubits; t is the time (different from time step)\n",
    "    H = H_tb(n)\n",
    "    return (t * H).exp_i() # Compute exp(-iHt), efficient for 4 qubits"
   ]
  },
  {
   "cell_type": "markdown",
   "id": "b52f1e66",
   "metadata": {
    "id": "b52f1e66"
   },
   "source": [
    "We initialize the state of our system to $|1000\\rangle$, and track the probabilities of the states $|1000\\rangle, |0100\\rangle, |0010\\rangle, |0001\\rangle$. These values correspond to the probability of finding a spin up on any site of the lattice."
   ]
  },
  {
   "cell_type": "code",
   "execution_count": null,
   "id": "62452b35",
   "metadata": {
    "id": "aXQf1OwzC0Hk"
   },
   "outputs": [],
   "source": [
    "# Import qubit states Zero (|0>) and One (|1>)\n",
    "from qiskit.opflow import Zero, One\n",
    "\n",
    "# Define array of time points\n",
    "ts = np.linspace(0, 3, 100) # DO NOT CHANGE THIS\n",
    "\n",
    "initial_state=One^Zero^Zero^Zero\n",
    "L=4 #Number of qubits\n",
    "\n",
    "state_t=[U_tb(float(t),L) @ initial_state for t in ts] #Object that contains the whole state for each time step\n",
    "\n",
    "# In the following lines we ask for the probability to get the given state, e.g. |1000>, at each time.  One^Zero^Zero^Zero corresponds to the state |1000> etc.\n",
    "# eval() executes the operations instructed by the operations build in the previous line then the absolute value is taken\n",
    "p_1000= [np.abs( (~(One^Zero^Zero^Zero) @ state).eval() )**2 for state in state_t] #compute the overlap between the state |1000> and the time evolved state under th Hamiltonian\n",
    "p_0100= [np.abs( (~(Zero^One^Zero^Zero) @ state).eval() )**2 for state in state_t]\n",
    "p_0010= [np.abs( (~(Zero^Zero^One^Zero) @ state).eval() )**2 for state in state_t]\n",
    "p_0001= [np.abs( (~(Zero^Zero^Zero^One) @ state).eval() )**2 for state in state_t]\n",
    "\n",
    "plt.figure(facecolor='white')\n",
    "plt.plot(ts, p_1000, label=r'$p_{1000}$')\n",
    "plt.plot(ts, p_0100, label=r'$p_{0100}$')\n",
    "plt.plot(ts, p_0010, label=r'$p_{0010}$')\n",
    "plt.plot(ts, p_0001, label=r'$p_{0001}$')\n",
    "plt.xlabel(r'Time (1/J)')\n",
    "plt.ylabel(r'Population')\n",
    "plt.legend()\n",
    "plt.show()"
   ]
  },
  {
   "cell_type": "markdown",
   "id": "hS57LOC6I6lb",
   "metadata": {
    "id": "hS57LOC6I6lb"
   },
   "source": [
    "$\\color{red}{\\text{Question: How many basis states are there in the Hilbert space? Why has the time-evolved initial state only overlap with the four basis states plotted above?}}$"
   ]
  },
  {
   "cell_type": "markdown",
   "id": "19c6ab38",
   "metadata": {
    "id": "19c6ab38"
   },
   "source": [
    "## 2. Trotterization in a nutshell\n",
    "\n",
    "To execute the unitary time evolution on a [circuit model](https://qiskit.org/documentation/apidoc/circuit.html) quantum computer, we must decompose $U(t)=e^{-iH t/\\hbar}$ into a product of single and two-qubit gates that are native to the quantum computer. In this exercise, we use [Trotterization](https://en.wikipedia.org/wiki/Hamiltonian_simulation#Product_Formulas). \n",
    "\n",
    "Below, we show an example Trotterization as outlined in \\[1-2\\].\n",
    "\n",
    "Since the [Pauli operators do not commute](https://en.wikipedia.org/wiki/Pauli_matrices#Commutation_relations) with each other, the exponential $U_{\\text{tb}}(t)$ cannot be split into a product of simpler exponentials. However, we can approximate $U(t)$ as a product of simpler exponentials through Trotterization. \n",
    "\n",
    "Consider a subsystem of 2 spin-1/2 particles within the larger 3 spin system. The Hamiltonian on spins $i$ and $j\\,$ ($i,j \\in \\{0,1,2\\}$) would be $H^{(i,j)} = \\sigma_x^{(i)}\\sigma_x^{(j)} + \\sigma_y^{(i)}\\sigma_y^{(j)} + \\sigma_z^{(i)}\\sigma_z^{(j)}$. Rewritting $U(t)$ in terms of the two possible subsystems within the total $N=3$ system we want to simulate\n",
    "\n",
    "$$\n",
    "U(t) = \\exp\\left[-i t \\left(H^{(0,1)} + H^{(1,2)} \\right)\\right].\n",
    "$$\n",
    "\n",
    "Note that $H^{(0,1)}$ and $H^{(1,2)}$ do not commute, so $U(t) \\neq \\exp\\left(-i t H^{(0,1)}\\right) \\exp\\left(-i t H^{(1,2)} \\right)$. But, this product decomposition can be approximated with Trotterization which states that $U(t)$ is approximately a short evolution of $H^{(0,1)}$ (time = $t/n$)  and followed by a short evolution of $H^{(1,2)}$ (time = $t/n$) repeated $n$ times\n",
    "\n",
    "$$\n",
    "\\begin{align}\n",
    "U(t) &= \\exp\\left[-i t \\left(H^{(0,1)} + H^{(1,2)} \\right)\\right]\n",
    "= \\left[\\exp\\left(-i \\frac{t}{n} \\left(H^{(0,1)} + H^{(1,2)} \\right)\\right) \\right]^n \\\\\n",
    "U(t) &\\approx \\left[\\exp\\left(\\dfrac{-it}{n}H^{(0,1)}\\right) \\exp\\left(\\dfrac{-it}{n}H^{(1,2)} \\right)\\right]^n.\n",
    "\\end{align}\n",
    "$$\n",
    "\n",
    "Here $n$ is the number of Trotter steps; as $n$ increases, the approximation becomes more accurate. (Note tha the way the unitary time-evolution operator is split up into subsystems for Trotterization is not necessarily unique.) The decomposition goes further. Within each 2 spin subsystems, the Pauli operator pairs ($\\sigma_x^{(i)}\\sigma_x^{(j)}$, $\\sigma_y^{(i)}\\sigma_y^{(j)}$, and $\\sigma_z^{(i)}\\sigma_z^{(j)}$) commute. \n",
    "\n",
    "This means we can decompose the exponential of a subsystem Hamiltonian $H^{(i,j)}$ into a product of even simpler exponentials getting us closer to a gate implementation of $U(t)$:\n",
    "\n",
    "$$\n",
    "\\begin{align}\n",
    "U(t) &\\approx \\left[\\exp\\left(\\dfrac{-it}{n}H^{(0,1)}\\right) \\exp\\left(\\dfrac{-it}{n}H^{(1,2)} \\right)\\right]^n \\\\\n",
    "&= \\left[\\exp\\left(\\dfrac{-it}{n}\\left(\\sigma_x^{(0)}\\sigma_x^{(1)} + \\sigma_y^{(0)}\\sigma_y^{(1)} \\right)\\right) \\exp\\left(\\dfrac{-it}{n}\\left(\\sigma_x^{(1)}\\sigma_x^{(2)} + \\sigma_y^{(1)}\\sigma_y^{(2)} \\right)\\right)\\right]^{n} \\\\\n",
    "&= \\left[\\exp\\left(\\dfrac{-it}{n}\\sigma_x^{(0)}\\sigma_x^{(1)}\\right) \\exp\\left(\\dfrac{-it}{n}\\sigma_y^{(0)}\\sigma_y^{(1)}\\right) \\exp\\left(\\dfrac{-it}{n}\\sigma_x^{(1)}\\sigma_x^{(2)}\\right) \\exp\\left(\\dfrac{-it}{n}\\sigma_y^{(1)}\\sigma_y^{(2)}\\right) \\right]^{n}\n",
    "\\end{align}\n",
    "$$\n",
    "\n",
    "For simplicity, and to use a more common notation, let's rename the products with $XX(2t) = \\exp\\left(-it \\sigma_x\\sigma_x\\right)$, and $YY(2t) = \\exp\\left(-it \\sigma_y\\sigma_y\\right)$, and rewrite the Trotterized $U_{\\text{tb}}(t)$ as\n",
    "$$\n",
    "U(t) \\approx \\left[XX\\left(\\frac{2t}{n}\\right)^{(0,1)} YY\\left(\\frac{2t}{n}\\right)^{(0,1)}  XX\\left(\\frac{2t}{n}\\right)^{(1,2)} YY\\left(\\frac{2t}{n}\\right)^{(1,2)}\\right]^{n}.\n",
    "$$\n",
    "And that's it! We have now approximately decomposed $U(t)$ into two-qubit gates $XX(t)$ and $YY(t)$. These gates are not native to superconducting qubits, but in Section 2, they will be further decomposed into native single and two-qubit gates with *further details found in the supplementary material.*\n",
    "\n",
    "\n",
    "\\[1\\] Y. Salathe, et al., *Digital Quantum Simulation of Spin Models with Circuit Quantum Electrodynamics*, [Phys. Rev. X **5**, 021027 (2015)](https://link.aps.org/doi/10.1103/PhysRevX.5.021027)\n",
    "\n",
    "\\[2\\] F. Tacchino, et al., *Quantum Computers as Universal Quantum Simulators: State-of-the-Art and Perspectives*, [Adv. Quantum Technol. *3* 3 (2020)](https://doi.org/10.1002/qute.201900052) \\[[free arxiv version](https://arxiv.org/abs/1907.03505)\\]\n"
   ]
  },
  {
   "cell_type": "markdown",
   "id": "2e7c574e",
   "metadata": {
    "id": "2e7c574e"
   },
   "source": [
    "### 2.1 Building the $XX(t)$ and $YY(t)$ gates\n",
    "\n",
    "In this section we build ZZ(t), XX(t), and YY(t) operations using single- and two-qubit gates. We need a set of basis gates (see notebook frequently_used_operations.ipynb for overview of the main gates used). \n",
    "\n",
    "You will first see a way of implementing the ZZ(t) gate; then you will have to do the same for the YY(t) and XX(t) gates."
   ]
  },
  {
   "cell_type": "code",
   "execution_count": 13,
   "id": "6d790e43-7e59-40b3-9a3a-806e7df15b70",
   "metadata": {
    "id": "6d790e43-7e59-40b3-9a3a-806e7df15b70"
   },
   "outputs": [],
   "source": [
    "t = Parameter('t') #time parameter"
   ]
  },
  {
   "cell_type": "markdown",
   "id": "GVnnpNhymrdY",
   "metadata": {
    "id": "GVnnpNhymrdY"
   },
   "source": [
    "In the following example, it is shown how to construct a $ZZ(t)$-gate"
   ]
  },
  {
   "cell_type": "code",
   "execution_count": null,
   "id": "9d608fae",
   "metadata": {
    "id": "0c98587c-7d60-4e9e-9ccb-470381997673"
   },
   "outputs": [],
   "source": [
    "# Build a subcircuit for ZZ(t) from single- and two-qubit gates\n",
    "\n",
    "ZZ_qr = QuantumRegister(2)\n",
    "ZZ_qc = QuantumCircuit(ZZ_qr, name='ZZ')\n",
    "ZZ_qc.cnot(0,1)\n",
    "ZZ_qc.rz(2 * t, 1)\n",
    "ZZ_qc.cnot(0,1)\n",
    "# Convert custom quantum circuit into a gate\n",
    "ZZ = ZZ_qc.to_instruction()\n",
    "ZZ_qc.draw()"
   ]
  },
  {
   "cell_type": "markdown",
   "id": "11c706da",
   "metadata": {
    "id": "11c706da"
   },
   "source": [
    "### 2.2 Basis transformations\n",
    "\n",
    "Once we know how to construct the $ZZ(t)$ gate, it is straightforward to implement $XX(t)$ and YY(t) . In particular, there is a class of quantum operators that map Pauli operators to other Pauli operators: the Clifford gates. The Hadamard gate ($H$) (see exercise 1a) and the phase gate ($S$) are examples of single-qubit Clifford gates.\n",
    "\n",
    "$$H=\\frac{1}{\\sqrt{2}}\\begin{pmatrix} 1 & 1 \\\\1 & -1\\\\ \\end{pmatrix}$$\n",
    "\n",
    "$HZH^\\dagger=X$, and $HXH^\\dagger=Z$. Since the Hadamard gate is a Hermitian operator, $H=H^\\dagger$.\n",
    "\n",
    "$$S=\\begin{pmatrix} 1 & 0 \\\\0 & i\\\\ \\end{pmatrix}$$\n",
    "\n",
    "$SXS^\\dagger=Y$, and $SYS^\\dagger=-X$.\n",
    "\n",
    "Using the Clifford gates, we can transform the $e^{i ZZ t}$ to $e^{i XX t}$ and $e^{i YY t}$"
   ]
  },
  {
   "cell_type": "markdown",
   "id": "00ea5c84",
   "metadata": {
    "id": "00ea5c84"
   },
   "source": [
    "$\\color{red}{\\text{Exercise 1a: Construct a XX gate using the basis transformation shown above.}}$\n",
    "\n",
    "Hint: use the Hadamard gate to perform a transformation from the $ZZ(t)$ to the $XX(t)$ gate, the circuit diagram is shown below:\n",
    "\n",
    "![balanced1.png](XXtgate.png)"
   ]
  },
  {
   "cell_type": "code",
   "execution_count": null,
   "id": "e3dcd1d0",
   "metadata": {
    "id": "c08bcedb-6a0b-4141-810b-e5e4ab75b6c4"
   },
   "outputs": [],
   "source": [
    "\n",
    "XX_qr = QuantumRegister(2)\n",
    "XX_qc = QuantumCircuit(XX_qr, name='XX')\n",
    "\n",
    "#Your code goes here\n",
    "\n",
    "\n",
    "## Append the ZZ gate \n",
    "XX_qc.append(ZZ, [0,1])\n",
    "\n",
    "#Your code goes here\n",
    "\n",
    "\n",
    "# Convert custom quantum circuit into a gate\n",
    "XX = XX_qc.to_instruction()\n",
    "\n",
    "XX_qc.draw('mpl')"
   ]
  },
  {
   "cell_type": "markdown",
   "id": "23d9093d",
   "metadata": {
    "id": "23d9093d"
   },
   "source": [
    "\n",
    "$\\color{red}{\\text{Exercise 1b: Construct a YY gate from single and two-body qubit gates}}$\n",
    "\n",
    "Hint: use again a basis transformation, as in the circuit diagram for the $YY(t)$ gate shown below:\n",
    "\n",
    "![balanced1.png](YYtgate.png)"
   ]
  },
  {
   "cell_type": "code",
   "execution_count": null,
   "id": "8907bd10",
   "metadata": {
    "id": "cc04f46e-da32-423e-8f0a-58ac9d6a526e"
   },
   "outputs": [],
   "source": [
    "YY_qr = QuantumRegister(2)\n",
    "YY_qc = QuantumCircuit(YY_qr, name='YY')\n",
    "\n",
    "#Your code goes here\n",
    "YY_qc.sdg(1)\n",
    "YY_qc.sdg(0)\n",
    "YY_qc.h(1)\n",
    "YY_qc.h(0)\n",
    "\n",
    "## Append the ZZ gate \n",
    "YY_qc.append(ZZ, [0,1])\n",
    "\n",
    "#Your code goes here\n",
    "YY_qc.h(1)\n",
    "YY_qc.h(0)\n",
    "YY_qc.s(1)\n",
    "YY_qc.s(0)\n",
    "\n",
    "\n",
    "# Convert custom quantum circuit into a gate\n",
    "YY = YY_qc.to_instruction()\n",
    "\n",
    "YY_qc.draw('mpl')"
   ]
  },
  {
   "cell_type": "markdown",
   "id": "1b5382b9",
   "metadata": {
    "id": "1b5382b9"
   },
   "source": [
    "### 2.3 Building the trotterized circuit\n",
    "\n",
    "You may have noticed already that the $X_iX_j$ and $Y_iY_j$ operators commute:\n",
    "\n",
    "$$[X_iX_j, Y_iY_j]= X_iX_j.Y_iY_j - Y_iY_j.X_iX_j = Z_iZ_j-(-Z_i)(-Z_j)=0.$$\n",
    "\n",
    "Therefore, we can decompose $e^{i t (X_iX_j + Y_iY_j)}$ as $e^{i t X_iX_j} e^{i t Y_iY_j}$ without incurring additional errors.\n",
    "\n",
    "Furthermore, if $i\\neq j \\neq k \\neq l$ then $[X_iX_j,X_kX_l]=0$. Based on this, we can decompose each trotterized evolution time step into two blocks:\n",
    "\n",
    "$$U(\\Delta t) \\approx \\Big(\\prod_{i \\in \\rm{odd}} e^{-i \\Delta t X_iX_{i+1}} e^{-i \\Delta t Y_iY_{i+1}} \\Big)  \\Big(\\prod_{i \\in \\rm{even}} e^{-i \\Delta t X_iX_{i+1}} e^{-i \\Delta t Y_iY_{i+1}} \\Big)$$"
   ]
  },
  {
   "cell_type": "markdown",
   "id": "_LyPbZc3rsmE",
   "metadata": {
    "id": "_LyPbZc3rsmE"
   },
   "source": [
    "We are now able to construct one Trotter step:"
   ]
  },
  {
   "cell_type": "code",
   "execution_count": null,
   "id": "eed7bfbf",
   "metadata": {
    "id": "85d24eb2-2a44-45cb-b5ab-70c46890a3fd"
   },
   "outputs": [],
   "source": [
    "num_qubits = 4\n",
    "\n",
    "Trot_qr = QuantumRegister(num_qubits) #Full circuit\n",
    "Trot_qc = QuantumCircuit(Trot_qr, name='Trot') #Trotter on a single bond\n",
    "\n",
    "for i in range(0, num_qubits - 1,2):#even qubits\n",
    "    Trot_qc.append(YY, [Trot_qr[i], Trot_qr[i+1]])\n",
    "    Trot_qc.append(XX, [Trot_qr[i], Trot_qr[i+1]])\n",
    "for i in range(1, num_qubits - 1,2):#odd qubits\n",
    "    Trot_qc.append(YY, [Trot_qr[i], Trot_qr[i+1]])\n",
    "    Trot_qc.append(XX, [Trot_qr[i], Trot_qr[i+1]])\n",
    "\n",
    "# Convert custom quantum circuit into a multi-qubit gate\n",
    "Trot_gate = Trot_qc.to_instruction()\n",
    "\n",
    "Trot_qc.draw()"
   ]
  },
  {
   "cell_type": "markdown",
   "id": "896a2f87",
   "metadata": {
    "id": "896a2f87"
   },
   "source": [
    "$\\color{red}{\\text{Exercise 2: Construct the Trotter circuit for the underlying time evolution with a given number of trotter_steps}}$\n",
    "\n",
    "We created a single Trotter step before. Given a time $t_{\\text{target}}$ and a number of Trotter steps  $q$ Trotter steps, your code has to apply $q$ Trotter steps of time $t/q$."
   ]
  },
  {
   "cell_type": "code",
   "execution_count": 19,
   "id": "d3bd5759-6fa6-4305-8795-c869c95926cc",
   "metadata": {
    "id": "d3bd5759-6fa6-4305-8795-c869c95926cc"
   },
   "outputs": [],
   "source": [
    "\n",
    "def U_trotterize(t_target, trotter_steps,n_qubits):\n",
    "    qr = QuantumRegister(n_qubits) #create a quantum register\n",
    "    qc = QuantumCircuit(qr)        #create quantum circuit\n",
    "    #Your code goes here\n",
    "\n",
    "    qc = qc.bind_parameters({t: t_target/trotter_steps})  #fix the free time parameter in your circuit to be $t_target/trotter_steps$  \n",
    "    return qi.Operator(qc)\n"
   ]
  },
  {
   "cell_type": "markdown",
   "id": "aLDPNoUPT7Y5",
   "metadata": {
    "id": "aLDPNoUPT7Y5"
   },
   "source": [
    "Let us now check the accuracy of our Trotter circuit."
   ]
  },
  {
   "cell_type": "code",
   "execution_count": null,
   "id": "53a25480",
   "metadata": {
    "id": "9e642289-f3e4-472a-9c55-9af5134ed027"
   },
   "outputs": [],
   "source": [
    "t_target = 0.5 #total evolution time of the circuit\n",
    "nqubits=4\n",
    "U_target = U_tb(t_target,nqubits) #Compute the unitary for the exact time evolution\n",
    "steps=np.arange(1,11,2)  #various number of Trotter steps\n",
    "fidelities=[]\n",
    "for n in steps:\n",
    "    U_trotter = U_trotterize(t_target, trotter_steps=n,n_qubits=nqubits) #construct the Trotter_circuit\n",
    "    fidelity = qi.process_fidelity(U_trotter, target=U_target) #compute the overlap with the exact time evolution\n",
    "    fidelities.append(fidelity)\n",
    "\n",
    "plt.figure(facecolor='white')\n",
    "plt.loglog(steps, 1-np.array(fidelities))\n",
    "plt.ylabel('Trotter error')\n",
    "plt.xlabel('Trotter steps')\n",
    "plt.show()"
   ]
  },
  {
   "cell_type": "markdown",
   "id": "f1jIdxIMU7cZ",
   "metadata": {
    "id": "f1jIdxIMU7cZ"
   },
   "source": [
    "## 3. Execution on a real quantum device\n",
    "\n",
    "The accuracy of our Trotter time evolution improves with the number of steps. However, the accuracy of simulation on a quantum device gets spoiled with increasing number of steps due to gate erroors and decay of excited qubits. In the following section, you have the chance to explore this behavior on a real device."
   ]
  },
  {
   "cell_type": "code",
   "execution_count": null,
   "id": "44AMoMWbmu-t",
   "metadata": {
    "id": "44AMoMWbmu-t"
   },
   "outputs": [],
   "source": [
    "IBMQ.save_account(\"740cf9a029345b5770ad72af52ca4d1c51eb8afe78c6d95e17ecffd2e72033a693cf8563418f2143cf5d9780f497e3100577f0a400d882f5d4314ca68ce9fc37\",overwrite=True)\n",
    "IBMQ.load_account()\n",
    "provider = IBMQ.get_provider(hub='ibm-q-research-2',group='max-planck-inst',project='codingchallenge')\n",
    "n=5\n",
    "backend=provider.get_backend('ibm_oslo')\n",
    "backendsim=AerSimulator()\n",
    "backend2= AerSimulator.from_backend(backend) #In case we have to long waiting times on a real device, we use a noisy simulator instead\n"
   ]
  },
  {
   "cell_type": "markdown",
   "id": "-vgNw87uuRWW",
   "metadata": {
    "id": "-vgNw87uuRWW"
   },
   "source": [
    "In the following part, we define for each time step a circuit, which we execute then on the real device. "
   ]
  },
  {
   "cell_type": "code",
   "execution_count": null,
   "id": "ND3_pNpanAzD",
   "metadata": {
    "id": "ND3_pNpanAzD"
   },
   "outputs": [],
   "source": [
    "circuits=[]\n",
    "n_qubits=5 #Number of qubits, use not more than 7, maximum 5 are recommended\n",
    "dt=0.1     #Size of one itme step\n",
    "steps=50   #Number of Trotter steps\n",
    "shots=1024 #Number of repeated measurements\n",
    "#We prepare for each timestep a circuit\n",
    "for i in range(1,steps):\n",
    "        qr = QuantumRegister(n_qubits)\n",
    "        cl = ClassicalRegister(n_qubits)\n",
    "        qc = QuantumCircuit(qr,cl)\n",
    "        #perpare domain wall states, the left half in an excited states, the right half in a down state\n",
    "        for j in range(n_qubits//2):\n",
    "            qc.x(j)\n",
    "        #add the Trotter circuit\n",
    "        qc.append(U_trotterize(t_target=dt*i,trotter_steps=i,n_qubits=n_qubits),list(range(n_qubits)))\n",
    "        for j in range(n_qubits):#Measure\n",
    "            qc.append(Measure(),[qr[j]],[cl[j]])\n",
    "        circuits.append(qc)"
   ]
  },
  {
   "cell_type": "markdown",
   "id": "IfGJeo2Suqmz",
   "metadata": {
    "id": "IfGJeo2Suqmz"
   },
   "source": [
    "Run the next section to evaluate the circuits on real device. If it takes too long, you can switch to a noisy simulator.\n",
    "For the sake of a comparison, we also run the same circuits on a noise-free device."
   ]
  },
  {
   "cell_type": "code",
   "execution_count": null,
   "id": "W3qGIK48sndw",
   "metadata": {
    "id": "W3qGIK48sndw"
   },
   "outputs": [],
   "source": [
    "circuitssim = transpile(circuits, backend,optimization_level=1) #transpile the circuits\n",
    "job = backend.run(circuitssim,shots=shots) #If the evaluation on a real device takes too long, switch from backend to backend2\n",
    "job_monitor(job, interval=2)\n",
    "job2 = backendsim.run(circuitssim,shots=shots) #execute the circuits on a noiseless simulator\n",
    "job_monitor(job2, interval=2)"
   ]
  },
  {
   "cell_type": "markdown",
   "id": "V1mIGUYYyAmk",
   "metadata": {
    "id": "V1mIGUYYyAmk"
   },
   "source": [
    "We can also measure the behavior of obsevables. Below we look at the magnetization pattern and compare it using an exact time simulation. To do so, we have to write a function which converts the measurement counts of each state to a magnetization pattern."
   ]
  },
  {
   "cell_type": "code",
   "execution_count": null,
   "id": "-P4Kp6NYz4Qk",
   "metadata": {
    "id": "-P4Kp6NYz4Qk"
   },
   "outputs": [],
   "source": [
    "def counts_to_magnetization_pattern(n,results,shots=1024):\n",
    "    result=np.zeros((len(results.results),n))\n",
    "    for i in range(len(results.results)): #compute magnetization pattern for each timestep\n",
    "      lists=results.results[i].data.counts #list with the measured results and how often each of them was detected\n",
    "      for k in lists.keys():\n",
    "        res=int(k,16) #convert binary string of the output to an integer number\n",
    "        in1=(res//(2**np.arange(n)))%2 #convert the measurment output to a magnetization pattern, i.e the measurment output 16 corresponds to the string pattern \"01111\" \n",
    "        result[i,:]+=lists[k]*in1/shots #weight each output with the number of detections and add it to the total result\n",
    "    return result"
   ]
  },
  {
   "cell_type": "markdown",
   "id": "b556aabc",
   "metadata": {},
   "source": [
    "In the following lines we extract the magnetization from our results."
   ]
  },
  {
   "cell_type": "code",
   "execution_count": null,
   "id": "baXwpBh5yofP",
   "metadata": {
    "id": "baXwpBh5yofP"
   },
   "outputs": [],
   "source": [
    "result=job.result()\n",
    "real_result=np.zeros((steps,n_qubits))\n",
    "for i in range(n_qubits//2): #the first entry encodes the initial magnetization pattern at time step t=0\n",
    "  real_result[0,i]=1\n",
    "real_result[1:,:]=counts_to_magnetization_pattern(n_qubits,result,shots=shots) #evaluate the magnetization for the result on the quantum device\n",
    "\n",
    "#Do the same for the noiseless simulations\n",
    "resultsim=job2.result()\n",
    "sim_result=np.zeros((steps,n_qubits)) \n",
    "for i in range(n_qubits//2):  #the first entry encodes the initial magnetization pattern at time step t=0\n",
    "  sim_result[0,i]=1\n",
    "sim_result[1:,:]=counts_to_magnetization_pattern(n_qubits,resultsim,shots=shots) #evaluate the magnetization for the result on the quantum device"
   ]
  },
  {
   "cell_type": "markdown",
   "id": "c4c12476",
   "metadata": {},
   "source": [
    "Finally we can compare the results on a quantum computer with a noiseless simulator. What do you see?"
   ]
  },
  {
   "cell_type": "code",
   "execution_count": null,
   "id": "xdIPU3dMzRjG",
   "metadata": {
    "id": "xdIPU3dMzRjG"
   },
   "outputs": [],
   "source": [
    "time=np.linspace(0,dt*(steps),steps)\n",
    "n=np.arange(n_qubits+1)\n",
    "tt,nn=np.meshgrid(time,n)\n",
    "fig,ax=plt.subplots(1,2)\n",
    "ax[0].pcolormesh(nn,tt,real_result.T)\n",
    "ax[1].pcolormesh(nn,tt,sim_result.T)\n",
    "ax[0].set_xlabel('#qubit')\n",
    "ax[1].set_xlabel('#qubit')\n",
    "ax[0].set_ylabel('time t')\n",
    "ax[1].set_ylabel('time t')\n",
    "ax[0].set_title(\"real device\")\n",
    "ax[1].set_title(\"simulation\")\n",
    "fig.suptitle(\"Time evolution of the magnetization\")\n",
    "plt.show()"
   ]
  },
  {
   "cell_type": "markdown",
   "id": "2jfYn2uuPnoW",
   "metadata": {
    "id": "2jfYn2uuPnoW"
   },
   "source": [
    "$\\color{red}{\\text{Exercise 3: Play around witht the parameters. Can you improve the accuracy of the simulation? }}$\n",
    "\n",
    "Hint: An easy trick is to increase the optimization_level of the transpiler. In this case the transpiler tries to merge quantum gates."
   ]
  },
  {
   "cell_type": "markdown",
   "id": "3RiT_-FNsj2u",
   "metadata": {
    "id": "3RiT_-FNsj2u"
   },
   "source": [
    "These notebooks are comprised of text and code taken from Qiskit's [documentation](https://qiskit.org/documentation/), [tutorials](https://qiskit.org/documentation/tutorials.html#quantum-circuits), [textbook](https://qiskit.org/textbook/preface.html), and previous challenges facilitated by Qiskit."
   ]
  }
 ],
 "metadata": {
  "colab": {
   "collapsed_sections": [],
   "provenance": []
  },
  "kernelspec": {
   "display_name": "quantum",
   "language": "python",
   "name": "quantum"
  },
  "language_info": {
   "codemirror_mode": {
    "name": "ipython",
    "version": 3
   },
   "file_extension": ".py",
   "mimetype": "text/x-python",
   "name": "python",
   "nbconvert_exporter": "python",
   "pygments_lexer": "ipython3",
   "version": "3.9.5"
  }
 },
 "nbformat": 4,
 "nbformat_minor": 5
}
