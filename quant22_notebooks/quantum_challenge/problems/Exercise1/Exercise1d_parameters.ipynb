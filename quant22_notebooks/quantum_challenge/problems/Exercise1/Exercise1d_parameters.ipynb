{
 "cells": [
  {
   "cell_type": "code",
   "execution_count": null,
   "metadata": {
    "id": "5_GoQANSZbnK"
   },
   "outputs": [],
   "source": [
    "from qiskit import *"
   ]
  },
  {
   "cell_type": "markdown",
   "metadata": {
    "id": "qFodYMkqNqsj"
   },
   "source": [
    "# Advanced circuits (optional)"
   ]
  },
  {
   "cell_type": "markdown",
   "metadata": {
    "id": "Q63agaeAT2hI"
   },
   "source": [
    "## Parameterized gates\n",
    "\n",
    "Do you remember the rotation gates `rx`, `ry`, `rz` introduced in the first notebook? When creating one of these gates, you also have to specify the angle of rotation. The rotation gates are therefore examples of __parametrized__ gates. Other examples are the `u`, `p`, and `cu` gates.\n",
    "\n",
    "Current quantum algorithms that can be used on [NISQ](https://en.wikipedia.org/wiki/Noisy_intermediate-scale_quantum_era) devices are called variational quantum algorithms ([VQE](https://en.wikipedia.org/wiki/Variational_quantum_eigensolver), QAOA, quantum machine learning, etc.). These algorithms work by defining a parameterized circuit ansatz for a given problem and then iteratively optimizing the parameters in the circuit to reach the solution. Therefore, it is quite important to know how to handle parameters in circuit."
   ]
  },
  {
   "cell_type": "code",
   "execution_count": null,
   "metadata": {
    "id": "1xhFHVugtVrl"
   },
   "outputs": [],
   "source": [
    "qc = QuantumCircuit(2)\n",
    "qc.rz(1.5,0) # rotation angle\n",
    "qc.p(0.1,0) # quantum phase\n",
    "qc.cu(1.2,1.3,1.4,1.5, 0,1) # controlled-unitary\n",
    "qc.draw('mpl')"
   ]
  },
  {
   "cell_type": "markdown",
   "metadata": {
    "id": "uoaAcWbLWpxt"
   },
   "source": [
    "Instead of binding the parameter values to the circuit on construction you can also leave the parameters as variables in the circuit."
   ]
  },
  {
   "cell_type": "code",
   "execution_count": null,
   "metadata": {
    "id": "j2ADlcf8U6EX"
   },
   "outputs": [],
   "source": [
    "from qiskit.circuit import Parameter\n",
    "\n",
    "theta = Parameter('θ') # define a single variable theta\n",
    "\n",
    "qc = QuantumCircuit(2,1)\n",
    "qc.h(0)\n",
    "qc.cx(0,1)\n",
    "qc.rz(theta, range(2)) # assign rotation angle to parameter variable theta\n",
    "qc.cx(0,1)\n",
    "qc.h(0)\n",
    "qc.measure(0, 0)\n",
    "\n",
    "print(qc.parameters) # get circuit parameters\n",
    "\n",
    "qc.draw('mpl')"
   ]
  },
  {
   "cell_type": "markdown",
   "metadata": {
    "id": "_DHVu9X3XG9K"
   },
   "source": [
    "Before we are able to run a circuit though, we need to bind/assign the circuit parameters to some concrete values.\n",
    "\n",
    "The `bind_parameters` method accepts a dictionary mapping Parameters to values, and returns a new circuit with each parameter replaced by its corresponding value."
   ]
  },
  {
   "cell_type": "code",
   "execution_count": null,
   "metadata": {
    "id": "LyIr69cGWLNN"
   },
   "outputs": [],
   "source": [
    "import numpy as np\n",
    "\n",
    "theta_range = np.linspace(0, 2 * np.pi, 128)\n",
    "\n",
    "circuits = []\n",
    "for theta_val in theta_range:\n",
    "  bound_qc = qc.bind_parameters({theta: theta_val}) # assign values to circuit parameters\n",
    "  circuits.append(bound_qc) # list of circuits each with different assigned parameter values\n",
    "\n",
    "circuits[99].draw('mpl')"
   ]
  },
  {
   "cell_type": "markdown",
   "metadata": {
    "id": "8qW1sUMLZGEW"
   },
   "source": [
    "Let's run each circuit on the QASM simulator backend and plot the number of counts as a function of the rotation angle $\\theta$."
   ]
  },
  {
   "cell_type": "code",
   "execution_count": null,
   "metadata": {
    "id": "oXF1M-OVYV1r"
   },
   "outputs": [],
   "source": [
    "backend = BasicAer.get_backend('qasm_simulator')\n",
    "job = backend.run(transpile(circuits, backend))\n",
    "counts = job.result().get_counts()"
   ]
  },
  {
   "cell_type": "code",
   "execution_count": null,
   "metadata": {
    "id": "lV2L4eE1ZNW_"
   },
   "outputs": [],
   "source": [
    "import matplotlib.pyplot as plt\n",
    "fig = plt.figure(figsize=(8,6))\n",
    "ax = fig.add_subplot(111)\n",
    "\n",
    "ax.plot(theta_range, list(map(lambda c: c.get('0', 0), counts)), '.-', label='0')\n",
    "ax.plot(theta_range, list(map(lambda c: c.get('1', 0), counts)), '.-', label='1')\n",
    "\n",
    "ax.set_xticks([i * np.pi / 2 for i in range(5)])\n",
    "ax.set_xticklabels(['0', r'$\\frac{\\pi}{2}$', r'$\\pi$', r'$\\frac{3\\pi}{2}$', r'$2\\pi$'], fontsize=14)\n",
    "ax.set_xlabel('θ', fontsize=14)\n",
    "ax.set_ylabel('Counts', fontsize=14)\n",
    "ax.legend(fontsize=14)"
   ]
  },
  {
   "cell_type": "markdown",
   "metadata": {
    "id": "WqC9ZJVlaCeZ"
   },
   "source": [
    "$\\color{red}{\\text{Optional Exercise 1: How does the period of oscillation change if we use the 3-qubit GHZ circuit instead?}}$\n",
    "\n",
    "What about the 4,5,... qubit analog? Try it out if you are unsure."
   ]
  },
  {
   "cell_type": "code",
   "execution_count": null,
   "metadata": {
    "id": "f-tH38cqU0tn"
   },
   "outputs": [],
   "source": [
    "#Your code goes here\n",
    "\n",
    "qc = QuantumCircuit(3,1)"
   ]
  },
  {
   "cell_type": "markdown",
   "metadata": {
    "id": "-V5lJrhVaj0r"
   },
   "source": [
    "### Different parameters\n",
    "\n",
    "You can of course also have multiple different parameters in one circuit either by specifying different `Parameter` (`Parameter['1']`, `Parameter['2']`, etc.) or by using a `ParameterVector`."
   ]
  },
  {
   "cell_type": "code",
   "execution_count": null,
   "metadata": {
    "id": "4uq12t7TZQjs"
   },
   "outputs": [],
   "source": [
    "from qiskit.circuit import ParameterVector\n",
    "\n",
    "p = ParameterVector('p', 6)  # define 6 different parameters\n",
    "\n",
    "n = 3\n",
    "qc = QuantumCircuit(n)\n",
    "\n",
    "for i in range(n):\n",
    "  qc.ry(p[i], i)  # apply RY(p[i]) on qubit i\n",
    "\n",
    "qc.cx(0,1)\n",
    "qc.cx(1,2)\n",
    "\n",
    "qc.draw('mpl')"
   ]
  },
  {
   "cell_type": "markdown",
   "metadata": {
    "id": "J6YayacRcv43"
   },
   "source": [
    "$\\color{red}{\\text{Exercise 2: Add another layer of Ry rotations to the circuit}}$\n",
    "\n",
    "I.e. apply an additional Ry gate to each qubit with parameters `p[3], p[4], p[5]` respectively."
   ]
  },
  {
   "cell_type": "code",
   "execution_count": null,
   "metadata": {
    "id": "ksQZd9fmdNGH"
   },
   "outputs": [],
   "source": [
    "#Your code goes here\n",
    "\n",
    "qc.draw('mpl')"
   ]
  },
  {
   "cell_type": "markdown",
   "metadata": {
    "id": "s0t9N4xxdpqI"
   },
   "source": [
    "$\\color{red}{\\text{Exercise 3: Bind parameters to the circuit}}$"
   ]
  },
  {
   "cell_type": "code",
   "execution_count": null,
   "metadata": {
    "id": "iAdEfsnXb9W4"
   },
   "outputs": [],
   "source": [
    "parameter_values = [0.1, 1.1, 2.1, 3.1, 4.1, 5.1]\n",
    "\n",
    "bound_qc = ... #Your code goes here\n",
    "\n",
    "bound_qc.draw('mpl')"
   ]
  },
  {
   "cell_type": "markdown",
   "metadata": {
    "id": "kbLiyOqyd7Z5"
   },
   "source": [
    "*Hint for exercise 3:* $\\color{white}{\\text{You can just pass the array as it is.}}$"
   ]
  },
  {
   "cell_type": "markdown",
   "metadata": {
    "id": "PUyYoPQbfL0J"
   },
   "source": [
    "## Predefined composite instructions\n",
    "\n",
    "Qiskit has some predefined circuits that are useful for many applications (e.g. quantum chemistry, quantum simulation, quantum machine learning etc.)\n",
    "\n",
    "For example, the [RealAmplitudes](https://qiskit.org/documentation/stubs/qiskit.circuit.library.RealAmplitudes.html) circuit is a heuristic trial wave function used as Ansatz in chemistry applications or classification circuits in machine learning. The circuit consists of alternating layers of rotations and entangling gates. The entanglement pattern can be user-defined or selected from a predefined set. It is called `RealAmplitudes` since the prepared quantum states will only have real amplitudes, the complex part is always 0."
   ]
  },
  {
   "cell_type": "code",
   "execution_count": null,
   "metadata": {
    "id": "5K99SgHMce6W"
   },
   "outputs": [],
   "source": [
    "from qiskit.circuit.library import *\n",
    "\n",
    "qc1 = RealAmplitudes(3, reps=2) # 3 quibts, 2 layers\n",
    "qc1.draw('mpl')"
   ]
  },
  {
   "cell_type": "code",
   "execution_count": null,
   "metadata": {
    "id": "KROyacQWiRE0"
   },
   "outputs": [],
   "source": [
    "qc1 = qc1.decompose() # decompose composite instruction to see individual gates\n",
    "qc1.draw('mpl')"
   ]
  },
  {
   "cell_type": "code",
   "execution_count": null,
   "metadata": {
    "id": "f4wI0lTGiuKS"
   },
   "outputs": [],
   "source": [
    "qc2 = RealAmplitudes(3, reps=1, entanglement='circular')\n",
    "qc2 = qc2.decompose()\n",
    "qc2.draw('mpl')"
   ]
  },
  {
   "cell_type": "markdown",
   "metadata": {
    "id": "SxPX7LaVjbpN"
   },
   "source": [
    "$\\color{red}{\\text{Exercise 4: Assign some parameters to one of the circuits above}}$"
   ]
  },
  {
   "cell_type": "code",
   "execution_count": null,
   "metadata": {
    "id": "Hsc5GtTJWIhN"
   },
   "outputs": [],
   "source": [
    "#Your code goes here"
   ]
  },
  {
   "cell_type": "markdown",
   "metadata": {
    "id": "QdT7y8Fpz0Xb"
   },
   "source": [
    "These notebooks are comprised of text and code taken from Qiskit's [documentation](https://qiskit.org/documentation/), [tutorials](https://qiskit.org/documentation/tutorials.html#quantum-circuits), [textbook](https://qiskit.org/textbook/preface.html), and previous challenges facilitated by Qiskit."
   ]
  },
  {
   "cell_type": "code",
   "execution_count": null,
   "metadata": {
    "id": "t9CBYDM3z1Y9"
   },
   "outputs": [],
   "source": []
  }
 ],
 "metadata": {
  "anaconda-cloud": {},
  "celltoolbar": "Tags",
  "colab": {
   "collapsed_sections": [],
   "provenance": [
    {
     "file_id": "1XDDCxAr9wbpkbAJ_gUVWE8prwNRKoYVH",
     "timestamp": 1661251156421
    },
    {
     "file_id": "1XeSfSdSRqldGDOCb66o84JHGrlDsG7pl",
     "timestamp": 1661188155279
    },
    {
     "file_id": "1W5fS4-Jdi7Sc7htP-lncjO5DH1tLiBlb",
     "timestamp": 1661182361805
    },
    {
     "file_id": "1a7n5kxy9qAVPK39wcGzQix0qy5KKWCQ7",
     "timestamp": 1661161743454
    }
   ]
  },
  "kernelspec": {
   "display_name": "Python 3 (ipykernel)",
   "language": "python",
   "name": "python3"
  },
  "language_info": {
   "codemirror_mode": {
    "name": "ipython",
    "version": 3
   },
   "file_extension": ".py",
   "mimetype": "text/x-python",
   "name": "python",
   "nbconvert_exporter": "python",
   "pygments_lexer": "ipython3",
   "version": "3.8.3"
  },
  "varInspector": {
   "cols": {
    "lenName": 16,
    "lenType": 16,
    "lenVar": 40
   },
   "kernels_config": {
    "python": {
     "delete_cmd_postfix": "",
     "delete_cmd_prefix": "del ",
     "library": "var_list.py",
     "varRefreshCmd": "print(var_dic_list())"
    },
    "r": {
     "delete_cmd_postfix": ") ",
     "delete_cmd_prefix": "rm(",
     "library": "var_list.r",
     "varRefreshCmd": "cat(var_dic_list()) "
    }
   },
   "types_to_exclude": [
    "module",
    "function",
    "builtin_function_or_method",
    "instance",
    "_Feature"
   ],
   "window_display": false
  }
 },
 "nbformat": 4,
 "nbformat_minor": 1
}
