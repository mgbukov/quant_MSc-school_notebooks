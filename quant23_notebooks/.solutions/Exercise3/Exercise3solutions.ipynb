{
 "cells": [
  {
   "cell_type": "markdown",
   "metadata": {
    "id": "tltRI1rU0vlp"
   },
   "source": [
    "### Measuring $T_1$ and $T_2$ for a qubit <a id=\"importing\"></a>\n",
    "\n",
    "In the previous exercises, we always assumed that we have a \"ideal\" quantum computer, such that we can apply each gate without any error and obtain the correct result. However, this is not the case for real devices. Instead, the quantum computers are experimental platforms which suffer from unwanted coupling to the environment and \"crosstalk\", i.e the application of gates on a given qubit can have unwanted effects on neighboring qubits.\n",
    "\n",
    "It is therefore crucial to understand the origin of errors in more detail and to quantify them. In fact, the systematic investigation of errors in real devices is an active field of research, especially in industrial companies.\n",
    "\n",
    "Two of the most common quantities to characterize the quality of single qubits are $T_1$ and $T_2$. These are two characteristic timescales to specify the quality of a qubit. \n",
    "\n",
    "While $T_1$ denotes the time it takes for an excited qubit to decay into the ground state, \n",
    "$T_2$ characterizes the damping of off-diagonal elements in the density matrix, which can be interpreted as the time that a qubit persists in a coherent state. \n",
    "\n",
    "The quantum computers of IBM consist of [superconducting qubits](https://en.wikipedia.org/wiki/Superconducting_quantum_computing). The gates and measurments are applied via microwave pulses. In experiments, after a gate calibration the quality of the qubits is benchmarked by measuring $T_1$ and $T_2$. \n",
    "In the following exercise, you learn how to measure this quantities on a real quantum device. \n",
    "To do so, we assume that our gates already calibrated and can use then $X$ and $\\sqrt{X}$ gates to perform the measurments. "
   ]
  },
  {
   "cell_type": "markdown",
   "metadata": {
    "id": "y-NMYJ_DTuE7"
   },
   "source": [
    "## 1. Getting Started <a id=\"importing\"></a>\n",
    "\n",
    "We'll first get our basic dependencies set up and ready to go. Since we want to use real, noisy devices for our calibration experiments in this notebook, we need to load our IBMQ account and set the appropriate backend. We also need the numpy and matplotlib library to analyze our results."
   ]
  },
  {
   "cell_type": "code",
   "execution_count": 1,
   "metadata": {
    "id": "C-9MisffTvvo"
   },
   "outputs": [],
   "source": [
    "import warnings\n",
    "warnings.filterwarnings('ignore')"
   ]
  },
  {
   "cell_type": "code",
   "execution_count": 2,
   "metadata": {
    "id": "i_K1NS9PT1bX",
    "scrolled": true
   },
   "outputs": [],
   "source": [
    "from qiskit_ibm_provider import IBMProvider\n",
    "from qiskit_aer import AerSimulator\n",
    "# Set devices, if using a real device\n",
    "IBMProvider.save_account(\"740cf9a029345b5770ad72af52ca4d1c51eb8afe78c6d95e17ecffd2e72033a693cf8563418f2143cf5d9780f497e3100577f0a400d882f5d4314ca68ce9fc37\",overwrite=True)\n",
    "provider = IBMProvider()\n",
    "backend = provider.get_backend('ibm_perth')\n",
    "backend2= AerSimulator.from_backend(backend)"
   ]
  },
  {
   "cell_type": "code",
   "execution_count": 3,
   "metadata": {
    "id": "4pUljtoga46U"
   },
   "outputs": [],
   "source": [
    "from qiskit import pulse                  # This is where we access all of our Pulse features!\n",
    "from qiskit.circuit import Parameter      # This is Parameter Class for variable parameters.\n",
    "from qiskit.circuit import QuantumCircuit, Gate\n",
    "from qiskit.tools.monitor import job_monitor\n",
    "import matplotlib.pyplot as plt\n",
    "import numpy as np"
   ]
  },
  {
   "cell_type": "markdown",
   "metadata": {
    "id": "ZpJHCxU_Rncb"
   },
   "source": [
    "In order to measure the timescales, we have to insert some \"waiting times\" into the circuit. This we can done by adding an instruction qc_t1.delay(delay, 0), where delay denotes the time of the circuit to do nothing. At the end our circuit will be translated in a pulse schedule as shown below:\n",
    "\n",
    "![balanced1.png](Pulseschedule.png)\n",
    "\n",
    "The schedule shows all ingredients we need for measuring the $T_1$ time.\n",
    "The first pulse corresponds to applying a $X$-gate of the qubit. Then we insert manually a delay. At the end, another pulse is applied to read-out the qubit.\n",
    "Qiskit has also an extension [qiskit-pulse](https://qiskit.org/textbook/ch-quantum-hardware/calibrating-qubits-pulse.html) which allows to manually calibrate qubits and to create custom gates on a pulse level.\n",
    "\n",
    "Do not worry, we will not use qiskit pulse in this exercise. Instead, we can use predefined gates to build our experiments.\n",
    "\n",
    "However, the delay time has to be consistent with internal restrictions of the machine, i.e has to be an integral multiple of the minimum pulse length of the corresponding quantum computer. The first few paragraphs extract the necessary parameters to build the circuits for $T_1$ and $T_2$ respecting these constraints."
   ]
  },
  {
   "cell_type": "markdown",
   "metadata": {
    "id": "zKTSGpOYUHEw"
   },
   "source": [
    "To begin with, we can find the sampling time for the backend pulses within the backend configuration. This will be a very useful value to us as we build and execute our calibration routines."
   ]
  },
  {
   "cell_type": "code",
   "execution_count": 4,
   "metadata": {
    "colab": {
     "base_uri": "https://localhost:8080/"
    },
    "executionInfo": {
     "elapsed": 414,
     "status": "ok",
     "timestamp": 1659181527688,
     "user": {
      "displayName": "Dominik Hahn",
      "userId": "09159259743712920381"
     },
     "user_tz": -120
    },
    "id": "QN0bqWR9UHw_",
    "outputId": "78770dad-09ff-4980-e40e-0e51d704b66b"
   },
   "outputs": [
    {
     "name": "stdout",
     "output_type": "stream",
     "text": [
      "Sampling time: 0.2222222222222222 ns\n"
     ]
    }
   ],
   "source": [
    "backend_config = backend.configuration()\n",
    "dt = backend_config.dt\n",
    "print(f\"Sampling time: {dt*1e9} ns\")    # The configuration returns dt in seconds, so multiply by\n",
    "                                        # 1e9 to get nanoseconds"
   ]
  },
  {
   "cell_type": "code",
   "execution_count": 5,
   "metadata": {
    "id": "SfUEtlGFaY2I"
   },
   "outputs": [],
   "source": [
    "# unit conversion factors -> all backend properties returned in SI (Hz, sec, etc.)\n",
    "us = 1.0e-6 # Microseconds\n",
    "ns = 1.0e-9 # Nanoseconds\n",
    "# scale factor to remove factors of 10 from the data\n",
    "scale_factor = 1e-7"
   ]
  },
  {
   "cell_type": "markdown",
   "metadata": {
    "id": "tyVbC5FLUKOZ"
   },
   "source": [
    "We can also find timing constraints in the backend configuration.\n",
    "\n",
    "The position of the measurement pulse is constrained to be an integral multiple of `acquire_alignment`, and the position of the gate is constrained to be an integral multiple of` pulse_alignment`.\n",
    "\n",
    "We can use `granurality` to determine the length of the pulse."
   ]
  },
  {
   "cell_type": "code",
   "execution_count": 6,
   "metadata": {
    "colab": {
     "base_uri": "https://localhost:8080/"
    },
    "executionInfo": {
     "elapsed": 419,
     "status": "ok",
     "timestamp": 1659181530289,
     "user": {
      "displayName": "Dominik Hahn",
      "userId": "09159259743712920381"
     },
     "user_tz": -120
    },
    "id": "Y8WMD4gAUWs0",
    "outputId": "5b0a2cde-041a-4ee2-e40a-78b08f152701"
   },
   "outputs": [
    {
     "name": "stdout",
     "output_type": "stream",
     "text": [
      "Lowest common multiple of acquire_alignment and pulse_alignment: 16\n"
     ]
    }
   ],
   "source": [
    "backend.configuration().timing_constraints\n",
    "\n",
    "acquire_alignment = backend.configuration().timing_constraints['acquire_alignment']\n",
    "granularity       = backend.configuration().timing_constraints['granularity']\n",
    "pulse_alignment   = backend.configuration().timing_constraints['pulse_alignment']\n",
    "lcm               = np.lcm(acquire_alignment, pulse_alignment)\n",
    "\n",
    "print(f\"Lowest common multiple of acquire_alignment and pulse_alignment: {lcm}\")"
   ]
  },
  {
   "cell_type": "markdown",
   "metadata": {
    "id": "lNssoIsMUel2"
   },
   "source": [
    "For the following experiments, we need a delay time between pulses. However, due to backend constraints this time cannot be arbitrary but has to be a multiple of 16 of the minimum time interval of the backend $dt$. The following functions assure that this is the case for our protocol."
   ]
  },
  {
   "cell_type": "code",
   "execution_count": 7,
   "metadata": {
    "id": "SpBZ_gHrU5D5"
   },
   "outputs": [],
   "source": [
    "def get_closest_multiple_of(vaule, base_number):\n",
    "    return int(vaule + base_number/2) - (int(vaule + base_number/2) % base_number)"
   ]
  },
  {
   "cell_type": "markdown",
   "metadata": {
    "id": "FB5YfMpEU8We"
   },
   "source": [
    "We prepare a function to determine the length of the pulse."
   ]
  },
  {
   "cell_type": "code",
   "execution_count": 8,
   "metadata": {
    "id": "mF7z2uFnU88h"
   },
   "outputs": [],
   "source": [
    "# samples need to be multiples of 16\n",
    "def get_closest_multiple_of_16(num):\n",
    "    return get_closest_multiple_of(num, granularity)"
   ]
  },
  {
   "cell_type": "markdown",
   "metadata": {
    "id": "D5KIID6MVBlf"
   },
   "source": [
    "We prepare a function to adjust the length of the delay."
   ]
  },
  {
   "cell_type": "code",
   "execution_count": 9,
   "metadata": {
    "id": "N1whRxAwVEDM"
   },
   "outputs": [],
   "source": [
    "# Convert seconds to dt\n",
    "def get_dt_from(sec):\n",
    "    return get_closest_multiple_of(sec/dt, lcm)"
   ]
  },
  {
   "cell_type": "markdown",
   "metadata": {},
   "source": [
    "Now we have all the ingredients to build our experiments!"
   ]
  },
  {
   "cell_type": "markdown",
   "metadata": {
    "id": "gN3tC6MWJUnG"
   },
   "source": [
    "---\n",
    "---\n",
    "### 2. Measuring $T_1$ using Inversion Recovery <a id=\"T1\"></a>\n",
    "The $T_1$ time of a qubit is the time it takes for a qubit to decay from the excited state to the ground state. It is important because it limits the duration of meaningful programs we can run on the quantum computer.\n",
    "\n",
    "Measuring $T_1$ is straightforward. We apply a single $X$-gate to excite the qubit, then apply a measure pulse. However, this time we do not apply the measurement immediately. We insert a delay, and vary that delay between experiments. When we plot the measured signal against delay time, we will see a signal that decays exponentially as the qubit relaxes in energy. The decay time is the $T_1$, or relaxation time, of the qubit!"
   ]
  },
  {
   "cell_type": "code",
   "execution_count": 10,
   "metadata": {
    "id": "3d7TmTI8NPOv"
   },
   "outputs": [],
   "source": [
    "# T1 experiment parameters\n",
    "time_max_sec    = 450 * us\n",
    "time_step_sec   = 6.5 * us\n",
    "delay_times_sec = np.arange(1 * us, time_max_sec, time_step_sec)"
   ]
  },
  {
   "cell_type": "markdown",
   "metadata": {
    "id": "38PC1P2D7fBb"
   },
   "source": [
    "We can now setup the experiments to measure $T_1$."
   ]
  },
  {
   "cell_type": "code",
   "execution_count": 11,
   "metadata": {
    "id": "kbeS7SXaNn7X"
   },
   "outputs": [],
   "source": [
    "delay = Parameter('delay')\n",
    "qc_t1 = QuantumCircuit(1, 1)\n",
    "\n",
    "qc_t1.x(0)\n",
    "qc_t1.delay(delay, 0)\n",
    "qc_t1.measure(0, 0)\n",
    "\n",
    "\n",
    "exp_t1_circs = [qc_t1.assign_parameters({delay: get_dt_from(d)}, inplace=False) for d in delay_times_sec]"
   ]
  },
  {
   "cell_type": "markdown",
   "metadata": {
    "id": "uPDYKUZCaSe_"
   },
   "source": [
    "Let's have a look at our circuit"
   ]
  },
  {
   "cell_type": "code",
   "execution_count": 12,
   "metadata": {
    "id": "cpR3T4BOaSe_",
    "outputId": "6a6e9b8a-46eb-4254-86d8-2442e837a15d"
   },
   "outputs": [
    {
     "data": {
      "text/html": [
       "<pre style=\"word-wrap: normal;white-space: pre;background: #fff0;line-height: 1.1;font-family: &quot;Courier New&quot;,Courier,monospace\">     ┌───┐┌──────────────────┐┌─┐\n",
       "  q: ┤ X ├┤ Delay(delay[dt]) ├┤M├\n",
       "     └───┘└──────────────────┘└╥┘\n",
       "c: 1/══════════════════════════╩═\n",
       "                               0 </pre>"
      ],
      "text/plain": [
       "     ┌───┐┌──────────────────┐┌─┐\n",
       "  q: ┤ X ├┤ Delay(delay[dt]) ├┤M├\n",
       "     └───┘└──────────────────┘└╥┘\n",
       "c: 1/══════════════════════════╩═\n",
       "                               0 "
      ]
     },
     "execution_count": 12,
     "metadata": {},
     "output_type": "execute_result"
    }
   ],
   "source": [
    "qc_t1.draw()"
   ]
  },
  {
   "cell_type": "markdown",
   "metadata": {
    "id": "FEVw3jCO70Uu"
   },
   "source": [
    "The next task is to execute the results. \n",
    "\n",
    "If it takes to long on a real quantum device, you can replace backend by backend2 (for a noisy simulation on a classical computer)."
   ]
  },
  {
   "cell_type": "code",
   "execution_count": 13,
   "metadata": {
    "colab": {
     "base_uri": "https://localhost:8080/"
    },
    "executionInfo": {
     "elapsed": 5444,
     "status": "ok",
     "timestamp": 1659182303643,
     "user": {
      "displayName": "Dominik Hahn",
      "userId": "09159259743712920381"
     },
     "user_tz": -120
    },
    "id": "G44ZjkRuP27a",
    "outputId": "671c7b13-0f24-4806-bf8f-108075fd7a3f"
   },
   "outputs": [
    {
     "name": "stdout",
     "output_type": "stream",
     "text": [
      "Job Status: job has successfully run\n"
     ]
    }
   ],
   "source": [
    "# Execution settings\n",
    "num_shots = 256\n",
    "#either backend2 (classical simulation) or backend (run on quantum computer)\n",
    "\n",
    "# Quantum Device\n",
    "\"\"\"\n",
    "job = backend.run(exp_t1_circs, \n",
    "                  meas_level=1, \n",
    "                  meas_return='single', \n",
    "                  shots=num_shots,\n",
    "                  memory=False)\n",
    "\"\"\"\n",
    "\n",
    "# Classical Device\n",
    "job = backend2.run(exp_t1_circs, \n",
    "                  meas_level=1, \n",
    "                  meas_return='single', \n",
    "                  shots=num_shots,\n",
    "                  memory=False)\n",
    "\n",
    "\n",
    "job_monitor(job)"
   ]
  },
  {
   "cell_type": "markdown",
   "metadata": {
    "id": "N77vaZlN8nMw"
   },
   "source": [
    "We can now extraxt the fraction of states still being in the excited state after some delay time."
   ]
  },
  {
   "cell_type": "code",
   "execution_count": 15,
   "metadata": {
    "id": "qR6KRhgcQK6U"
   },
   "outputs": [],
   "source": [
    "t1_results = job.result(timeout=120)\n",
    "counts     = t1_results.get_counts()\n",
    "t1_values  = []\n",
    "\n",
    "for i in range(len(delay_times_sec)):\n",
    "    excited=counts[i]['1']\n",
    "    \n",
    "    #iq_data = t1_results.get_memory(i)[:,qubit] * scale_factor\n",
    "    t1_values.append(excited/ num_shots)\n",
    "\n"
   ]
  },
  {
   "cell_type": "code",
   "execution_count": 16,
   "metadata": {
    "colab": {
     "base_uri": "https://localhost:8080/",
     "height": 308
    },
    "executionInfo": {
     "elapsed": 21,
     "status": "ok",
     "timestamp": 1659182303645,
     "user": {
      "displayName": "Dominik Hahn",
      "userId": "09159259743712920381"
     },
     "user_tz": -120
    },
    "id": "KM9x8Po_8dO3",
    "outputId": "79656f70-2ccf-46c4-fc2e-0ce24df5a405"
   },
   "outputs": [
    {
     "data": {
      "image/png": "[encoded data removed]",
      "text/plain": [
       "<Figure size 640x480 with 1 Axes>"
      ]
     },
     "metadata": {},
     "output_type": "display_data"
    }
   ],
   "source": [
    "plt.scatter(delay_times_sec/us, t1_values, color='black') \n",
    "plt.title(\"$T_1$ Experiment\", fontsize=15)\n",
    "plt.xlabel('Delay before measurement [$\\mu$s]', fontsize=15)\n",
    "plt.ylabel('Signal [a.u.]', fontsize=15)\n",
    "\n",
    "#plt.yscale(\"log\")\n",
    "\n",
    "plt.show()"
   ]
  },
  {
   "cell_type": "markdown",
   "metadata": {
    "id": "qMSXHmI_QX5G"
   },
   "source": [
    "We can then fit the data to a decaying exponential, giving us T1!"
   ]
  },
  {
   "cell_type": "code",
   "execution_count": 17,
   "metadata": {
    "id": "-Ni4DVCllIgC"
   },
   "outputs": [],
   "source": [
    "from scipy.optimize import curve_fit\n",
    "\n",
    "def fit_function(x_values, y_values, function, init_params):\n",
    "    fitparams, conv = curve_fit(function, x_values, y_values, init_params)\n",
    "    y_fit = function(x_values, *fitparams)\n",
    "    \n",
    "    return fitparams, y_fit"
   ]
  },
  {
   "cell_type": "markdown",
   "metadata": {
    "id": "4ZP-0h6j9ziR"
   },
   "source": [
    "---\n",
    "$\\color{red}{\\text{Exercise: obtain T_1 from an exponential fit!}}$"
   ]
  },
  {
   "cell_type": "markdown",
   "metadata": {
    "id": "duUayBrSaSfE"
   },
   "source": [
    "$\\color{green}{\\text{Solution}}$"
   ]
  },
  {
   "cell_type": "code",
   "execution_count": 18,
   "metadata": {
    "id": "W3AiU5xbQZKZ",
    "outputId": "a862f66b-2e52-4dbe-e929-c0e5a2d0ab16"
   },
   "outputs": [
    {
     "name": "stdout",
     "output_type": "stream",
     "text": [
      "[193.23112032   0.97180973]\n"
     ]
    }
   ],
   "source": [
    "##Exercise: Fit the outcome to obtain T1!\n",
    "\n",
    "exp_fctn      = lambda t, τ, y0: y0*np.exp(-t/τ)\n",
    "initial_guess = [100, 0.9]\n",
    "\n",
    "fitparams, y_fit = fit_function(delay_times_sec/us, t1_values, exp_fctn, initial_guess)\n",
    "\n",
    "print(fitparams)\n",
    "T1 = fitparams[0]"
   ]
  },
  {
   "cell_type": "code",
   "execution_count": 19,
   "metadata": {
    "colab": {
     "base_uri": "https://localhost:8080/",
     "height": 308
    },
    "executionInfo": {
     "elapsed": 18,
     "status": "ok",
     "timestamp": 1659182303647,
     "user": {
      "displayName": "Dominik Hahn",
      "userId": "09159259743712920381"
     },
     "user_tz": -120
    },
    "id": "UfO3Cys_3Lun",
    "outputId": "5466f5f5-cf92-4cca-c057-19044fcf4f8d"
   },
   "outputs": [
    {
     "data": {
      "image/png": "[encoded data removed]",
      "text/plain": [
       "<Figure size 640x480 with 1 Axes>"
      ]
     },
     "metadata": {},
     "output_type": "display_data"
    }
   ],
   "source": [
    "plt.scatter(delay_times_sec/us, t1_values, color='black')\n",
    "plt.plot(delay_times_sec/us, y_fit, color='red', label=f\"T1 = {T1:.2f} us\")\n",
    "\n",
    "plt.xlim(0, np.max(delay_times_sec/us))\n",
    "\n",
    "plt.title(\"$T_1$ Experiment\", fontsize=15)\n",
    "plt.xlabel('Delay before measurement [$\\mu$s]', fontsize=15)\n",
    "plt.ylabel('Signal [a.u.]', fontsize=15)\n",
    "plt.legend()\n",
    "plt.show()"
   ]
  },
  {
   "cell_type": "markdown",
   "metadata": {
    "id": "3NInTevv9GoI"
   },
   "source": [
    "---\n",
    "$\\color{red}{\\text{Question: Why is the fraction of states in the excited state not 1 at }T=0\\,?}$"
   ]
  },
  {
   "cell_type": "markdown",
   "metadata": {
    "id": "FNQPTK9EaSfF"
   },
   "source": [
    "$\\color{green}{\\text{Solution}}$"
   ]
  },
  {
   "cell_type": "markdown",
   "metadata": {
    "id": "qzFmsLlCaSfG"
   },
   "source": [
    "Possible additional errors:\n",
    "- finite gate infidelity\n",
    "- finite measurement error\n",
    "- finite state preparation infidelity"
   ]
  },
  {
   "cell_type": "markdown",
   "metadata": {
    "id": "xHgxgqXWR5ck"
   },
   "source": [
    "----\n",
    "---\n",
    "### 3. Measuring $T_2$ using Hahn Echoes <a id=\"hahn\"></a>\n",
    "\n",
    "Next, we measure the coherence time, $T_2$, of our qubit, which can be interepreted as the time a qubit survives in a coherent superposition.\n",
    "\n",
    "To measure the coherence time, $T_2$, we initialize our qubit in an equal superposition of ground and excited state by applying a $\\sqrt{X}$-gate: $\\sqrt{X} |0\\rangle =  (|0\\rangle  + i |1\\rangle )/\\sqrt{2}$.\n",
    "\n",
    "In order to distinguish the spin relaxation from (unitary) decoherence we make use of a pulse sequence known as a [Spin echo/ Hahn echo](https://en.wikipedia.org/wiki/Spin_echo), a term that comes from the NMR community. \n",
    "To this end, we apply a $X$ gate at a time $\\tau$ after the $\\sqrt{X}$-gate which reverses the (unitary) accumulation of phase, and results in an echo at time $2\\tau$ which is reduced in amplitude only due to the irreversible spin relaxation.\n",
    "\n",
    "Finally, we apply the last $\\pi/2$ pulse to do our measurement. \n",
    "\n",
    "The circuit for the Hahn Echo can be represented as\n",
    "![balanced1.png](hahn_echo_circuit.png)\n",
    "\n",
    "The decay time for the Hahn echo experiment gives us the coherence time, $T_2$."
   ]
  },
  {
   "cell_type": "code",
   "execution_count": 20,
   "metadata": {
    "id": "JiR90aVwSDLq"
   },
   "outputs": [],
   "source": [
    "# T2 experiment parameters\n",
    "tau_max_sec = 200 * us\n",
    "tau_step_sec = 4 * us\n",
    "delay_times_sec = np.arange(2 * us, tau_max_sec, tau_step_sec)"
   ]
  },
  {
   "cell_type": "markdown",
   "metadata": {
    "id": "OqrX7Lt6_wRl"
   },
   "source": [
    "---\n",
    "$\\color{red}{\\text{Exercise: prepare a parametric circuit to determine } T_2 \\text{using the Hahn echo. You can orientate on the circuits used to determine } T_1}$"
   ]
  },
  {
   "cell_type": "markdown",
   "metadata": {
    "id": "i6FGTIWzaSfG"
   },
   "source": [
    "$\\color{green}{\\text{Solution}}$"
   ]
  },
  {
   "cell_type": "code",
   "execution_count": 21,
   "metadata": {
    "id": "yiXfig-uSE_Z"
   },
   "outputs": [],
   "source": [
    "delay = Parameter('delay') #use parametrized circuits. We fix the parameter of the circuit later.\n",
    "qc_t2 = QuantumCircuit(1, 1)\n",
    "\n",
    "\"Implement circuit here\"\n",
    "qc_t2.sx(0)\n",
    "qc_t2.delay(delay, 0)\n",
    "qc_t2.x(0)\n",
    "qc_t2.delay(delay, 0)\n",
    "qc_t2.sx(0)\n",
    "qc_t2.measure(0, 0)\n",
    "\n",
    "exp_t2_circs = [qc_t2.assign_parameters({delay: get_dt_from(d)}, inplace=False) for d in delay_times_sec]"
   ]
  },
  {
   "cell_type": "code",
   "execution_count": 22,
   "metadata": {
    "id": "DFiqrzebaSfH",
    "outputId": "1c1749ee-62f2-4bed-8a1a-55fd18989303"
   },
   "outputs": [
    {
     "data": {
      "text/html": [
       "<pre style=\"word-wrap: normal;white-space: pre;background: #fff0;line-height: 1.1;font-family: &quot;Courier New&quot;,Courier,monospace\">     ┌────┐┌──────────────────┐┌───┐┌──────────────────┐┌────┐┌─┐\n",
       "  q: ┤ √X ├┤ Delay(delay[dt]) ├┤ X ├┤ Delay(delay[dt]) ├┤ √X ├┤M├\n",
       "     └────┘└──────────────────┘└───┘└──────────────────┘└────┘└╥┘\n",
       "c: 1/══════════════════════════════════════════════════════════╩═\n",
       "                                                               0 </pre>"
      ],
      "text/plain": [
       "     ┌────┐┌──────────────────┐┌───┐┌──────────────────┐┌────┐┌─┐\n",
       "  q: ┤ √X ├┤ Delay(delay[dt]) ├┤ X ├┤ Delay(delay[dt]) ├┤ √X ├┤M├\n",
       "     └────┘└──────────────────┘└───┘└──────────────────┘└────┘└╥┘\n",
       "c: 1/══════════════════════════════════════════════════════════╩═\n",
       "                                                               0 "
      ]
     },
     "execution_count": 22,
     "metadata": {},
     "output_type": "execute_result"
    }
   ],
   "source": [
    "# Check Circuit\n",
    "qc_t2.draw(filename='hahn_echo_circuit.png')#, output='mpl')"
   ]
  },
  {
   "cell_type": "markdown",
   "metadata": {
    "id": "aT3be1SgaSfH"
   },
   "source": [
    "The next task is to execute the results. \n",
    "\n",
    "If it takes to long on a real quantum device, you can replace backend by backend2 (for a noisy simulation on a classical computer)."
   ]
  },
  {
   "cell_type": "code",
   "execution_count": 23,
   "metadata": {
    "colab": {
     "base_uri": "https://localhost:8080/"
    },
    "executionInfo": {
     "elapsed": 5546,
     "status": "ok",
     "timestamp": 1659182937181,
     "user": {
      "displayName": "Dominik Hahn",
      "userId": "09159259743712920381"
     },
     "user_tz": -120
    },
    "id": "9AW0C1ZkSNdk",
    "outputId": "7462296a-6410-4120-ac2c-3c4078fdf1ea"
   },
   "outputs": [
    {
     "name": "stdout",
     "output_type": "stream",
     "text": [
      "Job Status: job has successfully run\n"
     ]
    }
   ],
   "source": [
    "# Execution settings\n",
    "num_shots_per_point = 512\n",
    "#If it takes to long replace backend by backend2\n",
    "\"\"\"\n",
    "# Quantum Device\n",
    "job = backend.run(exp_t2_circs,\n",
    "                  meas_level=1,\n",
    "                  meas_return='single',\n",
    "                  shots=num_shots_per_point,\n",
    "                  memory=False)\n",
    "\"\"\"\n",
    "\n",
    "# Classical Simulation\n",
    "job = backend2.run(exp_t2_circs,\n",
    "                  meas_level=1,\n",
    "                  meas_return='single',\n",
    "                  shots=num_shots_per_point,\n",
    "                  memory=False)\n",
    "\n",
    "job_monitor(job)"
   ]
  },
  {
   "cell_type": "markdown",
   "metadata": {
    "id": "cELwvjDTaSfI"
   },
   "source": [
    "Let's have a look at the data"
   ]
  },
  {
   "cell_type": "code",
   "execution_count": 24,
   "metadata": {
    "colab": {
     "base_uri": "https://localhost:8080/",
     "height": 306
    },
    "executionInfo": {
     "elapsed": 408,
     "status": "ok",
     "timestamp": 1659183006782,
     "user": {
      "displayName": "Dominik Hahn",
      "userId": "09159259743712920381"
     },
     "user_tz": -120
    },
    "id": "W4zBQ7UISTY5",
    "outputId": "781b7368-9e6d-4136-ecc7-4994536b6236"
   },
   "outputs": [
    {
     "data": {
      "image/png": "[encoded data removed]",
      "text/plain": [
       "<Figure size 640x480 with 1 Axes>"
      ]
     },
     "metadata": {},
     "output_type": "display_data"
    }
   ],
   "source": [
    "t2_results = job.result(timeout=120)\n",
    "counts     = t2_results.get_counts()\n",
    "t2_values  = []\n",
    "\n",
    "for i in range(len(delay_times_sec)):\n",
    "    excited=counts[i]['1']\n",
    "    t2_values.append(excited/ num_shots_per_point)\n",
    "\n",
    "\n",
    "plt.scatter(2*delay_times_sec/us, t2_values, color='black')\n",
    "plt.xlabel('Delay between X90 pulse and $\\pi$ pulse [$\\mu$s]', fontsize=15)\n",
    "plt.ylabel('Measured Signal [a.u.]', fontsize=15)\n",
    "plt.title('Hahn Echo Experiment', fontsize=15)\n",
    "plt.show()"
   ]
  },
  {
   "cell_type": "markdown",
   "metadata": {
    "id": "6gzPRAwHA_XI"
   },
   "source": [
    "---\n",
    "$\\color{red}{\\text{Exercise: fit again the results to obtain } T_2.}$"
   ]
  },
  {
   "cell_type": "markdown",
   "metadata": {
    "id": "12QiB6fUaSfK"
   },
   "source": [
    "$\\color{green}{\\text{Solution}}$"
   ]
  },
  {
   "cell_type": "code",
   "execution_count": 25,
   "metadata": {
    "id": "pRJHaBQQaSfK",
    "outputId": "eaabd69b-75ef-4c80-b2b7-a080d387699b"
   },
   "outputs": [
    {
     "name": "stdout",
     "output_type": "stream",
     "text": [
      "[63.69383263  0.93350602  0.4991223 ]\n"
     ]
    }
   ],
   "source": [
    "##Exercise: Fit the outcome to obtain T2!\n",
    "\n",
    "exp2_fctn     = lambda t, τ, y0, a: (1 - y0*np.exp(-t/τ))*a\n",
    "initial_guess = [100, 0.9, 0.5]\n",
    "\n",
    "fitparams2, y_fit2 = fit_function(2*delay_times_sec/us, t2_values, exp2_fctn, initial_guess)\n",
    "\n",
    "print(fitparams2)\n",
    "T2 = fitparams2[0]"
   ]
  },
  {
   "cell_type": "code",
   "execution_count": 26,
   "metadata": {
    "colab": {
     "base_uri": "https://localhost:8080/",
     "height": 323
    },
    "executionInfo": {
     "elapsed": 409,
     "status": "ok",
     "timestamp": 1659183120244,
     "user": {
      "displayName": "Dominik Hahn",
      "userId": "09159259743712920381"
     },
     "user_tz": -120
    },
    "id": "3LlbGoJXSVwY",
    "outputId": "235a3c25-1ce1-41a3-c6b7-042882b1ecef"
   },
   "outputs": [
    {
     "data": {
      "image/png": "[encoded data removed]",
      "text/plain": [
       "<Figure size 640x480 with 1 Axes>"
      ]
     },
     "metadata": {},
     "output_type": "display_data"
    }
   ],
   "source": [
    "plt.scatter(delay_times_sec/us, t2_values, color='black')\n",
    "plt.plot(delay_times_sec/us, y_fit2, color='red', label=f\"T2 = {T2:.2f} us\")\n",
    "\n",
    "plt.xlim(0, np.max(delay_times_sec/us))\n",
    "\n",
    "plt.xlabel('Delay between X90 pulse and $\\pi$ pulse [$\\mu$s]', fontsize=15)\n",
    "plt.ylabel('Measured Signal [a.u.]', fontsize=15)\n",
    "plt.title('Hahn Echo Experiment', fontsize=15)\n",
    "plt.legend()\n",
    "plt.show()"
   ]
  },
  {
   "cell_type": "markdown",
   "metadata": {
    "id": "9yejhFMXBekF"
   },
   "source": [
    "---\n",
    "$\\color{red}{\\text{Bonus question: You used time delay to determine both } T_1 \\text{ and } T_2. \\text{Is there a relation, for example an (in-)equality connecting these quantities?}}$"
   ]
  },
  {
   "cell_type": "markdown",
   "metadata": {
    "id": "Y4nsCFZ1aSfM"
   },
   "source": [
    "$\\color{green}{\\text{Solution}}$"
   ]
  },
  {
   "cell_type": "markdown",
   "metadata": {
    "id": "6eXd5M5jaSfM"
   },
   "source": [
    "Yes!\n",
    "\n",
    "Consider that applying the $\\sqrt{X}$ gate will lead to $\\sqrt{X} |0> =  (|0>  + i |1> )/\\sqrt{2}$ and note that the lifetime of the excited state $|1>$ is given by $T_1$.\n",
    "Therefore, even if there was no additional decoherence $T_2$ would be limited by the decay time of the excited plateau, i.e. the relaxation time $T_1$."
   ]
  },
  {
   "cell_type": "markdown",
   "metadata": {
    "id": "6U9F6wi4JTJw"
   },
   "source": [
    "These notebooks are comprised of text and code taken from Qiskit's [documentation](https://qiskit.org/documentation/), [tutorials](https://qiskit.org/documentation/tutorials.html#quantum-circuits), [textbook](https://qiskit.org/textbook/preface.html), and previous challenges facilitated by Qiskit."
   ]
  }
 ],
 "metadata": {
  "colab": {
   "collapsed_sections": [
    "tltRI1rU0vlp"
   ],
   "provenance": [
    {
     "file_id": "1Fy7K7ibxDQ64Fn0IiTeQWJeXUCwq8BVB",
     "timestamp": 1659183401089
    }
   ]
  },
  "kernelspec": {
   "display_name": "quantum",
   "language": "python",
   "name": "quantum"
  },
  "language_info": {
   "codemirror_mode": {
    "name": "ipython",
    "version": 3
   },
   "file_extension": ".py",
   "mimetype": "text/x-python",
   "name": "python",
   "nbconvert_exporter": "python",
   "pygments_lexer": "ipython3",
   "version": "3.9.5"
  },
  "toc": {
   "base_numbering": 1,
   "nav_menu": {},
   "number_sections": true,
   "sideBar": true,
   "skip_h1_title": false,
   "title_cell": "Table of Contents",
   "title_sidebar": "Contents",
   "toc_cell": false,
   "toc_position": {},
   "toc_section_display": true,
   "toc_window_display": false
  },
  "varInspector": {
   "cols": {
    "lenName": 16,
    "lenType": 16,
    "lenVar": 40
   },
   "kernels_config": {
    "python": {
     "delete_cmd_postfix": "",
     "delete_cmd_prefix": "del ",
     "library": "var_list.py",
     "varRefreshCmd": "print(var_dic_list())"
    },
    "r": {
     "delete_cmd_postfix": ") ",
     "delete_cmd_prefix": "rm(",
     "library": "var_list.r",
     "varRefreshCmd": "cat(var_dic_list()) "
    }
   },
   "types_to_exclude": [
    "module",
    "function",
    "builtin_function_or_method",
    "instance",
    "_Feature"
   ],
   "window_display": false
  }
 },
 "nbformat": 4,
 "nbformat_minor": 1
}
