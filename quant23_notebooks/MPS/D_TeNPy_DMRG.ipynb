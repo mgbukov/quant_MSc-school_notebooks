{
 "cells": [
  {
   "cell_type": "code",
   "execution_count": null,
   "metadata": {
    "id": "_sKwHWb6gWhU"
   },
   "outputs": [],
   "source": [
    "# %%capture\n",
    "# !pip install physics-tenpy"
   ]
  },
  {
   "cell_type": "code",
   "execution_count": null,
   "metadata": {
    "id": "COwPKjOIySTw"
   },
   "outputs": [],
   "source": [
    "import numpy as np\n",
    "from scipy import integrate\n",
    "from tenpy.networks.mps import MPS\n",
    "from tenpy.models.tf_ising import TFIChain\n",
    "from tenpy.algorithms import dmrg"
   ]
  },
  {
   "cell_type": "code",
   "execution_count": null,
   "metadata": {
    "colab": {
     "base_uri": "https://localhost:8080/"
    },
    "id": "pObCpnzhyWi0",
    "outputId": "9c54379d-0295-4031-d245-c28e847b0429"
   },
   "outputs": [
    {
     "name": "stdout",
     "output_type": "stream",
     "text": [
      "\n",
      "E=-13.191405 m=0.000000 S=0.145597\n"
     ]
    }
   ],
   "source": [
    "g = 1.5\n",
    "chi = 10\n",
    "L = 8\n",
    "\n",
    "model_params = dict(L=L, J=1., g=g, bc_MPS='finite', conserve=None)\n",
    "M = TFIChain(model_params)\n",
    "psi = MPS.from_product_state(M.lat.mps_sites(), [\"up\"] * M.lat.N_sites, bc=M.lat.bc_MPS)\n",
    "\n",
    "dmrg_params = {'chi_list': {0: 3, 10: chi}}\n",
    "\n",
    "eng = dmrg.TwoSiteDMRGEngine(psi, M, dmrg_params)\n",
    "\n",
    "E, psi = eng.run()\n",
    "\n",
    "m = np.mean(psi.expectation_value('Sx'))\n",
    "S = np.mean(psi.entanglement_entropy())\n",
    "\n",
    "print(\"\\nE=%.6f\" % E, \"m=%.6f\" % m, \"S=%.6f\" % S)"
   ]
  },
  {
   "cell_type": "code",
   "execution_count": null,
   "metadata": {
    "id": "RTpi24SPYtUQ"
   },
   "outputs": [],
   "source": []
  }
 ],
 "metadata": {
  "colab": {
   "provenance": []
  },
  "kernelspec": {
   "display_name": "Python 3 (ipykernel)",
   "language": "python",
   "name": "python3"
  },
  "language_info": {
   "codemirror_mode": {
    "name": "ipython",
    "version": 3
   },
   "file_extension": ".py",
   "mimetype": "text/x-python",
   "name": "python",
   "nbconvert_exporter": "python",
   "pygments_lexer": "ipython3",
   "version": "3.11.4"
  }
 },
 "nbformat": 4,
 "nbformat_minor": 4
}
