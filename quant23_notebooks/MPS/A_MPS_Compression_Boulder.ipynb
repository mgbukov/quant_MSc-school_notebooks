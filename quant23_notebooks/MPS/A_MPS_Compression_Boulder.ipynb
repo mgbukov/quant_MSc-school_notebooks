{
  "nbformat": 4,
  "nbformat_minor": 0,
  "metadata": {
    "kernelspec": {
      "display_name": "Python 3",
      "language": "python",
      "name": "python3"
    },
    "language_info": {
      "codemirror_mode": {
        "name": "ipython",
        "version": 3
      },
      "file_extension": ".py",
      "mimetype": "text/x-python",
      "name": "python",
      "nbconvert_exporter": "python",
      "pygments_lexer": "ipython3",
      "version": "3.6.3"
    },
    "colab": {
      "provenance": []
    }
  },
  "cells": [
    {
      "cell_type": "code",
      "metadata": {
        "id": "weXjqceDx7ff"
      },
      "source": [
        "%matplotlib inline\n",
        "import numpy as np"
      ],
      "execution_count": null,
      "outputs": []
    },
    {
      "cell_type": "code",
      "metadata": {
        "id": "jsIQttTGx7fk"
      },
      "source": [
        "def compress_state(psi,L,d,chi_max, tol = 10**(-14)):\n",
        "        A,s,V = np.linalg.svd(np.reshape(psi,[d,d**(L-1)]),full_matrices=0)\n",
        "\n",
        "        A_list = []\n",
        "        chi = np.min([np.sum(s>tol), chi_max])\n",
        "        A_list.append(A[:,:chi])\n",
        "        for i in range(1,L-1):\n",
        "                psi = np.tensordot(np.diag(s),V,axes=(1,0))[:chi,:]\n",
        "\n",
        "                A,s,V = np.linalg.svd(np.reshape(psi,[chi*d,d**(L-i-1)]),full_matrices=0)\n",
        "\n",
        "                A = np.reshape(A,[chi,d,-1])\n",
        "                chi = np.min([np.sum(s>tol), chi_max])\n",
        "                A_list.append(np.transpose(A[:,:,:chi],(1,0,2)))\n",
        "\n",
        "        A_list.append(np.transpose(np.tensordot(np.diag(s),V,axes=(1,0))[:chi,:],(1,0)))\n",
        "\n",
        "        return A_list\n",
        "\n",
        "def expand_state(A_list):\n",
        "    L = len(A_list)\n",
        "    d = A_list[0].shape[0]\n",
        "\n",
        "    psi = A_list[0]\n",
        "    for i in range(1,L):\n",
        "        psi = np.tensordot(psi,A_list[i],axes=(i,1))\n",
        "    return np.reshape(psi,d**L)"
      ],
      "execution_count": null,
      "outputs": []
    },
    {
      "cell_type": "code",
      "metadata": {
        "id": "TyO1n5E2x7fp",
        "colab": {
          "base_uri": "https://localhost:8080/"
        },
        "outputId": "e134b9ed-27a0-4ac6-f657-0d0ebf4c4065"
      },
      "source": [
        "L = 10\n",
        "d = 2\n",
        "chi_max = 16\n",
        "\n",
        "psi_full = np.random.rand(d**L)\n",
        "psi_full = psi_full / np.linalg.norm(psi_full)\n",
        "\n",
        "A_list = compress_state(psi_full,L,d,chi_max)\n",
        "\n",
        "psi_compressed = expand_state(A_list)\n",
        "psi_compressed = psi_compressed / np.linalg.norm(psi_compressed)\n",
        "\n",
        "print(\"Fidelity: \",np.inner(psi_full,psi_compressed))"
      ],
      "execution_count": null,
      "outputs": [
        {
          "output_type": "stream",
          "name": "stdout",
          "text": [
            "Fidelity:  0.9859485263384302\n"
          ]
        }
      ]
    }
  ]
}