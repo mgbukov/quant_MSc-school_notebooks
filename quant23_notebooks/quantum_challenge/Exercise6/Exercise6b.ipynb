{
 "cells": [
  {
   "cell_type": "markdown",
   "id": "lbwoi2QXpqdJ",
   "metadata": {
    "id": "lbwoi2QXpqdJ"
   },
   "source": [
    "# Five-site tight-binding lattice and Anderson localization\n",
    "\n",
    "\n",
    "Particle propagation is significantly impacted by the introduction of disorder in the on-site energies, leading to Anderson localization. Lattice inhomogeneity causes scattering and leads to quantum interference that tends to inhibit particle propagation, a signature of localization. The wavefunction of a localized particle rapidly decays away from its initial position, effectively confining the particle to a small region of the lattice.\n",
    "\n",
    "Phillip Anderson first proposed that scattering from disorder can bring transport to a complete halt in 1958 [1]. Before Anderson's discovery, scientists modelled crystal disorders as perturbations that scatter electrons randomly, treating electrons as point-like particles. This logic led to the description of transport in such media as Brownian motion, which underlies Ohm's law. However, Anderson revisited the effect of disorder on the evolution of an electron's wavefunction in an otherwise periodic crystal [2]. \n",
    "\n",
    "Anderson analysed the problem in the quantum regime, thus fundamentally accounting for the wave nature of the electron, and found that the classical diffusive motion of the electron breaks down as the electronic wavefunction becomes exponentially localized, under a broad range of conditions. Hence, when the electron is initially placed on one atom, its wavefunction will no longer expand to cover the whole crystal with time, but it will rather remain localized around its initial position. Thus, the material will cease to conduct charge, and eventually become an insulator. This localization phenomenon is a direct consequence of interference between different paths arising from multiple scattering of the electron by lattice defects.\n",
    "\n",
    "In the figure below you can see Anderson localization in a phtonic crystal. As the disorder gets increased, the light beam becomes exponentially localized.\n",
    "![balanced1.png](Andersonlocalization.png)\n",
    "\n",
    "\n",
    "In this exercise we look at a spin model with 5 sites. After considering a clean lattice, we add a disorder potential to investigate the phenomenon of Anderson localization.\n",
    "\n",
    "[1] A. Lagendijk et al., *Fifty years of Anderson localization*, [ Physics Today 62, 8, 24 (2009)](https://physicstoday.scitation.org/doi/10.1063/1.3206091?feed=most-cited)\n",
    "\n",
    "[2] M. Segev et al., *Anderson localization of light*, [Nature Photonics volume 7, pages 197–204 (2013)](https://www.nature.com/articles/nphoton.2013.30)"
   ]
  },
  {
   "cell_type": "code",
   "execution_count": 1,
   "id": "7152f2bf-5b38-470a-a523-6398a51c2c16",
   "metadata": {
    "id": "7152f2bf-5b38-470a-a523-6398a51c2c16"
   },
   "outputs": [],
   "source": [
    "import numpy as np\n",
    "import matplotlib.pyplot as plt\n",
    "from copy import deepcopy\n",
    "\n",
    "# Importing standard Qiskit libraries\n",
    "from qiskit import QuantumCircuit, QuantumRegister, ClassicalRegister, transpile, Aer, IBMQ, execute\n",
    "from qiskit.visualization import *\n",
    "from qiskit.providers.aer import QasmSimulator\n",
    "from tqdm.notebook import tqdm\n",
    "\n",
    "from qiskit.providers.aer import QasmSimulator\n",
    "from qiskit.tools.monitor import job_monitor\n",
    "from qiskit.circuit import Parameter\n",
    "import qiskit.quantum_info as qi\n",
    "\n",
    "\n",
    "# Suppress warnings\n",
    "import warnings\n",
    "warnings.filterwarnings('ignore')"
   ]
  },
  {
   "cell_type": "markdown",
   "id": "vurOHBLaPfEb",
   "metadata": {
    "id": "vurOHBLaPfEb"
   },
   "source": [
    "As in exercise 5a, we use Trotter decomposition to simulate the time evolution of a spin system. In case you are not familiar with Trotter decomposition, you can read the introduction in Exercise 5a. As before we need the gates $XX(t)$ and $YY(t)$. The time $t$ denotes here the time for one trotter step."
   ]
  },
  {
   "cell_type": "markdown",
   "id": "Q7hk9AKSrkmw",
   "metadata": {
    "id": "Q7hk9AKSrkmw"
   },
   "source": [
    "$\\color{red}{\\text{Exercise 1: Construct the gates XX(t) and YY(t). If you have done Exercise 5 already, you can use the solutions from there. Otherwise you can follow the same steps.}}$"
   ]
  },
  {
   "cell_type": "code",
   "execution_count": null,
   "id": "1cd64c4c",
   "metadata": {
    "id": "1cd64c4c"
   },
   "outputs": [],
   "source": [
    "t = Parameter('t') #time parameter\n",
    "#Your code goes here\n"
   ]
  },
  {
   "cell_type": "markdown",
   "id": "04b5fd64",
   "metadata": {
    "id": "04b5fd64"
   },
   "source": [
    "# 1. Five-site tight-binding lattice: \n",
    "\n",
    "In this exercise we simulate a lattice with five sites. First, we look at the tight-binding Hamiltonian with all the site energies at the same value. As a reminder, the Hamiltonian for a 5 site tight-binding lattice is: \n",
    "\n",
    "$$H/\\hbar = J \\sum^{3}_{i=0} (X_i X_{i+1} + Y_i Y_{i+1})$$\n",
    "\n",
    "Each term in the Hamiltonian describes the kinetic energy between nearest-neighbours spins. This spin Hamiltonian is [equivalent to free fermions hopping on a lattice](https://en.wikipedia.org/wiki/Jordan%E2%80%93Wigner_transformation). The qubit state $|0\\rangle$ means no fermion on the given site while $|1\\rangle$ denotes one fermion ocuppying that site. Free fermions propagate as plane waves such that they move ballistically (i.e. $\\Delta x \\sim  \\Delta t $ in average, where $\\Delta x$ is the displacement during a time interval $\\Delta t$). Our goal is to simulate the time evolution of fermions using qubits and check how a single fermion travles across the chain. \n",
    "\n",
    "For this challenge, without loss of generality, we set $\\hbar=1$ and $J=1$."
   ]
  },
  {
   "cell_type": "markdown",
   "id": "f76797ef",
   "metadata": {
    "id": "f76797ef"
   },
   "source": [
    "$\\color{red}{\\text{Exercise 3: Create the Trotter step instruction. If you have done exercise 5, you can use the solution from this exercise.}}$"
   ]
  },
  {
   "cell_type": "code",
   "execution_count": null,
   "id": "85d24eb2-2a44-45cb-b5ab-70c46890a3fd",
   "metadata": {
    "id": "85d24eb2-2a44-45cb-b5ab-70c46890a3fd",
    "tags": []
   },
   "outputs": [],
   "source": [
    "num_qubits = 5 \n",
    "\n",
    "Trot_tb_qr = QuantumRegister(num_qubits)\n",
    "Trot_tb_qc = QuantumCircuit(Trot_tb_qr, name='Trot')\n",
    "\n",
    "###Your code goes here\n",
    "\n",
    "\n",
    "\n",
    "\n",
    "Trot_tb_gate = Trot_tb_qc.to_instruction() #Convert the circuit into a gate for later use\n",
    "Trot_tb_qc.draw()"
   ]
  },
  {
   "cell_type": "markdown",
   "id": "cddeec50",
   "metadata": {
    "id": "cddeec50"
   },
   "source": [
    "\n",
    "\n",
    "Next, we want to add a particle in the form of an excitation to **qubit 0**. This can be accomplished by applying an  𝑋  gate to flip the state of the qubit from  |0⟩  to  |1⟩  before time evolution under the Hamiltonian.\n"
   ]
  },
  {
   "cell_type": "markdown",
   "id": "hJvCvzagvVP0",
   "metadata": {
    "id": "hJvCvzagvVP0"
   },
   "source": [
    "$\\color{red}{\\text{Exercise 4: Excite qubit 0 of the chain}}$"
   ]
  },
  {
   "cell_type": "code",
   "execution_count": null,
   "id": "a62b2759-60d6-4929-add2-ad5db47c2ad7",
   "metadata": {
    "id": "a62b2759-60d6-4929-add2-ad5db47c2ad7"
   },
   "outputs": [],
   "source": [
    "delta_t=0.15 # DO NOT EDIT \n",
    "time_steps=np.arange(0,20,1) # DO NOT EDIT\n",
    "\n",
    "circuits=[]\n",
    "\n",
    "#This is the circuit for time T=0\n",
    "qr = QuantumRegister(num_qubits)\n",
    "cr = ClassicalRegister(num_qubits)\n",
    "qc = QuantumCircuit(qr,cr)\n",
    "qc.x(0) #excitation of a single qubit\n",
    "circuits.append(qc)\n",
    "\n",
    "#Now we construct the circuit for the other time steps\n",
    "for n_steps in time_steps[1:]:\n",
    "    \n",
    "    qr = QuantumRegister(num_qubits)\n",
    "    cr = ClassicalRegister(num_qubits)\n",
    "    qc = QuantumCircuit(qr,cr)\n",
    "    #Your code goes here\n",
    "    \n",
    "    for _ in range(n_steps):\n",
    "        qc.append(Trot_tb_gate, [i for i in range(num_qubits)]) #append the Trotter gate on the qubits 0...n-1\n",
    "        \n",
    "    qc = qc.bind_parameters({t: delta_t})\n",
    "    \n",
    "    circuits.append(qc)"
   ]
  },
  {
   "cell_type": "markdown",
   "id": "8f75b601",
   "metadata": {
    "id": "8f75b601"
   },
   "source": [
    "We can track the movement of the particle by computing the probability of finding the particle on each qubit at different time steps. "
   ]
  },
  {
   "cell_type": "markdown",
   "id": "6781ae1a",
   "metadata": {
    "id": "6781ae1a"
   },
   "source": [
    "$\\color{red}{\\text{Exercise 5: Extract the probabilities of each qubit being in the $|1\\rangle$ at different times using the output state from the statevector_simulator.}}$\n",
    "\n",
    "Hint: create a small circuit *qctest* that only applies a Z gate at position i.\n",
    "You can use then the instruction *a=Operator(qctest)* that converts this circuit into an operator. You can measure the expectation value for this operator applied to your state by the command *outputstate.expectation_value(a)* .\n"
   ]
  },
  {
   "cell_type": "code",
   "execution_count": null,
   "id": "26c82cf5",
   "metadata": {
    "id": "26c82cf5",
    "tags": []
   },
   "outputs": [],
   "source": [
    "from qiskit import transpile\n",
    "# Use Aer's statevector simulator\n",
    "from qiskit import Aer\n",
    "from qiskit.quantum_info.operators import Operator, Pauli\n",
    "# Run the quantum circuit on a statevector simulator backend\n",
    "backend_sim = Aer.get_backend('statevector_simulator')\n",
    "\n",
    "probability_density=[]\n",
    "for circ in circuits:\n",
    "\n",
    "    transpiled_circ=transpile(circ, backend_sim, optimization_level=3) #transpile the circuits\n",
    "\n",
    "    job_sim = backend_sim.run(transpiled_circ)#run the circuits on a simulator\n",
    "\n",
    "    # Grab the results from the job.\n",
    "    result_sim = job_sim.result()\n",
    "    outputstate = result_sim.get_statevector(transpiled_circ, decimals=5)\n",
    "    ps=[]\n",
    "    #(Extract the probability of finding the excitation on each qubit)\n",
    "    #Your code goes here \n",
    "    \n",
    "    probability_density.append(ps)\n",
    "    \n",
    "probability_density=np.array(probability_density)"
   ]
  },
  {
   "cell_type": "markdown",
   "id": "i4j0hzQlSe8U",
   "metadata": {
    "id": "i4j0hzQlSe8U"
   },
   "source": [
    "We can now plot the time evolution of the excitation. What can you see?"
   ]
  },
  {
   "cell_type": "code",
   "execution_count": null,
   "id": "a5fb178e-f077-4d2e-8020-d1520eadbd34",
   "metadata": {
    "id": "a5fb178e-f077-4d2e-8020-d1520eadbd34"
   },
   "outputs": [],
   "source": [
    "plt.figure(figsize=(3,5), facecolor='white')\n",
    "plt.pcolormesh(np.arange(0,num_qubits,1), time_steps*delta_t, probability_density)\n",
    "plt.xlabel('Qubit index')\n",
    "plt.ylabel('Time (1/J)')"
   ]
  },
  {
   "cell_type": "markdown",
   "id": "8e1839f4",
   "metadata": {
    "id": "8e1839f4"
   },
   "source": [
    "<b>Run the same circuit now on a quantum computer</b> \n",
    "    \n",
    "Run the circuits on a real quantum computer and extract the probability of finding an excitation in each qubit.\n",
    "    \n",
    "</div>"
   ]
  },
  {
   "cell_type": "code",
   "execution_count": null,
   "id": "646ef3fe",
   "metadata": {
    "id": "646ef3fe"
   },
   "outputs": [],
   "source": [
    "from qiskit.tools.monitor import job_monitor\n",
    "from qiskit import IBMQ\n",
    "from qiskit.providers.aer import AerSimulator #A library to simulate quantum computers with noise on a classical device\n",
    "IBMQ.save_account(\"740cf9a029345b5770ad72af52ca4d1c51eb8afe78c6d95e17ecffd2e72033a693cf8563418f2143cf5d9780f497e3100577f0a400d882f5d4314ca68ce9fc37\",overwrite=True)\n",
    "IBMQ.load_account() # Load IBM account\n",
    "provider = IBMQ.get_provider(hub='ibm-q-research-2',group='max-planck-inst',project='codingchallenge')\n",
    "backend=provider.get_backend('ibm_oslo') #A real quantum device backend\n",
    "backendsim=AerSimulator() #A noiseless classical simulator\n",
    "backend2= AerSimulator.from_backend(backend) #A noisy classical simulator"
   ]
  },
  {
   "cell_type": "code",
   "execution_count": null,
   "id": "b1cd7206",
   "metadata": {
    "id": "b1cd7206"
   },
   "outputs": [],
   "source": [
    "initial_layout=[0 , 1 , 3 , 5 , 4] #The mapping of qubits in our circuits to the physical qubits of the device. In this case we do it manually to improve the results. For more details, see Exercise 1c.\n",
    "\n",
    "hardware_transpiled_circuits=[]\n",
    "for circ in circuits:\n",
    "    \n",
    "    hardware_circ=deepcopy(circ) #Create a copy of the circuits\n",
    "    hardware_circ.barrier()\n",
    "    hardware_circ.measure(range(num_qubits), range(num_qubits)) #Add a measurment to the circuits\n",
    "    hardware_transpiled_circuits.append(transpile(hardware_circ, backend, initial_layout=initial_layout, optimization_level=3)) #change the backend form backend to backend2, if its too slow."
   ]
  },
  {
   "cell_type": "code",
   "execution_count": null,
   "id": "b890b98b",
   "metadata": {
    "id": "b890b98b"
   },
   "outputs": [],
   "source": [
    "shots=1024 #number of measurements\n",
    "#Execute the circuits on the device\n",
    "job = execute(hardware_transpiled_circuits, backend=backend, shots=shots) #replace backedn by backend2 if necessary\n",
    "job_monitor(job)\n",
    "print('Job ID', job.job_id())"
   ]
  },
  {
   "cell_type": "markdown",
   "id": "62OMSsXb3xyY",
   "metadata": {
    "id": "62OMSsXb3xyY"
   },
   "source": [
    "$\\color{red}{\\text{Exercise 6: Extract the probabilities of each qubit being in the $|1\\rangle$ at different times using the quantum simulator.}}$\n",
    "\n",
    "Hint: *np.fromstring(keys,'u1') - ord('0')* gives you the bitstring of each measurment output as an array."
   ]
  },
  {
   "cell_type": "code",
   "execution_count": null,
   "id": "709056a0",
   "metadata": {
    "id": "709056a0"
   },
   "outputs": [],
   "source": [
    "experiment_results=job.result()\n",
    "\n",
    "probability_density_exp=[]\n",
    "for output in experiment_results.get_counts():\n",
    "    ps=np.zeros(num_qubits)\n",
    "    #Your code goes here\n",
    "\n",
    "    probability_density_exp.append(ps[::-1]) #append the excitation pattern to your output array"
   ]
  },
  {
   "cell_type": "markdown",
   "id": "xOnFoJh9azuT",
   "metadata": {
    "id": "xOnFoJh9azuT"
   },
   "source": [
    "We can compare the result on the real device circuit with the noiseless simulation. What do you observe?"
   ]
  },
  {
   "cell_type": "code",
   "execution_count": null,
   "id": "6fmU-Ij1a0t9",
   "metadata": {
    "id": "6fmU-Ij1a0t9"
   },
   "outputs": [],
   "source": [
    "plt.figure(figsize=(3,5), facecolor='white')\n",
    "plt.pcolormesh(np.arange(-.5,num_qubits,1), time_steps*delta_t, probability_density_exp)\n",
    "plt.xlabel('Qubit index')\n",
    "plt.ylabel('Time (1/J)')"
   ]
  },
  {
   "cell_type": "markdown",
   "id": "64879624",
   "metadata": {
    "id": "64879624"
   },
   "source": [
    "## 2. Anderson localization\n",
    "\n",
    "We can study Anderson localization using the tight-binding Hamiltonian. The Hamltonian in the presence of disorder in site energies takes the following form: \n",
    "$$H_{\\rm tb}/\\hbar = \\sum^{3}_{i=0} (X_i X_{i+1} + Y_i Y_{i+1}) + \\sum_{i=0} ^{4}\\epsilon_i Z_i $$\n",
    "\n",
    "By changing the $\\epsilon_i$ values we can imitate disorder by creating an Aubry-Andre (AA) quasicrystal which leads to Anderson localization. In this lattice model, $\\epsilon_i=W \\rm{cos}(2\\pi\\beta i)$ where $W$ is the disorder strength, and $\\beta$ determines the quasicrystal periodicity.\n"
   ]
  },
  {
   "cell_type": "code",
   "execution_count": null,
   "id": "f34b668d",
   "metadata": {
    "id": "f34b668d"
   },
   "outputs": [],
   "source": [
    "beta=(np.sqrt(5)-1)/2 #By choosing the golden ratio for the paprameter beta, the potential looks maximally chaotic\n",
    "AA_patern=np.cos(2*np.pi*beta*np.arange(num_qubits)) #This will be our disorder pattern in the following exercise\n",
    "\n",
    "plt.plot(np.linspace(-0.5,4.5,101), np.cos(2*np.pi*beta*np.linspace(-0.5,4.5,101)), '--')\n",
    "plt.plot(np.arange(num_qubits), AA_patern, 'o', label=r'$\\epsilon_i$')\n",
    "plt.xlabel('Position')\n",
    "plt.ylabel('Energy')\n",
    "plt.legend()\n",
    "plt.title('Aubry-Andre potential')\n",
    "plt.show()"
   ]
  },
  {
   "cell_type": "markdown",
   "id": "Pg7gwFyrXZ2Y",
   "metadata": {
    "id": "Pg7gwFyrXZ2Y"
   },
   "source": [
    "We can include the disorder easily into our Trotter ccircuits: To do so, we add a phase gate of the form *Trot_qc_disorder.p(deltas[i], i)* to our Trotter circuit. The phase corresponds to the disorder potential and has to be (pseudo-)random at each site."
   ]
  },
  {
   "cell_type": "markdown",
   "id": "73c8a13e",
   "metadata": {
    "id": "73c8a13e"
   },
   "source": [
    "\n",
    "$\\color{red}{\\text{Exercise 7: Modify each tight-binding trotter step to include an arbitrary phase used to simulate Anderson localization.}}$\n"
   ]
  },
  {
   "cell_type": "code",
   "execution_count": null,
   "id": "9349ca57-b96a-4f4b-ba3e-7701da5a2a4a",
   "metadata": {
    "id": "9349ca57-b96a-4f4b-ba3e-7701da5a2a4a"
   },
   "outputs": [],
   "source": [
    "Trot_qr_disorder = QuantumRegister(num_qubits)\n",
    "Trot_qc_disorder = QuantumCircuit(Trot_qr_disorder, name='Trot disorder')\n",
    "\n",
    "Trot_qc_disorder.append(Trot_tb_gate,[0,1,2,3,4])\n",
    "deltas=[Parameter('delta_{:d}'.format(idx)) for idx in range(num_qubits)]#The random phase for each qubit\n",
    "print(deltas)\n",
    "\n",
    "###Your code goes here\n",
    "\n",
    "\n",
    "# Convert custom quantum circuit into a gate\n",
    "Trot_disorder_gate = Trot_qc_disorder.to_instruction()\n",
    "\n",
    "Trot_qc_disorder.draw()"
   ]
  },
  {
   "cell_type": "markdown",
   "id": "fFtgHlN8YcvL",
   "metadata": {
    "id": "fFtgHlN8YcvL"
   },
   "source": [
    "Now we can construct again our circuit for each time step."
   ]
  },
  {
   "cell_type": "code",
   "execution_count": null,
   "id": "b13e0211-d494-474a-a56c-7a38cfe365a2",
   "metadata": {
    "id": "b13e0211-d494-474a-a56c-7a38cfe365a2"
   },
   "outputs": [],
   "source": [
    "delta_t=0.15\n",
    "time_steps=np.arange(1,20,1)\n",
    "\n",
    "W=2 #Disorder strength, you can play later with it\n",
    "\n",
    "disorders=W*AA_patern # DO NOT EDIT\n",
    "\n",
    "disorder_circuits=[]\n",
    "\n",
    "for n_steps in time_steps:\n",
    "\n",
    "    qr = QuantumRegister(num_qubits)\n",
    "    cr = ClassicalRegister(num_qubits)\n",
    "    qc = QuantumCircuit(qr, cr)\n",
    "\n",
    "    qc.x(0)\n",
    "    \n",
    "    for _ in range(n_steps):\n",
    "        qc.append(Trot_disorder_gate, [i for i in range(num_qubits)])\n",
    "\n",
    "    qc = qc.bind_parameters({t: delta_t})\n",
    "    qc = qc.bind_parameters({deltas[idx]: disorders[idx] for idx in range(num_qubits)})\n",
    "\n",
    "    disorder_circuits.append(qc)"
   ]
  },
  {
   "cell_type": "markdown",
   "id": "553600c1",
   "metadata": {
    "id": "553600c1"
   },
   "source": [
    "$\\color{red}{\\text{Exercise 8: Extract the probability of finding an excitation on each qubit, you can use the solution of exercise 5}}$"
   ]
  },
  {
   "cell_type": "code",
   "execution_count": null,
   "id": "8c6a37a7-6587-4a9f-8b19-bfd7c7188a9b",
   "metadata": {
    "id": "8c6a37a7-6587-4a9f-8b19-bfd7c7188a9b"
   },
   "outputs": [],
   "source": [
    "from qiskit import transpile\n",
    "\n",
    "# Use Aer's statevector simulator\n",
    "from qiskit import Aer\n",
    "\n",
    "# Run the quantum circuit on a statevector simulator backend\n",
    "backend_sim = Aer.get_backend('statevector_simulator')\n",
    "\n",
    "probability_density_localization=[]\n",
    "for circ in disorder_circuits:\n",
    "\n",
    "    transpiled_circ=transpile(circ, backend_sim, optimization_level=3)\n",
    "\n",
    "    job_sim = backend_sim.run(transpiled_circ)\n",
    "\n",
    "    # Grab the results from the job.\n",
    "    result_sim = job_sim.result()\n",
    "    outputstate = result_sim.get_statevector(transpiled_circ, decimals=5)\n",
    "    ps=[]\n",
    "    #Your code goes here\n",
    "\n",
    "\n",
    "    #append the excitation density to your result    \n",
    "    probability_density_localization.append(ps)\n",
    "    \n",
    "probability_density_localization=np.array(probability_density_localization)"
   ]
  },
  {
   "cell_type": "markdown",
   "id": "AeIhQ7pBbj8L",
   "metadata": {
    "id": "AeIhQ7pBbj8L"
   },
   "source": [
    "Plot now the results with disorder. What can you see in comparison to the case before?"
   ]
  },
  {
   "cell_type": "code",
   "execution_count": null,
   "id": "d70fdf7d-33f7-4054-84b8-1b53290cc051",
   "metadata": {
    "id": "d70fdf7d-33f7-4054-84b8-1b53290cc051"
   },
   "outputs": [],
   "source": [
    "plt.figure(figsize=(3,5), facecolor='white')\n",
    "plt.pcolormesh(np.arange(0,num_qubits,1), time_steps*delta_t ,probability_density_localization)\n",
    "plt.xlabel('Qubit index')\n",
    "plt.ylabel('Time (1/J)')"
   ]
  },
  {
   "cell_type": "markdown",
   "id": "c6457aa8",
   "metadata": {
    "id": "c6457aa8"
   },
   "source": [
    "<b>Run the same circuit now on a quantum computer</b> \n",
    "    \n",
    "First we have to transpile the circuits again.\n",
    "    \n",
    "</div>"
   ]
  },
  {
   "cell_type": "code",
   "execution_count": null,
   "id": "010cb06b",
   "metadata": {
    "id": "010cb06b"
   },
   "outputs": [],
   "source": [
    "initial_layout=[0 , 1 , 3 , 5 , 4] #The mapping of qubits in our circuits to the physical qubits of the device. In this case we do it manually to improve the results. For more details, see Exercise 1c.\n",
    "\n",
    "hardware_transpiled_circuits_disordered=[]\n",
    "for circ in disorder_circuits:\n",
    "    \n",
    "    hardware_circ=deepcopy(circ)\n",
    "    hardware_circ.barrier()\n",
    "    hardware_circ.measure(range(num_qubits), range(num_qubits)) #append a measurement\n",
    "    hardware_transpiled_circuits_disordered.append(transpile(hardware_circ, backend, initial_layout=initial_layout, optimization_level=3)) #transpile your circuits"
   ]
  },
  {
   "cell_type": "markdown",
   "id": "gzGqkeyBcRNy",
   "metadata": {
    "id": "gzGqkeyBcRNy"
   },
   "source": [
    "Now execute the circuits on a quantum computer."
   ]
  },
  {
   "cell_type": "code",
   "execution_count": null,
   "id": "0ccc52d9",
   "metadata": {
    "colab": {
     "base_uri": "https://localhost:8080/"
    },
    "executionInfo": {
     "elapsed": 7072,
     "status": "ok",
     "timestamp": 1659971135360,
     "user": {
      "displayName": "Dominik Hahn",
      "userId": "09159259743712920381"
     },
     "user_tz": -120
    },
    "id": "0ccc52d9",
    "outputId": "3b975d05-0c58-4c6e-ac92-aa9ad5c44bad"
   },
   "outputs": [
    {
     "name": "stdout",
     "output_type": "stream",
     "text": [
      "Job Status: job has successfully run\n",
      "Job ID 1a42c95a-1445-4ba1-96a0-0dae87e4d6df\n"
     ]
    }
   ],
   "source": [
    "shots=1024\n",
    "job_disorder = execute(hardware_transpiled_circuits_disordered, backend=backend2, shots=shots) #replace backend by backend2 in case you do not want to wait that long\n",
    "job_monitor(job_disorder)\n",
    "print('Job ID', job_disorder.job_id())"
   ]
  },
  {
   "cell_type": "markdown",
   "id": "80ltf8Yd_cEm",
   "metadata": {
    "id": "80ltf8Yd_cEm"
   },
   "source": [
    "$\\color{red}{\\text{Exercise 9: Extract the probabilities of each qubit being in the $|1\\rangle$ at different times using the results (same as exercise 6).}}$"
   ]
  },
  {
   "cell_type": "code",
   "execution_count": null,
   "id": "ad60c532",
   "metadata": {
    "id": "ad60c532"
   },
   "outputs": [],
   "source": [
    "disorder_experiment_results=job_disorder.result()\n",
    "\n",
    "disorder_probability_density_exp=[]\n",
    "for output in disorder_experiment_results.get_counts():\n",
    "    ps=np.zeros(num_qubits)\n",
    "    #Your code goes here\n",
    "\n",
    "    disorder_probability_density_exp.append(ps[::-1]) #append the excitation pattern to your output array\n",
    "    \n",
    "plt.figure(figsize=(3,5), facecolor='white')\n",
    "plt.pcolormesh(np.arange(-.5,num_qubits,1), time_steps*delta_t, disorder_probability_density_exp)\n",
    "plt.xlabel('Qubit index')\n",
    "plt.ylabel('Time (1/J)')"
   ]
  },
  {
   "cell_type": "markdown",
   "id": "7iZX433rdHtV",
   "metadata": {
    "id": "7iZX433rdHtV"
   },
   "source": [
    "Finally we can plot the result again and compare with real hardware."
   ]
  },
  {
   "cell_type": "code",
   "execution_count": null,
   "id": "ObqrzgrJdI_k",
   "metadata": {
    "id": "ObqrzgrJdI_k"
   },
   "outputs": [],
   "source": [
    "plt.figure(figsize=(3,5), facecolor='white')\n",
    "plt.pcolormesh(np.arange(-.5,num_qubits,1), time_steps*delta_t, disorder_probability_density_exp)\n",
    "plt.xlabel('Qubit index')\n",
    "plt.ylabel('Time (1/J)')"
   ]
  },
  {
   "cell_type": "markdown",
   "id": "XW1-eWIJKGpV",
   "metadata": {
    "id": "XW1-eWIJKGpV"
   },
   "source": [
    "These notebooks are comprised of text and code taken from Qiskit's [documentation](https://qiskit.org/documentation/), [tutorials](https://qiskit.org/documentation/tutorials.html#quantum-circuits), [textbook](https://qiskit.org/textbook/preface.html), and previous challenges facilitated by Qiskit."
   ]
  }
 ],
 "metadata": {
  "colab": {
   "collapsed_sections": [],
   "provenance": []
  },
  "kernelspec": {
   "display_name": "quantum",
   "language": "python",
   "name": "quantum"
  },
  "language_info": {
   "codemirror_mode": {
    "name": "ipython",
    "version": 3
   },
   "file_extension": ".py",
   "mimetype": "text/x-python",
   "name": "python",
   "nbconvert_exporter": "python",
   "pygments_lexer": "ipython3",
   "version": "3.9.5"
  }
 },
 "nbformat": 4,
 "nbformat_minor": 5
}
