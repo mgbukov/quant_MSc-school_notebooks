{
 "cells": [
  {
   "cell_type": "markdown",
   "metadata": {
    "id": "u750DzjYFvDr"
   },
   "source": [
    "# Quantum error correction\n",
    "\n",
    "## Historical background\n",
    "\n",
    "Error correction has been a well developed field in classical computer science for decades. Classical error correction codes have been used by NASA since its Voyager missions [1] but they also undern modern communication technologies such as 4G.\n",
    "\n",
    "In classical information processing, the use of error correction is most important for high-performance communication and high-security applications. Quantum information on the other hand is inherently more fragile than its classical counterpart, which makes error correction indispensible for any large scale application of quantum computing such as Shor's algorithm.\n",
    "\n",
    "It is important to realize that, as will become clear in this exercise, quantum error correction is also qualitatively different from classical error correction because the set of errors that can occur are continous. In fact, for a long time it was not known if quntum error correction is possible at all but in 1995, Shor released another landmark paper: a scheme that shared quantum information over multiple qubits in order to reduce errors.[2]\n",
    "\n",
    "A great deal of progress has been made over the decades since. New forms of quantum error correcting codes have been discovered, and a large theoretical framework has been built around them. The surface codes proposed by Kitaev in 1997 have emerged as the leading candidate, and many variations on the original design have emerged since then. But there is still a lot of progress to make in tailoring codes to the specific details of quantum hardware.[3]\n",
    "\n",
    "In this exercise we'll consider a case in which artificial 'errors' are inserted into a circuit. Your task is to design the circuit such that these additional gates can be identified.\n",
    "\n",
    "You'll then need to think about how to implement your circuit on a real device. This means you'll need to tailor your solution to the layout of the qubits. Your solution will be scored on how few entangling gates (the noisiest type of gate) that you use.\n",
    "\n",
    "### Reference\n",
    "1. https://descanso.jpl.nasa.gov/DPSummary/Descanso4--Voyager_new.pdf\n",
    "2. Shor, Peter W. \"Scheme for reducing decoherence in quantum computer memory.\" Physical review A 52.4 (1995): R2493.\n",
    "3. Dennis, Eric, et al. \"Topological quantum memory.\" Journal of Mathematical Physics 43.9 (2002): 4452-4505."
   ]
  },
  {
   "cell_type": "markdown",
   "metadata": {
    "id": "hbKxtYi5FvDx"
   },
   "source": [
    "## The problem of errors\n",
    "\n",
    "Errors occur when some spurious operation acts on our qubits. Their effects cause things to go wrong in our circuits. The strange results you may have seen when running on real devices is all due to these errors.\n",
    "\n",
    "### The classical repitition code\n",
    "\n",
    "Let's start by considering a bit of classical information `b`. Since a classical bit can only be `0` or `1`, the only kind of error that can occur is that the bit flips with propability $p$. \n",
    "$$\n",
    "0 \\to \n",
    "\\begin{cases}\n",
    "0~\\text{with propability}~(1-p) \\\\\n",
    "1~\\text{with propability}~p\n",
    "\\end{cases}\n",
    "$$\n",
    "The simplest way to do classical error correction is what we all do intuitively: if your friend does not understand what you said at a bar, you repeat it; this is called the *repitition code*. Formally it means that we *encode* the two possible values `0` and `1` into *codewords*\n",
    "$$\n",
    "\\bar 0 = 000\\\\\n",
    "\\bar 1 = 111\n",
    "$$\n",
    "The resulting bit $\\bar b$ is called a *logical bit*. Now, if a single error occurs on out logical bit, we can correct it by what is called *majority voting*: we just reset the state of $\\bar b$ to either $\\bar 0$ or $\\bar 1$ if there are more 0s or 1s in $\\bar b$ respectively. \n",
    "\n",
    "### How about the quantum version?\n",
    "\n",
    "How does quantum error correction differ from its classical counterpart? The main difference stems from the difference between classical and quantum information. A qubit is a state $|\\psi \\rangle = \\alpha |0\\rangle + \\beta |1\\rangle$ that, as you well know is parametrized by three continuous parameters. This also mean that the most general *error* that can occur on a single qubit is given by a hermitian $2\\times 2$ matrix \n",
    "$$\n",
    "M = a I + b X + c XZ + d Z,\n",
    "$$\n",
    "From the above decomposition, we can see that compared to the classical case we do not only get bitflip errors $X$ but also *phase-flip* errors $Z$ (or both, that is $XZ = -iY$).\n",
    "\n",
    "Whenever we apply this matrix to some single qubit state $|\\psi\\rangle$ we get\n",
    "\n",
    "$$\n",
    "M |\\psi\\rangle = a|\\psi\\rangle + b X |\\psi\\rangle + c XZ |\\psi\\rangle + d Z |\\psi\\rangle.\n",
    "$$\n",
    "\n",
    "The resulting superposition is composed of the original state, the state we'd have if the error was just a bit flip, the state for just a phase flip and the state for both. This situation seems much more complicated than than the classical version! \n",
    "What makes quantum error correction a feasible task is that we can __measure__. If we devise a way to measure whether a bit or phase flip happened, the state collapses to one of the possbilities\n",
    "$$\n",
    "M |\\psi\\rangle \\to\n",
    "\\begin{cases}\n",
    "\\phantom{XZ}|\\psi\\rangle &\\text{with propability}~|a|^2 \\\\\n",
    "\\phantom{Z}X|\\psi\\rangle &\\text{with propability}~|b|^2 \\\\\n",
    "XZ|\\psi\\rangle &\\text{with propability}~|c|^2 \\\\\n",
    "\\phantom{X}Z|\\psi\\rangle &\\text{with propability}~|d|^2\n",
    "\\end{cases}\n",
    "$$\n",
    "and we can correct the quantum error deterministically. \n",
    "\n",
    "It runs our we can devise such measurement schemes and these are what we call quantum error correction codes. In this exercise we will try to get an intution about how this works. Most of the exercise whill be concerened with implementing a working *bit-flip* code on a quantum computer, but as you will (hopefully) see in the very end, the generalization to both phase- and bit-flips is not that hard!"
   ]
  },
  {
   "cell_type": "markdown",
   "metadata": {
    "id": "i3FPhThiFvD0"
   },
   "source": [
    "\n",
    "# An overly simple example: Error detection\n",
    "\n",
    "One of the first quantum circuits that most people ever write is to create a pair of entangled qubits, the Bell state. We will use this state to also gain some intutition about how to detect errors."
   ]
  },
  {
   "cell_type": "markdown",
   "metadata": {
    "id": "2IGhEiTlGH62"
   },
   "source": [
    "### State preparation\n",
    "\n",
    "$\\color{red}{\\text{Exercise 1: Prepare a Bell state}}$\n",
    "\n",
    "If your circuit is correct, running the cell below should yield the results `00` and `11` occurring with equal probability."
   ]
  },
  {
   "cell_type": "code",
   "execution_count": 1,
   "metadata": {
    "colab": {
     "base_uri": "https://localhost:8080/",
     "height": 111
    },
    "executionInfo": {
     "elapsed": 478,
     "status": "ok",
     "timestamp": 1663167538927,
     "user": {
      "displayName": "Dominik Hahn",
      "userId": "09159259743712920381"
     },
     "user_tz": 420
    },
    "id": "RO8_7nGLFvD2",
    "outputId": "f7d9cea5-83f1-46b6-94c7-40485087205b"
   },
   "outputs": [
    {
     "data": {
      "text/html": [
       "<pre style=\"word-wrap: normal;white-space: pre;background: #fff0;line-height: 1.1;font-family: &quot;Courier New&quot;,Courier,monospace\">        ┌───┐     \n",
       "data_0: ┤ H ├──■──\n",
       "        └───┘┌─┴─┐\n",
       "data_1: ─────┤ X ├\n",
       "             └───┘</pre>"
      ],
      "text/plain": [
       "        ┌───┐     \n",
       "data_0: ┤ H ├──■──\n",
       "        └───┘┌─┴─┐\n",
       "data_1: ─────┤ X ├\n",
       "             └───┘"
      ]
     },
     "metadata": {},
     "output_type": "display_data"
    },
    {
     "data": {
      "text/plain": [
       "{'11': 514, '00': 510}"
      ]
     },
     "execution_count": 1,
     "metadata": {},
     "output_type": "execute_result"
    }
   ],
   "source": [
    "from qiskit import *\n",
    "from qiskit import QuantumCircuit, Aer\n",
    "import numpy as np\n",
    "\n",
    "# Make an entangled pair\n",
    "qr_bell = QuantumRegister(2, 'data')\n",
    "qc_init = QuantumCircuit(qr_bell)\n",
    "\n",
    "\n",
    "\n",
    "## YOUR CODE GOES HERE ##\n",
    "qc_init.h(0)\n",
    "qc_init.cx(0,1)\n",
    "\n",
    "\n",
    "\n",
    "# Draw the circuit\n",
    "display(qc_init.draw())\n",
    "\n",
    "# Get an output\n",
    "qc = qc_init.copy()  # deep copy the circuit qc_init\n",
    "qc.measure_all()  # measure all qubits in the z-basis\n",
    "job = Aer.get_backend('qasm_simulator').run(qc)  # run the circuit on a simulator and collect histogram of outcomes\n",
    "job.result().get_counts()  # show histogram"
   ]
  },
  {
   "cell_type": "markdown",
   "metadata": {
    "id": "Hx3jcgGtFvD3"
   },
   "source": [
    "### Error detection 1: measuring the final state\n",
    "But what happens when we have the same circuit, but with an error?\n",
    "\n",
    "$\\color{red}{\\text{Exercise 2: Insert different errors. Check the outcome. Which errors cannot be detected?}}$"
   ]
  },
  {
   "cell_type": "code",
   "execution_count": 5,
   "metadata": {
    "colab": {
     "base_uri": "https://localhost:8080/",
     "height": 157
    },
    "executionInfo": {
     "elapsed": 1360,
     "status": "ok",
     "timestamp": 1663167894389,
     "user": {
      "displayName": "Dominik Hahn",
      "userId": "09159259743712920381"
     },
     "user_tz": 420
    },
    "id": "yy3ERxoDFvD4",
    "outputId": "5e5e57a9-a72c-48ab-b409-141a57e0146e"
   },
   "outputs": [
    {
     "data": {
      "text/html": [
       "<pre style=\"word-wrap: normal;white-space: pre;background: #fff0;line-height: 1.1;font-family: &quot;Courier New&quot;,Courier,monospace\">        ┌───┐      ░ ┌───┐\n",
       "data_0: ┤ H ├──■───░─┤ X ├\n",
       "        └───┘┌─┴─┐ ░ └───┘\n",
       "data_1: ─────┤ X ├─░──────\n",
       "             └───┘ ░      </pre>"
      ],
      "text/plain": [
       "        ┌───┐      ░ ┌───┐\n",
       "data_0: ┤ H ├──■───░─┤ X ├\n",
       "        └───┘┌─┴─┐ ░ └───┘\n",
       "data_1: ─────┤ X ├─░──────\n",
       "             └───┘ ░      "
      ]
     },
     "metadata": {},
     "output_type": "display_data"
    },
    {
     "data": {
      "text/plain": [
       "{'01': 508, '10': 516}"
      ]
     },
     "execution_count": 5,
     "metadata": {},
     "output_type": "execute_result"
    }
   ],
   "source": [
    "# Make bit flip error\n",
    "qc_insert = QuantumCircuit(2)\n",
    "\n",
    "\n",
    "\n",
    "## INSERT DIFFERENT ERROR HERE ##\n",
    "qc_insert.x(0)\n",
    "\n",
    "\n",
    "\n",
    "# Add it to our original circuit\n",
    "qc = qc_init.copy()\n",
    "qc.barrier()\n",
    "qc = qc.compose(qc_insert)\n",
    "\n",
    "# Draw the circuit\n",
    "display(qc.draw())\n",
    "\n",
    "# Get an output\n",
    "qc.measure_all()\n",
    "job = Aer.get_backend('qasm_simulator').run(qc)\n",
    "job.result().get_counts()"
   ]
  },
  {
   "cell_type": "markdown",
   "metadata": {
    "id": "zgp4_O2NFvD5"
   },
   "source": [
    "You'll find that the output will change if you introduce a bit-flip error `x(0)` or `x(1)`, but not if we introduce a phase `z(0)` or `z(1)`. This is expected because what we have implemented so far is basically a *classical* error detection code! Before we move on to how to detect also phase flips however, let us first solve another problem: How to detect bit flips without destroying the prepared state!"
   ]
  },
  {
   "cell_type": "markdown",
   "metadata": {
    "id": "2JoIE_twYNyt"
   },
   "source": [
    "#### Error detection 2: Parity Measurements\n",
    "Note that we can view the Bell state $|\\Psi_+> = \\frac{1}{\\sqrt 2}\\left(|00\\rangle+|11\\rangle\\right)$ as the encoded state of a single qubit state $|+\\rangle=\\frac{1}{\\sqrt 2}\\left(|0\\rangle+|1\\rangle\\right)$. The above measurement in this language then detects a bit-flip error on the the state $|+\\rangle$, but at the cost of destroying the state!\n",
    "The solution to this is to instead of measuring the qubits itself measure only their *parity*, that is the operator $Z_0Z_1$\n",
    "\n",
    "$\\color{red}{\\text{Exercise 3: Measure the parity of the Bell state.}}$\n",
    "\n",
    "Hint: most of the code is already provided, you only need to add the necessary gates to qc_parity. You have only to construct the second part of the code below. With circuit.compose, you can add this circuit at the end to your solution of Exercise 1:\n",
    "\n",
    "\n",
    "![title](Part3.png)\n",
    "\n",
    "If your circuit is correct, the cell below yield the result `0` with propability 1."
   ]
  },
  {
   "cell_type": "code",
   "execution_count": 6,
   "metadata": {
    "colab": {
     "base_uri": "https://localhost:8080/",
     "height": 248
    },
    "executionInfo": {
     "elapsed": 472,
     "status": "ok",
     "timestamp": 1663168924911,
     "user": {
      "displayName": "Dominik Hahn",
      "userId": "09159259743712920381"
     },
     "user_tz": 420
    },
    "id": "2m7OFmU_YNyu",
    "outputId": "24ea2640-9f35-4319-c6b3-4d147f636b27"
   },
   "outputs": [
    {
     "data": {
      "text/html": [
       "<pre style=\"word-wrap: normal;white-space: pre;background: #fff0;line-height: 1.1;font-family: &quot;Courier New&quot;,Courier,monospace\">          ┌───┐      ░              \n",
       "  data_0: ┤ H ├──■───░───■──────────\n",
       "          └───┘┌─┴─┐ ░   │          \n",
       "  data_1: ─────┤ X ├─░───┼────■─────\n",
       "               └───┘ ░ ┌─┴─┐┌─┴─┐┌─┐\n",
       "     aux: ───────────░─┤ X ├┤ X ├┤M├\n",
       "                     ░ └───┘└───┘└╥┘\n",
       "parity: 1/════════════════════════╩═\n",
       "                                  0 </pre>"
      ],
      "text/plain": [
       "          ┌───┐      ░              \n",
       "  data_0: ┤ H ├──■───░───■──────────\n",
       "          └───┘┌─┴─┐ ░   │          \n",
       "  data_1: ─────┤ X ├─░───┼────■─────\n",
       "               └───┘ ░ ┌─┴─┐┌─┴─┐┌─┐\n",
       "     aux: ───────────░─┤ X ├┤ X ├┤M├\n",
       "                     ░ └───┘└───┘└╥┘\n",
       "parity: 1/════════════════════════╩═\n",
       "                                  0 "
      ]
     },
     "metadata": {},
     "output_type": "display_data"
    },
    {
     "data": {
      "text/plain": [
       "{'0': 1024}"
      ]
     },
     "execution_count": 6,
     "metadata": {},
     "output_type": "execute_result"
    }
   ],
   "source": [
    "# init circuit\n",
    "qc_parity = QuantumCircuit(2) \n",
    "\n",
    "# Hint, you need to use one auxilary qubit!\n",
    "qr_aux = QuantumRegister(1, 'aux')\n",
    "cr_par = ClassicalRegister(1, 'parity')\n",
    "qc_parity.add_register(qr_aux)\n",
    "qc_parity.add_register(cr_par)\n",
    "\n",
    "\n",
    "\n",
    "## YOUR CODE GOES HERE ##\n",
    "## It should make qc_parity a circuit that measures the parity of the two qubits in the register cr_par\n",
    "## Note that you do not need to prepare the bell state since qc_parity is composed with qc_init form exercise 1 below\n",
    "qc_parity.cx(0, qr_aux[0])\n",
    "qc_parity.cx(1, qr_aux[0])\n",
    "qc_parity.measure(qr_aux[0], cr_par[0])\n",
    "\n",
    "\n",
    "# compose init and parity measurement\n",
    "qc = qc_init.copy()\n",
    "qc.add_register(qr_aux) # dont forget to add the registers so that composition works\n",
    "qc.add_register(cr_par)\n",
    "qc.barrier()\n",
    "qc = qc.compose(qc_parity)\n",
    "\n",
    "display(qc.draw())\n",
    "\n",
    "# Get an output\n",
    "# qc = qc_parity.copy()\n",
    "job = Aer.get_backend('qasm_simulator').run(qc)\n",
    "job.result().get_counts()"
   ]
  },
  {
   "cell_type": "markdown",
   "metadata": {
    "id": "kEiABqifYNyv"
   },
   "source": [
    "$\\color{red}{\\text{Exercise 4: As before, insert different errors. Which errrors can be detected now?}}$\n",
    "\n",
    "Hint: The cell below already provides a working example, you just have to edit the line below ```# INSERT DIFFERENT ERRORS HERE``` to insert a different operator than $X$ on qubit 0."
   ]
  },
  {
   "cell_type": "code",
   "execution_count": 7,
   "metadata": {
    "colab": {
     "base_uri": "https://localhost:8080/",
     "height": 248
    },
    "executionInfo": {
     "elapsed": 775,
     "status": "ok",
     "timestamp": 1663168099544,
     "user": {
      "displayName": "Dominik Hahn",
      "userId": "09159259743712920381"
     },
     "user_tz": 420
    },
    "id": "Ex9I10SuYNyw",
    "outputId": "e1ee2b43-12c1-48c6-b190-2e1c2cca0817"
   },
   "outputs": [
    {
     "data": {
      "text/html": [
       "<pre style=\"word-wrap: normal;white-space: pre;background: #fff0;line-height: 1.1;font-family: &quot;Courier New&quot;,Courier,monospace\">          ┌───┐      ░ ┌───┐ ░              \n",
       "  data_0: ┤ H ├──■───░─┤ X ├─░───■──────────\n",
       "          └───┘┌─┴─┐ ░ └───┘ ░   │          \n",
       "  data_1: ─────┤ X ├─░───────░───┼────■─────\n",
       "               └───┘ ░       ░ ┌─┴─┐┌─┴─┐┌─┐\n",
       "     aux: ───────────░───────░─┤ X ├┤ X ├┤M├\n",
       "                     ░       ░ └───┘└───┘└╥┘\n",
       "parity: 1/════════════════════════════════╩═\n",
       "                                          0 </pre>"
      ],
      "text/plain": [
       "          ┌───┐      ░ ┌───┐ ░              \n",
       "  data_0: ┤ H ├──■───░─┤ X ├─░───■──────────\n",
       "          └───┘┌─┴─┐ ░ └───┘ ░   │          \n",
       "  data_1: ─────┤ X ├─░───────░───┼────■─────\n",
       "               └───┘ ░       ░ ┌─┴─┐┌─┴─┐┌─┐\n",
       "     aux: ───────────░───────░─┤ X ├┤ X ├┤M├\n",
       "                     ░       ░ └───┘└───┘└╥┘\n",
       "parity: 1/════════════════════════════════╩═\n",
       "                                          0 "
      ]
     },
     "metadata": {},
     "output_type": "display_data"
    },
    {
     "data": {
      "text/plain": [
       "{'1': 1024}"
      ]
     },
     "execution_count": 7,
     "metadata": {},
     "output_type": "execute_result"
    }
   ],
   "source": [
    "# Define an error\n",
    "qc_insert = QuantumCircuit(2)\n",
    "qc_insert.add_register(qr_aux) # dont forget to add the registers so that composition works\n",
    "qc_insert.add_register(cr_par)\n",
    "\n",
    "\n",
    "# INSERT DIFFERENT ERRORS HERE\n",
    "qc_insert.x(0) \n",
    "\n",
    "\n",
    "\n",
    "# Add this after the error\n",
    "qc = qc_init.copy()\n",
    "qc.add_register(qr_aux) # dont forget to add the registers so that composition works\n",
    "qc.add_register(cr_par)\n",
    "qc.barrier()\n",
    "qc = qc.compose(qc_insert)\n",
    "qc.barrier()\n",
    "qc = qc.compose(qc_parity)\n",
    "\n",
    "# Draw the circuit\n",
    "display(qc.draw())\n",
    "\n",
    "# Get an output\n",
    "job = Aer.get_backend('qasm_simulator').run(qc)\n",
    "job.result().get_counts()"
   ]
  },
  {
   "cell_type": "markdown",
   "metadata": {
    "id": "eSp_NbLrYNyx"
   },
   "source": [
    "Again, we can detect bit-flip but no phase flip errors. Note however, that in the circuit above, we do not measure any of the data qubits! In fact, the bell state is an eigenstate of parity $Z_0 Z_1$, which means that if we do measure `1`, we can use the state on the data qubits and be sure that no bit-flip error occurred with respect to the initial state.\n",
    "\n",
    "Before we move on to detect also phase flips, we have one more problem to solve for the bit-flip errors: the above circuit tells us if a bitflip happened, but it doesnt tell us where! If we only new where the bitflip occured, we could even actively apply a *recovery* operation to restore the original state! It turns out, we only need to use one more data-qubit to achieve this!"
   ]
  },
  {
   "cell_type": "markdown",
   "metadata": {
    "id": "bzfzuugdYNyx"
   },
   "source": [
    "# The bit-flip repetition code on a quantum computer\n",
    "\n",
    "In the next part, we go a step further. We now consider a 3-qubit code which uses parity checks to detect the presence and position of an X error. Although this is essentially a classical code, we still have to avoid some pitfalls if we want to implement it on a quantum computer!"
   ]
  },
  {
   "cell_type": "markdown",
   "metadata": {
    "id": "ZUKXArZTOBIr"
   },
   "source": [
    "### State preparation.. again\n",
    "$\\color{red}{\\text{Exercise 5: Encode the state }~|\\psi\\rangle = \\frac{1}{\\sqrt{2}}(|0\\rangle + i|1\\rangle)~\\text{into the 3-qubit code state of the repitition code}~|\\bar\\psi\\rangle=\\frac{1}{\\sqrt{2}}(|000\\rangle + i|111\\rangle)~\\text{to be protected from one bit-flip ( X ) error}}$"
   ]
  },
  {
   "cell_type": "code",
   "execution_count": 8,
   "metadata": {
    "colab": {
     "base_uri": "https://localhost:8080/",
     "height": 125
    },
    "executionInfo": {
     "elapsed": 313,
     "status": "ok",
     "timestamp": 1663166315959,
     "user": {
      "displayName": "Dominik Hahn",
      "userId": "09159259743712920381"
     },
     "user_tz": 420
    },
    "id": "VUfbFr2bOUcR",
    "outputId": "8b7d391d-a1ce-4ead-d21a-22614553f676"
   },
   "outputs": [
    {
     "data": {
      "text/html": [
       "<pre style=\"word-wrap: normal;white-space: pre;background: #fff0;line-height: 1.1;font-family: &quot;Courier New&quot;,Courier,monospace\">        ┌───┐┌────────┐          \n",
       "data_0: ┤ H ├┤ P(π/2) ├──■───────\n",
       "        └───┘└────────┘┌─┴─┐     \n",
       "data_1: ───────────────┤ X ├──■──\n",
       "                       └───┘┌─┴─┐\n",
       "data_2: ────────────────────┤ X ├\n",
       "                            └───┘</pre>"
      ],
      "text/plain": [
       "        ┌───┐┌────────┐          \n",
       "data_0: ┤ H ├┤ P(π/2) ├──■───────\n",
       "        └───┘└────────┘┌─┴─┐     \n",
       "data_1: ───────────────┤ X ├──■──\n",
       "                       └───┘┌─┴─┐\n",
       "data_2: ────────────────────┤ X ├\n",
       "                            └───┘"
      ]
     },
     "execution_count": 8,
     "metadata": {},
     "output_type": "execute_result"
    }
   ],
   "source": [
    "qr_3qx_data = QuantumRegister(3, 'data')\n",
    "qc_3qx_init = QuantumCircuit(qr_3qx_data)\n",
    "\n",
    "\n",
    "\n",
    "\n",
    "## YOUR CODE GOES HERE ##\n",
    "# Hint: generalize your circuit from exercise 1!\n",
    "qc_3qx_init.h(qr_3qx_data[0])\n",
    "qc_3qx_init.p(np.pi/2, qr_3qx_data[0])\n",
    "qc_3qx_init.cx(qr_3qx_data[0], qr_3qx_data[1])\n",
    "qc_3qx_init.cx(qr_3qx_data[1], qr_3qx_data[2])\n",
    "\n",
    "\n",
    "\n",
    "#######\n",
    "qc_3qx_init.draw()"
   ]
  },
  {
   "cell_type": "markdown",
   "metadata": {
    "id": "o30AdcpGPosz"
   },
   "source": [
    "$\\color{red}{\\text{Exercise 6: Plot the 3-qubit code state produced by the above circuit, } {\\tt qc\\_3qx} \\text{ on the qsphere to validate the encoding}}$"
   ]
  },
  {
   "cell_type": "markdown",
   "metadata": {
    "id": "AOIKjjZtP5dS"
   },
   "source": [
    "- Check the [method](https://qiskit.org/documentation/stubs/qiskit.quantum_info.Statevector.html#qiskit.quantum_info.Statevector.from_instruction) which returns a statevector produced by a quantum circuit.\n",
    "- Check [here](https://qiskit.org/documentation/tutorials/circuits/2_plotting_data_in_qiskit.html#Plot-State) to plot a quantum state on the qsphere."
   ]
  },
  {
   "cell_type": "code",
   "execution_count": 9,
   "metadata": {
    "colab": {
     "base_uri": "https://localhost:8080/",
     "height": 411
    },
    "executionInfo": {
     "elapsed": 520,
     "status": "ok",
     "timestamp": 1663166319819,
     "user": {
      "displayName": "Dominik Hahn",
      "userId": "09159259743712920381"
     },
     "user_tz": 420
    },
    "id": "AyNquh08PNon",
    "outputId": "75f422bf-4590-44a9-8184-377d689593af"
   },
   "outputs": [
    {
     "data": {
      "image/png": "[encoded data removed]",
      "text/plain": [
       "<Figure size 700x700 with 2 Axes>"
      ]
     },
     "execution_count": 9,
     "metadata": {},
     "output_type": "execute_result"
    }
   ],
   "source": [
    "from qiskit.visualization import plot_state_qsphere\n",
    "backend = BasicAer.get_backend('statevector_simulator') # the device to run on\n",
    "\n",
    "\n",
    "\n",
    "## YOUR CODE GOES HERE ##\n",
    "result = backend.run(transpile(qc_3qx_init, backend)).result()\n",
    "psi  = result.get_statevector(qc_3qx_init)\n",
    "plot_state_qsphere(psi)"
   ]
  },
  {
   "cell_type": "markdown",
   "metadata": {
    "id": "2s2ul7ytROvN"
   },
   "source": [
    "### Parity Measurements.. again\n",
    "\n",
    "$\\color{red}{\\text{Exercise 7: Implement a circuit that measures the two parity checks}~Z_0Z_1~\\text{and}~Z_1Z_2}$\n",
    "\n",
    "\n",
    "If your circuit is correct, the cell below yield the result `00` with probability 1."
   ]
  },
  {
   "cell_type": "code",
   "execution_count": 10,
   "metadata": {
    "colab": {
     "base_uri": "https://localhost:8080/",
     "height": 235
    },
    "executionInfo": {
     "elapsed": 266,
     "status": "ok",
     "timestamp": 1663166324008,
     "user": {
      "displayName": "Dominik Hahn",
      "userId": "09159259743712920381"
     },
     "user_tz": 420
    },
    "id": "-vAD5crTYNy0",
    "outputId": "acca11c0-ceb8-421c-9a35-3de1012d6fb1"
   },
   "outputs": [
    {
     "data": {
      "text/html": [
       "<pre style=\"word-wrap: normal;white-space: pre;background: #fff0;line-height: 1.1;font-family: &quot;Courier New&quot;,Courier,monospace\">                                     \n",
       "   data_0: ──■───────────────────────\n",
       "             │                       \n",
       "   data_1: ──┼────■────■─────────────\n",
       "             │    │    │             \n",
       "   data_2: ──┼────┼────┼───────■─────\n",
       "           ┌─┴─┐┌─┴─┐  │  ┌─┐  │     \n",
       "measure_0: ┤ X ├┤ X ├──┼──┤M├──┼─────\n",
       "           └───┘└───┘┌─┴─┐└╥┘┌─┴─┐┌─┐\n",
       "measure_1: ──────────┤ X ├─╫─┤ X ├┤M├\n",
       "                     └───┘ ║ └───┘└╥┘\n",
       " parity: 2/════════════════╩═══════╩═\n",
       "                           0       1 </pre>"
      ],
      "text/plain": [
       "                                     \n",
       "   data_0: ──■───────────────────────\n",
       "             │                       \n",
       "   data_1: ──┼────■────■─────────────\n",
       "             │    │    │             \n",
       "   data_2: ──┼────┼────┼───────■─────\n",
       "           ┌─┴─┐┌─┴─┐  │  ┌─┐  │     \n",
       "measure_0: ┤ X ├┤ X ├──┼──┤M├──┼─────\n",
       "           └───┘└───┘┌─┴─┐└╥┘┌─┴─┐┌─┐\n",
       "measure_1: ──────────┤ X ├─╫─┤ X ├┤M├\n",
       "                     └───┘ ║ └───┘└╥┘\n",
       " parity: 2/════════════════╩═══════╩═\n",
       "                           0       1 "
      ]
     },
     "metadata": {},
     "output_type": "display_data"
    },
    {
     "data": {
      "text/plain": [
       "{'00': 1024}"
      ]
     },
     "execution_count": 10,
     "metadata": {},
     "output_type": "execute_result"
    }
   ],
   "source": [
    "## YOUR CODE GOES HERE ##\n",
    "\n",
    "qc_3qx_parity = QuantumCircuit(qr_3qx_data) \n",
    "# Hint: you now need two ancillas and two classical measurement bits\n",
    "qr_3qx_aux = QuantumRegister(2, 'measure')\n",
    "cr_3qx_par = ClassicalRegister(2, 'parity')\n",
    "\n",
    "qc_3qx_parity.add_register(qr_3qx_aux)\n",
    "qc_3qx_parity.add_register(cr_3qx_par)\n",
    "\n",
    "### your code goes here. ### \n",
    "qc_3qx_parity.cx(qr_3qx_data[0], qr_3qx_aux[0]) \n",
    "qc_3qx_parity.cx(qr_3qx_data[1], qr_3qx_aux[0])\n",
    "qc_3qx_parity.cx(qr_3qx_data[1], qr_3qx_aux[1])\n",
    "qc_3qx_parity.cx(qr_3qx_data[2], qr_3qx_aux[1])\n",
    "qc_3qx_parity.measure(qr_3qx_aux[0], cr_3qx_par[0])\n",
    "qc_3qx_parity.measure(qr_3qx_aux[1], cr_3qx_par[1])\n",
    "\n",
    "\n",
    "\n",
    "# this draws the parity part only\n",
    "display(qc_3qx_parity.draw())\n",
    "\n",
    "\n",
    "# compose with state preparation \n",
    "qc = qc_3qx_init.copy()\n",
    "qc.add_register(qr_3qx_aux) # dont forget to add registers for compose to work\n",
    "qc.add_register(cr_3qx_par)\n",
    "qc = qc.compose(qc_3qx_parity)\n",
    "# Get an output\n",
    "job = Aer.get_backend('qasm_simulator').run(qc)\n",
    "job.result().get_counts()"
   ]
  },
  {
   "cell_type": "markdown",
   "metadata": {
    "id": "7VNTk0wBYNy1"
   },
   "source": [
    "$\\color{red}{\\text{Exercise 8: Again, insert different errors and inspect the outcomes. How do we infer from the outcome of the two parity measurement where the bit-flip happened?}}$"
   ]
  },
  {
   "cell_type": "code",
   "execution_count": 11,
   "metadata": {
    "colab": {
     "base_uri": "https://localhost:8080/",
     "height": 235
    },
    "executionInfo": {
     "elapsed": 164,
     "status": "ok",
     "timestamp": 1663166327064,
     "user": {
      "displayName": "Dominik Hahn",
      "userId": "09159259743712920381"
     },
     "user_tz": 420
    },
    "id": "JnVZy5zCYNy1",
    "outputId": "1c9b41e2-b8f5-4fee-de3a-c9934c3ca2da"
   },
   "outputs": [
    {
     "data": {
      "text/html": [
       "<pre style=\"word-wrap: normal;white-space: pre;background: #fff0;line-height: 1.1;font-family: &quot;Courier New&quot;,Courier,monospace\">           ┌───┐┌────────┐     ┌───┐                          \n",
       "   data_0: ┤ H ├┤ P(π/2) ├──■──┤ X ├──■───────────────────────\n",
       "           └───┘└────────┘┌─┴─┐└───┘  │                       \n",
       "   data_1: ───────────────┤ X ├──■────┼────■────■─────────────\n",
       "                          └───┘┌─┴─┐  │    │    │             \n",
       "   data_2: ────────────────────┤ X ├──┼────┼────┼───────■─────\n",
       "                               └───┘┌─┴─┐┌─┴─┐  │  ┌─┐  │     \n",
       "measure_0: ─────────────────────────┤ X ├┤ X ├──┼──┤M├──┼─────\n",
       "                                    └───┘└───┘┌─┴─┐└╥┘┌─┴─┐┌─┐\n",
       "measure_1: ───────────────────────────────────┤ X ├─╫─┤ X ├┤M├\n",
       "                                              └───┘ ║ └───┘└╥┘\n",
       " parity: 2/═════════════════════════════════════════╩═══════╩═\n",
       "                                                    0       1 </pre>"
      ],
      "text/plain": [
       "           ┌───┐┌────────┐     ┌───┐                          \n",
       "   data_0: ┤ H ├┤ P(π/2) ├──■──┤ X ├──■───────────────────────\n",
       "           └───┘└────────┘┌─┴─┐└───┘  │                       \n",
       "   data_1: ───────────────┤ X ├──■────┼────■────■─────────────\n",
       "                          └───┘┌─┴─┐  │    │    │             \n",
       "   data_2: ────────────────────┤ X ├──┼────┼────┼───────■─────\n",
       "                               └───┘┌─┴─┐┌─┴─┐  │  ┌─┐  │     \n",
       "measure_0: ─────────────────────────┤ X ├┤ X ├──┼──┤M├──┼─────\n",
       "                                    └───┘└───┘┌─┴─┐└╥┘┌─┴─┐┌─┐\n",
       "measure_1: ───────────────────────────────────┤ X ├─╫─┤ X ├┤M├\n",
       "                                              └───┘ ║ └───┘└╥┘\n",
       " parity: 2/═════════════════════════════════════════╩═══════╩═\n",
       "                                                    0       1 "
      ]
     },
     "metadata": {},
     "output_type": "display_data"
    },
    {
     "data": {
      "text/plain": [
       "{'01': 1024}"
      ]
     },
     "execution_count": 11,
     "metadata": {},
     "output_type": "execute_result"
    }
   ],
   "source": [
    "# Define an error\n",
    "qc_3qx_insert = QuantumCircuit(2)\n",
    "qc_3qx_insert.add_register(qr_3qx_aux) # dont forget to add the registers so that composition works\n",
    "qc_3qx_insert.add_register(cr_3qx_par)\n",
    "\n",
    "\n",
    "\n",
    "## INSERT DIFFERENT ERRORS HERE ##\n",
    "qc_3qx_insert.x(0)\n",
    "\n",
    "\n",
    "\n",
    "# Add this after the error\n",
    "qc = qc_3qx_init.copy()\n",
    "qc.add_register(qr_3qx_aux) # dont forget to add the registers so that composition works\n",
    "qc.add_register(cr_3qx_par)\n",
    "qc = qc.compose(qc_3qx_insert)\n",
    "qc = qc.compose(qc_3qx_parity)\n",
    "\n",
    "# Draw the circuit\n",
    "display(qc.draw())\n",
    "\n",
    "# Get an output\n",
    "job = Aer.get_backend('qasm_simulator').run(qc)\n",
    "job.result().get_counts()"
   ]
  },
  {
   "cell_type": "markdown",
   "metadata": {
    "id": "GrFeIL_OYNy2"
   },
   "source": [
    "### Correcting Bit-Flips\n",
    "\n",
    "The following operation will apply a single bit flip error on the code. Execute the cells below."
   ]
  },
  {
   "cell_type": "code",
   "execution_count": 12,
   "metadata": {
    "executionInfo": {
     "elapsed": 326,
     "status": "ok",
     "timestamp": 1663166330407,
     "user": {
      "displayName": "Dominik Hahn",
      "userId": "09159259743712920381"
     },
     "user_tz": 420
    },
    "id": "PnJTHpDHQ1zD"
   },
   "outputs": [],
   "source": [
    "def apply_err(n, err):\n",
    "    \n",
    "    qc = QuantumCircuit(int(n), name='Error')\n",
    "    which_qubit = np.random.randint(n)\n",
    "    \n",
    "    if err=='bit':\n",
    "        qc.x(which_qubit)\n",
    "    elif err=='phase':\n",
    "        qc.z(which_qubit)\n",
    "    else:\n",
    "        pass\n",
    "    \n",
    "    err_str = ['1' for _ in range(n)]\n",
    "    err_str[which_qubit] = 'x' if err=='bit' else 'z'\n",
    "    \n",
    "    return qc.to_gate(), ''.join(err_str)"
   ]
  },
  {
   "cell_type": "markdown",
   "metadata": {
    "id": "SY1BcwmERx5g"
   },
   "source": [
    "Apply the parity check gates on the circuit `qc` with the extra registers for the appropriate number of auxiliary qubits and syndrome bits to locate a bit-flip ( X ) error on a single qubit in the code. ( For 3 qubit code, the number of syndrome bit states is equal to the number of possible single bit-flip error, including no error.)"
   ]
  },
  {
   "cell_type": "markdown",
   "metadata": {
    "id": "0sxnkARcVltq"
   },
   "source": [
    "$\\color{red}{\\text{Exercise 9:  Complete the dictionary in the following cell to make the syndrome look-up table for all single bit-flip errors on the three qubit code.}}$\n",
    "Hint: Watch out the order of the measurement output when using backend.run()"
   ]
  },
  {
   "cell_type": "markdown",
   "metadata": {
    "id": "Sc6I1vO0V4sV"
   },
   "source": [
    "The key of the dictionary is a two-bit string denoting the outcome of the parity measurements (called the 'syndrome') and the values reprent the corresponding a single qubit error gates with the appropriate qubit indicies on the code circuit."
   ]
  },
  {
   "cell_type": "code",
   "execution_count": 13,
   "metadata": {
    "colab": {
     "base_uri": "https://localhost:8080/"
    },
    "executionInfo": {
     "elapsed": 205,
     "status": "ok",
     "timestamp": 1663166339116,
     "user": {
      "displayName": "Dominik Hahn",
      "userId": "09159259743712920381"
     },
     "user_tz": 420
    },
    "id": "gZj7JTUMS9yJ",
    "outputId": "855d4e60-9448-4a4f-8b44-00b3637b0f00"
   },
   "outputs": [
    {
     "name": "stdout",
     "output_type": "stream",
     "text": [
      "{'00': '111', '01': 'x11', '10': '11x', '11': '1x1'}\n"
     ]
    }
   ],
   "source": [
    "#### complete the dictionary ###\n",
    "\n",
    "# table_syndrome_3qx = {'00': '111', '01':' your answer ', \n",
    "#                       '10':' your answer ', '11':'1x1'}\n",
    "\n",
    "table_syndrome_3qx = {'00': '111', '01':'x11',   #Watch out the order, this is due to the convention of the IBM output\n",
    "                      '10': '11x', '11':'1x1'}\n",
    "######\n",
    "print(table_syndrome_3qx)"
   ]
  },
  {
   "cell_type": "markdown",
   "metadata": {
    "id": "0QluZZFUWZd7"
   },
   "source": [
    "If your dictionary is correct, the cell below should always print True!"
   ]
  },
  {
   "cell_type": "code",
   "execution_count": 14,
   "metadata": {
    "colab": {
     "base_uri": "https://localhost:8080/",
     "height": 235
    },
    "executionInfo": {
     "elapsed": 9,
     "status": "ok",
     "timestamp": 1663166341706,
     "user": {
      "displayName": "Dominik Hahn",
      "userId": "09159259743712920381"
     },
     "user_tz": 420
    },
    "id": "co2M6hqTWawe",
    "outputId": "5ffa9572-e686-43d2-a057-ce65e07bb4d4"
   },
   "outputs": [
    {
     "data": {
      "text/html": [
       "<pre style=\"word-wrap: normal;white-space: pre;background: #fff0;line-height: 1.1;font-family: &quot;Courier New&quot;,Courier,monospace\">           ┌───┐┌────────┐          ┌────────┐                          \n",
       "   data_0: ┤ H ├┤ P(π/2) ├──■───────┤0       ├──■───────────────────────\n",
       "           └───┘└────────┘┌─┴─┐     │        │  │                       \n",
       "   data_1: ───────────────┤ X ├──■──┤1 Error ├──┼────■────■─────────────\n",
       "                          └───┘┌─┴─┐│        │  │    │    │             \n",
       "   data_2: ────────────────────┤ X ├┤2       ├──┼────┼────┼───────■─────\n",
       "                               └───┘└────────┘┌─┴─┐┌─┴─┐  │  ┌─┐  │     \n",
       "measure_0: ───────────────────────────────────┤ X ├┤ X ├──┼──┤M├──┼─────\n",
       "                                              └───┘└───┘┌─┴─┐└╥┘┌─┴─┐┌─┐\n",
       "measure_1: ─────────────────────────────────────────────┤ X ├─╫─┤ X ├┤M├\n",
       "                                                        └───┘ ║ └───┘└╥┘\n",
       " parity: 2/═══════════════════════════════════════════════════╩═══════╩═\n",
       "                                                              0       1 </pre>"
      ],
      "text/plain": [
       "           ┌───┐┌────────┐          ┌────────┐                          \n",
       "   data_0: ┤ H ├┤ P(π/2) ├──■───────┤0       ├──■───────────────────────\n",
       "           └───┘└────────┘┌─┴─┐     │        │  │                       \n",
       "   data_1: ───────────────┤ X ├──■──┤1 Error ├──┼────■────■─────────────\n",
       "                          └───┘┌─┴─┐│        │  │    │    │             \n",
       "   data_2: ────────────────────┤ X ├┤2       ├──┼────┼────┼───────■─────\n",
       "                               └───┘└────────┘┌─┴─┐┌─┴─┐  │  ┌─┐  │     \n",
       "measure_0: ───────────────────────────────────┤ X ├┤ X ├──┼──┤M├──┼─────\n",
       "                                              └───┘└───┘┌─┴─┐└╥┘┌─┴─┐┌─┐\n",
       "measure_1: ─────────────────────────────────────────────┤ X ├─╫─┤ X ├┤M├\n",
       "                                                        └───┘ ║ └───┘└╥┘\n",
       " parity: 2/═══════════════════════════════════════════════════╩═══════╩═\n",
       "                                                              0       1 "
      ]
     },
     "metadata": {},
     "output_type": "display_data"
    },
    {
     "name": "stdout",
     "output_type": "stream",
     "text": [
      "True\n"
     ]
    }
   ],
   "source": [
    "# qc_3qx_trans = transpile(qc_3qx, sim)\n",
    "# syndrome = sim.run(qc_3qx_trans, shots=1, memory=True).result().get_memory()\n",
    "# print(syndrome)\n",
    "\n",
    "# get random error\n",
    "err, err_str = apply_err(3, 'bit')\n",
    "\n",
    "# Add this after the error\n",
    "qc = qc_3qx_init.copy()\n",
    "qc = qc.compose(err)\n",
    "qc.add_register(qr_3qx_aux) # dont forget to add the registers so that composition works\n",
    "qc.add_register(cr_3qx_par)\n",
    "qc = qc.compose(qc_3qx_parity)\n",
    "\n",
    "# Draw the circuit\n",
    "display(qc.draw())\n",
    "\n",
    "\n",
    "# Get an output\n",
    "sim = Aer.get_backend('aer_simulator')\n",
    "qc_trans = transpile(qc, sim)\n",
    "syndrome = sim.run(qc_trans, shots=1, memory=True).result().get_memory()[0]\n",
    "\n",
    "print(table_syndrome_3qx[syndrome] == err_str)"
   ]
  },
  {
   "cell_type": "markdown",
   "metadata": {
    "id": "QkY-WnFwYNy5"
   },
   "source": [
    "We are now able to sucessfully detect any bit (single) bit flip on our logical qubit and we can use this information to apply a recovery operation. \n",
    "$\\color{red}{\\text{Convince yourself that even though we do not learn the logical state of the data qubit, we can use the syndrome information to construct a recovery that corrects the bitflip error!}}$"
   ]
  },
  {
   "cell_type": "markdown",
   "metadata": {
    "id": "LzKmU93DYNy5"
   },
   "source": [
    "# What about phase-flips?\n",
    "\n",
    "Now that we can recover from bit-flips, lets consider how we can adapt the procedure above to detect phase-flips instead of bit-flips. It turns out that this is almost trivial since we can convert an bitflip `x` error to a `z` error by conjugating it with hadamard gates! \n",
    "$$\n",
    "HXH = Z\n",
    "$$ \n",
    "\n",
    "$\\color{red}{\\text{Exercise 10: Implement the three-qubit phase-flip code!}}$\n",
    "1. Implement a new encoding circuit `qc_3qz_init`\n",
    "2. Implement a new parity measurement circuit `qc_3qz_parity`\n",
    "3. Implement a new lookup table `table_syndrome_3qz`"
   ]
  },
  {
   "cell_type": "code",
   "execution_count": 15,
   "metadata": {
    "colab": {
     "base_uri": "https://localhost:8080/",
     "height": 325
    },
    "executionInfo": {
     "elapsed": 216,
     "status": "ok",
     "timestamp": 1663169559579,
     "user": {
      "displayName": "Dominik Hahn",
      "userId": "09159259743712920381"
     },
     "user_tz": 420
    },
    "id": "J-bcNAIBYNy5",
    "outputId": "0890bd11-d49d-4157-c530-329f64a7bd6d"
   },
   "outputs": [
    {
     "data": {
      "text/html": [
       "<pre style=\"word-wrap: normal;white-space: pre;background: #fff0;line-height: 1.1;font-family: &quot;Courier New&quot;,Courier,monospace\">        ┌───┐┌────────┐     ┌───┐     \n",
       "data_0: ┤ H ├┤ P(π/2) ├──■──┤ H ├─────\n",
       "        └───┘└────────┘┌─┴─┐└───┘┌───┐\n",
       "data_1: ───────────────┤ X ├──■──┤ H ├\n",
       "                       └───┘┌─┴─┐├───┤\n",
       "data_2: ────────────────────┤ X ├┤ H ├\n",
       "                            └───┘└───┘</pre>"
      ],
      "text/plain": [
       "        ┌───┐┌────────┐     ┌───┐     \n",
       "data_0: ┤ H ├┤ P(π/2) ├──■──┤ H ├─────\n",
       "        └───┘└────────┘┌─┴─┐└───┘┌───┐\n",
       "data_1: ───────────────┤ X ├──■──┤ H ├\n",
       "                       └───┘┌─┴─┐├───┤\n",
       "data_2: ────────────────────┤ X ├┤ H ├\n",
       "                            └───┘└───┘"
      ]
     },
     "metadata": {},
     "output_type": "display_data"
    },
    {
     "data": {
      "text/html": [
       "<pre style=\"word-wrap: normal;white-space: pre;background: #fff0;line-height: 1.1;font-family: &quot;Courier New&quot;,Courier,monospace\">           ┌───┐                          \n",
       "   data_0: ┤ H ├──■───────────────────────\n",
       "           ├───┤  │                       \n",
       "   data_1: ┤ H ├──┼────■────■─────────────\n",
       "           ├───┤  │    │    │             \n",
       "   data_2: ┤ H ├──┼────┼────┼───────■─────\n",
       "           └───┘┌─┴─┐┌─┴─┐  │  ┌─┐  │     \n",
       "measure_0: ─────┤ X ├┤ X ├──┼──┤M├──┼─────\n",
       "                └───┘└───┘┌─┴─┐└╥┘┌─┴─┐┌─┐\n",
       "measure_1: ───────────────┤ X ├─╫─┤ X ├┤M├\n",
       "                          └───┘ ║ └───┘└╥┘\n",
       " parity: 2/═════════════════════╩═══════╩═\n",
       "                                0       1 </pre>"
      ],
      "text/plain": [
       "           ┌───┐                          \n",
       "   data_0: ┤ H ├──■───────────────────────\n",
       "           ├───┤  │                       \n",
       "   data_1: ┤ H ├──┼────■────■─────────────\n",
       "           ├───┤  │    │    │             \n",
       "   data_2: ┤ H ├──┼────┼────┼───────■─────\n",
       "           └───┘┌─┴─┐┌─┴─┐  │  ┌─┐  │     \n",
       "measure_0: ─────┤ X ├┤ X ├──┼──┤M├──┼─────\n",
       "                └───┘└───┘┌─┴─┐└╥┘┌─┴─┐┌─┐\n",
       "measure_1: ───────────────┤ X ├─╫─┤ X ├┤M├\n",
       "                          └───┘ ║ └───┘└╥┘\n",
       " parity: 2/═════════════════════╩═══════╩═\n",
       "                                0       1 "
      ]
     },
     "metadata": {},
     "output_type": "display_data"
    }
   ],
   "source": [
    "### YOUR CODE GOES HERE ###\n",
    "\n",
    "# HINT: For both, state preparation and parity checks, you can simply copy the circuits of the bit-flip code and add three additional Hadamard gates!\n",
    "\n",
    "qr_3qz_data = QuantumRegister(3, 'data')\n",
    "qc_3qz_init = QuantumCircuit(qr_3qz_data)\n",
    "\n",
    "# state preparation\n",
    "qc_3qz_init = qc_3qx_init.copy()\n",
    "qc_3qz_init.h(0)\n",
    "qc_3qz_init.h(1)\n",
    "qc_3qz_init.h(2)\n",
    "\n",
    "display(qc_3qz_init.draw())\n",
    "\n",
    "\n",
    "# parity measurement\n",
    "qc_3qz_parity = QuantumCircuit(qr_3qz_data) \n",
    "qr_3qz_aux = QuantumRegister(2, 'measure')\n",
    "cr_3qz_par = ClassicalRegister(2, 'parity')\n",
    "qc_3qz_parity.add_register(qr_3qz_aux)\n",
    "qc_3qz_parity.add_register(cr_3qz_par)\n",
    "\n",
    "qc_3qz_parity.h(0)\n",
    "qc_3qz_parity.h(1)\n",
    "qc_3qz_parity.h(2)\n",
    "qc_3qz_parity = qc_3qz_parity.compose(qc_3qx_parity)\n",
    "\n",
    "display(qc_3qz_parity.draw())\n",
    "\n",
    "table_syndrome_3qz = {'00': '111', '01':'z11',   #Watch out the order, this is due to the convention of the IBM output\n",
    "                      '10': '11z', '11':'1z1'}"
   ]
  },
  {
   "cell_type": "markdown",
   "metadata": {
    "id": "HkySusqHYNy6"
   },
   "source": [
    "if you implementation of the phase flip code is correct, the cell below should always evaluate to True!"
   ]
  },
  {
   "cell_type": "code",
   "execution_count": 16,
   "metadata": {
    "id": "8Fk6q_fIYNy6",
    "outputId": "22831014-0ec4-4580-d28b-8f9b7acc384d"
   },
   "outputs": [
    {
     "data": {
      "text/html": [
       "<pre style=\"word-wrap: normal;white-space: pre;background: #fff0;line-height: 1.1;font-family: &quot;Courier New&quot;,Courier,monospace\">           ┌───┐┌────────┐     ┌───┐     ┌────────┐┌───┐                       »\n",
       "   data_0: ┤ H ├┤ P(π/2) ├──■──┤ H ├─────┤0       ├┤ H ├──■────────────────────»\n",
       "           └───┘└────────┘┌─┴─┐└───┘┌───┐│        │├───┤  │                    »\n",
       "   data_1: ───────────────┤ X ├──■──┤ H ├┤1 Error ├┤ H ├──┼────■────■──────────»\n",
       "                          └───┘┌─┴─┐├───┤│        │├───┤  │    │    │          »\n",
       "   data_2: ────────────────────┤ X ├┤ H ├┤2       ├┤ H ├──┼────┼────┼───────■──»\n",
       "                               └───┘└───┘└────────┘└───┘┌─┴─┐┌─┴─┐  │  ┌─┐  │  »\n",
       "measure_0: ─────────────────────────────────────────────┤ X ├┤ X ├──┼──┤M├──┼──»\n",
       "                                                        └───┘└───┘┌─┴─┐└╥┘┌─┴─┐»\n",
       "measure_1: ───────────────────────────────────────────────────────┤ X ├─╫─┤ X ├»\n",
       "                                                                  └───┘ ║ └───┘»\n",
       " parity: 2/═════════════════════════════════════════════════════════════╩══════»\n",
       "                                                                        0      »\n",
       "«              \n",
       "«   data_0: ───\n",
       "«              \n",
       "«   data_1: ───\n",
       "«              \n",
       "«   data_2: ───\n",
       "«              \n",
       "«measure_0: ───\n",
       "«           ┌─┐\n",
       "«measure_1: ┤M├\n",
       "«           └╥┘\n",
       "« parity: 2/═╩═\n",
       "«            1 </pre>"
      ],
      "text/plain": [
       "           ┌───┐┌────────┐     ┌───┐     ┌────────┐┌───┐                       »\n",
       "   data_0: ┤ H ├┤ P(π/2) ├──■──┤ H ├─────┤0       ├┤ H ├──■────────────────────»\n",
       "           └───┘└────────┘┌─┴─┐└───┘┌───┐│        │├───┤  │                    »\n",
       "   data_1: ───────────────┤ X ├──■──┤ H ├┤1 Error ├┤ H ├──┼────■────■──────────»\n",
       "                          └───┘┌─┴─┐├───┤│        │├───┤  │    │    │          »\n",
       "   data_2: ────────────────────┤ X ├┤ H ├┤2       ├┤ H ├──┼────┼────┼───────■──»\n",
       "                               └───┘└───┘└────────┘└───┘┌─┴─┐┌─┴─┐  │  ┌─┐  │  »\n",
       "measure_0: ─────────────────────────────────────────────┤ X ├┤ X ├──┼──┤M├──┼──»\n",
       "                                                        └───┘└───┘┌─┴─┐└╥┘┌─┴─┐»\n",
       "measure_1: ───────────────────────────────────────────────────────┤ X ├─╫─┤ X ├»\n",
       "                                                                  └───┘ ║ └───┘»\n",
       " parity: 2/═════════════════════════════════════════════════════════════╩══════»\n",
       "                                                                        0      »\n",
       "«              \n",
       "«   data_0: ───\n",
       "«              \n",
       "«   data_1: ───\n",
       "«              \n",
       "«   data_2: ───\n",
       "«              \n",
       "«measure_0: ───\n",
       "«           ┌─┐\n",
       "«measure_1: ┤M├\n",
       "«           └╥┘\n",
       "« parity: 2/═╩═\n",
       "«            1 "
      ]
     },
     "metadata": {},
     "output_type": "display_data"
    },
    {
     "name": "stdout",
     "output_type": "stream",
     "text": [
      "True\n"
     ]
    }
   ],
   "source": [
    "# get random error\n",
    "err, err_str = apply_err(3, 'phase')\n",
    "\n",
    "# Add this after the error\n",
    "qc = qc_3qz_init.copy()\n",
    "qc = qc.compose(err)\n",
    "qc.add_register(qr_3qz_aux) # dont forget to add the registers so that composition works\n",
    "qc.add_register(cr_3qz_par)\n",
    "qc = qc.compose(qc_3qz_parity)\n",
    "\n",
    "# Draw the circuit\n",
    "display(qc.draw())\n",
    "\n",
    "# Get an output\n",
    "sim = Aer.get_backend('aer_simulator')\n",
    "qc_trans = transpile(qc, sim)\n",
    "syndrome = sim.run(qc_trans, shots=1, memory=True).result().get_memory()[0]\n",
    "\n",
    "# print(syndrome, err_str)\n",
    "\n",
    "print(table_syndrome_3qz[syndrome] == err_str)"
   ]
  },
  {
   "cell_type": "markdown",
   "metadata": {
    "id": "mWlmzxoHYNy7"
   },
   "source": [
    "# A full-fledged quantum-error-correction code\n",
    "We now know how to detect and correct bit-flips and phase-flips independently. However this is not enough on a real device, where both errors can happen, even simultaneously!\n",
    "\n",
    "The easiest solution to this problem --  and the one proposed in Shor's original paper [2] -- is what is called *code concatenation*, that is we implement for example a phase-flip code, but with each qubit substituted by a bit-flip code!\n",
    "\n",
    "$\\color{red}{\\text{Exercise 11: Convince yourself that this works in principle :)}}$"
   ]
  },
  {
   "cell_type": "markdown",
   "metadata": {
    "id": "ORE0wRGnZgZT"
   },
   "source": [
    "Shor's 9-qubit code is not very practically, both in that it requires measuring six-body parities and in that it uses nine qubit, although one can correct a single bit and phase-flip simultaneously using only [5 code qubits](https://en.wikipedia.org/wiki/Five-qubit_error_correcting_code)! \n",
    "\n",
    "$\\color{red}{\\text{If you like: Implement the 5-qubit code)}}$"
   ]
  },
  {
   "cell_type": "markdown",
   "metadata": {
    "id": "aFw2n68HbDW8"
   },
   "source": [
    "These notebooks are comprised of text and code taken from Qiskit's [documentation](https://qiskit.org/documentation/), [tutorials](https://qiskit.org/documentation/tutorials.html#quantum-circuits), [textbook](https://qiskit.org/textbook/preface.html), and previous challenges facilitated by Qiskit."
   ]
  },
  {
   "cell_type": "code",
   "execution_count": null,
   "metadata": {
    "id": "LMrDslHVbD-X"
   },
   "outputs": [],
   "source": []
  }
 ],
 "metadata": {
  "colab": {
   "collapsed_sections": [],
   "provenance": []
  },
  "kernelspec": {
   "display_name": "quantum",
   "language": "python",
   "name": "quantum"
  },
  "language_info": {
   "codemirror_mode": {
    "name": "ipython",
    "version": 3
   },
   "file_extension": ".py",
   "mimetype": "text/x-python",
   "name": "python",
   "nbconvert_exporter": "python",
   "pygments_lexer": "ipython3",
   "version": "3.9.5"
  },
  "vscode": {
   "interpreter": {
    "hash": "fd93893537f062c1b7e6a7d701727905d0d00e2e2c383732a17201f358c1caa5"
   }
  }
 },
 "nbformat": 4,
 "nbformat_minor": 1
}
