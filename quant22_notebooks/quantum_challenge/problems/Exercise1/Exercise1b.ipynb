{
 "cells": [
  {
   "cell_type": "code",
   "execution_count": 1,
   "metadata": {
    "id": "5_GoQANSZbnK"
   },
   "outputs": [],
   "source": [
    "import numpy as np\n",
    "from qiskit import *"
   ]
  },
  {
   "cell_type": "markdown",
   "metadata": {
    "id": "qFodYMkqNqsj"
   },
   "source": [
    "# Qiskit Aer\n",
    "\n",
    "With Qiskit Terra we were able to __create__ quantum circuits. [Qiskit Aer](https://github.com/Qiskit/qiskit-aer) is our package for __simulating__ quantum circuits. Qiskit Aer provides many different backends for doing a simulation. There is also a basic, Python only, implementation called `BasicAer` in Terra that can be used as a drop-in replacement for `Aer` in the examples below.\n",
    "\n",
    "Note that under the hood, all of Aer's simulators perform simple linear algebra operations with numpy on your __classical computer__. However, these simulators are great for testing stuff under __ideal__ (noise-free) conditions. Aer also provides [noisy simulators](https://qiskit.org/documentation/tutorials/simulators/2_device_noise_simulation.html) that mimic a real quantum device with all its different sources of noise. Feel free to check it out later.\n",
    "\n",
    "### Statevector backend\n",
    "\n",
    "The most common backend in Qiskit Aer is the `statevector_simulator`. This simulator returns the quantum \n",
    "state itself, which is a complex vector of dimensions $2^n$, where $n$ is the number of qubits \n",
    "(so be careful using this as it will quickly get too large to run on your machine)."
   ]
  },
  {
   "cell_type": "code",
   "execution_count": 2,
   "metadata": {
    "ExecuteTime": {
     "end_time": "2021-07-31T05:04:39.026081Z",
     "start_time": "2021-07-31T05:04:36.903090Z"
    },
    "id": "W8fh7L-ENqsl"
   },
   "outputs": [],
   "source": [
    "# Import Aer\n",
    "from qiskit import Aer"
   ]
  },
  {
   "cell_type": "code",
   "execution_count": 3,
   "metadata": {
    "ExecuteTime": {
     "end_time": "2021-07-31T05:04:43.436320Z",
     "start_time": "2021-07-31T05:04:43.290274Z"
    },
    "id": "LBIs-iKtNqsz"
   },
   "outputs": [],
   "source": [
    "# Run the quantum circuit on a statevector simulator backend\n",
    "backend = Aer.get_backend('statevector_simulator')"
   ]
  },
  {
   "cell_type": "code",
   "execution_count": 4,
   "metadata": {
    "ExecuteTime": {
     "end_time": "2021-07-31T05:04:39.030564Z",
     "start_time": "2021-07-31T05:04:39.028024Z"
    },
    "colab": {
     "base_uri": "https://localhost:8080/",
     "height": 94
    },
    "executionInfo": {
     "elapsed": 4,
     "status": "ok",
     "timestamp": 1662542955848,
     "user": {
      "displayName": "Friederike Metz",
      "userId": "09850484825460430514"
     },
     "user_tz": -120
    },
    "id": "BWYAcy0zNqso",
    "outputId": "c49d553a-aa3e-415d-cf3a-90af3ce13bb6"
   },
   "outputs": [
    {
     "data": {
      "text/html": [
       "<pre style=\"word-wrap: normal;white-space: pre;background: #fff0;line-height: 1.1;font-family: &quot;Courier New&quot;,Courier,monospace\">     ┌───┐     \n",
       "q_0: ┤ H ├──■──\n",
       "     └───┘┌─┴─┐\n",
       "q_1: ─────┤ X ├\n",
       "          └───┘</pre>"
      ],
      "text/plain": [
       "     ┌───┐     \n",
       "q_0: ┤ H ├──■──\n",
       "     └───┘┌─┴─┐\n",
       "q_1: ─────┤ X ├\n",
       "          └───┘"
      ]
     },
     "execution_count": 4,
     "metadata": {},
     "output_type": "execute_result"
    }
   ],
   "source": [
    "# Bell state circuit from first notebook\n",
    "circ = QuantumCircuit(2)\n",
    "circ.h(0)\n",
    "circ.cx(0, 1)\n",
    "circ.draw()"
   ]
  },
  {
   "cell_type": "markdown",
   "metadata": {
    "id": "goPuDzvTNqs0"
   },
   "source": [
    "Now that we have chosen the backend, it's time to compile and run the quantum circuit. In Qiskit we provide the `run` function for this. ``run`` returns a ``job`` object that encapsulates information about the job submitted to the backend.\n",
    "\n",
    "\n",
    "<div class=\"alert alert-block alert-info\">\n",
    "<b>Tip:</b> You can view the definition of function parameters directly in Jupyter. Simply place the text cursor on a function and press Shift+Tab.\n",
    "</div>"
   ]
  },
  {
   "cell_type": "code",
   "execution_count": 5,
   "metadata": {
    "ExecuteTime": {
     "end_time": "2021-07-31T05:04:44.311305Z",
     "start_time": "2021-07-31T05:04:44.306416Z"
    },
    "id": "OJUHTtBZNqs0"
   },
   "outputs": [],
   "source": [
    "# Create a Quantum Program for execution \n",
    "job = backend.run(circ)"
   ]
  },
  {
   "cell_type": "markdown",
   "metadata": {
    "id": "BEQlgZpdNqs1"
   },
   "source": [
    "When you run a program, a job object is made that has the following two useful methods: \n",
    "`job.status()` and `job.result()`, which return the status of the job and a result object, respectively.\n",
    "\n",
    "<div class=\"alert alert-block alert-info\">\n",
    "<b>Note:</b> Jobs run asynchronously, but when the result method is called, it switches to synchronous and waits for it to finish before moving on to another task.\n",
    "</div>"
   ]
  },
  {
   "cell_type": "code",
   "execution_count": 6,
   "metadata": {
    "ExecuteTime": {
     "end_time": "2021-07-31T05:04:45.848031Z",
     "start_time": "2021-07-31T05:04:45.844758Z"
    },
    "id": "3UD3HSPwNqs1"
   },
   "outputs": [],
   "source": [
    "result = job.result()"
   ]
  },
  {
   "cell_type": "markdown",
   "metadata": {
    "id": "0XfeaupxNqs2"
   },
   "source": [
    "The results object contains the data and Qiskit provides the method \n",
    "`result.get_statevector(circ)` to return the state vector for the quantum circuit."
   ]
  },
  {
   "cell_type": "code",
   "execution_count": null,
   "metadata": {
    "ExecuteTime": {
     "end_time": "2021-07-31T05:04:46.702758Z",
     "start_time": "2021-07-31T05:04:46.697846Z"
    },
    "colab": {
     "base_uri": "https://localhost:8080/"
    },
    "executionInfo": {
     "elapsed": 248,
     "status": "ok",
     "timestamp": 1662542961244,
     "user": {
      "displayName": "Friederike Metz",
      "userId": "09850484825460430514"
     },
     "user_tz": -120
    },
    "id": "A4NjjEVKNqs2",
    "outputId": "0ae02576-4957-48f8-b22f-4d6b911e2747"
   },
   "outputs": [],
   "source": [
    "outputstate = result.get_statevector(circ, decimals=3)\n",
    "print(outputstate)"
   ]
  },
  {
   "cell_type": "markdown",
   "metadata": {
    "id": "ZsnY2Gl6Nqs3"
   },
   "source": [
    "Qiskit also provides a visualization toolbox to allow you to view these results.\n",
    "\n",
    "Below, we use the visualization function to plot the real and imaginary components of the state density matrix $\\rho$.\n"
   ]
  },
  {
   "cell_type": "code",
   "execution_count": null,
   "metadata": {
    "ExecuteTime": {
     "end_time": "2021-07-31T05:04:48.212557Z",
     "start_time": "2021-07-31T05:04:47.532387Z"
    },
    "colab": {
     "base_uri": "https://localhost:8080/",
     "height": 303
    },
    "executionInfo": {
     "elapsed": 923,
     "status": "ok",
     "timestamp": 1662542962410,
     "user": {
      "displayName": "Friederike Metz",
      "userId": "09850484825460430514"
     },
     "user_tz": -120
    },
    "id": "UNQtJd4NNqs3",
    "outputId": "3a39d3d1-ece9-48cb-b9b9-18e1fd3a2e3f"
   },
   "outputs": [],
   "source": [
    "from qiskit.visualization import plot_state_city\n",
    "plot_state_city(outputstate)"
   ]
  },
  {
   "cell_type": "markdown",
   "metadata": {
    "id": "ohVwaaiHQrzO"
   },
   "source": [
    "$\\color{red}{\\text{Exercise 1: Run the GHZ circuit and visualize the final state}}$"
   ]
  },
  {
   "cell_type": "code",
   "execution_count": 9,
   "metadata": {
    "id": "yGbzwDVMQ1Rh"
   },
   "outputs": [],
   "source": [
    "backend = Aer.get_backend('statevector_simulator')\n",
    "#Your code goes here"
   ]
  },
  {
   "cell_type": "markdown",
   "metadata": {
    "id": "CglA1iWTNqs4"
   },
   "source": [
    "### Unitary backend"
   ]
  },
  {
   "cell_type": "markdown",
   "metadata": {
    "id": "tLZSDgo1Nqs4"
   },
   "source": [
    "Qiskit Aer also includes a `unitary_simulator` that works _provided all the elements in the circuit are unitary operations_. This backend calculates the $2^n \\times 2^n$ matrix representing the gates in the quantum circuit. "
   ]
  },
  {
   "cell_type": "code",
   "execution_count": null,
   "metadata": {
    "ExecuteTime": {
     "end_time": "2021-07-31T05:04:49.855040Z",
     "start_time": "2021-07-31T05:04:49.843822Z"
    },
    "colab": {
     "base_uri": "https://localhost:8080/"
    },
    "executionInfo": {
     "elapsed": 248,
     "status": "ok",
     "timestamp": 1662542967416,
     "user": {
      "displayName": "Friederike Metz",
      "userId": "09850484825460430514"
     },
     "user_tz": -120
    },
    "id": "eM8ATD84Nqs5",
    "outputId": "0f6acafc-8f84-4d58-d1eb-9fc44356cff0"
   },
   "outputs": [],
   "source": [
    "# Run the quantum circuit on a unitary simulator backend\n",
    "backend = Aer.get_backend('unitary_simulator')\n",
    "job = backend.run(circ)\n",
    "result = job.result()\n",
    "\n",
    "# Show the results\n",
    "print(result.get_unitary(circ, decimals=3))"
   ]
  },
  {
   "cell_type": "markdown",
   "metadata": {
    "id": "psahq1rJNqs5"
   },
   "source": [
    "### OpenQASM backend"
   ]
  },
  {
   "cell_type": "markdown",
   "metadata": {
    "id": "Dj8Bqn9LNqs6"
   },
   "source": [
    "The simulators above are useful because they provide information about the state output by the ideal circuit and the matrix representation of the circuit. However, a real experiment terminates by _measuring_ each qubit (usually in the computational $|0\\rangle, |1\\rangle$ basis). Without measurement, we cannot gain information about the state. Measurements cause the quantum system to collapse into classical bits. \n",
    "\n",
    "For example, suppose we make independent measurements on each qubit of the two-qubit Bell state\n",
    "\n",
    "$$|\\psi\\rangle = (|00\\rangle +|11\\rangle)/\\sqrt{2},$$\n",
    "\n",
    "and let $xy$ denote the bitstring that results. Recall that, under the qubit labeling used by Qiskit, $x$ would correspond to the outcome on qubit 1, $y$ to the outcome on qubit 0. \n",
    "\n",
    "<div class=\"alert alert-block alert-info\">\n",
    "<b>Note:</b> This representation of the bitstring puts the most significant bit (MSB) on the left, and the least significant bit (LSB) on the right. This is the standard ordering of binary bitstrings. We order the qubits in the same way (qubit representing the MSB has index 0), which is why Qiskit uses a non-standard tensor product order.\n",
    "</div>\n",
    "\n",
    "Recall the probability of obtaining outcome $xyz$ is given by\n",
    "\n",
    "$$\\mathrm{Pr}(xy) = |\\langle xy | \\psi \\rangle |^{2}$$\n",
    "\n",
    "and as such for the Bell state probability of obtaining 00 or 11 are both 1/2.\n",
    "\n",
    "To simulate a circuit that includes measurement, we need to add measurements to the original circuit above, and use a different Aer backend."
   ]
  },
  {
   "cell_type": "code",
   "execution_count": null,
   "metadata": {
    "ExecuteTime": {
     "end_time": "2021-07-31T05:05:39.326486Z",
     "start_time": "2021-07-31T05:05:39.315781Z"
    },
    "colab": {
     "base_uri": "https://localhost:8080/",
     "height": 125
    },
    "executionInfo": {
     "elapsed": 5,
     "status": "ok",
     "timestamp": 1662542977792,
     "user": {
      "displayName": "Friederike Metz",
      "userId": "09850484825460430514"
     },
     "user_tz": -120
    },
    "id": "XD2IbZg3Nqs6",
    "outputId": "8ca9eae0-ea72-43b1-c69e-9c6a8d31a190"
   },
   "outputs": [],
   "source": [
    "# Create a Quantum Circuit with two qbits and two classical bits\n",
    "qc = QuantumCircuit(2, 2)\n",
    "qc.h(0)\n",
    "qc.cx(0, 1)\n",
    "\n",
    "# map the quantum measurement to the classical bits\n",
    "qc.measure(range(2), range(2)) # first argument tells which qubit to measure; second argument gives the classical bit to store the measurement in\n",
    "qc.draw()"
   ]
  },
  {
   "cell_type": "markdown",
   "metadata": {
    "id": "iohoVSNuNqs6"
   },
   "source": [
    "This circuit adds a classical register, and two measurements that are used to map the outcome of qubits to the classical bits.\n",
    "\n",
    "To simulate this circuit, we use the ``qasm_simulator`` in Qiskit Aer. Each run of this circuit will yield either the bitstring 000 or 111. To build up statistics about the distribution of the bitstrings (e.g., to estimate $\\mathrm{Pr}(000)$), we need to repeat the circuit many times. The number of times the circuit is repeated can be specified in the ``run`` function, via the ``shots`` keyword."
   ]
  },
  {
   "cell_type": "code",
   "execution_count": 12,
   "metadata": {
    "ExecuteTime": {
     "end_time": "2021-07-31T05:06:23.358780Z",
     "start_time": "2021-07-31T05:06:23.338865Z"
    },
    "id": "KtILZJrXNqs7"
   },
   "outputs": [],
   "source": [
    "# Use Aer's qasm_simulator\n",
    "backend_sim = Aer.get_backend('qasm_simulator')\n",
    "\n",
    "# Run the circuit on the qasm simulator.\n",
    "# We've set the number of measurements of the circuit\n",
    "# to be 1024, which is the default.\n",
    "job_sim = backend_sim.run(qc, shots=1024)\n",
    "\n",
    "# Grab the results from the job.\n",
    "result_sim = job_sim.result()"
   ]
  },
  {
   "cell_type": "markdown",
   "metadata": {
    "id": "iJrNv6aiNqs7"
   },
   "source": [
    "Once you have a result object, you can access the counts via the function `get_counts(circuit)`. This gives you the _aggregated_ binary outcomes of the circuit you submitted."
   ]
  },
  {
   "cell_type": "code",
   "execution_count": null,
   "metadata": {
    "ExecuteTime": {
     "end_time": "2021-07-31T05:06:24.587309Z",
     "start_time": "2021-07-31T05:06:24.583432Z"
    },
    "colab": {
     "base_uri": "https://localhost:8080/"
    },
    "executionInfo": {
     "elapsed": 2,
     "status": "ok",
     "timestamp": 1662542987722,
     "user": {
      "displayName": "Friederike Metz",
      "userId": "09850484825460430514"
     },
     "user_tz": -120
    },
    "id": "_A5C1c5qNqs8",
    "outputId": "c6729e89-b737-4a67-e126-0f5910d51072"
   },
   "outputs": [],
   "source": [
    "counts = result_sim.get_counts(qc)\n",
    "print(counts)"
   ]
  },
  {
   "cell_type": "markdown",
   "metadata": {
    "id": "mq7AWkEoTwMR"
   },
   "source": [
    "$\\color{red}{\\text{Exercise 2: Measure a GHZ state and get the output counts}}$"
   ]
  },
  {
   "cell_type": "code",
   "execution_count": 14,
   "metadata": {
    "id": "2vbxtzdDTuOd"
   },
   "outputs": [],
   "source": [
    "qc = QuantumCircuit(3,3)\n",
    "#Your code goes here\n"
   ]
  },
  {
   "cell_type": "markdown",
   "metadata": {
    "id": "vzF9FDH2Nqs8"
   },
   "source": [
    "Approximately 50 percent of the time, the output bitstring is 000. Qiskit also provides a function `plot_histogram`, which allows you to view the outcomes. "
   ]
  },
  {
   "cell_type": "code",
   "execution_count": null,
   "metadata": {
    "ExecuteTime": {
     "end_time": "2021-07-31T05:06:26.146850Z",
     "start_time": "2021-07-31T05:06:26.028680Z"
    },
    "colab": {
     "base_uri": "https://localhost:8080/",
     "height": 335
    },
    "executionInfo": {
     "elapsed": 344,
     "status": "ok",
     "timestamp": 1662543004159,
     "user": {
      "displayName": "Friederike Metz",
      "userId": "09850484825460430514"
     },
     "user_tz": -120
    },
    "id": "sALXoIngNqs8",
    "outputId": "d5b3fdb9-6179-478f-a09d-d756f34e3018"
   },
   "outputs": [],
   "source": [
    "from qiskit.visualization import plot_histogram\n",
    "plot_histogram(counts)"
   ]
  },
  {
   "cell_type": "markdown",
   "metadata": {
    "id": "RP6pFOOmNqs9"
   },
   "source": [
    "The estimated outcome probabilities $\\mathrm{Pr}(000)$ and  $\\mathrm{Pr}(111)$ are computed by taking the aggregate counts and dividing by the number of shots (the number of times the circuit was repeated). Try changing the ``shots`` keyword in the ``run`` function and see how the estimated probabilities change."
   ]
  },
  {
   "cell_type": "markdown",
   "metadata": {
    "id": "mAYv-XPbeZZo"
   },
   "source": [
    "To summarize, Aer provides different means of simulating a defined circuit. The `qasm_simulator` mimicks a real, ideal quantum device which can only return measurement outcomes (i.e. bitstrings). The `unitary_simulator`/`statevector_simulator` return the unitary matrix/quantum state. However, this information is not easily accessible in an experiment on real hardware. Moreover, the Unitary/Statevector simulators are efficient only on a small number of qubits and quickly blow up due to the exponentially growing Hilbert space dimension (This is why we are building quantum computers in the first place!!)."
   ]
  },
  {
   "cell_type": "markdown",
   "metadata": {
    "id": "PaSmXnUAzavs"
   },
   "source": [
    "These notebooks are comprised of text and code taken from Qiskit's [documentation](https://qiskit.org/documentation/), [tutorials](https://qiskit.org/documentation/tutorials.html#quantum-circuits), [textbook](https://qiskit.org/textbook/preface.html), and previous challenges facilitated by Qiskit."
   ]
  },
  {
   "cell_type": "code",
   "execution_count": null,
   "metadata": {
    "id": "mQheL2IReYbu"
   },
   "outputs": [],
   "source": []
  }
 ],
 "metadata": {
  "anaconda-cloud": {},
  "celltoolbar": "Tags",
  "colab": {
   "collapsed_sections": [],
   "provenance": [
    {
     "file_id": "1W5fS4-Jdi7Sc7htP-lncjO5DH1tLiBlb",
     "timestamp": 1661182361805
    },
    {
     "file_id": "1a7n5kxy9qAVPK39wcGzQix0qy5KKWCQ7",
     "timestamp": 1661161743454
    }
   ]
  },
  "kernelspec": {
   "display_name": "Python 3 (ipykernel)",
   "language": "python",
   "name": "python3"
  },
  "language_info": {
   "codemirror_mode": {
    "name": "ipython",
    "version": 3
   },
   "file_extension": ".py",
   "mimetype": "text/x-python",
   "name": "python",
   "nbconvert_exporter": "python",
   "pygments_lexer": "ipython3",
   "version": "3.8.3"
  },
  "varInspector": {
   "cols": {
    "lenName": 16,
    "lenType": 16,
    "lenVar": 40
   },
   "kernels_config": {
    "python": {
     "delete_cmd_postfix": "",
     "delete_cmd_prefix": "del ",
     "library": "var_list.py",
     "varRefreshCmd": "print(var_dic_list())"
    },
    "r": {
     "delete_cmd_postfix": ") ",
     "delete_cmd_prefix": "rm(",
     "library": "var_list.r",
     "varRefreshCmd": "cat(var_dic_list()) "
    }
   },
   "types_to_exclude": [
    "module",
    "function",
    "builtin_function_or_method",
    "instance",
    "_Feature"
   ],
   "window_display": false
  }
 },
 "nbformat": 4,
 "nbformat_minor": 1
}
