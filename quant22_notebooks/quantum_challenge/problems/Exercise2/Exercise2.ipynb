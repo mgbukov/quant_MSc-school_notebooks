{
 "cells": [
  {
   "cell_type": "code",
   "execution_count": 1,
   "metadata": {
    "id": "5_GoQANSZbnK"
   },
   "outputs": [],
   "source": [
    "from qiskit import *"
   ]
  },
  {
   "cell_type": "markdown",
   "metadata": {
    "id": "qFodYMkqNqsj"
   },
   "source": [
    "# Bell States and Quantum Entanglement. Local Reality and the Claser-Horne-Shimony-Holt (CHSH) inequality"
   ]
  },
  {
   "cell_type": "markdown",
   "metadata": {
    "id": "Q63agaeAT2hI"
   },
   "source": [
    "The goal of this exercise is to apply the knowledge of the previous introductory exercise to test one of the most famous inequalities in quantum mechanics, the so-called Bell inequality. \n",
    "\n",
    "The historical development of quantum mechanics is filled with agitated discussions about the true nature of reality and the extent to which quantum mechanics can explain it. Given the spectacular empirical success of quantum mechanics, it was going to be clear that people would not simply give it up just because some of its aspects were hard to reconcile with intuition.\n",
    "\n",
    "At the root of these different points of views was the question of the nature of measurement. We know there is an element of randomness in quantum measurements, but is that really so? Is there a sneaky way by which the Universe has already decided beforehand which value a given measurement is going to yield at a future time? This hypothesis was the basis for different _hidden variable_ theories. But these theories did not only need to explain randomness at the single particle level. They also needed to explain what happens when different observers measure different parts of a multi-partite entangled system! This went beyond just hidden variable theories. Now a local hidden variable theory was needed in order to reconcile the observations of quantum mechanics with a Universe in which local reality was valid.\n",
    "\n",
    "What is local reality? In an Universe where locality holds, it should be possible to separate two systems so far in space that they could not interact with each other. The concept of reality is related to whether a measurable quantity holds a particular value _in the absence of any future measurement_. \n",
    "\n",
    "In 1963, John Stewart Bell published what could be argued as one of the most profound discoveries in the history of science. Bell stated that any theory invoking local hidden variables could be experimentally ruled out. In this section we are going to see how, and we will run a real experiment that demonstrates so! (with some remaining loopholes to close...)"
   ]
  },
  {
   "cell_type": "markdown",
   "metadata": {
    "id": "ykdG_zL6Wn80"
   },
   "source": [
    "### The CHSH inequality\n",
    "\n",
    "Imagine Alice and Bob are given each one part of a bipartite entangled system. Each of them then performs two measurements on their part of two different operators. Let's call Alice's operators _A_ and _a_ and Bob's: operator _B_ and _b_. What is the expectation value of the quantity $\\langle CHSH \\rangle = \\langle AB \\rangle - \\langle Ab \\rangle + \\langle aB \\rangle + \\langle ab \\rangle = \\langle A(B-b) + a(B+b) \\rangle$ ? \n",
    "\n",
    "Now, Alice and Bob have one qubit each, so any measurement they perform on their system (qubit) can only yield one of two possible outcomes: +1 or -1. Note that whereas we typically refer to the two qubit states as $|0\\rangle$ and $|1\\rangle$, these are *eigenstates*, and a projective measurement will yield their *eigenvalues*, +1 and -1, respectively. \n",
    "\n",
    "Therefore, if any measurement of _A_, _a_, _B_, and _b_ can only yield $\\pm 1$, the quantities $(B-b)$ and $(B+b)$ can only take on the values 0 or $\\pm2$. And thus, the quantity $A(B-b) + a(B+b)$ can only result in either +2 or -2. This means that there should be a bound for the expectation value of the quantity $|\\langle CHSH \\rangle| = |\\langle AB \\rangle - \\langle Ab \\rangle + \\langle aB \\rangle + \\langle ab \\rangle| \\leq 2$.\n",
    "\n",
    "Now, the above discussion is oversimplified, because we could consider that the outcome on any set of measurements from Alice and Bob could depend on a set of local hidden variables, but it can be shown with some math that, even when that is the case, the expectation value of the quantity $CHSH$ should be bounded by 2 if local realism held.\n",
    "\n",
    "But what happens when we do these experiments with an entangled system? Let's try it!"
   ]
  },
  {
   "cell_type": "code",
   "execution_count": null,
   "metadata": {
    "id": "fvczVQ2TW3dT"
   },
   "outputs": [],
   "source": [
    "#import qiskit tools\n",
    "import qiskit\n",
    "from qiskit import QuantumCircuit, ClassicalRegister, QuantumRegister, transpile, Aer, IBMQ\n",
    "from qiskit.tools.visualization import circuit_drawer\n",
    "from qiskit.tools.monitor import job_monitor, backend_monitor, backend_overview\n",
    "from qiskit.providers.aer import noise\n",
    "from qiskit.providers.aer import QasmSimulator\n",
    "from qiskit.providers.aer import AerSimulator #A library to simulate quantum computers with noise on a classical device\n",
    "\n",
    "#import python stuff\n",
    "import matplotlib.pyplot as plt\n",
    "import numpy as np\n",
    "import time"
   ]
  },
  {
   "cell_type": "markdown",
   "metadata": {
    "id": "RyGPCuskXHGk"
   },
   "source": [
    "First we are going to define a function to create our CHSH circuits. We are going to choose, without loss of generality, that Bob always uses the computational $Z$ and the $X$ operator for his $B$ and $b$ measurements, respectively, whereas Alice chooses also orthogonal operator but whose angle $\\theta$ we are going to vary between $0$ and $2\\pi$ with respect to Bob's operator. This set of angles is going to be the input argument to our $CHSH$ circuit building function.\n",
    "\n",
    "To make this statement more concrete, Bob is measuring the operators $A=Z$ and $a=X=HZH$. Alice wants to measure operators of the form $B=R_y(\\theta)Z R^\\dagger_y(\\theta)$ and $b=H R_y(\\theta)Z R^\\dagger_y(\\theta) H$. This looks complicated at first, but this is nothing but applying a basis transformation before we measure in the natural basis of the qubits.\n",
    "\n",
    "As an example, if Alice wants to measure the operator $b$, she first applies a gate $R_y(\\theta)$, then a Hadamard gate $H$, before she reads out the qubit.\n",
    "\n",
    "![title](circuits.png)\n",
    "\n",
    "The preparation of the measurements in different bases is provided in the function make_chsh_circuit:"
   ]
  },
  {
   "cell_type": "code",
   "execution_count": null,
   "metadata": {
    "id": "7DKh2kr3YHej"
   },
   "outputs": [],
   "source": [
    "def make_chsh_circuit(theta_vec):\n",
    "    \"\"\"Return a list of QuantumCircuits for use in a CHSH experiemnt\n",
    "    (one for each value of theta in theta_vec)\n",
    "    \n",
    "        Args:\n",
    "            theta_vec (list): list of values of angles between the bases of Alice and Bob\n",
    "        \n",
    "        Returns:\n",
    "            List[QuantumCircuit]: CHSH QuantumCircuits for each value of theta\n",
    "    \"\"\"\n",
    "    chsh_circuits = []\n",
    "    \n",
    "    for theta in theta_vec:\n",
    "        obs_vec = ['00', '01', '10', '11']\n",
    "        for el in obs_vec:\n",
    "            qc = QuantumCircuit(2,2)\n",
    "            qc.h(0)\n",
    "            qc.cx(0, 1)\n",
    "            qc.ry(theta, 0)\n",
    "            for a in range(2):\n",
    "                if el[a] == '1':\n",
    "                    qc.h(a) \n",
    "            qc.measure(range(2),range(2))\n",
    "            chsh_circuits.append(qc)\n",
    "\n",
    "    return chsh_circuits  "
   ]
  },
  {
   "cell_type": "markdown",
   "metadata": {
    "id": "ZueoX-fLYLpQ"
   },
   "source": [
    "Next, we are going to define a function for estimating the quantity $\\langle CHSH \\rangle$. One can define two of such quantities, actually, $\\langle CHSH1 \\rangle = \\langle AB \\rangle - \\langle Ab \\rangle + \\langle aB \\rangle + \\langle ab \\rangle$ and $\\langle CHSH2 \\rangle = \\langle AB \\rangle + \\langle Ab \\rangle - \\langle aB \\rangle + \\langle ab \\rangle$. Once the corresponding measurement axes for both parties are chosen, each expectation value can be simply estimated by adding the counts from the output bitstrings with the appropriate sign (plus for the even terms $00$ and $11$ and minus for odd terms $01$ and $10$."
   ]
  },
  {
   "cell_type": "code",
   "execution_count": null,
   "metadata": {
    "id": "23Pa1S34YP8h"
   },
   "outputs": [],
   "source": [
    "def compute_chsh_witness(counts):\n",
    "    \"\"\"Computes expectation values for the CHSH inequality, for each\n",
    "    angle (theta) between measurement axis.\n",
    "\n",
    "        Args: counts (list[dict]): dict of counts for each experiment\n",
    "              (4 per value of theta)\n",
    "\n",
    "        Returns:\n",
    "            Tuple(List, List): Tuple of lists with the two CHSH witnesses\n",
    "    \"\"\"\n",
    "    # Order is ZZ,ZX,XZ,XX\n",
    "    \n",
    "    CHSH1 = []\n",
    "    CHSH2 = []\n",
    "    # Divide the list of dictionaries in sets of 4\n",
    "    for i in range(0, len(counts), 4):\n",
    "        theta_dict = counts[i:i + 4]\n",
    "        zz = theta_dict[0]\n",
    "        zx = theta_dict[1]\n",
    "        xz = theta_dict[2]\n",
    "        xx = theta_dict[3]\n",
    "        N_shots = sum(xx[y] for y in xx)\n",
    "\n",
    "        chsh1 = 0\n",
    "        chsh2 = 0\n",
    "\n",
    "        for element in zz:\n",
    "            parity = (-1)**(int(element[0])+int(element[1]))\n",
    "            chsh1+= parity*zz[element]\n",
    "            chsh2+= parity*zz[element]\n",
    "\n",
    "        for element in zx:\n",
    "            parity = (-1)**(int(element[0])+int(element[1]))\n",
    "            chsh1+= parity*zx[element]\n",
    "            chsh2-= parity*zx[element]\n",
    "\n",
    "        for element in xz:\n",
    "            parity = (-1)**(int(element[0])+int(element[1]))\n",
    "            chsh1-= parity*xz[element]\n",
    "            chsh2+= parity*xz[element]\n",
    "\n",
    "        for element in xx:\n",
    "            parity = (-1)**(int(element[0])+int(element[1]))\n",
    "            chsh1+= parity*xx[element]\n",
    "            chsh2+= parity*xx[element]\n",
    "\n",
    "        CHSH1.append(chsh1/N_shots)\n",
    "        CHSH2.append(chsh2/N_shots)\n",
    "    return CHSH1, CHSH2    "
   ]
  },
  {
   "cell_type": "markdown",
   "metadata": {
    "id": "-nVVCfZFYUds"
   },
   "source": [
    "Finally, we are going to split the interval $[0, 2\\pi)$ into 15 angles and will build the corresponding set of $CHSH$ circuits."
   ]
  },
  {
   "cell_type": "markdown",
   "metadata": {
    "id": "iu_c4dvIoHaY"
   },
   "source": [
    "$\\color{red}{\\text{Exercise 1: Using the function make_chsh_circuit, split the interval  $[0, 2\\pi)$ into 15 angles and build the corresponding set of CHSH circuits.Visualize the circuits for different values of } \\theta.} $"
   ]
  },
  {
   "cell_type": "code",
   "execution_count": null,
   "metadata": {
    "id": "ONWZo6MRYcq6"
   },
   "outputs": [],
   "source": [
    "#Your code goes here\n",
    "\n"
   ]
  },
  {
   "cell_type": "markdown",
   "metadata": {
    "id": "rpLAQu2LZ1Sm"
   },
   "source": [
    "These circuits are simply creating a Bell pair, and then measuring each party in a different basis. While Bob ($q_1$) always measures either in the computational basis or the $X$ basis, Alice's measurement basis rotates by the angle $\\theta$ with respect to Bob's."
   ]
  },
  {
   "cell_type": "code",
   "execution_count": null,
   "metadata": {
    "id": "0Y4aUriop1uF"
   },
   "outputs": [],
   "source": [
    "# Set devices, if using a real device\n",
    "IBMQ.save_account(\"740cf9a029345b5770ad72af52ca4d1c51eb8afe78c6d95e17ecffd2e72033a693cf8563418f2143cf5d9780f497e3100577f0a400d882f5d4314ca68ce9fc37\",overwrite=True)\n",
    "IBMQ.load_account()\n",
    "provider = IBMQ.get_provider(hub='ibm-q-research-2',group='max-planck-inst',project='codingchallenge')\n",
    "backend = provider.get_backend('ibm_perth')\n",
    "backend2= AerSimulator.from_backend(backend)\n",
    "sim = Aer.get_backend('aer_simulator')"
   ]
  },
  {
   "cell_type": "markdown",
   "metadata": {
    "id": "sfaYI0ckpfKD"
   },
   "source": [
    "$\\color{red}{\\text{Exercise 2: Run the circuits on the the AerSimulator (sim) and on a real device (backend). If the latter takes too long, you can use a noisy simulator (backend2) instead.}} $ \n",
    "Hint: The exercise 1b using OpenQASM backend and exercise 1c for real backends might be helpful."
   ]
  },
  {
   "cell_type": "code",
   "execution_count": null,
   "metadata": {
    "id": "_R7aLe-1Z8Wy"
   },
   "outputs": [],
   "source": [
    "# Execute and get counts\n",
    "#Your code goes here\n",
    "#result of the ideal simulation\n",
    "result_ideal = #your solution\n",
    "\n",
    "#simulation on a noisy device/simulator\n",
    "result_real = #your solution\n"
   ]
  },
  {
   "cell_type": "code",
   "execution_count": null,
   "metadata": {
    "id": "KAoiXusNZwCd"
   },
   "outputs": [],
   "source": [
    "CHSH1_ideal, CHSH2_ideal = compute_chsh_witness(result_ideal.get_counts())\n",
    "CHSH1_real, CHSH2_real = compute_chsh_witness(result_real.get_counts())"
   ]
  },
  {
   "cell_type": "markdown",
   "metadata": {
    "id": "lDxZq7MoaPEy"
   },
   "source": [
    "Now let's plot the results."
   ]
  },
  {
   "cell_type": "code",
   "execution_count": null,
   "metadata": {
    "id": "Yym_EymMaTol"
   },
   "outputs": [],
   "source": [
    "plt.figure(figsize=(12,8))\n",
    "plt.rcParams.update({'font.size': 22})\n",
    "plt.plot(theta_vec,CHSH1_ideal,'o-',label = 'CHSH1 Noiseless')\n",
    "plt.plot(theta_vec,CHSH2_ideal,'o-',label = 'CHSH2 Noiseless')\n",
    "\n",
    "plt.plot(theta_vec,CHSH1_real,'x-',label = 'CHSH1 Perth')\n",
    "plt.plot(theta_vec,CHSH2_real,'x-',label = 'CHSH2 Perth')\n",
    "\n",
    "plt.grid(which='major',axis='both')\n",
    "plt.rcParams.update({'font.size': 16})\n",
    "plt.legend()\n",
    "plt.axhline(y=2, color='r', linestyle='-')\n",
    "plt.axhline(y=-2, color='r', linestyle='-')\n",
    "plt.axhline(y=np.sqrt(2)*2, color='k', linestyle='-.')\n",
    "plt.axhline(y=-np.sqrt(2)*2, color='k', linestyle='-.')\n",
    "plt.xlabel('Theta')\n",
    "plt.ylabel('CHSH witness')"
   ]
  },
  {
   "cell_type": "markdown",
   "metadata": {
    "id": "vdARN1FIcM8b"
   },
   "source": [
    "Note what happened! There are some particular combination of measurement bases for which $|CHSH| \\geq 2$. How is this possible? Let's look at our entangled bipartite system. It is easy to show that if $|\\psi \\rangle = 1/\\sqrt{2} (|00\\rangle + |11\\rangle)$, then the expectation value $\\langle AB \\rangle = \\langle \\psi|A \\otimes B| \\psi \\rangle = -\\cos \\theta_{AB}$ where $\\theta_{AB}$ is the angle between the measurement bases $A$ and $B$. Therefore, for the particular choice of bases $A = 1/\\sqrt{2}(\\sigma_z - \\sigma_x)$ and $a = 1/\\sqrt{2}(\\sigma_z + \\sigma_x)$, letting Bob measure with $B=\\sigma_z$ and $b=\\sigma_x$, we see that $|\\langle CHSH1 \\rangle| = 2\\sqrt{2} > 2$. It can also be shown that $2\\sqrt{2}$ is the maximum possible value attainable, even in the quantum case (dash-dotted line in the plot).\n",
    "\n",
    "The above inequality is called CHSH after Clauser, Horne, Shimony, and Holt, and it is the most popular way of presenting the original inequality from Bell.\n",
    "\n",
    "The fact that we violated the CHSH inequality in our real device is of significance. Just a decade ago such an experiment would have been of great impact. Nowadays, quantum devices have become significantly better and these results can be replicated easily in state-of-the-art hardware. However, there are a number of loopholes that have to be closed when violating the inequality in order to claim that either locality or realism have been disproven. These are the detection loophole (where our detector is faulty and fails to provide meaningful statistics) and the locality/causality loophole (where the two parts of the entangled system are separated by a distance smaller than the distance covered by the light in the time it takes to perform a measurement). Given we can generate entangled pairs with high fidelity and every measurement yields a result (this is, no measured particle is \"lost\"), we have closed the detection loophole in our experiments above. However, given the distance between our qubits (a few mm) and the time it takes to perform a measurement (order of $\\mu$s), we cannot claim we closed the causality loophole."
   ]
  },
  {
   "cell_type": "markdown",
   "metadata": {
    "id": "_WbIb9Qq0HEF"
   },
   "source": [
    "These notebooks are comprised of text and code taken from Qiskit's [documentation](https://qiskit.org/documentation/), [tutorials](https://qiskit.org/documentation/tutorials.html#quantum-circuits), [textbook](https://qiskit.org/textbook/preface.html), and previous challenges facilitated by Qiskit."
   ]
  }
 ],
 "metadata": {
  "anaconda-cloud": {},
  "celltoolbar": "Tags",
  "colab": {
   "collapsed_sections": [],
   "provenance": [
    {
     "file_id": "1XDDCxAr9wbpkbAJ_gUVWE8prwNRKoYVH",
     "timestamp": 1661251156421
    },
    {
     "file_id": "1XeSfSdSRqldGDOCb66o84JHGrlDsG7pl",
     "timestamp": 1661188155279
    },
    {
     "file_id": "1W5fS4-Jdi7Sc7htP-lncjO5DH1tLiBlb",
     "timestamp": 1661182361805
    },
    {
     "file_id": "1a7n5kxy9qAVPK39wcGzQix0qy5KKWCQ7",
     "timestamp": 1661161743454
    }
   ]
  },
  "kernelspec": {
   "display_name": "Python 3 (ipykernel)",
   "language": "python",
   "name": "python3"
  },
  "language_info": {
   "codemirror_mode": {
    "name": "ipython",
    "version": 3
   },
   "file_extension": ".py",
   "mimetype": "text/x-python",
   "name": "python",
   "nbconvert_exporter": "python",
   "pygments_lexer": "ipython3",
   "version": "3.8.3"
  },
  "varInspector": {
   "cols": {
    "lenName": 16,
    "lenType": 16,
    "lenVar": 40
   },
   "kernels_config": {
    "python": {
     "delete_cmd_postfix": "",
     "delete_cmd_prefix": "del ",
     "library": "var_list.py",
     "varRefreshCmd": "print(var_dic_list())"
    },
    "r": {
     "delete_cmd_postfix": ") ",
     "delete_cmd_prefix": "rm(",
     "library": "var_list.r",
     "varRefreshCmd": "cat(var_dic_list()) "
    }
   },
   "types_to_exclude": [
    "module",
    "function",
    "builtin_function_or_method",
    "instance",
    "_Feature"
   ],
   "window_display": false
  }
 },
 "nbformat": 4,
 "nbformat_minor": 1
}
