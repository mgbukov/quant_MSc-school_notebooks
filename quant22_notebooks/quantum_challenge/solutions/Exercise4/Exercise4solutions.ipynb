{
 "cells": [
  {
   "cell_type": "markdown",
   "metadata": {
    "id": "tltRI1rU0vlp"
   },
   "source": [
    "# Deutsch-Jozsa algorithm <a id=\"importing\"></a>\n",
    "\n",
    "The motivation of this exercise is to go with you through a standard quantum algorithm. It gives you an idea how quantum computers can outperform classical computers in certain tasks."
   ]
  },
  {
   "cell_type": "markdown",
   "metadata": {
    "id": "agIE91mbyD6p"
   },
   "source": [
    "## 1. Introduction <a id='introduction'></a>"
   ]
  },
  {
   "cell_type": "markdown",
   "metadata": {
    "id": "Le4kXz4gyFOb"
   },
   "source": [
    "The Deutsch-Jozsa algorithm, first introduced in Reference [[1]](https://doi.org/10.1098%2Frspa.1992.0167), was the first example of a quantum algorithm that performs better than the best classical algorithm. It showed that there can be advantages to using a quantum computer as a computational tool for a specific problem."
   ]
  },
  {
   "cell_type": "markdown",
   "metadata": {
    "id": "zDGQXrqh7CZj"
   },
   "source": [
    "### 1.1 Deutsch's Problem <a id='dproblem'> </a>\n",
    "\n",
    "Consider the following situation: we are given an unknown function $f$, which takes as input one bit, $x=0$ or $1$, and returns either $0$ or $1$. Such a function has the property that it is either constant, $f(0)=f(1)$, or balanced $f(0)\\neq f(1)$. For example\n",
    "\n",
    "$$\n",
    "f(0) = 0, \\qquad f(1) = 1, $$\n",
    "\n",
    "is balanced, while\n",
    "\n",
    "$$\n",
    "f(0) = 1, \\qquad f(1) = 1, $$\n",
    "is constant.\n",
    "\n",
    "Classically, if we wish to find out if the function is constant or balanced, we need to check both possible input values, so we need to evaluate the function two times.\n",
    "\n",
    "### 1.2 The Quantum Solution <a id='quantum-solution-1qbit'> </a>\n",
    "\n",
    "In fact a quantum computer can do better, and check both input values in a single run. For this, we only need the function $f$ to be implemented as a quantum oracle $U_f$, which maps the state $\\vert x\\rangle \\vert y\\rangle $ to $ \\vert x\\rangle \\vert y \\oplus f(x)\\rangle$, where $\\oplus$ is addition modulo $2$. To see how the quantum computer solves the problem, consider the following circuit diagram\n",
    "\n",
    "\n",
    "![title](deutsch_single_qbit.png)\n",
    "After the initial Hadamard gates the state vector reads\n",
    "\n",
    "$$ \\vert \\psi_1 \\rangle = \\left(\\frac{\\vert 0\\rangle + \\vert 1 \\rangle}{2}\\right)\\otimes\\left(\\frac{\\vert 0\\rangle - \\vert 1 \\rangle}{2}\\right) = \\frac{1}{2}\\sum_{x=0}^{1} \\vert x\\rangle \\left(|0\\rangle - |1 \\rangle \\right).$$\n",
    "\n",
    "Because this state contains a superposition of states corresponding to all inputs $x$, by applying $U_f$ to $\\vert\\psi_1\\rangle$ we evaluate $f$ on all input values simultaneously! Applying the oracle we obtain\n",
    "\n",
    "$$\\begin{align}\\lvert \\psi_2 \\rangle &= \\frac{1}{2}\\sum_{x=0}^{1} \\vert x\\rangle (\\vert f(x)\\rangle - \\vert 1 \\oplus f(x)\\rangle)\\\\&=\\frac{1}{2}\\sum_{x=0}^{1}(-1)^{f(x)}|x\\rangle ( |0\\rangle - |1\\rangle )\\end{align}$$\n",
    "\n",
    "since for each $x,f(x)$ is either $0$ or $1$.\n",
    "\n",
    "At this point the second single qubit register may be ignored. Apply a Hadamard gate to each qubit in the first register:\n",
    "\n",
    "$$\n",
    "\\begin{align}\n",
    "\\lvert \\psi_3 \\rangle \n",
    "  &= \\frac{1}{2}\\sum_{x=0}^{1}(-1)^{f(x)}\n",
    "  \\left[ \\sum_{y=0}^{1}(-1)^{x  y} \n",
    "  \\vert y \\rangle \\right]\\\\ \n",
    "  &= \\frac{1}{2}\\sum_{y=0}^{1}\n",
    "  \\left[ \\sum_{x=0}^{1}(-1)^{f(x)}(-1)^{x y} \\right]\n",
    "  \\vert y \\rangle\n",
    "  \\end{align}\n",
    "$$\n",
    "\n",
    "Now the information about the function $f$ is stored in the quantum state of the first qubit. Measure the first register. Notice that the probability of measuring the state $\\vert 0 \\rangle$, $P_{\\vert 0 \\rangle} = \\lvert \\frac{1}{2}\\sum_{x=0}^{1}(-1)^{f(x)} \\rvert^2$, which evaluates to $1$ if $f(x)$ is constant and $0$ if $f(x)$ is balanced. \n",
    "\n",
    "### 1.3 Why Does This Work? <a id='why-does-this-work1'> </a>\n",
    "\n",
    "- **Constant Oracle**\n",
    "\n",
    "When the oracle is *constant*, it has no effect (up to a global phase) on the input qubit, and the quantum states before and after querying the oracle are the same. Since the H-gate is its own inverse, in Step 4 we reverse Step 2 to obtain the initial quantum state of $|0\\rangle$ in the first register.\n",
    "\n",
    "- **Balanced Oracle**\n",
    "\n",
    "After step 2, our input register is an equal superposition of all the states in the computational basis ($\\vert0\\rangle$ and $\\vert1\\rangle$). When the oracle is *balanced*, phase kickback adds a negative phase to exactly one of these states.\n",
    "\n",
    "\n",
    "The quantum state after querying the oracle is orthogonal to the quantum state before querying the oracle. Thus, in Step 4, when applying the H-gates, we must end up with a quantum state that is orthogonal to $|0\\rangle$. This means we should never measure the zero state. "
   ]
  },
  {
   "cell_type": "markdown",
   "metadata": {
    "id": "WXToBADfyefC"
   },
   "source": [
    "##  2. Creating Quantum Oracles <a id='creating-quantum-oracles'> </a>\n",
    "\n",
    "Let's see how we can create a quantum oracle. \n",
    "\n",
    "For a constant function, it is simple:\n",
    "\n",
    "$\\qquad$ 1. if f(x) = 0, then apply the $I$ gate to the qubit in register 2.  \n",
    "$\\qquad$ 2. if f(x) = 1, then apply the $X$ gate to the qubit in register 2.\n",
    "\n",
    "For a balanced function, there are also two different circuits we can create. The easiest way we can guarantee our circuit is balanced is by performing a CNOT for the qubit in register 1, with the qubit in register 2 as the target. For example:\n",
    "\n",
    "\n",
    "![title](balanced1.png)\n",
    "\n",
    "\n",
    "We can see which input states give which output in the table below:\n",
    "\n",
    "| Input states that output 0 | Input States that output 1 |\n",
    "|:--------------------------:|:--------------------------:|\n",
    "|              0             |             1              |\n",
    "\n",
    "\n",
    "\n",
    "We can change the results while keeping them balanced by wrapping the control in X-gates. See the circuit and its results table below:\n",
    "\n",
    "\n",
    "![title](balanced2.png)\n",
    "\n",
    "\n",
    "| Input states that output 0 | Input states that output 1 |\n",
    "|:--------------------------:|:--------------------------:|\n",
    "|             1              |             0              |\n",
    "\n",
    "###  2.1 Worked example <a id='worked'></a>\n",
    "\n",
    "Let's go through a specific example. Consider the identity function $f(0)=0$, $f(1)=1$. This function is balanced and the corresponding oracle is composed of a single CNOT gate (check for yourself!). After application of the oracle we have\n",
    "\n",
    "$$\\begin{align}\\lvert \\psi_2 \\rangle &= \\frac{1}{2}\\sum_{x=0}^{1} \\vert x\\rangle (\\vert x\\rangle - \\vert 1 \\oplus x\\rangle)\\\\&=\\frac{1}{2}\\left( \\vert 00\\rangle - \\vert 01\\rangle + \\vert 11\\rangle - \\vert 10\\rangle\\right)\\end{align}$$\n",
    "\n",
    "The Hadamard on register one gives\n",
    "\n",
    "$$\\lvert \\psi_3 \\rangle =  \\vert 1\\rangle \\otimes \\left(\\frac{\\vert 0\\rangle - \\vert 1 \\rangle}{2}\\right) $$\n",
    "\n",
    "Thus, measuring the first register always returns $\\vert1\\rangle$ indicating that the function is balanced."
   ]
  },
  {
   "cell_type": "markdown",
   "metadata": {
    "id": "XLgSNa8IyqFU"
   },
   "source": [
    "## 3. Qiskit Implementation <a id='implementation'></a>\n",
    "\n",
    "We now implement Deutsch's algorithm for the example of a one-bit function, with both constant and balanced oracles. First let's do our imports:"
   ]
  },
  {
   "cell_type": "code",
   "execution_count": 1,
   "metadata": {
    "executionInfo": {
     "elapsed": 901,
     "status": "ok",
     "timestamp": 1662645622541,
     "user": {
      "displayName": "Michael Rampp",
      "userId": "10575348224613861770"
     },
     "user_tz": -120
    },
    "id": "P9arrkSfywj0"
   },
   "outputs": [],
   "source": [
    "# initialization\n",
    "import numpy as np\n",
    "\n",
    "# importing Qiskit\n",
    "from qiskit import IBMQ, Aer\n",
    "from qiskit.providers.ibmq import least_busy\n",
    "from qiskit import QuantumCircuit, assemble, transpile\n",
    "\n",
    "# import basic plot tools\n",
    "from qiskit.visualization import plot_histogram"
   ]
  },
  {
   "cell_type": "markdown",
   "metadata": {
    "id": "exWgAIi6y9je"
   },
   "source": [
    "### 3.1 Constant Oracle <a id='const_oracle'></a>\n",
    "Let's start by creating a constant oracle, in this case the input has no effect on the output so we just randomly set the output qubit to be 0 or 1:"
   ]
  },
  {
   "cell_type": "markdown",
   "metadata": {
    "id": "tBJcYkXhNN5x"
   },
   "source": [
    "$\\color{red}{\\text{Exercise 1: create a constant oracle!}}$"
   ]
  },
  {
   "cell_type": "code",
   "execution_count": 2,
   "metadata": {
    "colab": {
     "base_uri": "https://localhost:8080/",
     "height": 94
    },
    "executionInfo": {
     "elapsed": 827,
     "status": "ok",
     "timestamp": 1662645993261,
     "user": {
      "displayName": "Michael Rampp",
      "userId": "10575348224613861770"
     },
     "user_tz": -120
    },
    "id": "XLo-udQIy-QR",
    "outputId": "63663f51-ea0e-4808-c29a-ff398ebefc4f"
   },
   "outputs": [
    {
     "data": {
      "text/html": [
       "<pre style=\"word-wrap: normal;white-space: pre;background: #fff0;line-height: 1.1;font-family: &quot;Courier New&quot;,Courier,monospace\">          \n",
       "q_0: ─────\n",
       "     ┌───┐\n",
       "q_1: ┤ X ├\n",
       "     └───┘</pre>"
      ],
      "text/plain": [
       "          \n",
       "q_0: ─────\n",
       "     ┌───┐\n",
       "q_1: ┤ X ├\n",
       "     └───┘"
      ]
     },
     "execution_count": 2,
     "metadata": {},
     "output_type": "execute_result"
    }
   ],
   "source": [
    "\n",
    "const_oracle = QuantumCircuit(2)\n",
    "\n",
    "\"Your code goes here\"\n",
    "output = np.random.randint(2)\n",
    "if output == 1:\n",
    "    const_oracle.x(1)\n",
    "\n",
    "const_oracle.draw()"
   ]
  },
  {
   "cell_type": "markdown",
   "metadata": {
    "id": "NBvKzya3zCAE"
   },
   "source": [
    "### 3.2 Balanced Oracle <a id='balanced_oracle'></a>"
   ]
  },
  {
   "cell_type": "markdown",
   "metadata": {
    "id": "uek0D0AMzKBC"
   },
   "source": [
    "Next, we create a balanced oracle. As we saw in section 1b, we can create a balanced oracle by performing a CNOT with the input qubit as a control and the output bit as the target. We can vary the input states that give 0 or 1 by wrapping the control in X-gates."
   ]
  },
  {
   "cell_type": "markdown",
   "metadata": {
    "id": "FzIFFv25N0lc"
   },
   "source": [
    "$\\color{red}{\\text{Exercise 2: Create a balanced oracle}}$"
   ]
  },
  {
   "cell_type": "code",
   "execution_count": 3,
   "metadata": {
    "colab": {
     "base_uri": "https://localhost:8080/",
     "height": 94
    },
    "executionInfo": {
     "elapsed": 5,
     "status": "ok",
     "timestamp": 1662645997030,
     "user": {
      "displayName": "Michael Rampp",
      "userId": "10575348224613861770"
     },
     "user_tz": -120
    },
    "id": "5G7u-elhzUC9",
    "outputId": "91ea9b32-d110-4c97-8974-4233d0129973"
   },
   "outputs": [
    {
     "data": {
      "text/html": [
       "<pre style=\"word-wrap: normal;white-space: pre;background: #fff0;line-height: 1.1;font-family: &quot;Courier New&quot;,Courier,monospace\">     ┌───┐ ░       ░ ┌───┐\n",
       "q_0: ┤ X ├─░───■───░─┤ X ├\n",
       "     └───┘ ░ ┌─┴─┐ ░ └───┘\n",
       "q_1: ──────░─┤ X ├─░──────\n",
       "           ░ └───┘ ░      </pre>"
      ],
      "text/plain": [
       "     ┌───┐ ░       ░ ┌───┐\n",
       "q_0: ┤ X ├─░───■───░─┤ X ├\n",
       "     └───┘ ░ ┌─┴─┐ ░ └───┘\n",
       "q_1: ──────░─┤ X ├─░──────\n",
       "           ░ └───┘ ░      "
      ]
     },
     "execution_count": 3,
     "metadata": {},
     "output_type": "execute_result"
    }
   ],
   "source": [
    "balanced_oracle = QuantumCircuit(2)\n",
    "\n",
    "\n",
    "# Place X-gate on first qbit at random\n",
    "\"Your code goes here\"\n",
    "x_wrap = np.random.randint(2)\n",
    "if x_wrap == 1:\n",
    "    balanced_oracle.x(0)\n",
    "\n",
    "# Use barrier as divider, the barrier is only required for better visualization and has no direct effect on the quantum circuit itself\n",
    "balanced_oracle.barrier()\n",
    "\n",
    "# Controlled-NOT gate\n",
    "\"Place your new part here\"\n",
    "balanced_oracle.cx(0,1)\n",
    "\n",
    "balanced_oracle.barrier()\n",
    "\n",
    "# Place X-gate\n",
    "\"Place your new part here\"\n",
    "if x_wrap == 1:\n",
    "    balanced_oracle.x(0)\n",
    "\n",
    "balanced_oracle.draw()"
   ]
  },
  {
   "cell_type": "markdown",
   "metadata": {
    "id": "1iy3Zi7_LNWb"
   },
   "source": [
    "$\\color{red}{\\text{Exercise 3: Implement the algorithm}}$"
   ]
  },
  {
   "cell_type": "code",
   "execution_count": 4,
   "metadata": {
    "colab": {
     "base_uri": "https://localhost:8080/",
     "height": 125
    },
    "executionInfo": {
     "elapsed": 7,
     "status": "ok",
     "timestamp": 1662646001332,
     "user": {
      "displayName": "Michael Rampp",
      "userId": "10575348224613861770"
     },
     "user_tz": -120
    },
    "id": "f9YdpRyCLIok",
    "outputId": "06244cba-b641-4654-9c48-aa8155da0fdd"
   },
   "outputs": [
    {
     "data": {
      "text/html": [
       "<pre style=\"word-wrap: normal;white-space: pre;background: #fff0;line-height: 1.1;font-family: &quot;Courier New&quot;,Courier,monospace\">     ┌───┐ ░            ░ \n",
       "q_0: ┤ H ├─░────────────░─\n",
       "     └───┘ ░ ┌───┐┌───┐ ░ \n",
       "q_1: ──────░─┤ X ├┤ H ├─░─\n",
       "           ░ └───┘└───┘ ░ \n",
       "c: 1/═════════════════════\n",
       "                          </pre>"
      ],
      "text/plain": [
       "     ┌───┐ ░            ░ \n",
       "q_0: ┤ H ├─░────────────░─\n",
       "     └───┘ ░ ┌───┐┌───┐ ░ \n",
       "q_1: ──────░─┤ X ├┤ H ├─░─\n",
       "           ░ └───┘└───┘ ░ \n",
       "c: 1/═════════════════════\n",
       "                          "
      ]
     },
     "execution_count": 4,
     "metadata": {},
     "output_type": "execute_result"
    }
   ],
   "source": [
    "dj_circuit = QuantumCircuit(2, 1) #2 qubits, 1 classical measurement\n",
    "\n",
    "# Apply H-gates to the first register\n",
    "\"Your code is here\"\n",
    "dj_circuit.h(0)\n",
    "\n",
    "# Use barrier as divider, the barrier is only required for better visualization and has no direct effect on the quantum circuit itself\n",
    "dj_circuit.barrier()\n",
    "\n",
    "# Put target qubit in state |->\n",
    "\"Your code is here\"\n",
    "dj_circuit.x(1)\n",
    "dj_circuit.h(1)\n",
    "\n",
    "# Use barrier as divider, the barrier is only required for better visualization and has no direct effect on the quantum circuit itself\n",
    "dj_circuit.barrier()\n",
    "\n",
    "dj_circuit.draw()\n",
    "\n"
   ]
  },
  {
   "cell_type": "markdown",
   "metadata": {
    "id": "0lnKZZ_9LuC6"
   },
   "source": [
    "$\\color{red}{\\text{Exercise 4 : Add the on of the oracles to the dj_circuit randomly.}}$  $\\color{red}{\\text{Hint: you can add circuits with \".compose()\"}}$ "
   ]
  },
  {
   "cell_type": "code",
   "execution_count": 5,
   "metadata": {
    "colab": {
     "base_uri": "https://localhost:8080/",
     "height": 125
    },
    "executionInfo": {
     "elapsed": 9,
     "status": "ok",
     "timestamp": 1662646085388,
     "user": {
      "displayName": "Michael Rampp",
      "userId": "10575348224613861770"
     },
     "user_tz": -120
    },
    "id": "4n1LEwseLuC8",
    "outputId": "95dfc307-4a0b-4aef-8842-14489926d24e"
   },
   "outputs": [
    {
     "data": {
      "text/html": [
       "<pre style=\"word-wrap: normal;white-space: pre;background: #fff0;line-height: 1.1;font-family: &quot;Courier New&quot;,Courier,monospace\">     ┌───┐ ░            ░ ┌───┐ ░       ░ ┌───┐\n",
       "q_0: ┤ H ├─░────────────░─┤ X ├─░───■───░─┤ X ├\n",
       "     └───┘ ░ ┌───┐┌───┐ ░ └───┘ ░ ┌─┴─┐ ░ └───┘\n",
       "q_1: ──────░─┤ X ├┤ H ├─░───────░─┤ X ├─░──────\n",
       "           ░ └───┘└───┘ ░       ░ └───┘ ░      \n",
       "c: 1/══════════════════════════════════════════\n",
       "                                               </pre>"
      ],
      "text/plain": [
       "     ┌───┐ ░            ░ ┌───┐ ░       ░ ┌───┐\n",
       "q_0: ┤ H ├─░────────────░─┤ X ├─░───■───░─┤ X ├\n",
       "     └───┘ ░ ┌───┐┌───┐ ░ └───┘ ░ ┌─┴─┐ ░ └───┘\n",
       "q_1: ──────░─┤ X ├┤ H ├─░───────░─┤ X ├─░──────\n",
       "           ░ └───┘└───┘ ░       ░ └───┘ ░      \n",
       "c: 1/══════════════════════════════════════════\n",
       "                                               "
      ]
     },
     "execution_count": 5,
     "metadata": {},
     "output_type": "execute_result"
    }
   ],
   "source": [
    "# Add oracle\n",
    "\"Your code goes here\"\n",
    "oracle = np.random.randint(2)\n",
    "if oracle==0:\n",
    "  dj_circuit = dj_circuit.compose(const_oracle)  \n",
    "else:\n",
    "  dj_circuit = dj_circuit.compose(balanced_oracle)\n",
    "dj_circuit.draw()"
   ]
  },
  {
   "cell_type": "markdown",
   "metadata": {
    "id": "brps-hVHLuC9"
   },
   "source": [
    "Finally, we perform an H-gate on the input qubit, and measure our input register:"
   ]
  },
  {
   "cell_type": "markdown",
   "metadata": {
    "id": "2hWHyQRCLuC9"
   },
   "source": [
    "$\\color{red}{\\text{Exercise 5 : Add the final gates and the measurement to your circuit.}}$"
   ]
  },
  {
   "cell_type": "code",
   "execution_count": 6,
   "metadata": {
    "colab": {
     "base_uri": "https://localhost:8080/",
     "height": 125
    },
    "executionInfo": {
     "elapsed": 414,
     "status": "ok",
     "timestamp": 1662646095656,
     "user": {
      "displayName": "Michael Rampp",
      "userId": "10575348224613861770"
     },
     "user_tz": -120
    },
    "id": "WYOTjarVLuC-",
    "outputId": "73bdc75d-0717-4ef5-ec6b-f432a26fab64"
   },
   "outputs": [
    {
     "data": {
      "text/html": [
       "<pre style=\"word-wrap: normal;white-space: pre;background: #fff0;line-height: 1.1;font-family: &quot;Courier New&quot;,Courier,monospace\">     ┌───┐ ░            ░ ┌───┐ ░       ░ ┌───┐┌───┐ ░ ┌─┐\n",
       "q_0: ┤ H ├─░────────────░─┤ X ├─░───■───░─┤ X ├┤ H ├─░─┤M├\n",
       "     └───┘ ░ ┌───┐┌───┐ ░ └───┘ ░ ┌─┴─┐ ░ └───┘└───┘ ░ └╥┘\n",
       "q_1: ──────░─┤ X ├┤ H ├─░───────░─┤ X ├─░────────────░──╫─\n",
       "           ░ └───┘└───┘ ░       ░ └───┘ ░            ░  ║ \n",
       "c: 1/═══════════════════════════════════════════════════╩═\n",
       "                                                        0 </pre>"
      ],
      "text/plain": [
       "     ┌───┐ ░            ░ ┌───┐ ░       ░ ┌───┐┌───┐ ░ ┌─┐\n",
       "q_0: ┤ H ├─░────────────░─┤ X ├─░───■───░─┤ X ├┤ H ├─░─┤M├\n",
       "     └───┘ ░ ┌───┐┌───┐ ░ └───┘ ░ ┌─┴─┐ ░ └───┘└───┘ ░ └╥┘\n",
       "q_1: ──────░─┤ X ├┤ H ├─░───────░─┤ X ├─░────────────░──╫─\n",
       "           ░ └───┘└───┘ ░       ░ └───┘ ░            ░  ║ \n",
       "c: 1/═══════════════════════════════════════════════════╩═\n",
       "                                                        0 "
      ]
     },
     "execution_count": 6,
     "metadata": {},
     "output_type": "execute_result"
    }
   ],
   "source": [
    "\n",
    "\"Your code goes here\"\n",
    "# Repeat H-gates\n",
    "dj_circuit.h(0)\n",
    "dj_circuit.barrier()\n",
    "\n",
    "# Measure\n",
    "dj_circuit.measure(0, 0)\n",
    "\n",
    "# Display circuit\n",
    "dj_circuit.draw()"
   ]
  },
  {
   "cell_type": "markdown",
   "metadata": {
    "id": "L3jVryWHLuC-"
   },
   "source": [
    "Let's see the output. What do you conclude?"
   ]
  },
  {
   "cell_type": "code",
   "execution_count": 7,
   "metadata": {
    "colab": {
     "base_uri": "https://localhost:8080/",
     "height": 323
    },
    "executionInfo": {
     "elapsed": 569,
     "status": "ok",
     "timestamp": 1662035800747,
     "user": {
      "displayName": "Michael Rampp",
      "userId": "10575348224613861770"
     },
     "user_tz": -120
    },
    "id": "kKuq8jBkLuC_",
    "outputId": "0706d953-60dc-498e-e717-466f13f5bb95"
   },
   "outputs": [
    {
     "data": {
      "image/png": "[encoded data removed]",
      "text/plain": [
       "<Figure size 700x500 with 1 Axes>"
      ]
     },
     "execution_count": 7,
     "metadata": {},
     "output_type": "execute_result"
    }
   ],
   "source": [
    "# use local simulator\n",
    "aer_sim = Aer.get_backend('aer_simulator')\n",
    "qobj = assemble(dj_circuit, aer_sim)\n",
    "results = aer_sim.run(qobj).result()\n",
    "answer = results.get_counts()\n",
    "\n",
    "plot_histogram(answer)"
   ]
  },
  {
   "cell_type": "markdown",
   "metadata": {
    "id": "5bsOL9Mz0c7g"
   },
   "source": [
    "## 4. Experiment with Real Devices <a id='device'></a>\n",
    "\n",
    "We can also run the circuit on the real device as shown below. Warning: It might take some time until it is your turn."
   ]
  },
  {
   "cell_type": "code",
   "execution_count": 8,
   "metadata": {
    "colab": {
     "base_uri": "https://localhost:8080/"
    },
    "executionInfo": {
     "elapsed": 17015,
     "status": "ok",
     "timestamp": 1659775398420,
     "user": {
      "displayName": "Dominik Hahn",
      "userId": "09159259743712920381"
     },
     "user_tz": -120
    },
    "id": "N88oGnSZ0hcJ",
    "outputId": "bca99be3-a041-4cdf-fe95-f49bdbec9d1d"
   },
   "outputs": [],
   "source": [
    "IBMQ.save_account(\"740cf9a029345b5770ad72af52ca4d1c51eb8afe78c6d95e17ecffd2e72033a693cf8563418f2143cf5d9780f497e3100577f0a400d882f5d4314ca68ce9fc37\",overwrite=True)\n",
    "IBMQ.load_account()\n",
    "provider = IBMQ.get_provider(hub='ibm-q-research-2',group='max-planck-inst',project='codingchallenge')\n",
    "backend = provider.get_backend('ibm_perth')"
   ]
  },
  {
   "cell_type": "code",
   "execution_count": null,
   "metadata": {
    "colab": {
     "base_uri": "https://localhost:8080/",
     "height": 34
    },
    "executionInfo": {
     "elapsed": 272254,
     "status": "ok",
     "timestamp": 1659775676248,
     "user": {
      "displayName": "Dominik Hahn",
      "userId": "09159259743712920381"
     },
     "user_tz": -120
    },
    "id": "tpUXKqq00pwt",
    "outputId": "affd7155-0081-4f90-c4bd-3240d46eb517"
   },
   "outputs": [],
   "source": [
    "from qiskit.tools.monitor import job_monitor\n",
    "\n",
    "transpiled_dj_circuit = transpile(dj_circuit, backend, optimization_level=3)\n",
    "job = backend.run(transpiled_dj_circuit)\n",
    "job_monitor(job, interval=2)"
   ]
  },
  {
   "cell_type": "code",
   "execution_count": null,
   "metadata": {
    "id": "J_XvwaoX0s3S"
   },
   "outputs": [],
   "source": [
    "# Get the results of the computation\n",
    "results = job.result()\n",
    "answer = results.get_counts()\n",
    "\n",
    "plot_histogram(answer)"
   ]
  },
  {
   "cell_type": "markdown",
   "metadata": {
    "id": "_uXMIctAyNQf"
   },
   "source": [
    "##  5. Generalization to $n$ qubits <a id='generalization'> </a>\n",
    "\n",
    "###  5.1 Deutsch-Jozsa Problem <a id='djproblem'> </a>\n",
    "\n",
    "The above procedure can be generalized to functions taking as inputs bit-strings of length $n$. The quantum computer is still able to determine whether the function in only a single shot! \n",
    "\n",
    "We are given a hidden Boolean function $f$, which takes as input a string of bits, and returns either $0$ or $1$, that is:\n",
    "\n",
    "$$\n",
    "f(\\{x_0,x_1,x_2,...\\}) \\rightarrow 0 \\textrm{ or } 1 \\textrm{ , where } x_n \\textrm{ is } 0 \\textrm{ or } 1$$\n",
    "\n",
    "The property of the given Boolean function is that it is guaranteed to either be balanced or constant. A constant function returns all $0$'s or all $1$'s for any input, while a balanced function returns $0$'s for exactly half of all inputs and $1$'s for the other half. Our task is to determine whether the given function is balanced or constant. \n",
    "\n",
    "###  5.2 The Classical Solution <a id='classical-solution'> </a>\n",
    "\n",
    "Classically, in the best case, two queries to the oracle can determine if the hidden Boolean function, $f(x)$, is balanced: \n",
    "e.g. if we get both $f(0,0,0,...)\\rightarrow 0$ and $f(1,0,0,...) \\rightarrow 1$, then we know the function is balanced as we have obtained the two different outputs.  \n",
    "\n",
    "In the worst case, if we continue to see the same output for each input we try, we will have to check exactly half of all possible inputs plus one in order to be certain that $f(x)$ is constant. Since the total number of possible inputs is $2^n$, this implies that we need $2^{n-1}+1$ trial inputs to be certain that $f(x)$ is constant in the worst case. For example, for a $4$-bit string, if we checked $8$ out of the $16$ possible combinations, getting all $0$'s, it is still possible that the $9^\\textrm{th}$ input returns a $1$ and $f(x)$ is balanced. Probabilistically, this is a very unlikely event. In fact, if we get the same result continually in succession, we can express the probability that the function is constant as a function of $k$ inputs as:\n",
    "\n",
    "\n",
    "\n",
    "$$ P_\\textrm{constant}(k) = 1 - \\frac{1}{2^{k-1}} \\qquad \\textrm{for } 1 < k \\leq 2^{n-1}$$\n",
    "\n",
    "\n",
    "\n",
    "Realistically, we could opt to truncate our classical algorithm early, say if we were over x% confident. But if we want to be 100% confident, we would need to check $2^{n-1}+1$ inputs."
   ]
  },
  {
   "cell_type": "markdown",
   "metadata": {
    "id": "i8nkpkV0yVcL"
   },
   "source": [
    "###  5.3 Quantum Solution <a id='quantum-solution'> </a>\n",
    "\n",
    "Below is the generic circuit for the Deutsch-Jozsa algorithm.\n",
    "\n",
    "![title](deutsch_steps.png)\n",
    "\n",
    "Now, let's go through the steps of the algorithm:\n",
    "\n",
    "<ol>\n",
    "   <li>\n",
    "        Prepare two quantum registers. The first is an $n$-qubit register initialized to $|0\\rangle$, and the second is a one-qubit register initialized to $|1\\rangle$:\n",
    "        \n",
    "\n",
    "$$\\vert \\psi_0 \\rangle = \\vert0\\rangle^{\\otimes n} \\vert 1\\rangle$$\n",
    "\n",
    "\n",
    "   </li>\n",
    "    \n",
    "   <li>\n",
    "        Apply a Hadamard gate to each qubit:\n",
    "        \n",
    "\n",
    "$$\\vert \\psi_1 \\rangle = \\frac{1}{\\sqrt{2^{n+1}}}\\sum_{x=0}^{2^n-1} \\vert x\\rangle \\left(|0\\rangle - |1 \\rangle \\right)$$\n",
    "\n",
    "\n",
    "   </li>\n",
    "   \n",
    "   <li>\n",
    "        Apply the quantum oracle $\\vert x\\rangle \\vert y\\rangle$ to $\\vert x\\rangle \\vert y \\oplus f(x)\\rangle$ here: \n",
    "\n",
    "$$\\begin{align}\\lvert \\psi_2 \\rangle &= \\frac{1}{\\sqrt{2^{n+1}}}\\sum_{x=0}^{2^n-1} \\vert x\\rangle (\\vert f(x)\\rangle - \\vert 1 \\oplus f(x)\\rangle)\\\\&=\\frac{1}{\\sqrt{2^{n+1}}}\\sum_{x=0}^{2^n-1}(-1)^{f(x)}|x\\rangle ( |0\\rangle - |1\\rangle )\\end{align}$$\n",
    "\n",
    "since for each $x,f(x)$ is either $0$ or $1$.\n",
    "   </li>\n",
    "\n",
    "   <li>\n",
    "       At this point the second single qubit register may be ignored. Apply a Hadamard gate to each qubit in the first register:\n",
    "\n",
    "$$\n",
    "\\begin{align}\n",
    "\\lvert \\psi_3 \\rangle \n",
    "  &= \\frac{1}{2^n}\\sum_{x=0}^{2^n-1}(-1)^{f(x)}\n",
    "  \\left[ \\sum_{y=0}^{2^n-1}(-1)^{x \\cdot y} \n",
    "  \\vert y \\rangle \\right]\\\\ \n",
    "  &= \\frac{1}{2^n}\\sum_{y=0}^{2^n-1}\n",
    "  \\left[ \\sum_{x=0}^{2^n-1}(-1)^{f(x)}(-1)^{x \\cdot y} \\right]\n",
    "  \\vert y \\rangle\n",
    "  \\end{align}\n",
    "$$\n",
    "       \n",
    "where $x \\cdot y = x_0y_0 \\oplus x_1y_1 \\oplus \\ldots \\oplus x_{n-1}y_{n-1}$ is the sum of the bitwise product.\n",
    "   </li>\n",
    "\n",
    "   <li>\n",
    "       Measure the first register. Notice that the probability of measuring $\\vert 0 \\rangle ^{\\otimes n} = \\lvert \\frac{1}{2^n}\\sum_{x=0}^{2^n-1}(-1)^{f(x)} \\rvert^2$, which evaluates to $1$ if $f(x)$ is constant and $0$ if $f(x)$ is balanced. \n",
    "   </li>\n",
    "\n",
    "</ol>\n",
    "\n",
    "###  5.4 Why Does This Work? <a id='why-does-this-work'> </a>\n",
    "\n",
    "- **Constant Oracle**\n",
    "\n",
    "When the oracle is *constant*, it has no effect (up to a global phase) on the input qubits, and the quantum states before and after querying the oracle are the same. Since the H-gate is its own inverse, in Step 4 we reverse Step 2 to obtain the initial quantum state of $|00\\dots 0\\rangle$ in the first register.\n",
    "\n",
    "$$\n",
    "H^{\\otimes n}\\begin{bmatrix} 1 \\\\ 0 \\\\ 0 \\\\ \\vdots \\\\ 0 \\end{bmatrix} \n",
    "= \n",
    "\\tfrac{1}{\\sqrt{2^n}}\\begin{bmatrix} 1 \\\\ 1 \\\\ 1 \\\\ \\vdots \\\\ 1 \\end{bmatrix}\n",
    "\\quad \\xrightarrow{\\text{after } U_f} \\quad\n",
    "H^{\\otimes n}\\tfrac{1}{\\sqrt{2^n}}\\begin{bmatrix} 1 \\\\ 1 \\\\ 1 \\\\ \\vdots \\\\ 1 \\end{bmatrix}\n",
    "= \n",
    "\\begin{bmatrix} 1 \\\\ 0 \\\\ 0 \\\\ \\vdots \\\\ 0 \\end{bmatrix} \n",
    "$$\n",
    "\n",
    "- **Balanced Oracle**\n",
    "\n",
    "After step 2, our input register is an equal superposition of all the states in the computational basis. When the oracle is *balanced*, phase kickback adds a negative phase to exactly half these states:\n",
    "\n",
    "$$\n",
    "U_f \\tfrac{1}{\\sqrt{2^n}}\\begin{bmatrix} 1 \\\\ 1 \\\\ 1 \\\\ \\vdots \\\\ 1 \\end{bmatrix} \n",
    "= \n",
    "\\tfrac{1}{\\sqrt{2^n}}\\begin{bmatrix} -1 \\\\ 1 \\\\ -1 \\\\ \\vdots \\\\ 1 \\end{bmatrix}\n",
    "$$\n",
    "\n",
    "\n",
    "The quantum state after querying the oracle is orthogonal to the quantum state before querying the oracle. Thus, in Step 4, when applying the H-gates, we must end up with a quantum state that is orthogonal to $|00\\dots 0\\rangle$. This means we should never measure the all-zero state. \n"
   ]
  },
  {
   "cell_type": "markdown",
   "metadata": {
    "id": "FrGYoFrnOVZC"
   },
   "source": [
    "$\\color{red}{\\text{Exercise 6: Construct a balanced oracle for 3 qubits}}$"
   ]
  },
  {
   "cell_type": "markdown",
   "metadata": {
    "id": "HGAJzEPJNYCX"
   },
   "source": [
    "Since we now have 3 qubits there are now more possibilities to have a balanced function. We can create the appropriate oracles by wrapping some input qubits in X-gates (analogous to the procedure above). Here, you are given a bitstring that tells you which qubits to wrap. For the bitsring \"101\" you should obtain the circuit displayed below:\n",
    "![title](balancedn3.png)"
   ]
  },
  {
   "cell_type": "code",
   "execution_count": 10,
   "metadata": {
    "executionInfo": {
     "elapsed": 421,
     "status": "ok",
     "timestamp": 1662646105812,
     "user": {
      "displayName": "Michael Rampp",
      "userId": "10575348224613861770"
     },
     "user_tz": -120
    },
    "id": "xfpTjp77y2dU"
   },
   "outputs": [],
   "source": [
    "# set the length of the n-bit input string. \n",
    "n = 3"
   ]
  },
  {
   "cell_type": "code",
   "execution_count": 11,
   "metadata": {
    "colab": {
     "base_uri": "https://localhost:8080/",
     "height": 156
    },
    "executionInfo": {
     "elapsed": 416,
     "status": "ok",
     "timestamp": 1662646109613,
     "user": {
      "displayName": "Michael Rampp",
      "userId": "10575348224613861770"
     },
     "user_tz": -120
    },
    "id": "LZk8EumXzmff",
    "outputId": "e4d64682-3579-4127-b7e3-aadf2d3b4cae"
   },
   "outputs": [
    {
     "data": {
      "text/html": [
       "<pre style=\"word-wrap: normal;white-space: pre;background: #fff0;line-height: 1.1;font-family: &quot;Courier New&quot;,Courier,monospace\">     ┌───┐ ░                 ░ ┌───┐\n",
       "q_0: ┤ X ├─░───■─────────────░─┤ X ├\n",
       "     └───┘ ░   │             ░ └───┘\n",
       "q_1: ──────░───┼────■────────░──────\n",
       "     ┌───┐ ░   │    │        ░ ┌───┐\n",
       "q_2: ┤ X ├─░───┼────┼────■───░─┤ X ├\n",
       "     └───┘ ░ ┌─┴─┐┌─┴─┐┌─┴─┐ ░ └───┘\n",
       "q_3: ──────░─┤ X ├┤ X ├┤ X ├─░──────\n",
       "           ░ └───┘└───┘└───┘ ░      </pre>"
      ],
      "text/plain": [
       "     ┌───┐ ░                 ░ ┌───┐\n",
       "q_0: ┤ X ├─░───■─────────────░─┤ X ├\n",
       "     └───┘ ░   │             ░ └───┘\n",
       "q_1: ──────░───┼────■────────░──────\n",
       "     ┌───┐ ░   │    │        ░ ┌───┐\n",
       "q_2: ┤ X ├─░───┼────┼────■───░─┤ X ├\n",
       "     └───┘ ░ ┌─┴─┐┌─┴─┐┌─┴─┐ ░ └───┘\n",
       "q_3: ──────░─┤ X ├┤ X ├┤ X ├─░──────\n",
       "           ░ └───┘└───┘└───┘ ░      "
      ]
     },
     "execution_count": 11,
     "metadata": {},
     "output_type": "execute_result"
    }
   ],
   "source": [
    "balanced_oracle = QuantumCircuit(n+1)\n",
    "b_str = \"101\"\n",
    "\n",
    "# Place X-gates\n",
    "\"Your code goes here\"\n",
    "for qubit in range(len(b_str)):\n",
    "    if b_str[qubit] == '1':\n",
    "        balanced_oracle.x(qubit)\n",
    "\n",
    "# Use barrier as divider, the barrier is only required for better visualization and has no direct effect on the quantum circuit itself\n",
    "balanced_oracle.barrier()\n",
    "\n",
    "# Controlled-NOT gates\n",
    "\"Place your new part here\"\n",
    "for qubit in range(n):\n",
    "    balanced_oracle.cx(qubit, n)\n",
    "\n",
    "balanced_oracle.barrier()\n",
    "\n",
    "# Place X-gates\n",
    "\"Your code goes here\"\n",
    "for qubit in range(len(b_str)):\n",
    "    if b_str[qubit] == '1':\n",
    "        balanced_oracle.x(qubit)\n",
    "\n",
    "# Show oracle\n",
    "balanced_oracle.draw()"
   ]
  },
  {
   "cell_type": "markdown",
   "metadata": {
    "id": "aTCn0Om3znP7"
   },
   "source": [
    "We have just created a balanced oracle for 3 qubits! All that's left to do is see if the Deutsch-Jozsa algorithm can solve it.\n",
    "\n"
   ]
  },
  {
   "cell_type": "markdown",
   "metadata": {
    "id": "imGTDwAePC-P"
   },
   "source": [
    "$\\color{red}{\\text{Exercise 7 : Prepare the initial states of the Deutsch algorithm!}}$"
   ]
  },
  {
   "cell_type": "code",
   "execution_count": 12,
   "metadata": {
    "colab": {
     "base_uri": "https://localhost:8080/",
     "height": 186
    },
    "executionInfo": {
     "elapsed": 908,
     "status": "ok",
     "timestamp": 1662646115178,
     "user": {
      "displayName": "Michael Rampp",
      "userId": "10575348224613861770"
     },
     "user_tz": -120
    },
    "id": "3svvwALizs2c",
    "outputId": "11b472ba-5b59-4935-9ec1-f1883cb5e798"
   },
   "outputs": [
    {
     "data": {
      "text/html": [
       "<pre style=\"word-wrap: normal;white-space: pre;background: #fff0;line-height: 1.1;font-family: &quot;Courier New&quot;,Courier,monospace\">     ┌───┐ ░           \n",
       "q_0: ┤ H ├─░───────────\n",
       "     ├───┤ ░           \n",
       "q_1: ┤ H ├─░───────────\n",
       "     ├───┤ ░           \n",
       "q_2: ┤ H ├─░───────────\n",
       "     └───┘ ░ ┌───┐┌───┐\n",
       "q_3: ──────░─┤ X ├┤ H ├\n",
       "           ░ └───┘└───┘\n",
       "c: 3/══════════════════\n",
       "                       </pre>"
      ],
      "text/plain": [
       "     ┌───┐ ░           \n",
       "q_0: ┤ H ├─░───────────\n",
       "     ├───┤ ░           \n",
       "q_1: ┤ H ├─░───────────\n",
       "     ├───┤ ░           \n",
       "q_2: ┤ H ├─░───────────\n",
       "     └───┘ ░ ┌───┐┌───┐\n",
       "q_3: ──────░─┤ X ├┤ H ├\n",
       "           ░ └───┘└───┘\n",
       "c: 3/══════════════════\n",
       "                       "
      ]
     },
     "execution_count": 12,
     "metadata": {},
     "output_type": "execute_result"
    }
   ],
   "source": [
    "dj_circuit = QuantumCircuit(n+1, n) #n+1 qubits, n classicla measurement\n",
    "\n",
    "# Apply H-gates to the first register\n",
    "\"Your code is here\"\n",
    "for qubit in range(n):\n",
    "    dj_circuit.h(qubit)\n",
    "\n",
    "# Use barrier as divider, the barrier is only required for better visualization and has no direct effect on the quantum circuit itself\n",
    "dj_circuit.barrier()\n",
    "\n",
    "# Put target qubit in state |->\n",
    "\"Your code is here\"\n",
    "dj_circuit.x(n)\n",
    "dj_circuit.h(n)\n",
    "dj_circuit.draw()"
   ]
  },
  {
   "cell_type": "markdown",
   "metadata": {
    "id": "wR6eq0ffzvUS"
   },
   "source": [
    "Next, let's apply the oracle. Here we apply the `balanced_oracle` we created above:"
   ]
  },
  {
   "cell_type": "markdown",
   "metadata": {
    "id": "bZu0OCyNPtVe"
   },
   "source": [
    "$\\color{red}{\\text{Exercise 8 : Add the balanced_oracle to the dj_circuit.}}$  "
   ]
  },
  {
   "cell_type": "code",
   "execution_count": 13,
   "metadata": {
    "colab": {
     "base_uri": "https://localhost:8080/",
     "height": 186
    },
    "executionInfo": {
     "elapsed": 9,
     "status": "ok",
     "timestamp": 1662646127842,
     "user": {
      "displayName": "Michael Rampp",
      "userId": "10575348224613861770"
     },
     "user_tz": -120
    },
    "id": "TrDW0mwZz1eP",
    "outputId": "5dda123b-6a33-4d40-d06d-02c05d3a4693"
   },
   "outputs": [
    {
     "data": {
      "text/html": [
       "<pre style=\"word-wrap: normal;white-space: pre;background: #fff0;line-height: 1.1;font-family: &quot;Courier New&quot;,Courier,monospace\">     ┌───┐ ░ ┌───┐      ░                 ░ ┌───┐\n",
       "q_0: ┤ H ├─░─┤ X ├──────░───■─────────────░─┤ X ├\n",
       "     ├───┤ ░ └───┘      ░   │             ░ └───┘\n",
       "q_1: ┤ H ├─░────────────░───┼────■────────░──────\n",
       "     ├───┤ ░ ┌───┐      ░   │    │        ░ ┌───┐\n",
       "q_2: ┤ H ├─░─┤ X ├──────░───┼────┼────■───░─┤ X ├\n",
       "     └───┘ ░ ├───┤┌───┐ ░ ┌─┴─┐┌─┴─┐┌─┴─┐ ░ └───┘\n",
       "q_3: ──────░─┤ X ├┤ H ├─░─┤ X ├┤ X ├┤ X ├─░──────\n",
       "           ░ └───┘└───┘ ░ └───┘└───┘└───┘ ░      \n",
       "c: 3/════════════════════════════════════════════\n",
       "                                                 </pre>"
      ],
      "text/plain": [
       "     ┌───┐ ░ ┌───┐      ░                 ░ ┌───┐\n",
       "q_0: ┤ H ├─░─┤ X ├──────░───■─────────────░─┤ X ├\n",
       "     ├───┤ ░ └───┘      ░   │             ░ └───┘\n",
       "q_1: ┤ H ├─░────────────░───┼────■────────░──────\n",
       "     ├───┤ ░ ┌───┐      ░   │    │        ░ ┌───┐\n",
       "q_2: ┤ H ├─░─┤ X ├──────░───┼────┼────■───░─┤ X ├\n",
       "     └───┘ ░ ├───┤┌───┐ ░ ┌─┴─┐┌─┴─┐┌─┴─┐ ░ └───┘\n",
       "q_3: ──────░─┤ X ├┤ H ├─░─┤ X ├┤ X ├┤ X ├─░──────\n",
       "           ░ └───┘└───┘ ░ └───┘└───┘└───┘ ░      \n",
       "c: 3/════════════════════════════════════════════\n",
       "                                                 "
      ]
     },
     "execution_count": 13,
     "metadata": {},
     "output_type": "execute_result"
    }
   ],
   "source": [
    "# Add oracle\n",
    "\"Your code goes here\"\n",
    "dj_circuit = dj_circuit.compose(balanced_oracle)\n",
    "dj_circuit.draw()"
   ]
  },
  {
   "cell_type": "markdown",
   "metadata": {
    "id": "T6KOdtvuz4cc"
   },
   "source": [
    "Finally, we perform H-gates on the $n$-input qubits, and measure our input register:"
   ]
  },
  {
   "cell_type": "markdown",
   "metadata": {
    "id": "tZlghsjQQt8p"
   },
   "source": [
    "$\\color{red}{\\text{Exercise 9 : Add the final gates and the measurement to your circuit.}}$"
   ]
  },
  {
   "cell_type": "code",
   "execution_count": 14,
   "metadata": {
    "colab": {
     "base_uri": "https://localhost:8080/",
     "height": 186
    },
    "executionInfo": {
     "elapsed": 404,
     "status": "ok",
     "timestamp": 1662646158030,
     "user": {
      "displayName": "Michael Rampp",
      "userId": "10575348224613861770"
     },
     "user_tz": -120
    },
    "id": "i9u5uUr3z6jo",
    "outputId": "250d12e7-cdae-4c4f-ecdb-13657d7835d2"
   },
   "outputs": [
    {
     "data": {
      "text/html": [
       "<pre style=\"word-wrap: normal;white-space: pre;background: #fff0;line-height: 1.1;font-family: &quot;Courier New&quot;,Courier,monospace\">     ┌───┐ ░ ┌───┐      ░                 ░ ┌───┐ ░ ┌───┐ ░ ┌─┐      \n",
       "q_0: ┤ H ├─░─┤ X ├──────░───■─────────────░─┤ X ├─░─┤ H ├─░─┤M├──────\n",
       "     ├───┤ ░ └───┘      ░   │             ░ └───┘ ░ ├───┤ ░ └╥┘┌─┐   \n",
       "q_1: ┤ H ├─░────────────░───┼────■────────░───────░─┤ H ├─░──╫─┤M├───\n",
       "     ├───┤ ░ ┌───┐      ░   │    │        ░ ┌───┐ ░ ├───┤ ░  ║ └╥┘┌─┐\n",
       "q_2: ┤ H ├─░─┤ X ├──────░───┼────┼────■───░─┤ X ├─░─┤ H ├─░──╫──╫─┤M├\n",
       "     └───┘ ░ ├───┤┌───┐ ░ ┌─┴─┐┌─┴─┐┌─┴─┐ ░ └───┘ ░ └───┘ ░  ║  ║ └╥┘\n",
       "q_3: ──────░─┤ X ├┤ H ├─░─┤ X ├┤ X ├┤ X ├─░───────░───────░──╫──╫──╫─\n",
       "           ░ └───┘└───┘ ░ └───┘└───┘└───┘ ░       ░       ░  ║  ║  ║ \n",
       "c: 3/════════════════════════════════════════════════════════╩══╩══╩═\n",
       "                                                             0  1  2 </pre>"
      ],
      "text/plain": [
       "     ┌───┐ ░ ┌───┐      ░                 ░ ┌───┐ ░ ┌───┐ ░ ┌─┐      \n",
       "q_0: ┤ H ├─░─┤ X ├──────░───■─────────────░─┤ X ├─░─┤ H ├─░─┤M├──────\n",
       "     ├───┤ ░ └───┘      ░   │             ░ └───┘ ░ ├───┤ ░ └╥┘┌─┐   \n",
       "q_1: ┤ H ├─░────────────░───┼────■────────░───────░─┤ H ├─░──╫─┤M├───\n",
       "     ├───┤ ░ ┌───┐      ░   │    │        ░ ┌───┐ ░ ├───┤ ░  ║ └╥┘┌─┐\n",
       "q_2: ┤ H ├─░─┤ X ├──────░───┼────┼────■───░─┤ X ├─░─┤ H ├─░──╫──╫─┤M├\n",
       "     └───┘ ░ ├───┤┌───┐ ░ ┌─┴─┐┌─┴─┐┌─┴─┐ ░ └───┘ ░ └───┘ ░  ║  ║ └╥┘\n",
       "q_3: ──────░─┤ X ├┤ H ├─░─┤ X ├┤ X ├┤ X ├─░───────░───────░──╫──╫──╫─\n",
       "           ░ └───┘└───┘ ░ └───┘└───┘└───┘ ░       ░       ░  ║  ║  ║ \n",
       "c: 3/════════════════════════════════════════════════════════╩══╩══╩═\n",
       "                                                             0  1  2 "
      ]
     },
     "execution_count": 14,
     "metadata": {},
     "output_type": "execute_result"
    }
   ],
   "source": [
    "dj_circuit.barrier()\n",
    "\"Your code goes here\"\n",
    "# Repeat H-gates\n",
    "for qubit in range(n):\n",
    "    dj_circuit.h(qubit)\n",
    "dj_circuit.barrier()\n",
    "\n",
    "# Measure\n",
    "for i in range(n):\n",
    "    dj_circuit.measure(i, i)\n",
    "\n",
    "# Display circuit\n",
    "dj_circuit.draw()"
   ]
  },
  {
   "cell_type": "markdown",
   "metadata": {
    "id": "EYE_OGhQz8z0"
   },
   "source": [
    "Let's see the output:"
   ]
  },
  {
   "cell_type": "code",
   "execution_count": 15,
   "metadata": {
    "colab": {
     "base_uri": "https://localhost:8080/",
     "height": 340
    },
    "executionInfo": {
     "elapsed": 265,
     "status": "ok",
     "timestamp": 1660763235824,
     "user": {
      "displayName": "Michael Rampp",
      "userId": "10575348224613861770"
     },
     "user_tz": -120
    },
    "id": "AOQ7NIejz_DF",
    "outputId": "745d7d3d-4e7b-4e15-dc63-53c7d07c2f88"
   },
   "outputs": [
    {
     "data": {
      "image/png": "[encoded data removed]",
      "text/plain": [
       "<Figure size 700x500 with 1 Axes>"
      ]
     },
     "execution_count": 15,
     "metadata": {},
     "output_type": "execute_result"
    }
   ],
   "source": [
    "# use local simulator\n",
    "aer_sim = Aer.get_backend('aer_simulator')\n",
    "qobj = assemble(dj_circuit, aer_sim)\n",
    "results = aer_sim.run(qobj).result()\n",
    "answer = results.get_counts()\n",
    "\n",
    "plot_histogram(answer)"
   ]
  },
  {
   "cell_type": "markdown",
   "metadata": {
    "id": "anH0cQL3TOef"
   },
   "source": [
    "$\\color{red}{\\text{Bonus question: What would be the output when the result is neither constant nor balanced?}}$"
   ]
  },
  {
   "cell_type": "markdown",
   "metadata": {
    "id": "HgcqEpVF0zxu"
   },
   "source": [
    "## 6. References <a id='references'></a>\n",
    "\n",
    "1. David Deutsch and Richard Jozsa (1992). \"Rapid solutions of problems by quantum computation\". Proceedings of the Royal Society of London A. 439: 553–558.  [doi:10.1098/rspa.1992.0167](https://doi.org/10.1098%2Frspa.1992.0167).\n",
    "2. R. Cleve; A. Ekert; C. Macchiavello; M. Mosca (1998). \"Quantum algorithms revisited\". Proceedings of the Royal Society of London A. 454: 339–354. [doi:10.1098/rspa.1998.0164](https://doi.org/10.1098%2Frspa.1998.0164)."
   ]
  },
  {
   "cell_type": "markdown",
   "metadata": {
    "colab": {
     "base_uri": "https://localhost:8080/",
     "height": 337
    },
    "executionInfo": {
     "elapsed": 406,
     "status": "ok",
     "timestamp": 1659769155575,
     "user": {
      "displayName": "Dominik Hahn",
      "userId": "09159259743712920381"
     },
     "user_tz": -120
    },
    "id": "1-cvOAeM82T3",
    "outputId": "799d236c-7539-41ec-d496-4b3fdc575d0b"
   },
   "source": [
    "These notebooks are comprised of text and code taken from Qiskit's [documentation](https://qiskit.org/documentation/), [tutorials](https://qiskit.org/documentation/tutorials.html#quantum-circuits), [textbook](https://qiskit.org/textbook/preface.html), and previous challenges facilitated by Qiskit."
   ]
  }
 ],
 "metadata": {
  "colab": {
   "collapsed_sections": [],
   "provenance": [
    {
     "file_id": "119YTvmleAE-qtrnTeIisW2hOpde0F-eg",
     "timestamp": 1659183877910
    },
    {
     "file_id": "1Fy7K7ibxDQ64Fn0IiTeQWJeXUCwq8BVB",
     "timestamp": 1659183401089
    }
   ]
  },
  "kernelspec": {
   "display_name": "quantum",
   "language": "python",
   "name": "quantum"
  },
  "language_info": {
   "codemirror_mode": {
    "name": "ipython",
    "version": 3
   },
   "file_extension": ".py",
   "mimetype": "text/x-python",
   "name": "python",
   "nbconvert_exporter": "python",
   "pygments_lexer": "ipython3",
   "version": "3.9.5"
  }
 },
 "nbformat": 4,
 "nbformat_minor": 1
}
