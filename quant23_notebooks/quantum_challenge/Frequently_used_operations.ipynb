{
 "cells": [
  {
   "cell_type": "markdown",
   "metadata": {
    "id": "9JkpDLouVwZ9"
   },
   "source": [
    "# Overview of commonly used gates \n"
   ]
  },
  {
   "cell_type": "markdown",
   "metadata": {
    "id": "IQ6TfJxqVwaA"
   },
   "source": [
    " In this section we will go into the different operations that are available in Qiskit Terra. These are:\n",
    "\n",
    "- Single-qubit quantum gates\n",
    "- Multi-qubit quantum gates\n",
    "- Measurements\n",
    "- Reset\n",
    "- Conditionals\n",
    "- State initialization\n",
    "\n",
    "Check out the [circuit library](https://qiskit.org/documentation/apidoc/circuit_library.html) for a list of all available gates."
   ]
  },
  {
   "cell_type": "code",
   "execution_count": null,
   "metadata": {
    "ExecuteTime": {
     "end_time": "2021-07-31T05:10:06.399483Z",
     "start_time": "2021-07-31T05:10:06.113598Z"
    },
    "id": "AJwNbjM_VwaD"
   },
   "outputs": [],
   "source": [
    "# Useful additional packages \n",
    "import matplotlib.pyplot as plt\n",
    "import numpy as np\n",
    "from math import pi"
   ]
  },
  {
   "cell_type": "code",
   "execution_count": null,
   "metadata": {
    "ExecuteTime": {
     "end_time": "2021-07-31T05:10:07.863361Z",
     "start_time": "2021-07-31T05:10:06.401320Z"
    },
    "id": "4V1uA67QVwaF"
   },
   "outputs": [],
   "source": [
    "from qiskit import QuantumCircuit, ClassicalRegister, QuantumRegister, transpile\n",
    "from qiskit.tools.visualization import circuit_drawer\n",
    "from qiskit.quantum_info import state_fidelity\n",
    "from qiskit.quantum_info.operators import Operator\n",
    "from qiskit import BasicAer"
   ]
  },
  {
   "cell_type": "markdown",
   "metadata": {
    "id": "0ytehTWaVwaH"
   },
   "source": [
    "## Single Qubit Quantum states <a name=\"single_states\"/>\n",
    "\n",
    "A single qubit quantum state can be written as\n",
    "\n",
    "$$\\left|\\psi\\right\\rangle = \\alpha\\left|0\\right\\rangle + \\beta \\left|1\\right\\rangle$$\n",
    "\n",
    "\n",
    "where $\\alpha$ and $\\beta$ are complex numbers. In a measurement the probability of the bit being in $\\left|0\\right\\rangle$ is $|\\alpha|^2$ and the probability of the bit being in $\\left|1\\right\\rangle$ is $|\\beta|^2$. As a vector this is\n",
    "\n",
    "$$\n",
    "\\left|\\psi\\right\\rangle =  \n",
    "\\begin{pmatrix}\n",
    "\\alpha \\\\\n",
    "\\beta\n",
    "\\end{pmatrix}.\n",
    "$$\n",
    "\n",
    "Recall that due to the conservation of probability $|\\alpha|^2+ |\\beta|^2 = 1$ and since the global phase $\\delta$ as in $e^{i\\delta} \\left|\\psi\\right\\rangle$ is undetectable, we only require two real numbers to describe a single qubit quantum state.\n",
    "\n",
    "A convenient representation is\n",
    "\n",
    "$$\\left|\\psi\\right\\rangle = \\cos(\\theta/2)\\left|0\\right\\rangle + \\sin(\\theta/2)e^{i\\phi}\\left|1\\right\\rangle$$\n",
    "\n",
    "where $0\\leq \\phi < 2\\pi$, and $0\\leq \\theta \\leq \\pi$.  From this, it is clear that there is a one-to-one correspondence between qubit states and the points on the surface of a unit sphere. This is called the Bloch sphere representation of a qubit state.\n",
    "\n",
    "Quantum gates/operations are usually represented as matrices. A gate which acts on a qubit is represented by a $2\\times 2$ unitary matrix $U$. The action of the quantum gate is found by multiplying the matrix representing the gate with the vector which represents the quantum state:\n",
    "\n",
    "$$\\left|\\psi'\\right\\rangle = U\\left|\\psi\\right\\rangle$$\n",
    "\n",
    "A general unitary must be able to take the $\\left|0\\right\\rangle$ to the above state. That is \n",
    "\n",
    "$$\n",
    "U = \\begin{pmatrix}\n",
    "\\cos(\\theta/2) & a \\\\\n",
    "e^{i\\phi}\\sin(\\theta/2) & b \n",
    "\\end{pmatrix}\n",
    "$$ \n",
    "\n",
    "where $a$ and $b$ are complex numbers constrained such that $U^\\dagger U = I$ for all $0\\leq\\theta\\leq\\pi$ and $0\\leq \\phi<2\\pi$. This gives 3 constraints and as such $a\\rightarrow -e^{i\\lambda}\\sin(\\theta/2)$ and $b\\rightarrow e^{i\\lambda+i\\phi}\\cos(\\theta/2)$ where $0\\leq \\lambda<2\\pi$ giving \n",
    "\n",
    "$$\n",
    "U(\\theta, \\phi, \\lambda) =\n",
    "    \\begin{pmatrix}\n",
    "        \\cos\\left(\\frac{\\theta}{2}\\right)          & -e^{i\\lambda}\\sin\\left(\\frac{\\theta}{2}\\right) \\\\\n",
    "        e^{i\\phi}\\sin\\left(\\frac{\\theta}{2}\\right) & e^{i(\\phi+\\lambda)}\\cos\\left(\\frac{\\theta}{2}\\right)\n",
    "    \\end{pmatrix}\n",
    "$$\n",
    "\n",
    "This is the most general form of a single qubit unitary."
   ]
  },
  {
   "cell_type": "markdown",
   "metadata": {
    "id": "VrRKu-XvVwaJ"
   },
   "source": [
    "## Single-Qubit Gates <a name=\"single_gates\"/>\n",
    "\n",
    "The single-qubit gates available on Qiskit are:\n",
    "- U gate\n",
    "- P gate\n",
    "- Identity gate\n",
    "- Pauli gates\n",
    "- Clifford gates\n",
    "- $C3$ gates\n",
    "- Standard rotation gates \n",
    "\n",
    "Let us go over their definitions. "
   ]
  },
  {
   "cell_type": "code",
   "execution_count": null,
   "metadata": {
    "ExecuteTime": {
     "end_time": "2021-07-31T05:10:08.577924Z",
     "start_time": "2021-07-31T05:10:08.575044Z"
    },
    "id": "-NgzFjYUVwaL"
   },
   "outputs": [],
   "source": [
    "# Define qubits (in this case just one)\n",
    "q = QuantumRegister(1)"
   ]
  },
  {
   "cell_type": "markdown",
   "metadata": {
    "id": "csUjO36rVwaM"
   },
   "source": [
    "### U gate\n",
    "\n",
    "In Qiskit we give you access to the [general unitary](https://qiskit.org/documentation/stubs/qiskit.circuit.library.UGate.html#qiskit.circuit.library.UGate) using the $u$ gate, which has the following matrix form\n",
    "\n",
    "$$\n",
    "U(\\theta, \\phi, \\lambda) =\n",
    "    \\begin{pmatrix}\n",
    "        \\cos\\left(\\frac{\\theta}{2}\\right)          & -e^{i\\lambda}\\sin\\left(\\frac{\\theta}{2}\\right) \\\\\n",
    "        e^{i\\phi}\\sin\\left(\\frac{\\theta}{2}\\right) & e^{i(\\phi+\\lambda)}\\cos\\left(\\frac{\\theta}{2}\\right)\n",
    "    \\end{pmatrix}\n",
    "$$\n"
   ]
  },
  {
   "cell_type": "code",
   "execution_count": null,
   "metadata": {
    "ExecuteTime": {
     "end_time": "2021-07-31T05:10:09.406278Z",
     "start_time": "2021-07-31T05:10:09.398661Z"
    },
    "colab": {
     "base_uri": "https://localhost:8080/",
     "height": 63
    },
    "executionInfo": {
     "elapsed": 4,
     "status": "ok",
     "timestamp": 1661181550659,
     "user": {
      "displayName": "Friederike Metz",
      "userId": "09850484825460430514"
     },
     "user_tz": -120
    },
    "id": "Q2ItFlLlVwaN",
    "outputId": "a8f488af-c0e2-4a19-bef1-3d4b2a36017d"
   },
   "outputs": [
    {
     "data": {
      "text/html": [
       "<pre style=\"word-wrap: normal;white-space: pre;background: #fff0;line-height: 1.1;font-family: &quot;Courier New&quot;,Courier,monospace\">    ┌────────────────┐\n",
       "q1: ┤ U(π/2,π/4,π/8) ├\n",
       "    └────────────────┘</pre>"
      ],
      "text/plain": [
       "    ┌────────────────┐\n",
       "q1: ┤ U(π/2,π/4,π/8) ├\n",
       "    └────────────────┘"
      ]
     },
     "execution_count": 19,
     "metadata": {},
     "output_type": "execute_result"
    }
   ],
   "source": [
    "qc = QuantumCircuit(q)\n",
    "qc.u(pi/2,pi/4,pi/8,q) # theta=pi/2, phi=pi/4, lambda=pi/8\n",
    "qc.draw()"
   ]
  },
  {
   "cell_type": "code",
   "execution_count": null,
   "metadata": {
    "colab": {
     "base_uri": "https://localhost:8080/"
    },
    "executionInfo": {
     "elapsed": 362,
     "status": "ok",
     "timestamp": 1661181551634,
     "user": {
      "displayName": "Friederike Metz",
      "userId": "09850484825460430514"
     },
     "user_tz": -120
    },
    "id": "JVrtitNgF5eA",
    "outputId": "d30d4509-e0ed-40ec-ec11-257ed27c899a"
   },
   "outputs": [
    {
     "data": {
      "text/plain": [
       "Operator([[ 0.70710678+0.j        , -0.65328148-0.27059805j],\n",
       "          [ 0.5       +0.5j       ,  0.27059805+0.65328148j]],\n",
       "         input_dims=(2,), output_dims=(2,))"
      ]
     },
     "execution_count": 20,
     "metadata": {},
     "output_type": "execute_result"
    }
   ],
   "source": [
    "Operator(qc)"
   ]
  },
  {
   "cell_type": "markdown",
   "metadata": {
    "id": "upxIkEwNVwaQ"
   },
   "source": [
    "### P gate\n",
    "\n",
    "The $p(\\lambda)= u(0, 0, \\lambda)$ gate has the matrix form\n",
    "\n",
    "$$\n",
    "p(\\lambda) = \n",
    "\\begin{pmatrix}\n",
    "1 & 0 \\\\\n",
    "0 & e^{i \\lambda}\n",
    "\\end{pmatrix},\n",
    "$$\n",
    "\n",
    "which is useful as it allows us to apply a quantum phase."
   ]
  },
  {
   "cell_type": "code",
   "execution_count": null,
   "metadata": {
    "ExecuteTime": {
     "end_time": "2021-07-31T05:10:51.997454Z",
     "start_time": "2021-07-31T05:10:51.992620Z"
    },
    "colab": {
     "base_uri": "https://localhost:8080/",
     "height": 63
    },
    "executionInfo": {
     "elapsed": 5,
     "status": "ok",
     "timestamp": 1661181552496,
     "user": {
      "displayName": "Friederike Metz",
      "userId": "09850484825460430514"
     },
     "user_tz": -120
    },
    "id": "oHeCm3U8VwaR",
    "outputId": "9d6a01b6-e2df-41f1-b4a2-08fa82d069bc"
   },
   "outputs": [
    {
     "data": {
      "text/html": [
       "<pre style=\"word-wrap: normal;white-space: pre;background: #fff0;line-height: 1.1;font-family: &quot;Courier New&quot;,Courier,monospace\">    ┌────────┐\n",
       "q1: ┤ P(π/2) ├\n",
       "    └────────┘</pre>"
      ],
      "text/plain": [
       "    ┌────────┐\n",
       "q1: ┤ P(π/2) ├\n",
       "    └────────┘"
      ]
     },
     "execution_count": 21,
     "metadata": {},
     "output_type": "execute_result"
    }
   ],
   "source": [
    "qc = QuantumCircuit(q)\n",
    "qc.p(pi/2,q)\n",
    "qc.draw()"
   ]
  },
  {
   "cell_type": "code",
   "execution_count": null,
   "metadata": {
    "ExecuteTime": {
     "end_time": "2021-07-31T05:10:58.149042Z",
     "start_time": "2021-07-31T05:10:58.138158Z"
    },
    "colab": {
     "base_uri": "https://localhost:8080/"
    },
    "executionInfo": {
     "elapsed": 2,
     "status": "ok",
     "timestamp": 1661181552862,
     "user": {
      "displayName": "Friederike Metz",
      "userId": "09850484825460430514"
     },
     "user_tz": -120
    },
    "id": "4IVXFHb6VwaS",
    "outputId": "c3f3aa67-1f85-420a-fb5f-9eb96920068c"
   },
   "outputs": [
    {
     "data": {
      "text/plain": [
       "Operator([[1.000000e+00+0.j, 0.000000e+00+0.j],\n",
       "          [0.000000e+00+0.j, 6.123234e-17+1.j]],\n",
       "         input_dims=(2,), output_dims=(2,))"
      ]
     },
     "execution_count": 22,
     "metadata": {},
     "output_type": "execute_result"
    }
   ],
   "source": [
    "Operator(qc)"
   ]
  },
  {
   "cell_type": "markdown",
   "metadata": {
    "id": "T7bI74-8VwaT"
   },
   "source": [
    "### Identity gate\n",
    "\n",
    "The identity gate is $Id = p(0)$."
   ]
  },
  {
   "cell_type": "code",
   "execution_count": null,
   "metadata": {
    "ExecuteTime": {
     "end_time": "2021-07-31T05:11:00.799001Z",
     "start_time": "2021-07-31T05:11:00.794172Z"
    },
    "colab": {
     "base_uri": "https://localhost:8080/",
     "height": 63
    },
    "executionInfo": {
     "elapsed": 4,
     "status": "ok",
     "timestamp": 1661181554066,
     "user": {
      "displayName": "Friederike Metz",
      "userId": "09850484825460430514"
     },
     "user_tz": -120
    },
    "id": "LXwyyCiLVwaT",
    "outputId": "7c6f893c-7690-4d95-e736-2f4b42ffe595"
   },
   "outputs": [
    {
     "data": {
      "text/html": [
       "<pre style=\"word-wrap: normal;white-space: pre;background: #fff0;line-height: 1.1;font-family: &quot;Courier New&quot;,Courier,monospace\">    ┌───┐\n",
       "q1: ┤ I ├\n",
       "    └───┘</pre>"
      ],
      "text/plain": [
       "    ┌───┐\n",
       "q1: ┤ I ├\n",
       "    └───┘"
      ]
     },
     "execution_count": 23,
     "metadata": {},
     "output_type": "execute_result"
    }
   ],
   "source": [
    "qc = QuantumCircuit(q)\n",
    "qc.id(q)\n",
    "qc.draw()"
   ]
  },
  {
   "cell_type": "code",
   "execution_count": null,
   "metadata": {
    "ExecuteTime": {
     "end_time": "2021-07-31T05:11:03.627749Z",
     "start_time": "2021-07-31T05:11:03.619164Z"
    },
    "colab": {
     "base_uri": "https://localhost:8080/"
    },
    "executionInfo": {
     "elapsed": 2,
     "status": "ok",
     "timestamp": 1661181555276,
     "user": {
      "displayName": "Friederike Metz",
      "userId": "09850484825460430514"
     },
     "user_tz": -120
    },
    "id": "aU_GiaVRVwaU",
    "outputId": "18dc0410-1ce3-42b1-d201-ae5aa0df2b50"
   },
   "outputs": [
    {
     "data": {
      "text/plain": [
       "Operator([[1.+0.j, 0.+0.j],\n",
       "          [0.+0.j, 1.+0.j]],\n",
       "         input_dims=(2,), output_dims=(2,))"
      ]
     },
     "execution_count": 24,
     "metadata": {},
     "output_type": "execute_result"
    }
   ],
   "source": [
    "Operator(qc)"
   ]
  },
  {
   "cell_type": "markdown",
   "metadata": {
    "id": "rh5uOKdCVwaU"
   },
   "source": [
    "### Pauli gates\n",
    "\n",
    "#### $X$: bit-flip gate\n",
    "\n",
    "The bit-flip gate $X$ is defined as:\n",
    "\n",
    "$$\n",
    "X   =  \n",
    "\\begin{pmatrix}\n",
    "0 & 1\\\\\n",
    "1 & 0\n",
    "\\end{pmatrix}= u(\\pi,0,\\pi)\n",
    "$$"
   ]
  },
  {
   "cell_type": "code",
   "execution_count": null,
   "metadata": {
    "ExecuteTime": {
     "end_time": "2021-07-31T05:11:05.287138Z",
     "start_time": "2021-07-31T05:11:05.281859Z"
    },
    "colab": {
     "base_uri": "https://localhost:8080/",
     "height": 63
    },
    "executionInfo": {
     "elapsed": 283,
     "status": "ok",
     "timestamp": 1661181556670,
     "user": {
      "displayName": "Friederike Metz",
      "userId": "09850484825460430514"
     },
     "user_tz": -120
    },
    "id": "2-7T0QvPVwaV",
    "outputId": "d28f1306-9cf6-4cc8-a667-edb47bbf9ba1"
   },
   "outputs": [
    {
     "data": {
      "text/html": [
       "<pre style=\"word-wrap: normal;white-space: pre;background: #fff0;line-height: 1.1;font-family: &quot;Courier New&quot;,Courier,monospace\">    ┌───┐\n",
       "q1: ┤ X ├\n",
       "    └───┘</pre>"
      ],
      "text/plain": [
       "    ┌───┐\n",
       "q1: ┤ X ├\n",
       "    └───┘"
      ]
     },
     "execution_count": 25,
     "metadata": {},
     "output_type": "execute_result"
    }
   ],
   "source": [
    "qc = QuantumCircuit(q)\n",
    "qc.x(q)\n",
    "qc.draw()"
   ]
  },
  {
   "cell_type": "code",
   "execution_count": null,
   "metadata": {
    "ExecuteTime": {
     "end_time": "2021-07-31T05:11:07.285569Z",
     "start_time": "2021-07-31T05:11:07.276242Z"
    },
    "colab": {
     "base_uri": "https://localhost:8080/"
    },
    "executionInfo": {
     "elapsed": 2,
     "status": "ok",
     "timestamp": 1661181557556,
     "user": {
      "displayName": "Friederike Metz",
      "userId": "09850484825460430514"
     },
     "user_tz": -120
    },
    "id": "xXe7EAW0VwaV",
    "outputId": "b145ead6-bd24-4ed8-fd4d-e3f64be3377d"
   },
   "outputs": [
    {
     "data": {
      "text/plain": [
       "Operator([[0.+0.j, 1.+0.j],\n",
       "          [1.+0.j, 0.+0.j]],\n",
       "         input_dims=(2,), output_dims=(2,))"
      ]
     },
     "execution_count": 26,
     "metadata": {},
     "output_type": "execute_result"
    }
   ],
   "source": [
    "Operator(qc)"
   ]
  },
  {
   "cell_type": "markdown",
   "metadata": {
    "id": "MxZYcUacVwaW"
   },
   "source": [
    "#### $Y$: bit- and phase-flip gate\n",
    "\n",
    "The $Y$ gate is defined as:\n",
    "\n",
    "$$\n",
    "Y  = \n",
    "\\begin{pmatrix}\n",
    "0 & -i\\\\\n",
    "i & 0\n",
    "\\end{pmatrix}=u(\\pi,\\pi/2,\\pi/2)\n",
    "$$"
   ]
  },
  {
   "cell_type": "code",
   "execution_count": null,
   "metadata": {
    "ExecuteTime": {
     "end_time": "2021-07-31T05:11:09.274252Z",
     "start_time": "2021-07-31T05:11:09.270141Z"
    },
    "colab": {
     "base_uri": "https://localhost:8080/",
     "height": 63
    },
    "executionInfo": {
     "elapsed": 262,
     "status": "ok",
     "timestamp": 1661181559510,
     "user": {
      "displayName": "Friederike Metz",
      "userId": "09850484825460430514"
     },
     "user_tz": -120
    },
    "id": "B8aR6gA0VwaW",
    "outputId": "7a2b5575-f501-4ef2-afb2-e30956661a3a"
   },
   "outputs": [
    {
     "data": {
      "text/html": [
       "<pre style=\"word-wrap: normal;white-space: pre;background: #fff0;line-height: 1.1;font-family: &quot;Courier New&quot;,Courier,monospace\">    ┌───┐\n",
       "q1: ┤ Y ├\n",
       "    └───┘</pre>"
      ],
      "text/plain": [
       "    ┌───┐\n",
       "q1: ┤ Y ├\n",
       "    └───┘"
      ]
     },
     "execution_count": 27,
     "metadata": {},
     "output_type": "execute_result"
    }
   ],
   "source": [
    "qc = QuantumCircuit(q)\n",
    "qc.y(q)\n",
    "qc.draw()"
   ]
  },
  {
   "cell_type": "code",
   "execution_count": null,
   "metadata": {
    "ExecuteTime": {
     "end_time": "2021-07-31T05:11:11.878524Z",
     "start_time": "2021-07-31T05:11:11.868931Z"
    },
    "colab": {
     "base_uri": "https://localhost:8080/"
    },
    "executionInfo": {
     "elapsed": 1,
     "status": "ok",
     "timestamp": 1661181560582,
     "user": {
      "displayName": "Friederike Metz",
      "userId": "09850484825460430514"
     },
     "user_tz": -120
    },
    "id": "iSZ-Dyr6VwaX",
    "outputId": "13be1b5b-27f7-4e0b-8a87-0d51b2f093bc"
   },
   "outputs": [
    {
     "data": {
      "text/plain": [
       "Operator([[0.+0.j, 0.-1.j],\n",
       "          [0.+1.j, 0.+0.j]],\n",
       "         input_dims=(2,), output_dims=(2,))"
      ]
     },
     "execution_count": 28,
     "metadata": {},
     "output_type": "execute_result"
    }
   ],
   "source": [
    "Operator(qc)"
   ]
  },
  {
   "cell_type": "markdown",
   "metadata": {
    "id": "am1QAKaCVwaX"
   },
   "source": [
    "#### $Z$: phase-flip gate\n",
    "\n",
    "The phase-flip gate $Z$ is defined as:\n",
    "\n",
    "$$\n",
    "Z = \n",
    "\\begin{pmatrix}\n",
    "1 & 0\\\\\n",
    "0 & -1\n",
    "\\end{pmatrix}=p(\\pi)\n",
    "$$"
   ]
  },
  {
   "cell_type": "code",
   "execution_count": null,
   "metadata": {
    "ExecuteTime": {
     "end_time": "2021-07-31T05:11:13.903719Z",
     "start_time": "2021-07-31T05:11:13.898408Z"
    },
    "colab": {
     "base_uri": "https://localhost:8080/",
     "height": 63
    },
    "executionInfo": {
     "elapsed": 274,
     "status": "ok",
     "timestamp": 1661181564044,
     "user": {
      "displayName": "Friederike Metz",
      "userId": "09850484825460430514"
     },
     "user_tz": -120
    },
    "id": "EHGwcPFgVwaY",
    "outputId": "340707f0-9fe5-4cb6-fdba-556a2ce48297"
   },
   "outputs": [
    {
     "data": {
      "text/html": [
       "<pre style=\"word-wrap: normal;white-space: pre;background: #fff0;line-height: 1.1;font-family: &quot;Courier New&quot;,Courier,monospace\">    ┌───┐\n",
       "q1: ┤ Z ├\n",
       "    └───┘</pre>"
      ],
      "text/plain": [
       "    ┌───┐\n",
       "q1: ┤ Z ├\n",
       "    └───┘"
      ]
     },
     "execution_count": 29,
     "metadata": {},
     "output_type": "execute_result"
    }
   ],
   "source": [
    "qc = QuantumCircuit(q)\n",
    "qc.z(q)\n",
    "qc.draw()"
   ]
  },
  {
   "cell_type": "code",
   "execution_count": null,
   "metadata": {
    "ExecuteTime": {
     "end_time": "2021-07-31T05:11:17.430999Z",
     "start_time": "2021-07-31T05:11:17.420906Z"
    },
    "colab": {
     "base_uri": "https://localhost:8080/"
    },
    "executionInfo": {
     "elapsed": 274,
     "status": "ok",
     "timestamp": 1661181565332,
     "user": {
      "displayName": "Friederike Metz",
      "userId": "09850484825460430514"
     },
     "user_tz": -120
    },
    "id": "xk3pz6r0VwaZ",
    "outputId": "eaf977ac-445e-428d-8ff2-7bed27fe8ec4"
   },
   "outputs": [
    {
     "data": {
      "text/plain": [
       "Operator([[ 1.+0.j,  0.+0.j],\n",
       "          [ 0.+0.j, -1.+0.j]],\n",
       "         input_dims=(2,), output_dims=(2,))"
      ]
     },
     "execution_count": 30,
     "metadata": {},
     "output_type": "execute_result"
    }
   ],
   "source": [
    "Operator(qc)"
   ]
  },
  {
   "cell_type": "markdown",
   "metadata": {
    "id": "auFl7DMMVwaZ"
   },
   "source": [
    "### Clifford gates\n",
    "\n",
    "#### Hadamard gate\n",
    "\n",
    "$$\n",
    "H = \n",
    "\\frac{1}{\\sqrt{2}}\n",
    "\\begin{pmatrix}\n",
    "1 & 1\\\\\n",
    "1 & -1\n",
    "\\end{pmatrix}= u(\\pi/2,0,\\pi)\n",
    "$$"
   ]
  },
  {
   "cell_type": "code",
   "execution_count": null,
   "metadata": {
    "ExecuteTime": {
     "end_time": "2021-07-31T05:11:24.374244Z",
     "start_time": "2021-07-31T05:11:24.369684Z"
    },
    "colab": {
     "base_uri": "https://localhost:8080/",
     "height": 63
    },
    "executionInfo": {
     "elapsed": 236,
     "status": "ok",
     "timestamp": 1661181566643,
     "user": {
      "displayName": "Friederike Metz",
      "userId": "09850484825460430514"
     },
     "user_tz": -120
    },
    "id": "59sRDgtSVwaZ",
    "outputId": "0d14511f-2c40-4ff8-9d61-75d158892ec7"
   },
   "outputs": [
    {
     "data": {
      "text/html": [
       "<pre style=\"word-wrap: normal;white-space: pre;background: #fff0;line-height: 1.1;font-family: &quot;Courier New&quot;,Courier,monospace\">    ┌───┐\n",
       "q1: ┤ H ├\n",
       "    └───┘</pre>"
      ],
      "text/plain": [
       "    ┌───┐\n",
       "q1: ┤ H ├\n",
       "    └───┘"
      ]
     },
     "execution_count": 31,
     "metadata": {},
     "output_type": "execute_result"
    }
   ],
   "source": [
    "qc = QuantumCircuit(q)\n",
    "qc.h(q)\n",
    "qc.draw()"
   ]
  },
  {
   "cell_type": "code",
   "execution_count": null,
   "metadata": {
    "ExecuteTime": {
     "end_time": "2021-07-31T05:11:24.964793Z",
     "start_time": "2021-07-31T05:11:24.956019Z"
    },
    "colab": {
     "base_uri": "https://localhost:8080/"
    },
    "executionInfo": {
     "elapsed": 4,
     "status": "ok",
     "timestamp": 1661181567620,
     "user": {
      "displayName": "Friederike Metz",
      "userId": "09850484825460430514"
     },
     "user_tz": -120
    },
    "id": "HcpfzoSoVwaa",
    "outputId": "b17f79e8-11d9-402e-e52f-8e43cde5853b"
   },
   "outputs": [
    {
     "data": {
      "text/plain": [
       "Operator([[ 0.70710678+0.j,  0.70710678+0.j],\n",
       "          [ 0.70710678+0.j, -0.70710678+0.j]],\n",
       "         input_dims=(2,), output_dims=(2,))"
      ]
     },
     "execution_count": 32,
     "metadata": {},
     "output_type": "execute_result"
    }
   ],
   "source": [
    "Operator(qc)"
   ]
  },
  {
   "cell_type": "markdown",
   "metadata": {
    "id": "I6776C17Vwaa"
   },
   "source": [
    "#### $S$ (or, $\\sqrt{Z}$ phase) gate\n",
    "\n",
    "$$\n",
    "S = \n",
    "\\begin{pmatrix}\n",
    "1 & 0\\\\\n",
    "0 & i\n",
    "\\end{pmatrix}= p(\\pi/2)\n",
    "$$"
   ]
  },
  {
   "cell_type": "code",
   "execution_count": null,
   "metadata": {
    "ExecuteTime": {
     "end_time": "2021-07-31T05:11:27.577029Z",
     "start_time": "2021-07-31T05:11:27.572229Z"
    },
    "colab": {
     "base_uri": "https://localhost:8080/",
     "height": 63
    },
    "executionInfo": {
     "elapsed": 451,
     "status": "ok",
     "timestamp": 1661181569817,
     "user": {
      "displayName": "Friederike Metz",
      "userId": "09850484825460430514"
     },
     "user_tz": -120
    },
    "id": "TbO05iqXVwaa",
    "outputId": "87c8f9e9-2561-488a-c367-7bdc94470920"
   },
   "outputs": [
    {
     "data": {
      "text/html": [
       "<pre style=\"word-wrap: normal;white-space: pre;background: #fff0;line-height: 1.1;font-family: &quot;Courier New&quot;,Courier,monospace\">    ┌───┐\n",
       "q1: ┤ S ├\n",
       "    └───┘</pre>"
      ],
      "text/plain": [
       "    ┌───┐\n",
       "q1: ┤ S ├\n",
       "    └───┘"
      ]
     },
     "execution_count": 33,
     "metadata": {},
     "output_type": "execute_result"
    }
   ],
   "source": [
    "qc = QuantumCircuit(q)\n",
    "qc.s(q)\n",
    "qc.draw()"
   ]
  },
  {
   "cell_type": "code",
   "execution_count": null,
   "metadata": {
    "ExecuteTime": {
     "end_time": "2021-07-31T05:11:30.150288Z",
     "start_time": "2021-07-31T05:11:30.141012Z"
    },
    "colab": {
     "base_uri": "https://localhost:8080/"
    },
    "executionInfo": {
     "elapsed": 257,
     "status": "ok",
     "timestamp": 1661181570873,
     "user": {
      "displayName": "Friederike Metz",
      "userId": "09850484825460430514"
     },
     "user_tz": -120
    },
    "id": "9xbcMMC1Vwab",
    "outputId": "1c0b0d53-5d07-4f3c-dc61-72cde949acbf"
   },
   "outputs": [
    {
     "data": {
      "text/plain": [
       "Operator([[1.+0.j, 0.+0.j],\n",
       "          [0.+0.j, 0.+1.j]],\n",
       "         input_dims=(2,), output_dims=(2,))"
      ]
     },
     "execution_count": 34,
     "metadata": {},
     "output_type": "execute_result"
    }
   ],
   "source": [
    "Operator(qc)"
   ]
  },
  {
   "cell_type": "markdown",
   "metadata": {
    "id": "iZwVXk1SVwab"
   },
   "source": [
    "#### $S^{\\dagger}$ (or, conjugate of $\\sqrt{Z}$ phase) gate\n",
    "\n",
    "$$\n",
    "S^{\\dagger} = \n",
    "\\begin{pmatrix}\n",
    "1 & 0\\\\\n",
    "0 & -i\n",
    "\\end{pmatrix}= p(-\\pi/2)\n",
    "$$\n"
   ]
  },
  {
   "cell_type": "code",
   "execution_count": null,
   "metadata": {
    "ExecuteTime": {
     "end_time": "2021-07-31T05:11:31.674786Z",
     "start_time": "2021-07-31T05:11:31.669677Z"
    },
    "colab": {
     "base_uri": "https://localhost:8080/",
     "height": 63
    },
    "executionInfo": {
     "elapsed": 233,
     "status": "ok",
     "timestamp": 1661181572252,
     "user": {
      "displayName": "Friederike Metz",
      "userId": "09850484825460430514"
     },
     "user_tz": -120
    },
    "id": "cESGCSwAVwac",
    "outputId": "86aea4e4-a2d8-43fb-b114-099b89f207b0"
   },
   "outputs": [
    {
     "data": {
      "text/html": [
       "<pre style=\"word-wrap: normal;white-space: pre;background: #fff0;line-height: 1.1;font-family: &quot;Courier New&quot;,Courier,monospace\">    ┌─────┐\n",
       "q1: ┤ Sdg ├\n",
       "    └─────┘</pre>"
      ],
      "text/plain": [
       "    ┌─────┐\n",
       "q1: ┤ Sdg ├\n",
       "    └─────┘"
      ]
     },
     "execution_count": 35,
     "metadata": {},
     "output_type": "execute_result"
    }
   ],
   "source": [
    "qc = QuantumCircuit(q)\n",
    "qc.sdg(q)\n",
    "qc.draw()"
   ]
  },
  {
   "cell_type": "code",
   "execution_count": null,
   "metadata": {
    "ExecuteTime": {
     "end_time": "2021-07-31T05:11:34.228098Z",
     "start_time": "2021-07-31T05:11:34.218323Z"
    },
    "colab": {
     "base_uri": "https://localhost:8080/"
    },
    "executionInfo": {
     "elapsed": 2,
     "status": "ok",
     "timestamp": 1661181573089,
     "user": {
      "displayName": "Friederike Metz",
      "userId": "09850484825460430514"
     },
     "user_tz": -120
    },
    "id": "jNDhIf-EVwac",
    "outputId": "39faaa2d-74d3-4b5d-9d43-a34f40b3dec6"
   },
   "outputs": [
    {
     "data": {
      "text/plain": [
       "Operator([[1.+0.j, 0.+0.j],\n",
       "          [0.+0.j, 0.-1.j]],\n",
       "         input_dims=(2,), output_dims=(2,))"
      ]
     },
     "execution_count": 36,
     "metadata": {},
     "output_type": "execute_result"
    }
   ],
   "source": [
    "Operator(qc)"
   ]
  },
  {
   "cell_type": "markdown",
   "metadata": {
    "id": "EfOJ4p6RVwad"
   },
   "source": [
    "### $C3$ gates\n",
    "#### $T$ (or, $\\sqrt{S}$ phase) gate\n",
    "\n",
    "$$\n",
    "T = \n",
    "\\begin{pmatrix}\n",
    "1 & 0\\\\\n",
    "0 & e^{i \\pi/4}\n",
    "\\end{pmatrix}= p(\\pi/4) \n",
    "$$"
   ]
  },
  {
   "cell_type": "code",
   "execution_count": null,
   "metadata": {
    "ExecuteTime": {
     "end_time": "2021-07-31T05:11:35.573569Z",
     "start_time": "2021-07-31T05:11:35.568858Z"
    },
    "colab": {
     "base_uri": "https://localhost:8080/",
     "height": 63
    },
    "executionInfo": {
     "elapsed": 271,
     "status": "ok",
     "timestamp": 1661181574783,
     "user": {
      "displayName": "Friederike Metz",
      "userId": "09850484825460430514"
     },
     "user_tz": -120
    },
    "id": "uyTq4ETfVwad",
    "outputId": "6df3c2c9-0b34-4698-dbe0-63193ed3c3c8"
   },
   "outputs": [
    {
     "data": {
      "text/html": [
       "<pre style=\"word-wrap: normal;white-space: pre;background: #fff0;line-height: 1.1;font-family: &quot;Courier New&quot;,Courier,monospace\">    ┌───┐\n",
       "q1: ┤ T ├\n",
       "    └───┘</pre>"
      ],
      "text/plain": [
       "    ┌───┐\n",
       "q1: ┤ T ├\n",
       "    └───┘"
      ]
     },
     "execution_count": 37,
     "metadata": {},
     "output_type": "execute_result"
    }
   ],
   "source": [
    "qc = QuantumCircuit(q)\n",
    "qc.t(q)\n",
    "qc.draw()"
   ]
  },
  {
   "cell_type": "code",
   "execution_count": null,
   "metadata": {
    "ExecuteTime": {
     "end_time": "2021-07-31T05:11:38.030353Z",
     "start_time": "2021-07-31T05:11:38.020798Z"
    },
    "colab": {
     "base_uri": "https://localhost:8080/"
    },
    "executionInfo": {
     "elapsed": 234,
     "status": "ok",
     "timestamp": 1661181577157,
     "user": {
      "displayName": "Friederike Metz",
      "userId": "09850484825460430514"
     },
     "user_tz": -120
    },
    "id": "7j_GdxutVwad",
    "outputId": "4dd6a0fe-accf-497a-a718-8e834647524d"
   },
   "outputs": [
    {
     "data": {
      "text/plain": [
       "Operator([[1.        +0.j        , 0.        +0.j        ],\n",
       "          [0.        +0.j        , 0.70710678+0.70710678j]],\n",
       "         input_dims=(2,), output_dims=(2,))"
      ]
     },
     "execution_count": 38,
     "metadata": {},
     "output_type": "execute_result"
    }
   ],
   "source": [
    "Operator(qc)"
   ]
  },
  {
   "cell_type": "markdown",
   "metadata": {
    "id": "lBNAeWkoVwae"
   },
   "source": [
    "#### $T^{\\dagger}$ (or, conjugate of $\\sqrt{S}$ phase) gate\n",
    "\n",
    "$$\n",
    "T^{\\dagger} =  \n",
    "\\begin{pmatrix}\n",
    "1 & 0\\\\\n",
    "0 & e^{-i \\pi/4}\n",
    "\\end{pmatrix}= p(-\\pi/4)\n",
    "$$"
   ]
  },
  {
   "cell_type": "code",
   "execution_count": null,
   "metadata": {
    "ExecuteTime": {
     "end_time": "2021-07-31T05:11:39.747528Z",
     "start_time": "2021-07-31T05:11:39.742799Z"
    },
    "colab": {
     "base_uri": "https://localhost:8080/",
     "height": 63
    },
    "executionInfo": {
     "elapsed": 325,
     "status": "ok",
     "timestamp": 1661181578422,
     "user": {
      "displayName": "Friederike Metz",
      "userId": "09850484825460430514"
     },
     "user_tz": -120
    },
    "id": "T9xIiTwzVwae",
    "outputId": "5468f990-5ffd-43bb-97ca-64178694912e"
   },
   "outputs": [
    {
     "data": {
      "text/html": [
       "<pre style=\"word-wrap: normal;white-space: pre;background: #fff0;line-height: 1.1;font-family: &quot;Courier New&quot;,Courier,monospace\">    ┌─────┐\n",
       "q1: ┤ Tdg ├\n",
       "    └─────┘</pre>"
      ],
      "text/plain": [
       "    ┌─────┐\n",
       "q1: ┤ Tdg ├\n",
       "    └─────┘"
      ]
     },
     "execution_count": 39,
     "metadata": {},
     "output_type": "execute_result"
    }
   ],
   "source": [
    "qc = QuantumCircuit(q)\n",
    "qc.tdg(q)\n",
    "qc.draw()"
   ]
  },
  {
   "cell_type": "code",
   "execution_count": null,
   "metadata": {
    "ExecuteTime": {
     "end_time": "2021-07-31T05:11:43.129450Z",
     "start_time": "2021-07-31T05:11:43.119304Z"
    },
    "colab": {
     "base_uri": "https://localhost:8080/"
    },
    "executionInfo": {
     "elapsed": 2,
     "status": "ok",
     "timestamp": 1661181578827,
     "user": {
      "displayName": "Friederike Metz",
      "userId": "09850484825460430514"
     },
     "user_tz": -120
    },
    "id": "KElxdqbvVwae",
    "outputId": "710d2c50-3297-4c91-ff0a-074909305165"
   },
   "outputs": [
    {
     "data": {
      "text/plain": [
       "Operator([[1.        +0.j        , 0.        +0.j        ],\n",
       "          [0.        +0.j        , 0.70710678-0.70710678j]],\n",
       "         input_dims=(2,), output_dims=(2,))"
      ]
     },
     "execution_count": 40,
     "metadata": {},
     "output_type": "execute_result"
    }
   ],
   "source": [
    "Operator(qc)"
   ]
  },
  {
   "cell_type": "markdown",
   "metadata": {
    "id": "b9pU3TUgVwaf"
   },
   "source": [
    "### Standard Rotations\n",
    "\n",
    "The standard rotation gates are those that define rotations around the Paulis $P=\\{X,Y,Z\\}$. They are defined as \n",
    "\n",
    "$$ R_P(\\theta) = \\exp(-i \\theta P/2) = \\cos(\\theta/2)I -i \\sin(\\theta/2)P$$\n",
    "\n",
    "#### Rotation around X-axis\n",
    "\n",
    "$$\n",
    "R_x(\\theta) = \n",
    "\\begin{pmatrix}\n",
    "\\cos(\\theta/2) & -i\\sin(\\theta/2)\\\\\n",
    "-i\\sin(\\theta/2) & \\cos(\\theta/2)\n",
    "\\end{pmatrix} = u(\\theta, -\\pi/2,\\pi/2)\n",
    "$$"
   ]
  },
  {
   "cell_type": "code",
   "execution_count": null,
   "metadata": {
    "ExecuteTime": {
     "end_time": "2021-07-31T05:11:43.968605Z",
     "start_time": "2021-07-31T05:11:43.963670Z"
    },
    "colab": {
     "base_uri": "https://localhost:8080/",
     "height": 63
    },
    "executionInfo": {
     "elapsed": 240,
     "status": "ok",
     "timestamp": 1661181587964,
     "user": {
      "displayName": "Friederike Metz",
      "userId": "09850484825460430514"
     },
     "user_tz": -120
    },
    "id": "aDnAxPiRVwaf",
    "outputId": "c57e1b22-69d3-43b6-9c5a-f9c8c69f2e02"
   },
   "outputs": [
    {
     "data": {
      "text/html": [
       "<pre style=\"word-wrap: normal;white-space: pre;background: #fff0;line-height: 1.1;font-family: &quot;Courier New&quot;,Courier,monospace\">    ┌─────────┐\n",
       "q1: ┤ Rx(π/2) ├\n",
       "    └─────────┘</pre>"
      ],
      "text/plain": [
       "    ┌─────────┐\n",
       "q1: ┤ Rx(π/2) ├\n",
       "    └─────────┘"
      ]
     },
     "execution_count": 41,
     "metadata": {},
     "output_type": "execute_result"
    }
   ],
   "source": [
    "qc = QuantumCircuit(q)\n",
    "qc.rx(pi/2,q)\n",
    "qc.draw()"
   ]
  },
  {
   "cell_type": "code",
   "execution_count": null,
   "metadata": {
    "ExecuteTime": {
     "end_time": "2021-07-31T05:11:47.140262Z",
     "start_time": "2021-07-31T05:11:47.128900Z"
    },
    "colab": {
     "base_uri": "https://localhost:8080/"
    },
    "executionInfo": {
     "elapsed": 4,
     "status": "ok",
     "timestamp": 1661181589101,
     "user": {
      "displayName": "Friederike Metz",
      "userId": "09850484825460430514"
     },
     "user_tz": -120
    },
    "id": "TPwstGvgVwaf",
    "outputId": "a2e9f27f-3c6f-4e55-afe5-b0877d7612a4"
   },
   "outputs": [
    {
     "data": {
      "text/plain": [
       "Operator([[0.70710678+0.j        , 0.        -0.70710678j],\n",
       "          [0.        -0.70710678j, 0.70710678+0.j        ]],\n",
       "         input_dims=(2,), output_dims=(2,))"
      ]
     },
     "execution_count": 42,
     "metadata": {},
     "output_type": "execute_result"
    }
   ],
   "source": [
    "Operator(qc)"
   ]
  },
  {
   "cell_type": "markdown",
   "metadata": {
    "id": "0YpEnJt1Vwag"
   },
   "source": [
    "#### Rotation around Y-axis\n",
    "\n",
    "$$\n",
    "R_y(\\theta) =\n",
    "\\begin{pmatrix}\n",
    "\\cos(\\theta/2) & - \\sin(\\theta/2)\\\\\n",
    "\\sin(\\theta/2) & \\cos(\\theta/2).\n",
    "\\end{pmatrix} =u(\\theta,0,0)\n",
    "$$"
   ]
  },
  {
   "cell_type": "code",
   "execution_count": null,
   "metadata": {
    "ExecuteTime": {
     "end_time": "2021-07-31T05:11:48.483090Z",
     "start_time": "2021-07-31T05:11:48.477062Z"
    },
    "colab": {
     "base_uri": "https://localhost:8080/",
     "height": 63
    },
    "executionInfo": {
     "elapsed": 267,
     "status": "ok",
     "timestamp": 1661181592150,
     "user": {
      "displayName": "Friederike Metz",
      "userId": "09850484825460430514"
     },
     "user_tz": -120
    },
    "id": "rzFua1BxVwag",
    "outputId": "9c98a202-4b52-4262-f834-fcbc264bf800"
   },
   "outputs": [
    {
     "data": {
      "text/html": [
       "<pre style=\"word-wrap: normal;white-space: pre;background: #fff0;line-height: 1.1;font-family: &quot;Courier New&quot;,Courier,monospace\">    ┌─────────┐\n",
       "q1: ┤ Ry(π/2) ├\n",
       "    └─────────┘</pre>"
      ],
      "text/plain": [
       "    ┌─────────┐\n",
       "q1: ┤ Ry(π/2) ├\n",
       "    └─────────┘"
      ]
     },
     "execution_count": 43,
     "metadata": {},
     "output_type": "execute_result"
    }
   ],
   "source": [
    "qc = QuantumCircuit(q)\n",
    "qc.ry(pi/2,q)\n",
    "qc.draw()"
   ]
  },
  {
   "cell_type": "code",
   "execution_count": null,
   "metadata": {
    "ExecuteTime": {
     "end_time": "2021-07-31T05:11:51.011307Z",
     "start_time": "2021-07-31T05:11:51.001011Z"
    },
    "colab": {
     "base_uri": "https://localhost:8080/"
    },
    "executionInfo": {
     "elapsed": 3,
     "status": "ok",
     "timestamp": 1661181592501,
     "user": {
      "displayName": "Friederike Metz",
      "userId": "09850484825460430514"
     },
     "user_tz": -120
    },
    "id": "Sg4dNkBJVwag",
    "outputId": "2aa70447-f6fa-4ee6-962b-c194e60aa81c"
   },
   "outputs": [
    {
     "data": {
      "text/plain": [
       "Operator([[ 0.70710678+0.j, -0.70710678+0.j],\n",
       "          [ 0.70710678+0.j,  0.70710678+0.j]],\n",
       "         input_dims=(2,), output_dims=(2,))"
      ]
     },
     "execution_count": 44,
     "metadata": {},
     "output_type": "execute_result"
    }
   ],
   "source": [
    "Operator(qc)"
   ]
  },
  {
   "cell_type": "markdown",
   "metadata": {
    "id": "aU2A2w0sVwah"
   },
   "source": [
    "#### Rotation around Z-axis\n",
    "\n",
    "$$\n",
    "R_z(\\phi) = \n",
    "\\begin{pmatrix}\n",
    "e^{-i \\phi/2} & 0 \\\\\n",
    "0 & e^{i \\phi/2}\n",
    "\\end{pmatrix}\\equiv p(\\phi)\n",
    "$$\n",
    "\n",
    "Note that here we have used an equivalent as it is different to $p$ by a global phase $e^{-i \\phi/2}$."
   ]
  },
  {
   "cell_type": "code",
   "execution_count": null,
   "metadata": {
    "ExecuteTime": {
     "end_time": "2021-07-31T05:11:51.729618Z",
     "start_time": "2021-07-31T05:11:51.724574Z"
    },
    "colab": {
     "base_uri": "https://localhost:8080/",
     "height": 63
    },
    "executionInfo": {
     "elapsed": 244,
     "status": "ok",
     "timestamp": 1661181596775,
     "user": {
      "displayName": "Friederike Metz",
      "userId": "09850484825460430514"
     },
     "user_tz": -120
    },
    "id": "Ykq8ME1RVwah",
    "outputId": "22494b31-7f89-4b50-b312-30cc88aabcaa"
   },
   "outputs": [
    {
     "data": {
      "text/html": [
       "<pre style=\"word-wrap: normal;white-space: pre;background: #fff0;line-height: 1.1;font-family: &quot;Courier New&quot;,Courier,monospace\">    ┌─────────┐\n",
       "q1: ┤ Rz(π/2) ├\n",
       "    └─────────┘</pre>"
      ],
      "text/plain": [
       "    ┌─────────┐\n",
       "q1: ┤ Rz(π/2) ├\n",
       "    └─────────┘"
      ]
     },
     "execution_count": 45,
     "metadata": {},
     "output_type": "execute_result"
    }
   ],
   "source": [
    "qc = QuantumCircuit(q)\n",
    "qc.rz(pi/2,q)\n",
    "qc.draw()"
   ]
  },
  {
   "cell_type": "code",
   "execution_count": null,
   "metadata": {
    "ExecuteTime": {
     "end_time": "2021-07-31T05:11:54.372720Z",
     "start_time": "2021-07-31T05:11:54.363623Z"
    },
    "colab": {
     "base_uri": "https://localhost:8080/"
    },
    "executionInfo": {
     "elapsed": 2,
     "status": "ok",
     "timestamp": 1661181597112,
     "user": {
      "displayName": "Friederike Metz",
      "userId": "09850484825460430514"
     },
     "user_tz": -120
    },
    "id": "BCNXUQr9Vwas",
    "outputId": "05f2f823-9876-4ff2-c987-f3400f57a772"
   },
   "outputs": [
    {
     "data": {
      "text/plain": [
       "Operator([[0.70710678-0.70710678j, 0.        +0.j        ],\n",
       "          [0.        +0.j        , 0.70710678+0.70710678j]],\n",
       "         input_dims=(2,), output_dims=(2,))"
      ]
     },
     "execution_count": 46,
     "metadata": {},
     "output_type": "execute_result"
    }
   ],
   "source": [
    "Operator(qc)"
   ]
  },
  {
   "cell_type": "markdown",
   "metadata": {
    "id": "dCqhVfbaVwat"
   },
   "source": [
    "Note this is different due only to a global phase."
   ]
  },
  {
   "cell_type": "markdown",
   "metadata": {
    "id": "q0Q7b5JTVwat"
   },
   "source": [
    "## Multi-Qubit Gates <a name=\"multi_gates\"/>\n",
    "\n",
    "### Mathematical Preliminaries\n",
    "\n",
    "The Hilbert space of a quantum computer grows exponentially with the number of qubits. For $n$ qubits the complex vector space has dimension $d=2^n$. To describe states of a multi-qubit system, the tensor product is used to \"glue together\" operators and basis vectors.\n",
    "\n",
    "Let's start by considering a 2-qubit system. Given two operators $A$ and $B$ that each act on one qubit, the joint operator $A \\otimes B$ acting on two qubits is\n",
    "\n",
    "$$\\begin{equation}\n",
    "\tA\\otimes B = \n",
    "\t\\begin{pmatrix} \n",
    "\t\tA_{00} \\begin{pmatrix} \n",
    "\t\t\tB_{00} & B_{01} \\\\\n",
    "\t\t\tB_{10} & B_{11}\n",
    "\t\t\\end{pmatrix} & A_{01} \t\\begin{pmatrix} \n",
    "\t\t\t\tB_{00} & B_{01} \\\\\n",
    "\t\t\t\tB_{10} & B_{11}\n",
    "\t\t\t\\end{pmatrix} \\\\\n",
    "\t\tA_{10} \t\\begin{pmatrix} \n",
    "\t\t\t\t\tB_{00} & B_{01} \\\\\n",
    "\t\t\t\t\tB_{10} & B_{11}\n",
    "\t\t\t\t\\end{pmatrix} & A_{11} \t\\begin{pmatrix} \n",
    "\t\t\t\t\t\t\tB_{00} & B_{01} \\\\\n",
    "\t\t\t\t\t\t\tB_{10} & B_{11}\n",
    "\t\t\t\t\t\t\\end{pmatrix}\n",
    "\t\\end{pmatrix},\t\t\t\t\t\t\n",
    "\\end{equation}$$\n",
    "\n",
    "where $A_{jk}$ and $B_{lm}$ are the matrix elements of $A$ and $B$, respectively.\n",
    "\n",
    "Analogously, the basis vectors for the 2-qubit system are formed using the tensor product of basis vectors for a single qubit:\n",
    "$$\\begin{equation}\\begin{split}\n",
    "\t\\left|{00}\\right\\rangle &= \\begin{pmatrix} \n",
    "\t\t1 \\begin{pmatrix} \n",
    "\t\t\t1  \\\\\n",
    "\t\t\t0\n",
    "\t\t\\end{pmatrix} \\\\\n",
    "\t\t0 \\begin{pmatrix} \n",
    "\t\t\t1  \\\\\n",
    "\t\t\t0 \n",
    "\t\t\\end{pmatrix}\n",
    "\t\\end{pmatrix} = \\begin{pmatrix} 1 \\\\ 0 \\\\ 0 \\\\0 \\end{pmatrix}~~~\\left|{01}\\right\\rangle = \\begin{pmatrix} \n",
    "\t1 \\begin{pmatrix} \n",
    "\t0 \\\\\n",
    "\t1\n",
    "\t\\end{pmatrix} \\\\\n",
    "\t0 \\begin{pmatrix} \n",
    "\t0  \\\\\n",
    "\t1 \n",
    "\t\\end{pmatrix}\n",
    "\t\\end{pmatrix} = \\begin{pmatrix}0 \\\\ 1 \\\\ 0 \\\\ 0 \\end{pmatrix}\\end{split}\n",
    "\\end{equation}$$\n",
    "    \n",
    "$$\\begin{equation}\\begin{split}\\left|{10}\\right\\rangle = \\begin{pmatrix} \n",
    "\t0\\begin{pmatrix} \n",
    "\t1  \\\\\n",
    "\t0\n",
    "\t\\end{pmatrix} \\\\\n",
    "\t1\\begin{pmatrix} \n",
    "\t1 \\\\\n",
    "\t0 \n",
    "\t\\end{pmatrix}\n",
    "\t\\end{pmatrix} = \\begin{pmatrix} 0 \\\\ 0 \\\\ 1 \\\\ 0 \\end{pmatrix}~~~ \t\\left|{11}\\right\\rangle = \\begin{pmatrix} \n",
    "\t0 \\begin{pmatrix} \n",
    "\t0  \\\\\n",
    "\t1\n",
    "\t\\end{pmatrix} \\\\\n",
    "\t1\\begin{pmatrix} \n",
    "\t0  \\\\\n",
    "\t1 \n",
    "\t\\end{pmatrix}\n",
    "\t\\end{pmatrix} = \\begin{pmatrix} 0 \\\\ 0 \\\\ 0 \\\\1 \\end{pmatrix}\\end{split}\n",
    "\\end{equation}.$$\n",
    "\n",
    "Note we've introduced a shorthand for the tensor product of basis vectors, wherein $\\left|0\\right\\rangle \\otimes \\left|0\\right\\rangle$ is written as $\\left|00\\right\\rangle$. The state of an $n$-qubit system can be described using the $n$-fold tensor product of single-qubit basis vectors. Notice that the basis vectors for a 2-qubit system are 4-dimensional; in general, the basis vectors of an $n$-qubit system are $2^{n}$-dimensional, as noted earlier.\n",
    "\n",
    "### Basis vector ordering in Qiskit\n",
    "\n",
    "Within the physics community, the qubits of a multi-qubit systems are typically ordered with the first qubit on the left-most side of the tensor product and the last qubit on the right-most side. For instance, if the first qubit is in state $\\left|0\\right\\rangle$ and second is in state $\\left|1\\right\\rangle$, their joint state would be $\\left|01\\right\\rangle$. Qiskit uses a slightly different ordering of the qubits, in which the qubits are represented from the most significant bit (MSB) on the left to the least significant bit (LSB) on the right (little-endian). This is similar to bitstring representation on classical computers, and enables easy conversion from bitstrings to integers after measurements are performed. For the example just given, the joint state would be represented as $\\left|10\\right\\rangle$. Importantly, *this change in the representation of multi-qubit states affects the way multi-qubit gates are represented in Qiskit*, as discussed below.\n",
    "\n",
    "The representation used in Qiskit enumerates the basis vectors in increasing order of the integers they represent. For instance, the basis vectors for a 2-qubit system would be ordered as $\\left|00\\right\\rangle$, $\\left|01\\right\\rangle$, $\\left|10\\right\\rangle$, and $\\left|11\\right\\rangle$. Thinking of the basis vectors as bit strings, they encode the integers 0,1,2 and 3, respectively.\n",
    "\n",
    "\n",
    "### Controlled operations on qubits\n",
    "\n",
    "A common multi-qubit gate involves the application of a gate to one qubit, conditioned on the state of another qubit. For instance, we might want to flip the state of the second qubit when the first qubit is in $\\left|0\\right\\rangle$. Such gates are known as _controlled gates_. The standard multi-qubit gates consist of two-qubit gates and three-qubit gates. The two-qubit gates are:\n",
    "- controlled Pauli gates\n",
    "- controlled Hadamard gate\n",
    "- controlled rotation gates\n",
    "- controlled phase gate\n",
    "- controlled u3 gate\n",
    "- swap gate\n",
    "\n",
    "The three-qubit gates are: \n",
    "- Toffoli gate \n",
    "- Fredkin gate"
   ]
  },
  {
   "cell_type": "markdown",
   "metadata": {
    "id": "x0Aq39obVwau"
   },
   "source": [
    "## Two-qubit gates <a name=\"two_gates\"/>\n",
    "\n",
    "Most of the two-qubit gates are of the controlled type (the SWAP gate being the exception). In general, a controlled two-qubit gate $C_{U}$ acts to apply the single-qubit unitary $U$ to the second qubit when the state of the first qubit is in $\\left|1\\right\\rangle$. Suppose $U$ has a matrix representation\n",
    "\n",
    "$$U = \\begin{pmatrix} u_{00} & u_{01} \\\\ u_{10} & u_{11}\\end{pmatrix}.$$\n",
    "\n",
    "We can work out the action of $C_{U}$ as follows. Recall that the basis vectors for a two-qubit system are ordered as $\\left|00\\right\\rangle, \\left|01\\right\\rangle, \\left|10\\right\\rangle, \\left|11\\right\\rangle$. Suppose the **control qubit** is **qubit 0** (which, according to Qiskit's convention, is one the _right-hand_ side of the tensor product). If the control qubit is in $\\left|1\\right\\rangle$, $U$ should be applied to the **target** (qubit 1, on the _left-hand_ side of the tensor product). Therefore, under the action of $C_{U}$, the basis vectors are transformed according to\n",
    "\n",
    "$$\\begin{align*}\n",
    "C_{U}: \\underset{\\text{qubit}~1}{\\left|0\\right\\rangle}\\otimes \\underset{\\text{qubit}~0}{\\left|0\\right\\rangle} &\\rightarrow \\underset{\\text{qubit}~1}{\\left|0\\right\\rangle}\\otimes \\underset{\\text{qubit}~0}{\\left|0\\right\\rangle}\\\\\n",
    "C_{U}: \\underset{\\text{qubit}~1}{\\left|0\\right\\rangle}\\otimes \\underset{\\text{qubit}~0}{\\left|1\\right\\rangle} &\\rightarrow \\underset{\\text{qubit}~1}{U\\left|0\\right\\rangle}\\otimes \\underset{\\text{qubit}~0}{\\left|1\\right\\rangle}\\\\\n",
    "C_{U}: \\underset{\\text{qubit}~1}{\\left|1\\right\\rangle}\\otimes \\underset{\\text{qubit}~0}{\\left|0\\right\\rangle} &\\rightarrow \\underset{\\text{qubit}~1}{\\left|1\\right\\rangle}\\otimes \\underset{\\text{qubit}~0}{\\left|0\\right\\rangle}\\\\\n",
    "C_{U}: \\underset{\\text{qubit}~1}{\\left|1\\right\\rangle}\\otimes \\underset{\\text{qubit}~0}{\\left|1\\right\\rangle} &\\rightarrow \\underset{\\text{qubit}~1}{U\\left|1\\right\\rangle}\\otimes \\underset{\\text{qubit}~0}{\\left|1\\right\\rangle}\\\\\n",
    "\\end{align*}.$$\n",
    "\n",
    "In matrix form, the action of $C_{U}$ is\n",
    "\n",
    "$$\\begin{equation}\n",
    "\tC_U = \\begin{pmatrix}\n",
    "\t1 & 0 & 0 & 0 \\\\\n",
    "\t0 & u_{00} & 0 & u_{01} \\\\\n",
    "\t0 & 0 & 1 & 0 \\\\\n",
    "\t0 & u_{10} &0 & u_{11}\n",
    "\t\t\\end{pmatrix}.\n",
    "\\end{equation}$$\n",
    "\n",
    "To work out these matrix elements, let\n",
    "\n",
    "$$C_{(jk), (lm)} = \\left(\\underset{\\text{qubit}~1}{\\left\\langle j \\right|} \\otimes \\underset{\\text{qubit}~0}{\\left\\langle k \\right|}\\right) C_{U} \\left(\\underset{\\text{qubit}~1}{\\left| l \\right\\rangle} \\otimes \\underset{\\text{qubit}~0}{\\left| m \\right\\rangle}\\right),$$\n",
    "\n",
    "compute the action of $C_{U}$ (given above), and compute the inner products.\n",
    "\n",
    "As shown in the examples below, this operation is implemented in Qiskit as `cU(q[0],q[1])`.\n",
    "\n",
    "\n",
    "If **qubit 1 is the control and qubit 0 is the target**, then the basis vectors are transformed according to\n",
    "$$\\begin{align*}\n",
    "C_{U}: \\underset{\\text{qubit}~1}{\\left|0\\right\\rangle}\\otimes \\underset{\\text{qubit}~0}{\\left|0\\right\\rangle} &\\rightarrow \\underset{\\text{qubit}~1}{\\left|0\\right\\rangle}\\otimes \\underset{\\text{qubit}~0}{\\left|0\\right\\rangle}\\\\\n",
    "C_{U}: \\underset{\\text{qubit}~1}{\\left|0\\right\\rangle}\\otimes \\underset{\\text{qubit}~0}{\\left|1\\right\\rangle} &\\rightarrow \\underset{\\text{qubit}~1}{\\left|0\\right\\rangle}\\otimes \\underset{\\text{qubit}~0}{\\left|1\\right\\rangle}\\\\\n",
    "C_{U}: \\underset{\\text{qubit}~1}{\\left|1\\right\\rangle}\\otimes \\underset{\\text{qubit}~0}{\\left|0\\right\\rangle} &\\rightarrow \\underset{\\text{qubit}~1}{\\left|1\\right\\rangle}\\otimes \\underset{\\text{qubit}~0}{U\\left|0\\right\\rangle}\\\\\n",
    "C_{U}: \\underset{\\text{qubit}~1}{\\left|1\\right\\rangle}\\otimes \\underset{\\text{qubit}~0}{\\left|1\\right\\rangle} &\\rightarrow \\underset{\\text{qubit}~1}{\\left|1\\right\\rangle}\\otimes \\underset{\\text{qubit}~0}{U\\left|1\\right\\rangle}\\\\\n",
    "\\end{align*},$$\n",
    "\n",
    "\n",
    "which implies the matrix form of $C_{U}$ is\n",
    "$$\\begin{equation}\n",
    "\tC_U = \\begin{pmatrix}\n",
    "\t1 & 0 & 0  & 0 \\\\\n",
    "\t0 & 1 & 0 & 0 \\\\\n",
    "\t0 & 0 & u_{00} & u_{01} \\\\\n",
    "\t0 & 0 & u_{10} & u_{11}\n",
    "\t\t\\end{pmatrix}.\n",
    "\\end{equation}$$"
   ]
  },
  {
   "cell_type": "code",
   "execution_count": null,
   "metadata": {
    "ExecuteTime": {
     "end_time": "2021-07-31T05:11:57.864527Z",
     "start_time": "2021-07-31T05:11:57.861603Z"
    },
    "id": "euKLYGU-Vwav"
   },
   "outputs": [],
   "source": [
    "q = QuantumRegister(2)"
   ]
  },
  {
   "cell_type": "markdown",
   "metadata": {
    "id": "2J-_LPHbVwav"
   },
   "source": [
    "### Controlled Pauli Gates\n",
    "\n",
    "#### Controlled-X (or, Controlled-NOT) gate\n",
    "The Controlled-NOT gate flips the `target` qubit when the control qubit is in the state $\\left|1\\right\\rangle$. If we take the MSB as the control qubit (e.g. `cx(q[1],q[0])`), then the matrix would look like\n",
    "\n",
    "$$\n",
    "C_X = \n",
    "\\begin{pmatrix}\n",
    "1 & 0 & 0 & 0\\\\\n",
    "0 & 1 & 0 & 0\\\\\n",
    "0 & 0 & 0 & 1\\\\\n",
    "0 & 0 & 1 & 0\n",
    "\\end{pmatrix}. \n",
    "$$\n",
    "\n",
    "However, when the LSB is the control qubit, (e.g. `cx(q[0],q[1])`), this gate is equivalent to the following matrix:\n",
    "\n",
    "$$\n",
    "C_X = \n",
    "\\begin{pmatrix}\n",
    "1 & 0 & 0 & 0\\\\\n",
    "0 & 0 & 0 & 1\\\\\n",
    "0 & 0 & 1 & 0\\\\\n",
    "0 & 1 & 0 & 0\n",
    "\\end{pmatrix}. \n",
    "$$\n",
    "\n"
   ]
  },
  {
   "cell_type": "code",
   "execution_count": null,
   "metadata": {
    "ExecuteTime": {
     "end_time": "2021-07-31T05:11:59.251955Z",
     "start_time": "2021-07-31T05:11:59.245837Z"
    },
    "colab": {
     "base_uri": "https://localhost:8080/",
     "height": 94
    },
    "executionInfo": {
     "elapsed": 4,
     "status": "ok",
     "timestamp": 1661181958214,
     "user": {
      "displayName": "Friederike Metz",
      "userId": "09850484825460430514"
     },
     "user_tz": -120
    },
    "id": "fzkNw_0fVwav",
    "outputId": "2e3bca64-ff1c-4f0d-e9b0-6cccdf061255"
   },
   "outputs": [
    {
     "data": {
      "text/html": [
       "<pre style=\"word-wrap: normal;white-space: pre;background: #fff0;line-height: 1.1;font-family: &quot;Courier New&quot;,Courier,monospace\">           \n",
       "q3_0: ──■──\n",
       "      ┌─┴─┐\n",
       "q3_1: ┤ X ├\n",
       "      └───┘</pre>"
      ],
      "text/plain": [
       "           \n",
       "q3_0: ──■──\n",
       "      ┌─┴─┐\n",
       "q3_1: ┤ X ├\n",
       "      └───┘"
      ]
     },
     "execution_count": 53,
     "metadata": {},
     "output_type": "execute_result"
    }
   ],
   "source": [
    "qc = QuantumCircuit(q)\n",
    "qc.cx(q[0],q[1])\n",
    "qc.draw()"
   ]
  },
  {
   "cell_type": "code",
   "execution_count": null,
   "metadata": {
    "ExecuteTime": {
     "end_time": "2021-07-31T05:12:02.300793Z",
     "start_time": "2021-07-31T05:12:02.292637Z"
    },
    "colab": {
     "base_uri": "https://localhost:8080/"
    },
    "executionInfo": {
     "elapsed": 2,
     "status": "ok",
     "timestamp": 1661181958613,
     "user": {
      "displayName": "Friederike Metz",
      "userId": "09850484825460430514"
     },
     "user_tz": -120
    },
    "id": "0TnIhcL9Vwaw",
    "outputId": "2195826c-ebe6-49b0-f1c1-4a04f31250be"
   },
   "outputs": [
    {
     "data": {
      "text/plain": [
       "Operator([[1.+0.j, 0.+0.j, 0.+0.j, 0.+0.j],\n",
       "          [0.+0.j, 0.+0.j, 0.+0.j, 1.+0.j],\n",
       "          [0.+0.j, 0.+0.j, 1.+0.j, 0.+0.j],\n",
       "          [0.+0.j, 1.+0.j, 0.+0.j, 0.+0.j]],\n",
       "         input_dims=(2, 2), output_dims=(2, 2))"
      ]
     },
     "execution_count": 54,
     "metadata": {},
     "output_type": "execute_result"
    }
   ],
   "source": [
    "Operator(qc)"
   ]
  },
  {
   "cell_type": "markdown",
   "metadata": {
    "id": "YYqrjx6qWvQa"
   },
   "source": [
    "There exist also many other controlled qubit gates, which are not further discussed in this notebook"
   ]
  },
  {
   "cell_type": "markdown",
   "metadata": {
    "id": "dlhmrhR2Vwa2"
   },
   "source": [
    "### Controlled $u$ rotation\n",
    "\n",
    "Perform controlled-$u$ rotation on the target qubit if the control qubit (here LSB) is $\\left|1\\right\\rangle$. \n",
    "\n",
    "$$\n",
    "C_{u}(\\theta, \\phi, \\lambda, \\gamma) \\equiv \n",
    "\\begin{pmatrix}\n",
    "                1 & 0                           & 0 & 0 \\\\\n",
    "                0 & e^{i\\gamma}\\cos(\\theta)        & 0 & -e^{i(\\gamma + \\lambda)}\\sin(\\theta) \\\\\n",
    "                0 & 0                           & 1 & 0 \\\\\n",
    "                0 & e^{i(\\gamma+\\phi)}\\sin(\\theta) & 0 & e^{i(\\gamma+\\phi+\\lambda)}\\cos(\\theta)\n",
    "            \\end{pmatrix}.\n",
    "$$"
   ]
  },
  {
   "cell_type": "code",
   "execution_count": null,
   "metadata": {
    "ExecuteTime": {
     "end_time": "2021-07-31T05:13:19.155213Z",
     "start_time": "2021-07-31T05:13:19.148466Z"
    },
    "colab": {
     "base_uri": "https://localhost:8080/",
     "height": 94
    },
    "executionInfo": {
     "elapsed": 5,
     "status": "ok",
     "timestamp": 1661181965218,
     "user": {
      "displayName": "Friederike Metz",
      "userId": "09850484825460430514"
     },
     "user_tz": -120
    },
    "id": "jb7SGNklVwa2",
    "outputId": "4dde95ca-b5d9-42e7-9f63-005152e2f506"
   },
   "outputs": [
    {
     "data": {
      "text/html": [
       "<pre style=\"word-wrap: normal;white-space: pre;background: #fff0;line-height: 1.1;font-family: &quot;Courier New&quot;,Courier,monospace\">                          \n",
       "q3_0: ─────────■──────────\n",
       "      ┌────────┴─────────┐\n",
       "q3_1: ┤ U(π/2,π/2,π/2,0) ├\n",
       "      └──────────────────┘</pre>"
      ],
      "text/plain": [
       "                          \n",
       "q3_0: ─────────■──────────\n",
       "      ┌────────┴─────────┐\n",
       "q3_1: ┤ U(π/2,π/2,π/2,0) ├\n",
       "      └──────────────────┘"
      ]
     },
     "execution_count": 55,
     "metadata": {},
     "output_type": "execute_result"
    }
   ],
   "source": [
    "qc = QuantumCircuit(q)\n",
    "qc.cu(pi/2, pi/2, pi/2, 0, q[0], q[1])\n",
    "qc.draw()"
   ]
  },
  {
   "cell_type": "code",
   "execution_count": null,
   "metadata": {
    "ExecuteTime": {
     "end_time": "2021-07-31T05:13:24.393740Z",
     "start_time": "2021-07-31T05:13:24.378958Z"
    },
    "colab": {
     "base_uri": "https://localhost:8080/"
    },
    "executionInfo": {
     "elapsed": 5,
     "status": "ok",
     "timestamp": 1661182046459,
     "user": {
      "displayName": "Friederike Metz",
      "userId": "09850484825460430514"
     },
     "user_tz": -120
    },
    "id": "A2usE9InVwa2",
    "outputId": "5738827d-b296-4cbd-fd91-622296b0e1ab"
   },
   "outputs": [
    {
     "data": {
      "text/plain": [
       "Operator([[ 1.00000000e+00+0.00000000e+00j,\n",
       "            0.00000000e+00+0.00000000e+00j,\n",
       "            0.00000000e+00+0.00000000e+00j,\n",
       "            0.00000000e+00+0.00000000e+00j],\n",
       "          [ 0.00000000e+00+0.00000000e+00j,\n",
       "            7.07106781e-01+0.00000000e+00j,\n",
       "            0.00000000e+00+0.00000000e+00j,\n",
       "           -4.32978028e-17-7.07106781e-01j],\n",
       "          [ 0.00000000e+00+0.00000000e+00j,\n",
       "            0.00000000e+00+0.00000000e+00j,\n",
       "            1.00000000e+00+0.00000000e+00j,\n",
       "            0.00000000e+00+0.00000000e+00j],\n",
       "          [ 0.00000000e+00+0.00000000e+00j,\n",
       "            4.32978028e-17+7.07106781e-01j,\n",
       "            0.00000000e+00+0.00000000e+00j,\n",
       "           -7.07106781e-01+8.65956056e-17j]],\n",
       "         input_dims=(2, 2), output_dims=(2, 2))"
      ]
     },
     "execution_count": 59,
     "metadata": {},
     "output_type": "execute_result"
    }
   ],
   "source": [
    "Operator(qc)"
   ]
  },
  {
   "cell_type": "markdown",
   "metadata": {
    "id": "kuFL_-IxVwa3"
   },
   "source": [
    "### SWAP gate\n",
    "\n",
    "The SWAP gate exchanges the two qubits. It transforms the basis vectors as\n",
    "\n",
    "$$\\left|00\\right\\rangle \\rightarrow \\left|00\\right\\rangle~,~\\left|01\\right\\rangle \\rightarrow \\left|10\\right\\rangle~,~\\left|10\\right\\rangle \\rightarrow \\left|01\\right\\rangle~,~\\left|11\\right\\rangle \\rightarrow \\left|11\\right\\rangle,$$\n",
    "\n",
    "which gives a matrix representation of the form\n",
    "\n",
    "$$\n",
    "\\mathrm{SWAP} = \n",
    "\\begin{pmatrix}\n",
    "1 & 0 & 0 & 0\\\\\n",
    "0 & 0 & 1 & 0\\\\\n",
    "0 & 1 & 0 & 0\\\\\n",
    "0 & 0 & 0 & 1\n",
    "\\end{pmatrix}.\n",
    "$$"
   ]
  },
  {
   "cell_type": "code",
   "execution_count": null,
   "metadata": {
    "ExecuteTime": {
     "end_time": "2021-07-31T05:13:26.189896Z",
     "start_time": "2021-07-31T05:13:26.184311Z"
    },
    "colab": {
     "base_uri": "https://localhost:8080/",
     "height": 94
    },
    "executionInfo": {
     "elapsed": 239,
     "status": "ok",
     "timestamp": 1661182055846,
     "user": {
      "displayName": "Friederike Metz",
      "userId": "09850484825460430514"
     },
     "user_tz": -120
    },
    "id": "BkI1it58Vwa3",
    "outputId": "64cf7f8f-b37a-49e6-b67d-ec63a8677a30"
   },
   "outputs": [
    {
     "data": {
      "text/html": [
       "<pre style=\"word-wrap: normal;white-space: pre;background: #fff0;line-height: 1.1;font-family: &quot;Courier New&quot;,Courier,monospace\">         \n",
       "q3_0: ─X─\n",
       "       │ \n",
       "q3_1: ─X─\n",
       "         </pre>"
      ],
      "text/plain": [
       "         \n",
       "q3_0: ─X─\n",
       "       │ \n",
       "q3_1: ─X─\n",
       "         "
      ]
     },
     "execution_count": 60,
     "metadata": {},
     "output_type": "execute_result"
    }
   ],
   "source": [
    "qc = QuantumCircuit(q)\n",
    "qc.swap(q[0], q[1])\n",
    "qc.draw()"
   ]
  },
  {
   "cell_type": "code",
   "execution_count": null,
   "metadata": {
    "ExecuteTime": {
     "end_time": "2021-07-31T05:13:28.555864Z",
     "start_time": "2021-07-31T05:13:28.545777Z"
    },
    "colab": {
     "base_uri": "https://localhost:8080/"
    },
    "executionInfo": {
     "elapsed": 247,
     "status": "ok",
     "timestamp": 1661182063659,
     "user": {
      "displayName": "Friederike Metz",
      "userId": "09850484825460430514"
     },
     "user_tz": -120
    },
    "id": "7_HXEI-fVwa3",
    "outputId": "c9a43429-fa97-499b-c327-2f0c6b33f19c"
   },
   "outputs": [
    {
     "data": {
      "text/plain": [
       "Operator([[1.+0.j, 0.+0.j, 0.+0.j, 0.+0.j],\n",
       "          [0.+0.j, 0.+0.j, 1.+0.j, 0.+0.j],\n",
       "          [0.+0.j, 1.+0.j, 0.+0.j, 0.+0.j],\n",
       "          [0.+0.j, 0.+0.j, 0.+0.j, 1.+0.j]],\n",
       "         input_dims=(2, 2), output_dims=(2, 2))"
      ]
     },
     "execution_count": 62,
     "metadata": {},
     "output_type": "execute_result"
    }
   ],
   "source": [
    "Operator(qc)"
   ]
  },
  {
   "cell_type": "markdown",
   "metadata": {
    "id": "ORZX8vmDVwa6"
   },
   "source": [
    "## Non-unitary operations <a name=\"non_unitary\"/>\n",
    "\n",
    "Now that we have gone through all the unitary operations in quantum circuits, we also have access to non-unitary operations. These include measurements, reset of qubits, and classical conditional operations."
   ]
  },
  {
   "cell_type": "code",
   "execution_count": null,
   "metadata": {
    "ExecuteTime": {
     "end_time": "2021-07-31T05:13:39.580221Z",
     "start_time": "2021-07-31T05:13:39.576248Z"
    },
    "id": "GvuXNjoWVwa7"
   },
   "outputs": [],
   "source": [
    "q = QuantumRegister(1)\n",
    "c = ClassicalRegister(1)"
   ]
  },
  {
   "cell_type": "markdown",
   "metadata": {
    "id": "UlCIY7jzVwa7"
   },
   "source": [
    "### Measurements\n",
    "\n",
    "We don't have access to all the information when we make a measurement in a quantum computer. The quantum state is projected onto the standard $z$-basis. Below are two examples showing a circuit that is prepared in a basis state and the quantum computer prepared in a superposition state."
   ]
  },
  {
   "cell_type": "code",
   "execution_count": null,
   "metadata": {
    "ExecuteTime": {
     "end_time": "2021-07-31T05:13:40.203535Z",
     "start_time": "2021-07-31T05:13:40.197117Z"
    },
    "colab": {
     "base_uri": "https://localhost:8080/",
     "height": 94
    },
    "executionInfo": {
     "elapsed": 240,
     "status": "ok",
     "timestamp": 1661182161857,
     "user": {
      "displayName": "Friederike Metz",
      "userId": "09850484825460430514"
     },
     "user_tz": -120
    },
    "id": "3THetpltVwa7",
    "outputId": "213c0d50-76b7-4574-c3ab-775b6c258b93"
   },
   "outputs": [
    {
     "data": {
      "text/html": [
       "<pre style=\"word-wrap: normal;white-space: pre;background: #fff0;line-height: 1.1;font-family: &quot;Courier New&quot;,Courier,monospace\">      ┌─┐\n",
       "  q5: ┤M├\n",
       "      └╥┘\n",
       "c1: 1/═╩═\n",
       "       0 </pre>"
      ],
      "text/plain": [
       "      ┌─┐\n",
       "  q5: ┤M├\n",
       "      └╥┘\n",
       "c1: 1/═╩═\n",
       "       0 "
      ]
     },
     "execution_count": 68,
     "metadata": {},
     "output_type": "execute_result"
    }
   ],
   "source": [
    "qc = QuantumCircuit(q, c)\n",
    "qc.measure(q, c)\n",
    "qc.draw()"
   ]
  },
  {
   "cell_type": "code",
   "execution_count": null,
   "metadata": {
    "ExecuteTime": {
     "end_time": "2021-07-31T05:13:47.891765Z",
     "start_time": "2021-07-31T05:13:47.879060Z"
    },
    "colab": {
     "base_uri": "https://localhost:8080/"
    },
    "executionInfo": {
     "elapsed": 378,
     "status": "ok",
     "timestamp": 1661182169906,
     "user": {
      "displayName": "Friederike Metz",
      "userId": "09850484825460430514"
     },
     "user_tz": -120
    },
    "id": "gU59pYzXVwa8",
    "outputId": "e433b236-c311-438d-98b5-951b9ec11ae1"
   },
   "outputs": [
    {
     "data": {
      "text/plain": [
       "{'0': 1024}"
      ]
     },
     "execution_count": 69,
     "metadata": {},
     "output_type": "execute_result"
    }
   ],
   "source": [
    "backend = BasicAer.get_backend('qasm_simulator')\n",
    "job = backend.run(transpile(qc, backend))\n",
    "job.result().get_counts(qc)"
   ]
  },
  {
   "cell_type": "markdown",
   "metadata": {
    "id": "KpDHbOlZVwa8"
   },
   "source": [
    " The simulator predicts that 100 percent of the time the classical register returns 0. "
   ]
  },
  {
   "cell_type": "code",
   "execution_count": null,
   "metadata": {
    "ExecuteTime": {
     "end_time": "2021-07-31T05:13:49.501725Z",
     "start_time": "2021-07-31T05:13:49.495404Z"
    },
    "colab": {
     "base_uri": "https://localhost:8080/",
     "height": 94
    },
    "executionInfo": {
     "elapsed": 253,
     "status": "ok",
     "timestamp": 1661182178068,
     "user": {
      "displayName": "Friederike Metz",
      "userId": "09850484825460430514"
     },
     "user_tz": -120
    },
    "id": "O5w3vWx5Vwa8",
    "outputId": "ae808822-4a5f-4af5-e2c6-acfe048398e3"
   },
   "outputs": [
    {
     "data": {
      "text/html": [
       "<pre style=\"word-wrap: normal;white-space: pre;background: #fff0;line-height: 1.1;font-family: &quot;Courier New&quot;,Courier,monospace\">      ┌───┐┌─┐\n",
       "  q5: ┤ H ├┤M├\n",
       "      └───┘└╥┘\n",
       "c1: 1/══════╩═\n",
       "            0 </pre>"
      ],
      "text/plain": [
       "      ┌───┐┌─┐\n",
       "  q5: ┤ H ├┤M├\n",
       "      └───┘└╥┘\n",
       "c1: 1/══════╩═\n",
       "            0 "
      ]
     },
     "execution_count": 70,
     "metadata": {},
     "output_type": "execute_result"
    }
   ],
   "source": [
    "qc = QuantumCircuit(q, c)\n",
    "qc.h(q)\n",
    "qc.measure(q, c)\n",
    "qc.draw()"
   ]
  },
  {
   "cell_type": "code",
   "execution_count": null,
   "metadata": {
    "ExecuteTime": {
     "end_time": "2021-07-31T05:13:51.913804Z",
     "start_time": "2021-07-31T05:13:51.902540Z"
    },
    "colab": {
     "base_uri": "https://localhost:8080/"
    },
    "executionInfo": {
     "elapsed": 237,
     "status": "ok",
     "timestamp": 1661182179332,
     "user": {
      "displayName": "Friederike Metz",
      "userId": "09850484825460430514"
     },
     "user_tz": -120
    },
    "id": "REqlAwPzVwa8",
    "outputId": "00924e86-6934-4030-8c1c-9affd1e7faac"
   },
   "outputs": [
    {
     "data": {
      "text/plain": [
       "{'1': 509, '0': 515}"
      ]
     },
     "execution_count": 71,
     "metadata": {},
     "output_type": "execute_result"
    }
   ],
   "source": [
    "job = backend.run(transpile(qc, backend))\n",
    "job.result().get_counts(qc)"
   ]
  },
  {
   "cell_type": "markdown",
   "metadata": {
    "id": "9WcGyodaVwa9"
   },
   "source": [
    " The simulator predicts that 50 percent of the time the classical register returns 0 or 1. "
   ]
  },
  {
   "cell_type": "markdown",
   "metadata": {
    "id": "zmELmXnLVwa9"
   },
   "source": [
    "### Reset\n",
    "It is also possible to `reset` qubits to the $\\left|0\\right\\rangle$ state in the middle of computation. Note that `reset` is not a Gate operation, since it is irreversible."
   ]
  },
  {
   "cell_type": "code",
   "execution_count": null,
   "metadata": {
    "ExecuteTime": {
     "end_time": "2021-07-31T05:13:55.048748Z",
     "start_time": "2021-07-31T05:13:55.043325Z"
    },
    "colab": {
     "base_uri": "https://localhost:8080/",
     "height": 94
    },
    "executionInfo": {
     "elapsed": 233,
     "status": "ok",
     "timestamp": 1661182185616,
     "user": {
      "displayName": "Friederike Metz",
      "userId": "09850484825460430514"
     },
     "user_tz": -120
    },
    "id": "ZuYmLLsiVwa9",
    "outputId": "1645a73a-b36b-4edc-ebc3-f6ed43c0ed52"
   },
   "outputs": [
    {
     "data": {
      "text/html": [
       "<pre style=\"word-wrap: normal;white-space: pre;background: #fff0;line-height: 1.1;font-family: &quot;Courier New&quot;,Courier,monospace\">           ┌─┐\n",
       "  q5: ─|0>─┤M├\n",
       "           └╥┘\n",
       "c1: 1/══════╩═\n",
       "            0 </pre>"
      ],
      "text/plain": [
       "           ┌─┐\n",
       "  q5: ─|0>─┤M├\n",
       "           └╥┘\n",
       "c1: 1/══════╩═\n",
       "            0 "
      ]
     },
     "execution_count": 72,
     "metadata": {},
     "output_type": "execute_result"
    }
   ],
   "source": [
    "qc = QuantumCircuit(q, c)\n",
    "qc.reset(q[0])\n",
    "qc.measure(q, c)\n",
    "qc.draw()"
   ]
  },
  {
   "cell_type": "code",
   "execution_count": null,
   "metadata": {
    "ExecuteTime": {
     "end_time": "2021-07-31T05:13:57.317513Z",
     "start_time": "2021-07-31T05:13:57.305706Z"
    },
    "colab": {
     "base_uri": "https://localhost:8080/"
    },
    "executionInfo": {
     "elapsed": 2,
     "status": "ok",
     "timestamp": 1661182185979,
     "user": {
      "displayName": "Friederike Metz",
      "userId": "09850484825460430514"
     },
     "user_tz": -120
    },
    "id": "ZFFbejvMVwa-",
    "outputId": "334fd7ef-9bce-44fc-e1f5-bf84747aed2f"
   },
   "outputs": [
    {
     "data": {
      "text/plain": [
       "{'0': 1024}"
      ]
     },
     "execution_count": 73,
     "metadata": {},
     "output_type": "execute_result"
    }
   ],
   "source": [
    "job = backend.run(transpile(qc, backend))\n",
    "job.result().get_counts(qc)"
   ]
  },
  {
   "cell_type": "code",
   "execution_count": null,
   "metadata": {
    "ExecuteTime": {
     "end_time": "2021-07-31T05:13:57.866910Z",
     "start_time": "2021-07-31T05:13:57.860240Z"
    },
    "colab": {
     "base_uri": "https://localhost:8080/",
     "height": 94
    },
    "executionInfo": {
     "elapsed": 262,
     "status": "ok",
     "timestamp": 1661182188668,
     "user": {
      "displayName": "Friederike Metz",
      "userId": "09850484825460430514"
     },
     "user_tz": -120
    },
    "id": "b65tTzf4Vwa_",
    "outputId": "a7abe9fc-e652-450c-af06-b1359f8e880e"
   },
   "outputs": [
    {
     "data": {
      "text/html": [
       "<pre style=\"word-wrap: normal;white-space: pre;background: #fff0;line-height: 1.1;font-family: &quot;Courier New&quot;,Courier,monospace\">      ┌───┐     ┌─┐\n",
       "  q5: ┤ H ├─|0>─┤M├\n",
       "      └───┘     └╥┘\n",
       "c1: 1/═══════════╩═\n",
       "                 0 </pre>"
      ],
      "text/plain": [
       "      ┌───┐     ┌─┐\n",
       "  q5: ┤ H ├─|0>─┤M├\n",
       "      └───┘     └╥┘\n",
       "c1: 1/═══════════╩═\n",
       "                 0 "
      ]
     },
     "execution_count": 74,
     "metadata": {},
     "output_type": "execute_result"
    }
   ],
   "source": [
    "qc = QuantumCircuit(q, c)\n",
    "qc.h(q)\n",
    "qc.reset(q[0])\n",
    "qc.measure(q, c)\n",
    "qc.draw()"
   ]
  },
  {
   "cell_type": "code",
   "execution_count": null,
   "metadata": {
    "ExecuteTime": {
     "end_time": "2021-07-31T05:14:01.210349Z",
     "start_time": "2021-07-31T05:14:01.065350Z"
    },
    "colab": {
     "base_uri": "https://localhost:8080/"
    },
    "executionInfo": {
     "elapsed": 231,
     "status": "ok",
     "timestamp": 1661182193228,
     "user": {
      "displayName": "Friederike Metz",
      "userId": "09850484825460430514"
     },
     "user_tz": -120
    },
    "id": "C2QI5iQTVwbA",
    "outputId": "f96c2170-38d9-42af-8fa0-b6f9827b4a31"
   },
   "outputs": [
    {
     "data": {
      "text/plain": [
       "{'0': 1024}"
      ]
     },
     "execution_count": 75,
     "metadata": {},
     "output_type": "execute_result"
    }
   ],
   "source": [
    "job = backend.run(transpile(qc, backend))\n",
    "job.result().get_counts(qc)"
   ]
  },
  {
   "cell_type": "markdown",
   "metadata": {
    "id": "CpJc9fKBVwbB"
   },
   "source": [
    "Here we see that for both of these circuits the simulator always predicts that the output is 100 percent in the 0 state."
   ]
  },
  {
   "cell_type": "markdown",
   "metadata": {},
   "source": [
    "These notebooks are comprised of text and code taken from Qiskit's [documentation](https://qiskit.org/documentation/), [tutorials](https://qiskit.org/documentation/tutorials.html#quantum-circuits), [textbook](https://qiskit.org/textbook/preface.html), and previous challenges facilitated by Qiskit."
   ]
  },
  {
   "cell_type": "code",
   "execution_count": null,
   "metadata": {},
   "outputs": [],
   "source": []
  }
 ],
 "metadata": {
  "anaconda-cloud": {},
  "colab": {
   "collapsed_sections": [],
   "provenance": [
    {
     "file_id": "10WRRsYS9wKYe2s5u2ZIXzQ_Wjz_dIRVs",
     "timestamp": 1661162951539
    }
   ]
  },
  "kernelspec": {
   "display_name": "Python 3 (ipykernel)",
   "language": "python",
   "name": "python3"
  },
  "language_info": {
   "codemirror_mode": {
    "name": "ipython",
    "version": 3
   },
   "file_extension": ".py",
   "mimetype": "text/x-python",
   "name": "python",
   "nbconvert_exporter": "python",
   "pygments_lexer": "ipython3",
   "version": "3.8.3"
  },
  "varInspector": {
   "cols": {
    "lenName": 16,
    "lenType": 16,
    "lenVar": 40
   },
   "kernels_config": {
    "python": {
     "delete_cmd_postfix": "",
     "delete_cmd_prefix": "del ",
     "library": "var_list.py",
     "varRefreshCmd": "print(var_dic_list())"
    },
    "r": {
     "delete_cmd_postfix": ") ",
     "delete_cmd_prefix": "rm(",
     "library": "var_list.r",
     "varRefreshCmd": "cat(var_dic_list()) "
    }
   },
   "types_to_exclude": [
    "module",
    "function",
    "builtin_function_or_method",
    "instance",
    "_Feature"
   ],
   "window_display": false
  }
 },
 "nbformat": 4,
 "nbformat_minor": 1
}
