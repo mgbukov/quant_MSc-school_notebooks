{
 "cells": [
  {
   "cell_type": "code",
   "execution_count": 1,
   "metadata": {
    "id": "5_GoQANSZbnK"
   },
   "outputs": [],
   "source": [
    "from qiskit import *\n",
    "import numpy as np"
   ]
  },
  {
   "cell_type": "markdown",
   "metadata": {
    "id": "qFodYMkqNqsj"
   },
   "source": [
    "# Running on real hardware\n",
    "\n",
    "IBM has made some of it's quantum computers publicly accessible via its [cloud](https://quantum-computing.ibm.com/composer/docs/iqx/manage/systems/). This means *YOU* can run your own experiments on a *REAL* quantum computer!!! "
   ]
  },
  {
   "cell_type": "markdown",
   "metadata": {
    "id": "oLlLmql6niov"
   },
   "source": [
    "If you want to use one of IBM's real quantum devices, you first need to create an [IBM Quantum account](https://quantum-computing.ibm.com/).\n",
    "Afterwards, you can find information about your account (such as your API token) [here](https://quantum-computing.ibm.com/account)."
   ]
  },
  {
   "cell_type": "code",
   "execution_count": 2,
   "metadata": {
    "colab": {
     "base_uri": "https://localhost:8080/"
    },
    "executionInfo": {
     "elapsed": 5451,
     "status": "ok",
     "timestamp": 1662363366145,
     "user": {
      "displayName": "Marin Bukov",
      "userId": "09091168472140198920"
     },
     "user_tz": -120
    },
    "id": "OWY8E2OYmdjL",
    "outputId": "b68aff1c-4e79-45a8-b077-a595295d79c5"
   },
   "outputs": [],
   "source": [
    "from qiskit import IBMQ\n",
    "# connect to your IBMQ account\n",
    "IBMQ.save_account(\"740cf9a029345b5770ad72af52ca4d1c51eb8afe78c6d95e17ecffd2e72033a693cf8563418f2143cf5d9780f497e3100577f0a400d882f5d4314ca68ce9fc37\",overwrite=True)\n",
    "IBMQ.load_account()\n",
    "provider = IBMQ.get_provider(hub='ibm-q-research-2',group='max-planck-inst',project='codingchallenge')"
   ]
  },
  {
   "cell_type": "markdown",
   "metadata": {
    "id": "f6Qq9TFgoU3Z"
   },
   "source": [
    "Check out all the different [quantum devices](https://quantum-computing.ibm.com/services/resources?tab=systems) you have access to. Below I am setting the 5-qubit `ibmq_quito` device as the backend."
   ]
  },
  {
   "cell_type": "code",
   "execution_count": null,
   "metadata": {
    "id": "FKzX0TXBowQH"
   },
   "outputs": [],
   "source": [
    "backend = provider.get_backend('ibmq_quito')"
   ]
  },
  {
   "cell_type": "code",
   "execution_count": null,
   "metadata": {
    "ExecuteTime": {
     "end_time": "2021-07-31T05:04:39.030564Z",
     "start_time": "2021-07-31T05:04:39.028024Z"
    },
    "colab": {
     "base_uri": "https://localhost:8080/",
     "height": 231
    },
    "executionInfo": {
     "elapsed": 748,
     "status": "ok",
     "timestamp": 1662363368753,
     "user": {
      "displayName": "Marin Bukov",
      "userId": "09091168472140198920"
     },
     "user_tz": -120
    },
    "id": "BWYAcy0zNqso",
    "outputId": "8ac9b42f-f2f3-4bd4-c22d-f85063143ec5"
   },
   "outputs": [],
   "source": [
    "# GHZ state circuit from first notebook\n",
    "circ = QuantumCircuit(3,3)\n",
    "circ.h(0)\n",
    "circ.cx(0, 1)\n",
    "circ.cx(0, 2)\n",
    "circ.measure(range(3), range(3))\n",
    "circ.draw('mpl')"
   ]
  },
  {
   "cell_type": "markdown",
   "metadata": {
    "id": "goPuDzvTNqs0"
   },
   "source": [
    "We can use the same `run` function as before to execute and measure the circuit.\n",
    "\n",
    "However, running the next line will likely take a lot of time since all quantum devices are usually in use and you have to wait for your turn to run your job. You can [check](https://quantum-computing.ibm.com/services/resources?tab=systems) how many people are currently in the queue on any device. If you are doing research in quantum computation and have to run a lot of experiments on quantum devices, there is an option to get a researcher account which lets you reserve time on a quantum computer without waiting in the queue."
   ]
  },
  {
   "cell_type": "code",
   "execution_count": null,
   "metadata": {
    "ExecuteTime": {
     "end_time": "2021-07-31T05:04:44.311305Z",
     "start_time": "2021-07-31T05:04:44.306416Z"
    },
    "id": "OJUHTtBZNqs0"
   },
   "outputs": [],
   "source": [
    "#job = backend.run(circ, shots=1024)"
   ]
  },
  {
   "cell_type": "markdown",
   "metadata": {
    "id": "GQUmTpeLqqFL"
   },
   "source": [
    "For now, let's do something slightly different. Instead of running on a real quantum device we will use a \"Fake\" quantum device, i.e., a simulator that mimics a real device. (For this, you do not need an IBMQ account.)"
   ]
  },
  {
   "cell_type": "code",
   "execution_count": null,
   "metadata": {
    "id": "4CU2-EZ9rWqn"
   },
   "outputs": [],
   "source": [
    "from qiskit.providers.fake_provider import FakeQuitoV2\n",
    "backend = FakeQuitoV2() # use \"fake\" quito device as backend"
   ]
  },
  {
   "cell_type": "code",
   "execution_count": null,
   "metadata": {
    "ExecuteTime": {
     "end_time": "2021-07-31T05:04:45.848031Z",
     "start_time": "2021-07-31T05:04:45.844758Z"
    },
    "colab": {
     "base_uri": "https://localhost:8080/"
    },
    "executionInfo": {
     "elapsed": 1047,
     "status": "ok",
     "timestamp": 1662363458508,
     "user": {
      "displayName": "Marin Bukov",
      "userId": "09091168472140198920"
     },
     "user_tz": -120
    },
    "id": "3UD3HSPwNqs1",
    "outputId": "ba96bd77-d375-4946-d0ec-f2556665f647"
   },
   "outputs": [],
   "source": [
    "job = backend.run(transpile(circ, backend), shots=1024)\n",
    "result = job.result()\n",
    "counts = result.get_counts(circ)\n",
    "print(counts)"
   ]
  },
  {
   "cell_type": "code",
   "execution_count": null,
   "metadata": {
    "colab": {
     "base_uri": "https://localhost:8080/",
     "height": 340
    },
    "executionInfo": {
     "elapsed": 348,
     "status": "ok",
     "timestamp": 1662363464673,
     "user": {
      "displayName": "Marin Bukov",
      "userId": "09091168472140198920"
     },
     "user_tz": -120
    },
    "id": "mQheL2IReYbu",
    "outputId": "caf7c79d-fdbb-4012-9def-c980c0282ee6"
   },
   "outputs": [],
   "source": [
    "from qiskit.visualization import plot_histogram\n",
    "plot_histogram(counts)"
   ]
  },
  {
   "cell_type": "markdown",
   "metadata": {
    "id": "MvaiGr92s14V"
   },
   "source": [
    "$\\color{red}{\\text{Exercise 1: Compare results to the one from previous notebook and explain discrepancy.}}$\n",
    "\n",
    "Compare this result to the one we got at the end of the previous notebook. What would we expect? What happened here instead?"
   ]
  },
  {
   "cell_type": "markdown",
   "metadata": {
    "id": "ZONECSwUuQC6"
   },
   "source": [
    "*Hint for exercise 1:* $\\color{white}{\\text{The reason for not just measuring the 000 and 111 bitstrings is noise and errors in the quantum computation. Can you think of different sources of noise that might alter the result of a quantum computation?}}$"
   ]
  },
  {
   "cell_type": "markdown",
   "metadata": {
    "id": "YDLk2mvkvKDM"
   },
   "source": [
    "## Transpilation \n",
    "\n",
    "### Basis gates\n",
    "\n",
    "When writing a quantum circuit you are free to use any quantum gate (unitary operator) that you like, alongside with a collection of non-gate operations such as qubit measurements and reset operations. However, when running a circuit on a real quantum device one no longer has this flexibility. Due to limitations in, for example, the physical interactions between qubits, difficulty in implementing multi-qubit gates, control electronics, etc., a quantum computing device can only natively support a handful of quantum gates and non-gate operations. In the present case of [IBM Q devices](https://quantum-computing.ibm.com/services/resources?tab=systems), the native gate set can be found by querying the devices themselves, and looking for the corresponding attribute in their configuration:"
   ]
  },
  {
   "cell_type": "code",
   "execution_count": null,
   "metadata": {
    "colab": {
     "base_uri": "https://localhost:8080/"
    },
    "executionInfo": {
     "elapsed": 236,
     "status": "ok",
     "timestamp": 1662363598432,
     "user": {
      "displayName": "Marin Bukov",
      "userId": "09091168472140198920"
     },
     "user_tz": -120
    },
    "id": "1PQkQHhQ40Tz",
    "outputId": "72c7f0cd-ef38-4a3a-cf40-4ec197f8127c"
   },
   "outputs": [],
   "source": [
    "provider.get_backend('ibmq_quito').configuration().basis_gates"
   ]
  },
  {
   "cell_type": "markdown",
   "metadata": {
    "id": "WrA_I8sd52SG"
   },
   "source": [
    "Every quantum circuit run on an IBM Q device must be expressed using only these basis gates.\n",
    "\n",
    "Let's take the following circuit as an example:"
   ]
  },
  {
   "cell_type": "code",
   "execution_count": null,
   "metadata": {
    "colab": {
     "base_uri": "https://localhost:8080/",
     "height": 140
    },
    "executionInfo": {
     "elapsed": 393,
     "status": "ok",
     "timestamp": 1662363780395,
     "user": {
      "displayName": "Marin Bukov",
      "userId": "09091168472140198920"
     },
     "user_tz": -120
    },
    "id": "FXaWeUGS6FQD",
    "outputId": "310909fa-8491-440c-aea2-bca333430132"
   },
   "outputs": [
    {
     "data": {
      "image/png": "[encoded data removed]",
      "text/plain": [
       "<Figure size 267.052x144.48 with 1 Axes>"
      ]
     },
     "execution_count": 20,
     "metadata": {},
     "output_type": "execute_result"
    }
   ],
   "source": [
    "qc = QuantumCircuit(2)\n",
    "qc.h(0)\n",
    "qc.x(1)\n",
    "qc.cp(np.pi/4, 0, 1)\n",
    "qc.draw(output='mpl')"
   ]
  },
  {
   "cell_type": "markdown",
   "metadata": {
    "id": "sAWKoMqx6PFd"
   },
   "source": [
    "We have H, X, and controlled-P gates, all of which are not in our devices basis gate set, and must be expanded. This expansion is taken care of for us in the `run` function. However, we can decompose the circuit to show what it would look like in the native gate set of the IBM Quantum devices:"
   ]
  },
  {
   "cell_type": "code",
   "execution_count": null,
   "metadata": {
    "colab": {
     "base_uri": "https://localhost:8080/",
     "height": 286
    },
    "executionInfo": {
     "elapsed": 661,
     "status": "ok",
     "timestamp": 1662363823527,
     "user": {
      "displayName": "Marin Bukov",
      "userId": "09091168472140198920"
     },
     "user_tz": -120
    },
    "id": "tYIaj1Ri6ozI",
    "outputId": "1d4530f0-99e6-4f45-c270-42de5abef73b"
   },
   "outputs": [],
   "source": [
    "qc_basis = transpile(qc, backend)\n",
    "qc_basis.draw(output='mpl')"
   ]
  },
  {
   "cell_type": "markdown",
   "metadata": {
    "id": "Fw8zCPyt61DJ"
   },
   "source": [
    "A few things to highlight. First, the circuit has gotten longer with respect to the initial one. Second, although we had a single controlled gate, the fact that it was not in the basis set means that, when expanded, it requires more than a single cx gate to implement. All said, unrolling to the basis set of gates leads to an increase in the depth of a quantum circuit and the number of gates. The deeper a circuit, the more noise and the bigger the errors our quantum states will be subject to. Keep this in mind when designing circuits that are run on real quantum devices!"
   ]
  },
  {
   "cell_type": "markdown",
   "metadata": {
    "id": "sGSqO6RH77be"
   },
   "source": [
    "### Hardware topology & layout\n",
    "\n",
    "At this point, please check out the [IBM Q Systems](https://quantum-computing.ibm.com/services/resources?tab=systems) one more time. Take a look at a few different devices and especially the corresponding device topology displayed under \"Calibration data\". You should see that the physical qubits of the quantum devices are not all-to-all connected, e.g., qubit 1 might not be adjacent to qubit 4 and therefore you cannot apply a two-qubit gate between them.\n",
    "\n",
    "In order to implement a CNOT gate between qubits in a quantum circuit that are not directly connected on a quantum device one or more SWAP gates must be inserted into the circuit to move the qubit states around until they are adjacent on the device gate map. Each SWAP gate is decomposed into three CNOT gates on the IBM Quantum devices, and represents an expensive and noisy operation to perform.\n",
    "\n",
    "For example, consider the following 5-qubit GHZ circuit that requires CNOT gates between qubit 0 and all other qubits."
   ]
  },
  {
   "cell_type": "code",
   "execution_count": null,
   "metadata": {
    "colab": {
     "base_uri": "https://localhost:8080/",
     "height": 276
    },
    "executionInfo": {
     "elapsed": 583,
     "status": "ok",
     "timestamp": 1662363987902,
     "user": {
      "displayName": "Marin Bukov",
      "userId": "09091168472140198920"
     },
     "user_tz": -120
    },
    "id": "eciZV_DS9PFo",
    "outputId": "958d01ea-243f-450b-b12f-f307e7066668"
   },
   "outputs": [],
   "source": [
    "qc = QuantumCircuit(5)\n",
    "qc.h(0)\n",
    "qc.cx(0,range(1,5))\n",
    "qc.draw(output='mpl')"
   ]
  },
  {
   "cell_type": "code",
   "execution_count": null,
   "metadata": {
    "colab": {
     "base_uri": "https://localhost:8080/",
     "height": 286
    },
    "executionInfo": {
     "elapsed": 699,
     "status": "ok",
     "timestamp": 1662364001284,
     "user": {
      "displayName": "Marin Bukov",
      "userId": "09091168472140198920"
     },
     "user_tz": -120
    },
    "id": "Ay8fHOy39dyk",
    "outputId": "ad9be920-2a4c-4cc5-bff7-27aa29b9c2f4"
   },
   "outputs": [],
   "source": [
    "qc_hardware = transpile(qc, backend)\n",
    "qc_hardware.draw(output='mpl')"
   ]
  },
  {
   "cell_type": "markdown",
   "metadata": {
    "id": "w_HmSVm3-UxO"
   },
   "source": [
    "After mapping this circuit to the hardware topology, we find about 3 times as many CNOT gates. Note that CNOT gates are the most noisy ones and should be avoided if possible. Try to adapt your circuit always to the hardware topology as much as possible.\n",
    "\n",
    "Additionally, you might find that the qubit ordering is now different compared to what we had before. Qiskit is trying to map the \"virtual\" qubits that we specified to actual physical qubits of the device in the most optimal way. The choice of mapping depends on the properties of the circuit, the particular device you are targeting, and the optimization level that is chosen.\n",
    "\n",
    "You can also specify the mapping yourself by passing an `initial_layout` to the `transpile` function."
   ]
  },
  {
   "cell_type": "code",
   "execution_count": null,
   "metadata": {
    "colab": {
     "base_uri": "https://localhost:8080/",
     "height": 286
    },
    "executionInfo": {
     "elapsed": 659,
     "status": "ok",
     "timestamp": 1662364155481,
     "user": {
      "displayName": "Marin Bukov",
      "userId": "09091168472140198920"
     },
     "user_tz": -120
    },
    "id": "b7NpepmUEfOM",
    "outputId": "48b46185-291d-4353-d40f-91953a103950"
   },
   "outputs": [],
   "source": [
    "qc_hardware = transpile(qc, backend, initial_layout=[0,4,2,3,1])\n",
    "qc_hardware.draw(output='mpl')"
   ]
  },
  {
   "cell_type": "markdown",
   "metadata": {
    "id": "2AxVS2-b_hD6"
   },
   "source": [
    "$\\color{red}{\\text{Exercise 2: Can you think of another qubit ordering that would reduce the number of SWAP/CNOT gates for the Quito device?}}$\n",
    "\n",
    "Or alternatively, can you think of another, logically equivalent, circuit that would also prepare the GHZ state, but involves CNOT gates applied only to adjacent qubits?\n",
    "\n",
    "Try it out"
   ]
  },
  {
   "cell_type": "code",
   "execution_count": null,
   "metadata": {
    "id": "WAq-tevF_gEY"
   },
   "outputs": [],
   "source": [
    "qc = QuantumCircuit(5)\n",
    "\n",
    "#Your code goes here\n",
    "\n",
    "qc_hardware = ...\n",
    "qc_hardware.draw(output='mpl')"
   ]
  },
  {
   "cell_type": "markdown",
   "metadata": {
    "id": "qPax-W5kANpu"
   },
   "source": [
    "*Hint for exercise 2:* $\\color{white}{\\text{What happens for example if qubit 1 (and not 0) is the control qubit?}}$"
   ]
  },
  {
   "cell_type": "markdown",
   "metadata": {
    "id": "emqCKKyIAwbV"
   },
   "source": [
    "Note that the process of mapping a circuit to the device layout/topology is not deterministic but involves a stochastic optimization procedure. Therefore, the final circuits might look different every single time you run `transpile()`."
   ]
  },
  {
   "cell_type": "markdown",
   "metadata": {
    "id": "QMTlbEDO4vyB"
   },
   "source": [
    "### Transpilation\n",
    "\n",
    "In all the examples above, we have always used qiskit's `transpile` function.\n",
    "\n",
    "In general, [transpilation](https://qiskit.org/documentation/apidoc/transpiler.html) is the process of rewriting a given input circuit to match the topology of a specific quantum device, and/or to optimize the circuit for execution on present day noisy quantum systems.\n",
    "\n",
    "Most circuits must undergo a series of transformations that make them compatible with a given target device, and optimize them to reduce the effects of noise on the resulting outcomes. Rewriting quantum circuits to match hardware constraints and optimizing for performance can be far from trivial. The flow of logic in the rewriting tool chain need not be linear, and can often have iterative sub-loops, conditional branches, and other complex behaviors. The details are not important for you at this stage, just be aware that transpilation is an important but potentially very complex process.\n",
    "![title](transpiling_core_steps.png)\n"
   ]
  },
  {
   "cell_type": "code",
   "execution_count": null,
   "metadata": {
    "colab": {
     "base_uri": "https://localhost:8080/",
     "height": 140
    },
    "executionInfo": {
     "elapsed": 249,
     "status": "ok",
     "timestamp": 1662364382886,
     "user": {
      "displayName": "Marin Bukov",
      "userId": "09091168472140198920"
     },
     "user_tz": -120
    },
    "id": "1xhFHVugtVrl",
    "outputId": "45184151-e1b2-4a6a-eba2-49ce3764ddad"
   },
   "outputs": [
    {
     "data": {
      "image/png": "[encoded data removed]",
      "text/plain": [
       "<Figure size 327.252x144.48 with 1 Axes>"
      ]
     },
     "execution_count": 27,
     "metadata": {},
     "output_type": "execute_result"
    }
   ],
   "source": [
    "qc = QuantumCircuit(2)\n",
    "qc.h(0)\n",
    "qc.cx(0,1)\n",
    "qc.cx(0,1)\n",
    "qc.h(0)\n",
    "qc.draw(output='mpl')"
   ]
  },
  {
   "cell_type": "markdown",
   "metadata": {
    "id": "fh-2mzBHELdZ"
   },
   "source": [
    "$\\color{red}{\\text{Exercise 3: Transpile and visualize the circuit above.}}$"
   ]
  },
  {
   "cell_type": "code",
   "execution_count": null,
   "metadata": {
    "id": "fj3OvsLUEKs2"
   },
   "outputs": [],
   "source": [
    "#Your code goes here"
   ]
  },
  {
   "cell_type": "markdown",
   "metadata": {
    "id": "ph4wlxRwEY_Z"
   },
   "source": [
    "What happened here?"
   ]
  },
  {
   "cell_type": "markdown",
   "metadata": {
    "id": "mmJh3REJEVvc"
   },
   "source": [
    "*Hint for exercise 3:* $\\color{white}{\\text{What does the circuit above do? What are the inverses of the CNOT and H gates? Transpilation also optimizes the circuit and reduces the number of gates if possible.}}$"
   ]
  },
  {
   "cell_type": "markdown",
   "metadata": {
    "id": "S4wNXYEVFEBC"
   },
   "source": [
    "If you don't want the transpiler to optimize over some gates, you can add *barriers*. A barrier prevents merging different parts of the circuit during the optimization process. For an ideal quantum computer, this does not change the results.\n"
   ]
  },
  {
   "cell_type": "code",
   "execution_count": null,
   "metadata": {
    "colab": {
     "base_uri": "https://localhost:8080/",
     "height": 140
    },
    "executionInfo": {
     "elapsed": 402,
     "status": "ok",
     "timestamp": 1662364494920,
     "user": {
      "displayName": "Marin Bukov",
      "userId": "09091168472140198920"
     },
     "user_tz": -120
    },
    "id": "GV1qGtwxD5yv",
    "outputId": "b8f1bb30-9896-40b1-88c7-d3097d3da09c"
   },
   "outputs": [],
   "source": [
    "qc = QuantumCircuit(2)\n",
    "qc.h(0)\n",
    "qc.cx(0,1)\n",
    "qc.barrier()\n",
    "qc.cx(0,1)\n",
    "qc.h(0)\n",
    "qc.h(0)\n",
    "qc.barrier()\n",
    "qc.h(0)\n",
    "qc.cx(0,1)\n",
    "qc.barrier()\n",
    "qc.cx(0,1)\n",
    "qc.cx(0,1)\n",
    "qc.cx(0,1)\n",
    "qc.draw(output='mpl')"
   ]
  },
  {
   "cell_type": "code",
   "execution_count": null,
   "metadata": {
    "colab": {
     "base_uri": "https://localhost:8080/",
     "height": 286
    },
    "executionInfo": {
     "elapsed": 642,
     "status": "ok",
     "timestamp": 1662364499909,
     "user": {
      "displayName": "Marin Bukov",
      "userId": "09091168472140198920"
     },
     "user_tz": -120
    },
    "id": "VvX5KvcAEFlw",
    "outputId": "debe874c-9f36-4a41-adaa-b3bcda0a54e5"
   },
   "outputs": [],
   "source": [
    "qc_transpiled = transpile(qc, backend)\n",
    "qc_transpiled.draw(output='mpl')"
   ]
  },
  {
   "cell_type": "markdown",
   "metadata": {
    "id": "2fG3kSQ4HEb1"
   },
   "source": [
    "The circuit could be simplified much more, but the barriers prevent any further optimization."
   ]
  },
  {
   "cell_type": "markdown",
   "metadata": {
    "id": "L2q9SrwJHpGy"
   },
   "source": [
    "$\\color{red}{\\text{Optional Exercise 4: Define a random circuit, transpile it, and visualize the output counts.}}$\n",
    "\n",
    "Use qiskit's [random_circuit](https://qiskit.org/documentation/stubs/qiskit.circuit.random.random_circuit.html) implementation or be creative. You can also try to run it on a real device, but it might take a little while."
   ]
  },
  {
   "cell_type": "code",
   "execution_count": null,
   "metadata": {
    "id": "dtWqI3HZGjKQ"
   },
   "outputs": [],
   "source": [
    "from qiskit.circuit.random import random_circuit\n",
    "\n",
    "#Your code goes here"
   ]
  },
  {
   "cell_type": "code",
   "execution_count": null,
   "metadata": {
    "id": "nmSgscqsIW7X"
   },
   "outputs": [],
   "source": []
  },
  {
   "cell_type": "markdown",
   "metadata": {
    "id": "_OnzPWAwzoDt"
   },
   "source": [
    "These notebooks are comprised of text and code taken from Qiskit's [documentation](https://qiskit.org/documentation/), [tutorials](https://qiskit.org/documentation/tutorials.html#quantum-circuits), [textbook](https://qiskit.org/textbook/preface.html), and previous challenges facilitated by Qiskit."
   ]
  },
  {
   "cell_type": "code",
   "execution_count": null,
   "metadata": {
    "id": "o6g0K8iFzodo"
   },
   "outputs": [],
   "source": []
  }
 ],
 "metadata": {
  "anaconda-cloud": {},
  "celltoolbar": "Tags",
  "colab": {
   "collapsed_sections": [],
   "provenance": [
    {
     "file_id": "1XeSfSdSRqldGDOCb66o84JHGrlDsG7pl",
     "timestamp": 1661188155279
    },
    {
     "file_id": "1W5fS4-Jdi7Sc7htP-lncjO5DH1tLiBlb",
     "timestamp": 1661182361805
    },
    {
     "file_id": "1a7n5kxy9qAVPK39wcGzQix0qy5KKWCQ7",
     "timestamp": 1661161743454
    }
   ]
  },
  "kernelspec": {
   "display_name": "Python 3 (ipykernel)",
   "language": "python",
   "name": "python3"
  },
  "language_info": {
   "codemirror_mode": {
    "name": "ipython",
    "version": 3
   },
   "file_extension": ".py",
   "mimetype": "text/x-python",
   "name": "python",
   "nbconvert_exporter": "python",
   "pygments_lexer": "ipython3",
   "version": "3.8.3"
  },
  "varInspector": {
   "cols": {
    "lenName": 16,
    "lenType": 16,
    "lenVar": 40
   },
   "kernels_config": {
    "python": {
     "delete_cmd_postfix": "",
     "delete_cmd_prefix": "del ",
     "library": "var_list.py",
     "varRefreshCmd": "print(var_dic_list())"
    },
    "r": {
     "delete_cmd_postfix": ") ",
     "delete_cmd_prefix": "rm(",
     "library": "var_list.r",
     "varRefreshCmd": "cat(var_dic_list()) "
    }
   },
   "types_to_exclude": [
    "module",
    "function",
    "builtin_function_or_method",
    "instance",
    "_Feature"
   ],
   "window_display": false
  }
 },
 "nbformat": 4,
 "nbformat_minor": 1
}
